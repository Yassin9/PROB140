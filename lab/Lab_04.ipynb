{
 "cells": [
  {
   "cell_type": "markdown",
   "metadata": {
    "#solution": false,
    "#staff": false,
    "#student": false
   },
   "source": [
    "<table align=\"left\" style=\"border-style: hidden\" class=\"table\"> <tr><td class=\"col-md-2\"><img style=\"float\" src=\"http://prob140.org/assets/icon256.png\" alt=\"Prob140 Logo\" style=\"width: 120px;\"/></td><td><div align=\"left\"><h3 style=\"margin-top: 0;\">Probability for Data Science</h3><h4 style=\"margin-top: 20px;\">UC Berkeley, Spring 2019</h4><p>Ani Adhikari and Jim Pitman</p>CC BY-NC 4.0</div></td></tr></table><!-- not in pdf -->"
   ]
  },
  {
   "cell_type": "code",
   "execution_count": 25,
   "metadata": {
    "#solution": false,
    "#staff": false,
    "#student": false
   },
   "outputs": [],
   "source": [
    "from prob140 import *\n",
    "from datascience import *\n",
    "import numpy as np\n",
    "from scipy import stats\n",
    "\n",
    "import matplotlib.pyplot as plt\n",
    "%matplotlib inline\n",
    "import matplotlib\n",
    "matplotlib.style.use('fivethirtyeight')"
   ]
  },
  {
   "cell_type": "code",
   "execution_count": 26,
   "metadata": {
    "#solution": false,
    "#staff": false,
    "#student": false
   },
   "outputs": [],
   "source": [
    "def split_unit_interval(cdf_table):\n",
    "    plt.figure(figsize=(1,4))\n",
    "    values = cdf_table.column(cdf_table.num_columns - 1)\n",
    "    cum = list(np.cumsum(values))\n",
    "    cur_axes = plt.gca()\n",
    "    cur_axes.axes.get_xaxis().set_visible(False)\n",
    "    plt.yticks([0] + cum)\n",
    "    plt.ylim(-0.1, 1.1)\n",
    "    plt.plot([0,0], [0,1], color=\"darkblue\", lw=3)\n",
    "    plt.xlim(-0.12, 1)\n",
    "    plt.scatter([0]*(len(cum) + 1),\n",
    "                [0] + cum, s=55, color=\"k\")"
   ]
  },
  {
   "cell_type": "markdown",
   "metadata": {
    "#solution": false,
    "#staff": false,
    "#student": false
   },
   "source": [
    "# Lab 4: Success Runs and Other Patterns #"
   ]
  },
  {
   "cell_type": "markdown",
   "metadata": {
    "#solution": false,
    "#staff": false,
    "#student": false
   },
   "source": [
    "Consider a sequence of i.i.d. Bernoulli $(p)$ trials. We will use the standard image of tossing a coin that lands heads with chance $p$. So we will denote success by $H$ and failure by $T$.\n",
    "\n",
    "For $n > 1$, the first *run of $n$ successes* is the earliest trial at which $n$ consecutive successes have been observed. For example, if the sequence of tosses starts out with $THHHTHHHH$, then the first run of two successes happens at Trial 3, the first run of three successes happens at Trial 4, and the first run of four successes happens at Trial 9.\n",
    "\n",
    "Success runs carry information about $p$. For example, if you see long success runs early in the sequence of trials, you might want to infer that $p$ is large.\n",
    "\n",
    "In this lab, you will study the random number of trials needed to get a success run of a specified length. You will then extend your calculations to the number of trials till you get patterns of successes and failures (for example, $HT$ instead of $HH$), and then to patterns of letters chosen randomly from the alphabet.\n",
    "\n",
    "At the end of the lab you will know the expected time a monkey will take to type $ABRACADABRA$ by hitting letters uniformly at random on a keyboard, and, by extension, the expected time it will take to type out the complete works of Shakespeare.\n",
    "\n",
    "Fortunately, [monkeys know better](https://www.wired.com/2003/05/monkeys-dont-write-shakespeare/) than to engage in such things. But in the human world, success runs have uses in information theory, reliability and quality control, genetics, and other areas. Also, expected waiting times till patterns appear have beautiful patterns of their own. So they are well worth studying.\n",
    "\n",
    "What you will learn in this lab:\n",
    "\n",
    "- A simple formula for expected waiting time till a run of $n$ successes\n",
    "- How to simulate the distribution of the waiting time till a run of $n$ successes\n",
    "- Approximations to the distribution of the waiting time\n",
    "- Extensions of the expectation formula to patterns of successes and failures\n",
    "- How to know the expected waiting time till any pattern, just by looking at the pattern"
   ]
  },
  {
   "cell_type": "markdown",
   "metadata": {
    "#solution": false,
    "#staff": false,
    "#student": false
   },
   "source": [
    "## Instructions\n",
    "Your labs have two components: a written portion and a portion that also involves code. Written work should be completed on paper, and coding questions should be done in the notebook. You are welcome to LaTeX your answers to the written portions, but staff will not be able to assist you with LaTeX related issues. It is your responsibility to ensure that both components of the lab are submitted completely and properly to Gradescope. Refer to the bottom of the notebook for submission instructions."
   ]
  },
  {
   "cell_type": "markdown",
   "metadata": {
    "#solution": false,
    "#staff": false,
    "#student": false
   },
   "source": [
    "## Preliminary: Simulating Discrete Random Variables ##\n",
    "Data scientists often simulate data under specified models of randomness. In this and future labs, you will use Python simulate random variables that have a given distribution. \n",
    "\n",
    "The general call is `stats.distribution_name.rvs(parameters, size=n)`. This evaluates to an array of observed values of $n$ i.i.d. random variables of the specified distribution. The acronym `rvs` stands for \"random variates\".\n",
    "\n",
    "To see how this works, start by using Python to simulate a single Bernoulli (1/6) random variable. In other words, ask Python to roll a die and tell you whether or not it landed six. Run the cell a few times."
   ]
  },
  {
   "cell_type": "code",
   "execution_count": 27,
   "metadata": {
    "#solution": false,
    "#staff": false,
    "#student": false
   },
   "outputs": [
    {
     "data": {
      "text/plain": [
       "array([0])"
      ]
     },
     "execution_count": 27,
     "metadata": {},
     "output_type": "execute_result"
    }
   ],
   "source": [
    "stats.bernoulli.rvs(1/6, size=1)"
   ]
  },
  {
   "cell_type": "markdown",
   "metadata": {
    "#solution": false,
    "#staff": false,
    "#student": false
   },
   "source": [
    "If you are curious about how Python generates the 0 or 1, here is a visualization of what it does. Later in the course, you will study this method in far greater generality."
   ]
  },
  {
   "cell_type": "code",
   "execution_count": 28,
   "metadata": {
    "#solution": false,
    "#staff": false,
    "#student": false
   },
   "outputs": [
    {
     "data": {
      "image/png": "[encoded data removed]",
      "text/plain": [
       "<Figure size 72x288 with 1 Axes>"
      ]
     },
     "metadata": {},
     "output_type": "display_data"
    }
   ],
   "source": [
    "six_on_one_roll = Table().values([0, 1]).probabilities([5/6, 1/6])\n",
    "split_unit_interval(six_on_one_roll)"
   ]
  },
  {
   "cell_type": "markdown",
   "metadata": {
    "#solution": false,
    "#staff": false,
    "#student": false
   },
   "source": [
    "The unit interval $[0, 1]$ has been split into two parts, one of length 5/6 (approximately 0.833) and the other of the remaining length 1/6. This is a version of the \"stacked bar chart\" visualizations that you saw in Lab 3.\n",
    "\n",
    "The Python function for generating one Bernoulli $(1/6)$ random variable essentially throws a dart uniformly on the unit interval. If the dart lands in the interval (0, 5/6), it returns 0. If the dart lands in (5/6, 1), it returns 1. (If you are wondering what happens if the dart lands exactly at 5/6, or 0, or 1, for now please just accept that the chance of that is 0. We will discuss this issue later in the course.)\n",
    "\n",
    "Since the dart is thrown uniformly, the chance that it lands in the lower interval is 5/6 of the total length 1, which is 5/6. So the chance that the function returns 0 is 5/6, which is exactly what it should be. It follows that the chance that the function returns 1 is 1/6.\n",
    "\n",
    "There is nothing special about the Bernoulli distribution as far as this process is concerned. Every discrete distribution can be simulated in an analogous way. The graph below shows how Python simulates the number of heads in two tosses of a coin."
   ]
  },
  {
   "cell_type": "code",
   "execution_count": 29,
   "metadata": {
    "#solution": false,
    "#staff": false,
    "#student": false
   },
   "outputs": [
    {
     "data": {
      "image/png": "[encoded data removed]",
      "text/plain": [
       "<Figure size 72x288 with 1 Axes>"
      ]
     },
     "metadata": {},
     "output_type": "display_data"
    }
   ],
   "source": [
    "heads_in_two_tosses = Table().values([0, 1, 2]).probabilities([1/4, 1/2, 1/4])\n",
    "split_unit_interval(heads_in_two_tosses)"
   ]
  },
  {
   "cell_type": "markdown",
   "metadata": {
    "#solution": false,
    "#staff": false,
    "#student": false
   },
   "source": [
    "The process:\n",
    "\n",
    "- Throw a dart uniformly on the unit interval.\n",
    "    - If the dart lands in the lowest interval, return 0.\n",
    "    - If the dart lands in the middle interval, return 1.\n",
    "    - If the dart lands in the highest interval, return 2.\n",
    "    \n",
    "In a future lab, you will study the process further and develop a general method of simulating random variables with specified distributions."
   ]
  },
  {
   "cell_type": "markdown",
   "metadata": {
    "#solution": false,
    "#staff": false,
    "#student": false
   },
   "source": [
    "Now that you understand roughly what Python is doing, focus on the code. Read each cell below carefully before you run it. Also, run each cell several times to see how the output changes."
   ]
  },
  {
   "cell_type": "code",
   "execution_count": 30,
   "metadata": {
    "#solution": false,
    "#staff": false,
    "#student": false
   },
   "outputs": [
    {
     "data": {
      "text/plain": [
       "array([0])"
      ]
     },
     "execution_count": 30,
     "metadata": {},
     "output_type": "execute_result"
    }
   ],
   "source": [
    "# One Bernoulli (1/6) variable;\n",
    "# the output of rvs is an array\n",
    "\n",
    "stats.bernoulli.rvs(1/6, size = 1)"
   ]
  },
  {
   "cell_type": "markdown",
   "metadata": {
    "#solution": false,
    "#staff": false,
    "#student": false
   },
   "source": [
    "Compare this with:"
   ]
  },
  {
   "cell_type": "code",
   "execution_count": 31,
   "metadata": {
    "#solution": false,
    "#staff": false,
    "#student": false
   },
   "outputs": [
    {
     "data": {
      "text/plain": [
       "0"
      ]
     },
     "execution_count": 31,
     "metadata": {},
     "output_type": "execute_result"
    }
   ],
   "source": [
    "# One Bernoulli (1/6) variable\n",
    "# accessed as a value that you can work with directly\n",
    "\n",
    "stats.bernoulli.rvs(1/6, size = 1).item(0)"
   ]
  },
  {
   "cell_type": "markdown",
   "metadata": {
    "#solution": false,
    "#staff": false,
    "#student": false
   },
   "source": [
    "Simulating sixes in 10 rolls of a die:"
   ]
  },
  {
   "cell_type": "code",
   "execution_count": 32,
   "metadata": {
    "#solution": false,
    "#staff": false,
    "#student": false
   },
   "outputs": [
    {
     "data": {
      "text/plain": [
       "array([0, 0, 0, 0, 0, 0, 0, 0, 0, 0])"
      ]
     },
     "execution_count": 32,
     "metadata": {},
     "output_type": "execute_result"
    }
   ],
   "source": [
    "# 10 i.i.d. Bernoulli (1/6) variables\n",
    "\n",
    "stats.bernoulli.rvs(1/6, size = 10)"
   ]
  },
  {
   "cell_type": "markdown",
   "metadata": {
    "#solution": false,
    "#staff": false,
    "#student": false
   },
   "source": [
    "SciPy defines the geometric $(p)$ random variable in the same way as in our class: the distribution of the number of trials till the first success in i.i.d. Bernoulli $(p)$ trials. Thus the possible values of a geometric random variable are 1, 2, 3, $\\ldots$."
   ]
  },
  {
   "cell_type": "code",
   "execution_count": 33,
   "metadata": {
    "#solution": false,
    "#staff": false,
    "#student": false
   },
   "outputs": [
    {
     "data": {
      "text/plain": [
       "array([2])"
      ]
     },
     "execution_count": 33,
     "metadata": {},
     "output_type": "execute_result"
    }
   ],
   "source": [
    "# Waiting time till the first six in rolls of a die\n",
    "\n",
    "stats.geom.rvs(1/6, size = 1)"
   ]
  },
  {
   "cell_type": "code",
   "execution_count": 34,
   "metadata": {
    "#solution": false,
    "#staff": false,
    "#student": false
   },
   "outputs": [
    {
     "data": {
      "image/png": "[encoded data removed]",
      "text/plain": [
       "<Figure size 432x288 with 1 Axes>"
      ]
     },
     "metadata": {},
     "output_type": "display_data"
    }
   ],
   "source": [
    "# Empirical histogram of 10,000 i.i.d. repetitions of\n",
    "# counting the number of rolls till the first six\n",
    "\n",
    "wait_till_six = stats.geom.rvs(1/6, size = 10000)\n",
    "Table().with_column('Simulated Geometric (1/6)', wait_till_six).hist(\n",
    "    bins = np.arange(101))"
   ]
  },
  {
   "cell_type": "markdown",
   "metadata": {
    "#solution": false,
    "#staff": false,
    "#student": false
   },
   "source": [
    "This is an empirical approximation of the geometric $(1/6)$ probability histogram below."
   ]
  },
  {
   "cell_type": "code",
   "execution_count": 35,
   "metadata": {
    "#solution": false,
    "#staff": false,
    "#student": false
   },
   "outputs": [
    {
     "data": {
      "image/png": "[encoded data removed]",
      "text/plain": [
       "<Figure size 432x288 with 1 Axes>"
      ]
     },
     "metadata": {},
     "output_type": "display_data"
    }
   ],
   "source": [
    "# Probability histogram of geometric (1/6) random variable\n",
    "\n",
    "k = np.arange(1, 101)\n",
    "probs = stats.geom.pmf(k, 1/6)\n",
    "geom_dist = Table().values(k).probabilities(probs)\n",
    "Plot(geom_dist)"
   ]
  },
  {
   "cell_type": "markdown",
   "metadata": {
    "#solution": false,
    "#staff": false,
    "#student": false
   },
   "source": [
    "As you know, if a random variable $X$ has the geometric $(p)$ distribution, the probability mass function of $X$ is given by\n",
    "\n",
    "$$\n",
    "P(X = k) ~ = ~ q^{k-1}p, ~~ k \\ge 1\n",
    "$$\n",
    "\n",
    "Here $q = 1-p$ is standard notation that we will be using throughout the lab.\n",
    "\n",
    "For each $k \\ge 2$, $P(X = k) = qP(X = k-1)$. You can see that the size of each bar of the probability histogram is the same fraction 5/6 of the previous bar."
   ]
  },
  {
   "cell_type": "markdown",
   "metadata": {
    "#solution": false,
    "#staff": false,
    "#student": false
   },
   "source": [
    "## Part 1: Expected Time Till a Success Run ##\n",
    "[Section 9.3](http://prob140.org/textbook/Chapter_09/03_Expected_Waiting_Times.html) of the textbook is **required reading** before you go further. The probabilistic techniques you need for this lab are versions of those in the section. Skipping the reading will not save time because you will most likely just take longer to answer the questions below.\n",
    "\n",
    "In a sequence of i.i.d. Bernoulli $(p)$ trials, let $W_{pattern}$ be the number of trials till $pattern$ appears. We call this the *waiting time* till $pattern$ appears.\n",
    "\n",
    "Thus $W_H$ is the waiting time till $H$ appears, $W_{HH}$ is the waiting time till a success run of length 2, and so on. This is the same notation as in Section 9.3."
   ]
  },
  {
   "cell_type": "markdown",
   "metadata": {
    "#solution": false,
    "#staff": false,
    "#student": false
   },
   "source": [
    "### 1a) [ON PAPER] Expectations of $W_H$ and $W_{HH}$ ###\n",
    "\n",
    "Use the results of Section 9.3 to fill in the blanks below with math expressions involving **only** positive terms of the form $1/p^k$ for $k \\ge 1$. Show any algebra that you use.\n",
    "\n",
    "(1) $E(W_H) ~ = ~ \\underline{~~~~~~~~~~~~~~~~~~~~~~~~~~~~~}$\n",
    "\n",
    "(2) $E(W_{HH}) ~ = ~ \\underline{~~~~~~~~~~~~~~~~~~~~~~~~~~~~~}$"
   ]
  },
  {
   "cell_type": "markdown",
   "metadata": {
    "#solution": false,
    "#staff": false,
    "#student": false
   },
   "source": [
    "### 1b) [ON PAPER] Expectation of $W_{HHH}$ ###\n",
    "\n",
    "Find $E(W_{HHH})$ by conditioning on the trial after $W_{HH}$, as follows.\n",
    "\n",
    "- Notice that to get to $W_{HHH}$ you first have to get to $W_{HH}$, whose expectation you already know.\n",
    "- Let $x = E(W_{HHH})$. This is what you are trying to find.\n",
    "- Think about what happens on the trial that follows $W_{HH}$, and develop an equation for $x$. Refer to Answer 2 of the example *Waiting for HH* in Section 9.3.\n",
    "- Solve the equation.\n",
    "\n",
    "As in **1a**, your answer should involve only positive terms of the form $1/p^k$ for $k \\ge 1$. Show any algebra that you use."
   ]
  },
  {
   "cell_type": "markdown",
   "metadata": {
    "#solution": false,
    "#staff": false,
    "#student": false
   },
   "source": [
    "### 1c) [ON PAPER] Expected Waiting Time Till a Success Run of Length $n$ ###\n",
    "\n",
    "By an abuse of notation, let $W_{H,n}$ be the waiting time till $n$ consecutive successes appear. Thus for example $W_{H,7}$ is notation for $W_{HHHHHHH}$. It's more compact and it spares you having to count the number of successes in the run.\n",
    "\n",
    "(1) Use your answers to **1a** and **1b** to guess a formula for $E(W_{H,n})$ for $n \\ge 1$.\n",
    "\n",
    "(2) Use induction to prove your guess. Adapt the method used in **1b**."
   ]
  },
  {
   "cell_type": "markdown",
   "metadata": {
    "#solution": false,
    "#staff": false,
    "#student": false
   },
   "source": [
    "### 1d) Numerical Values ###\n",
    "\n",
    "Define a function `ev_W_run` that takes $p$ and $n$ as arguments and returns $E(W_{H,n})$. Just replace the ellipsis by an expression. Do not add any other lines of code."
   ]
  },
  {
   "cell_type": "code",
   "execution_count": 36,
   "metadata": {
    "#solution": false,
    "#staff": false,
    "#student": true
   },
   "outputs": [],
   "source": [
    "def ev_W_run(p, n):\n",
    "    return sum(np.power(1/p, np.arange(1, n+1)))"
   ]
  },
  {
   "cell_type": "markdown",
   "metadata": {
    "#solution": false,
    "#staff": false,
    "#student": false
   },
   "source": [
    "What should `ev_W_run(1/6, 1)` evaluate to? Run the cell below to check that your function works in this case."
   ]
  },
  {
   "cell_type": "code",
   "execution_count": 37,
   "metadata": {
    "#solution": false,
    "#staff": false,
    "#student": true
   },
   "outputs": [
    {
     "data": {
      "text/plain": [
       "6.0"
      ]
     },
     "execution_count": 37,
     "metadata": {},
     "output_type": "execute_result"
    }
   ],
   "source": [
    "ev_W_run(1/6, 1)"
   ]
  },
  {
   "cell_type": "markdown",
   "metadata": {
    "#solution": false,
    "#staff": false,
    "#student": false
   },
   "source": [
    "What should `ev_W_run(0.5, 3)` evaluate to? Run the cell below to confirm."
   ]
  },
  {
   "cell_type": "code",
   "execution_count": 38,
   "metadata": {
    "#solution": false,
    "#staff": false,
    "#student": true
   },
   "outputs": [
    {
     "data": {
      "text/plain": [
       "14.0"
      ]
     },
     "execution_count": 38,
     "metadata": {},
     "output_type": "execute_result"
    }
   ],
   "source": [
    "ev_W_run(0.5, 3)"
   ]
  },
  {
   "cell_type": "markdown",
   "metadata": {
    "#solution": false,
    "#staff": false,
    "#student": false
   },
   "source": [
    "Now use `ev_W_run` to find the expectation of each of the following random variables.\n",
    "\n",
    "(1) number of tosses of a fair coin till 10 consecutive heads appear \n",
    "\n",
    "(2) number of rolls of a die till six consecutive sixes appear\n",
    "\n",
    "(3) number of times a random number generator is run till 000 appears, if the generator draws at random with replacement from the 10 digits 0, 1, 2, 3, 4, 5, 6, 7, 8, and 9\n",
    "\n",
    "(4) number of days till a robot types $ZZZZZ$ if the robot types at the rate of 10 letters per second (without breaks) and chooses letters at random with replacement from the 26 upper case letters of the English alphabet"
   ]
  },
  {
   "cell_type": "code",
   "execution_count": 39,
   "metadata": {
    "#solution": false,
    "#staff": false,
    "#student": true
   },
   "outputs": [
    {
     "data": {
      "text/plain": [
       "(2046.0, 55986.0, 1110.0, 12356630.0)"
      ]
     },
     "execution_count": 39,
     "metadata": {},
     "output_type": "execute_result"
    }
   ],
   "source": [
    "# Expected number of:\n",
    "\n",
    "# (1) fair coin tosses till 10 consecutive heads\n",
    "ans_1 = ev_W_run(1/2,10)\n",
    "\n",
    "# (2) rolls of a die till 6 consecutive sixes\n",
    "ans_2 = ev_W_run(1/6,6)\n",
    "\n",
    "# (3) runs of a random number generator till 000\n",
    "ans_3 = ev_W_run(1/10,3)\n",
    "\n",
    "# (4) days till ZZZZZ by robot typist\n",
    "ans_4 = ev_W_run(1/26,5)\n",
    "\n",
    "ans_1, ans_2, ans_3, ans_4"
   ]
  },
  {
   "cell_type": "markdown",
   "metadata": {
    "#solution": false,
    "#staff": false,
    "#student": false
   },
   "source": [
    "#newpage"
   ]
  },
  {
   "cell_type": "markdown",
   "metadata": {
    "#solution": false,
    "#staff": false,
    "#student": false
   },
   "source": [
    "## Part 2: Distribution of the Time Till a Success Run ##\n",
    "For general positive integer $n$, the distribution of $W_{H,n}$ has been known for a long time. The derivation requires some math, and the formula has connections with the Fibonacci numbers, as you can see [here](https://www.fq.math.ca/Scanned/23-2/philippou.pdf) for example. \n",
    "\n",
    "Though the math isn't easy, you can simulate $W_{H,n}$ quite easily. That is what you will do in this part of the lab. The simulations will give you insight about the distribution using almost no math at all.\n",
    "\n",
    "To simulate a value of $W_{H,n}$, you clearly need an iteration: \n",
    "\n",
    "- Toss once and see if the pattern appears;\n",
    "- if it doesn't, toss again and repeat ...\n",
    "- until the pattern appears.\n",
    "\n",
    "The number of iterations is therefore random. The process stops when a condition is satisfied (\"the pattern appears\"), not at some previously specified number of iterations as in a `for` loop.\n",
    "\n",
    "In Python, `while` loops are used in such cases. If you have seen `while` in another class, you can go directly to **2a** below. If not, go through the preliminary example here.\n",
    "\n",
    "As explained in Professor DeNero's [Composing Programs](http://composingprograms.com/pages/15-control.html):\n",
    "\n",
    "\"A while clause contains a header expression followed by a suite:\n",
    "\n",
    "while < expression >: \n",
    "\n",
    "    < suite >\n",
    "\n",
    "To execute a while clause:\n",
    "\n",
    "- Evaluate the header's expression.\n",
    "- If it is a true value, execute the suite, then return to step 1.\"\n",
    "\n",
    "In what follows, `expression` will be a Boolean. If it is `True`, the \"suite\" of code — a sequence of lines of code — will be executed. Next, `expression` will be evaluated again, and the process will continue till at some point `expression` evaluates to `False`. Then the process will end.\n",
    "\n",
    "It is *really bad news* if `expression` is never false, because then the process will continue forever. In our examples, `expression` will be `False` if a coin shows a specified face or if a specified pattern appears. These events are certain to happen at some point, so our loops will end.\n",
    "\n",
    "Suppose we have a coin that lands heads with chance $p = 0.2$. In the example below, we will get Python to toss the coin until it lands heads, and display the results of all the tosses. The details:\n",
    "\n",
    "- Starting point: an empty collection array called `failures`\n",
    "- The `while` header expression: Toss the 0.2 coin and see if it is a 0\n",
    "- If the coin shows 0:\n",
    "    - The `suite`: append 0 to `failures`\n",
    "    - Return to the `while` header expression\n",
    "- If the coin shows 1, stop\n",
    "\n",
    "When the process stops, the array `failures` will contain one 0 for every toss before the final one, but it will *not* contain 1 for the final toss that stopped the process. So we will append 1 to `failures` and display the result. In this way we will have simulated $W_H$ for $p = 0.2$."
   ]
  },
  {
   "cell_type": "code",
   "execution_count": 40,
   "metadata": {
    "#solution": false,
    "#staff": false,
    "#student": false
   },
   "outputs": [
    {
     "data": {
      "text/plain": [
       "array([0., 1.])"
      ]
     },
     "execution_count": 40,
     "metadata": {},
     "output_type": "execute_result"
    }
   ],
   "source": [
    "failures = make_array()  \n",
    "\n",
    "while stats.bernoulli.rvs(0.2, size=1).item(0) == 0:  # toss; while you get 0\n",
    "    failures = np.append(failures, 0)                 # append 0 to failures\n",
    "\n",
    "# This while loop stops when a toss lands 1.\n",
    "# Show all the failures and the success that stopped the process.\n",
    "\n",
    "np.append(failures, 1)"
   ]
  },
  {
   "cell_type": "markdown",
   "metadata": {
    "#solution": false,
    "#staff": false,
    "#student": false
   },
   "source": [
    "### 2a) Simulating One Value of $W_{H,n}$ ###\n",
    "Complete the cell below to define a function `run` that takes $p$ and $n$ as arguments and returns one simulated value of $W_{H,n}$.\n",
    "\n",
    "As you toss, you will be keeping track of how many times you have tossed and also the number of consecutive heads that include the toss just completed.\n",
    "\n",
    "For example, suppose you are waiting for the pattern $HHH$.\n",
    "\n",
    "- If the first three tosses are $HTH$, then you will successively note:\n",
    "    - tosses = 1, consecutive heads = 1\n",
    "    - tosses = 2, consecutive heads = 0\n",
    "    - tosses = 3, consecutive heads = 1\n",
    "    - and you will continue to toss.\n",
    "- If the first six tosses are $THTHHH$, then you will successively note:\n",
    "    - tosses = 1, consecutive heads = 0\n",
    "    - tosses = 2, consecutive heads = 1\n",
    "    - tosses = 3, consecutive heads = 0\n",
    "    - tosses = 4, consecutive heads = 1\n",
    "    - tosses = 5, consecutive heads = 2\n",
    "    - tosses = 6, consecutive heads = 3\n",
    "    - and you will stop tossing."
   ]
  },
  {
   "cell_type": "code",
   "execution_count": 41,
   "metadata": {
    "#solution": false,
    "#staff": false,
    "#student": true
   },
   "outputs": [],
   "source": [
    "def run(p, n):\n",
    "    \"\"\"Returns one simulated value of W_H,n\n",
    "    in i.i.d. Bernoulli (p) trials\"\"\"\n",
    "    \n",
    "    tosses = 0                   # Number of tosses\n",
    "    in_a_row = 0                 # Number of consecutive heads observed\n",
    "    \n",
    "    while in_a_row < n:          # While fewer than n consecutive heads\n",
    "        tosses += 1             # update tosses\n",
    "        if stats.bernoulli.rvs(p, size=1).item(0) == 1:                           \n",
    "            in_a_row +=1                # update in_a_row\n",
    "        else:\n",
    "            in_a_row = 0                # reset in_a_row\n",
    "    \n",
    "    return tosses"
   ]
  },
  {
   "cell_type": "markdown",
   "metadata": {
    "#solution": false,
    "#staff": false,
    "#student": false
   },
   "source": [
    "For a crude check of your function, think about whether `run(0.9, 1)` should evaluate to a large number of tosses or a small number, and then see what your function returns. Run the cell a few times."
   ]
  },
  {
   "cell_type": "code",
   "execution_count": 42,
   "metadata": {
    "#solution": false,
    "#staff": false,
    "#student": true
   },
   "outputs": [
    {
     "data": {
      "text/plain": [
       "1"
      ]
     },
     "execution_count": 42,
     "metadata": {},
     "output_type": "execute_result"
    }
   ],
   "source": [
    "run(0.9, 1)"
   ]
  },
  {
   "cell_type": "markdown",
   "metadata": {
    "#solution": false,
    "#staff": false,
    "#student": false
   },
   "source": [
    "Now run the next cell to see if the function behaves differently."
   ]
  },
  {
   "cell_type": "code",
   "execution_count": 43,
   "metadata": {
    "#solution": false,
    "#staff": false,
    "#student": true
   },
   "outputs": [
    {
     "data": {
      "text/plain": [
       "21"
      ]
     },
     "execution_count": 43,
     "metadata": {},
     "output_type": "execute_result"
    }
   ],
   "source": [
    "run(0.1, 1)"
   ]
  },
  {
   "cell_type": "markdown",
   "metadata": {
    "#solution": false,
    "#staff": false,
    "#student": false
   },
   "source": [
    "### 2b) Repeated Simulation ###\n",
    "For a more thorough check, it will help to use the function several times and then check the properties of the collection of simulated values.\n",
    "\n",
    "So use the function `run` to define a new function `simulate_run` that takes as its arguments $p$, $n$, and a positive integer `repetitions`, and returns an array consisting of length equal to `repetitions`, each of whose entries is a simulated value of $W_{H,n}$. Use as many lines of code as you need."
   ]
  },
  {
   "cell_type": "code",
   "execution_count": 44,
   "metadata": {
    "#solution": false,
    "#staff": false,
    "#student": true
   },
   "outputs": [],
   "source": [
    "def simulate_run(p, n, repetitions):\n",
    "    \"\"\"Returns an array of length equal to repetitions,\n",
    "    whose entries are independent simulated values of W_H,n\n",
    "    in i.i.d. Bernoulli (p) trials\"\"\"\n",
    "    results = []\n",
    "    i=0\n",
    "    while i < repetitions:\n",
    "        i+=1\n",
    "        results.append(run(p,n))\n",
    "    return results"
   ]
  },
  {
   "cell_type": "markdown",
   "metadata": {
    "#solution": false,
    "#staff": false,
    "#student": false
   },
   "source": [
    "What should the value of `np.mean(simulate_run(0.5, 3, 10000))` be, roughly? Look at **1d** for a reminder. Then run the cell below to confirm. The simulation might take a while, and the approximation might be a bit off. That's OK."
   ]
  },
  {
   "cell_type": "code",
   "execution_count": 45,
   "metadata": {
    "#solution": false,
    "#staff": false,
    "#student": true
   },
   "outputs": [
    {
     "data": {
      "text/plain": [
       "13.9719"
      ]
     },
     "execution_count": 45,
     "metadata": {},
     "output_type": "execute_result"
    }
   ],
   "source": [
    "np.mean(simulate_run(0.5, 3, 10000))"
   ]
  },
  {
   "cell_type": "markdown",
   "metadata": {
    "#solution": false,
    "#staff": false,
    "#student": false
   },
   "source": [
    "### 2c) Empirical Distribution of $W_{HH}$ When $p = 0.5$ ###\n",
    "Create an array `sim_W_HH` consisting of 10,000 independent simulated values of $W_{HH}$ for a fair coin."
   ]
  },
  {
   "cell_type": "code",
   "execution_count": 46,
   "metadata": {
    "#solution": false,
    "#staff": false,
    "#student": true
   },
   "outputs": [],
   "source": [
    "sim_W_HH = simulate_run(0.5, 2, 10000)"
   ]
  },
  {
   "cell_type": "markdown",
   "metadata": {
    "#solution": false,
    "#staff": false,
    "#student": false
   },
   "source": [
    "Run the cell below to display an empirical histogram of $W_{HH}$ for a fair coin."
   ]
  },
  {
   "cell_type": "code",
   "execution_count": 47,
   "metadata": {
    "#solution": false,
    "#staff": false,
    "#student": true
   },
   "outputs": [
    {
     "data": {
      "image/png": "[encoded data removed]",
      "text/plain": [
       "<Figure size 432x288 with 1 Axes>"
      ]
     },
     "metadata": {},
     "output_type": "display_data"
    }
   ],
   "source": [
    "Table().with_column('Simulated W_HH', sim_W_HH).hist(bins = np.arange(1.5, 40.5))"
   ]
  },
  {
   "cell_type": "markdown",
   "metadata": {
    "#solution": false,
    "#staff": false,
    "#student": false
   },
   "source": [
    "That's an unusual shape! As a check, run the cell below and compare the results:"
   ]
  },
  {
   "cell_type": "code",
   "execution_count": 48,
   "metadata": {
    "#solution": false,
    "#staff": false,
    "#student": true
   },
   "outputs": [
    {
     "data": {
      "text/plain": [
       "(6.0, 6.0052)"
      ]
     },
     "execution_count": 48,
     "metadata": {},
     "output_type": "execute_result"
    }
   ],
   "source": [
    "ev_W_run(0.5, 2), np.mean(sim_W_HH)"
   ]
  },
  {
   "cell_type": "markdown",
   "metadata": {
    "#solution": false,
    "#staff": false,
    "#student": false
   },
   "source": [
    "Calculate the probabilities corresponding to the first three bars, as listed below. Remember that the histogram is an empirical approximation to the exact probability histogram, so what you calculate might not be exactly what you see. But is should be close. Also remember that the coin is fair.\n",
    "\n",
    "Find the exact values of the following and see if they are consistent with the approximations in the histogram.\n",
    "\n",
    "(1) $P(W_{HH} = 2)$\n",
    "\n",
    "(2) $P(W_{HH} = 3)$\n",
    "\n",
    "(3) $P(W_{HH} = 4)$"
   ]
  },
  {
   "cell_type": "markdown",
   "metadata": {
    "#solution": false,
    "#staff": false,
    "#student": true
   },
   "source": [
    "(1) $$P(W_{HH} = 2) = \\dfrac{1}{2}* \\dfrac{1}{2} = \\dfrac{1}{4} = 0.25$$\n",
    "(2) $$P(W_{HH} = 3) = \\dfrac{1}{2} * \\dfrac{1}{2} * \\dfrac{1}{2} = \\dfrac{1}{8} = 0.125$$\n",
    "(3) $$P(W_{HH} = 4) = {2 \\choose 1} * \\dfrac{1}{2} * \\dfrac{1}{2} * \\dfrac{1}{2} * \\dfrac{1}{2} = 2 * \\dfrac{1}{16} = 0.125$$"
   ]
  },
  {
   "cell_type": "markdown",
   "metadata": {
    "#solution": false,
    "#staff": false,
    "#student": false
   },
   "source": [
    "### 2d) Empirical Distribution of $W_{H,5}$ When $p = 0.5$ ###\n",
    "\n",
    "Create an array `sim_W_H5` consisting of 10,000 independent simulated values of $W_{H,5}$. The simulation takes a while."
   ]
  },
  {
   "cell_type": "code",
   "execution_count": 68,
   "metadata": {
    "#solution": false,
    "#staff": false,
    "#student": true
   },
   "outputs": [],
   "source": [
    "sim_W_H5 = simulate_run(0.5, 5, 10000)"
   ]
  },
  {
   "cell_type": "markdown",
   "metadata": {
    "#solution": false,
    "#staff": false,
    "#student": false
   },
   "source": [
    "Draw the empirical histogram of the values in `sim_W_H5`. Use `hist` with the option `bins = np.arange(5, 501, 10)`."
   ]
  },
  {
   "cell_type": "code",
   "execution_count": 50,
   "metadata": {
    "#solution": false,
    "#staff": false,
    "#student": true
   },
   "outputs": [
    {
     "data": {
      "image/png": "[encoded data removed]",
      "text/plain": [
       "<Figure size 432x288 with 1 Axes>"
      ]
     },
     "metadata": {},
     "output_type": "display_data"
    }
   ],
   "source": [
    "Table().with_column('Simulated Geometric (1/2)', sim_W_H5).hist(\n",
    "    bins = np.arange(5, 501, 10))\n",
    "plt.ylim(0, 0.0175); # ignore; forces the vertical scale to go up to 1.75 %/unit"
   ]
  },
  {
   "cell_type": "markdown",
   "metadata": {
    "#solution": false,
    "#staff": false,
    "#student": false
   },
   "source": [
    "To check that your simulated values make sense, run the cell below and compare the two resulting values."
   ]
  },
  {
   "cell_type": "code",
   "execution_count": 51,
   "metadata": {
    "#solution": false,
    "#staff": false,
    "#student": true
   },
   "outputs": [
    {
     "data": {
      "text/plain": [
       "(62.0, 62.087)"
      ]
     },
     "execution_count": 51,
     "metadata": {},
     "output_type": "execute_result"
    }
   ],
   "source": [
    "ev_W_run(0.5, 5), np.mean(sim_W_H5)"
   ]
  },
  {
   "cell_type": "markdown",
   "metadata": {
    "#solution": false,
    "#staff": false,
    "#student": false
   },
   "source": [
    "### 2e) Approximate Distribution of $W_{H,5}$ ###\n",
    "\n",
    "The histogram in **2d** has a recognizable shape. Fill in the blanks below to figure out a straightforward approximation to the probability distribution of $W_{H,5}$.\n",
    "\n",
    "(1) Fill in the blank with a number: $E(W_{H,5}) = \\underline{~~~~~~~~~~~~~~~~~~}$.\n",
    "\n",
    "(2) Fill in the blank with a range of values. If the range is infinite, it's fine to use \"...\" or any reasonable description.\n",
    "\n",
    "The possible values of $W_{H,5}$ are $\\underline{~~~~~~~~~~~~~~~~~~~~~~~~~~~~}$.\n",
    "\n",
    "(3) Fill in the blank with one of the names binomial, Poisson, and geometric: \n",
    "\n",
    "The shape of the empirical distribution of $W_{H,5}$ resembles the shape of a $\\underline{~~~~~~~~~~~~~~~~~~~~~~~~~~~~}$ distribution, but the possible values are different.\n",
    "\n",
    "(4) Fill in the first blank with a number, the second with the name you chose in (3), and the third with the appropriate numerical parameter or parameters. Carefully go through your answers to (1)-(3) before you fill in these blanks.\n",
    "\n",
    "The distribution of $W_{H,5}$ is pretty close to the distribution of $X + \\underline{~~~~~~~~~~~~~}$ where $X$ has the $\\underline{~~~~~~~~~~~~~~~~~~~~~~~~~~~~}$ distribution with parameter (or parameters) $\\underline{~~~~~~~~~~~~~~~~~~~~~~~~~~~~}$."
   ]
  },
  {
   "cell_type": "markdown",
   "metadata": {
    "#solution": false,
    "#staff": false,
    "#student": true
   },
   "source": [
    "\n",
    "**Your answer here.**\n",
    "\n",
    "(1) $$E(W_{H,5}) = 2^{5}+2^{4}+2^{3}+2^{2}+ 2 = 62$$\n",
    "\n",
    "(2) $$W_{H,5} = 1\\leq k \\leq \\infty$$\n",
    "\n",
    "(3) $$Geometric$$\n",
    "\n",
    "(4) $$X + 4, Geometric, Parameter: P = 1/58$$\n"
   ]
  },
  {
   "cell_type": "markdown",
   "metadata": {
    "#solution": false,
    "#staff": false,
    "#student": false
   },
   "source": [
    "Now complete the cell to plot the probability histogram of the approximating distribution in (4). We have started you off with an array of possible values but you might have to adjust the possible values later in the cell."
   ]
  },
  {
   "cell_type": "code",
   "execution_count": 52,
   "metadata": {
    "#solution": false,
    "#staff": false,
    "#student": true,
    "scrolled": false
   },
   "outputs": [
    {
     "data": {
      "image/png": "[encoded data removed]",
      "text/plain": [
       "<Figure size 432x288 with 1 Axes>"
      ]
     },
     "metadata": {},
     "output_type": "display_data"
    }
   ],
   "source": [
    "k = np.arange(1, 1001)\n",
    "approx_probs = stats.geom.pmf(k,1/58)\n",
    "approx_dist = Table().values(k+4).probabilities(approx_probs)\n",
    "\n",
    "# Ignore; Forces hist to use the same scale as the empirical histogram \n",
    "approx_dist.hist(bin_column='Value', bins=np.arange(5, 501, 10))"
   ]
  },
  {
   "cell_type": "markdown",
   "metadata": {
    "#solution": false,
    "#staff": false,
    "#student": false
   },
   "source": [
    "Here is your empirical distribution of $W_{H,5}$ again, for ease of reference."
   ]
  },
  {
   "cell_type": "code",
   "execution_count": 70,
   "metadata": {
    "#solution": false,
    "#staff": false,
    "#student": false
   },
   "outputs": [
    {
     "data": {
      "image/png": "[encoded data removed]",
      "text/plain": [
       "<Figure size 432x288 with 1 Axes>"
      ]
     },
     "metadata": {},
     "output_type": "display_data"
    }
   ],
   "source": [
    "Table().with_column('W_H5', sim_W_H5).hist(bins = np.arange(5, 501, 10))"
   ]
  },
  {
   "cell_type": "markdown",
   "metadata": {
    "#solution": false,
    "#staff": false,
    "#student": false
   },
   "source": [
    "Your approximation should be pretty good though of course it will be a bit off. What you have discovered is also true for larger values of $n$, that is, for waiting times till longer success runs. "
   ]
  },
  {
   "cell_type": "markdown",
   "metadata": {
    "#solution": false,
    "#staff": false,
    "#student": false
   },
   "source": [
    "As above, let $p = 0.5$. In the cell below, find an approximate value of $P(W_{H,5} > 100)$ as an arithmetic expression using just elementary operations. You should be able to calculate it on a hand calculator if you didn't have this notebook. **Do not** use the distributions calculated above or `stats`, `special` or other modules."
   ]
  },
  {
   "cell_type": "code",
   "execution_count": 66,
   "metadata": {
    "#solution": false,
    "#staff": false,
    "#student": true
   },
   "outputs": [
    {
     "name": "stdout",
     "output_type": "stream",
     "text": [
      "0.17566539272291076\n"
     ]
    }
   ],
   "source": [
    "print((57/58)**100)"
   ]
  },
  {
   "cell_type": "markdown",
   "metadata": {
    "#solution": false,
    "#staff": false,
    "#student": false
   },
   "source": [
    "Now check if your answer is consistent with your simulation, by writing an expression that evaluates to the proportion of entries in `sim_W_H5` that are greater than 100."
   ]
  },
  {
   "cell_type": "code",
   "execution_count": 69,
   "metadata": {
    "#solution": false,
    "#staff": false,
    "#student": true
   },
   "outputs": [
    {
     "data": {
      "text/plain": [
       "0.1903"
      ]
     },
     "execution_count": 69,
     "metadata": {},
     "output_type": "execute_result"
    }
   ],
   "source": [
    "i = 0\n",
    "for x in sim_W_H5:\n",
    "    if x>100:\n",
    "        i+=1\n",
    "i/len(sim_W_H5)"
   ]
  },
  {
   "cell_type": "markdown",
   "metadata": {
    "#solution": false,
    "#staff": false,
    "#student": false
   },
   "source": [
    "#newpage"
   ]
  },
  {
   "cell_type": "markdown",
   "metadata": {
    "#solution": false,
    "#staff": false,
    "#student": false
   },
   "source": [
    "## Part 3: Other Patterns ##\n",
    "In this part of the lab, the patterns aren't just runs of successes. Instead, they include failures.\n",
    "\n",
    "**Note:** Markov Chains are often used to find these expectations. But that method ends up with pretty much the same set of equations that you will derive here, and the equations are cumbersome to solve when the patterns are long. Part 4 of the lab takes care of that problem."
   ]
  },
  {
   "cell_type": "markdown",
   "metadata": {
    "#solution": false,
    "#staff": false,
    "#student": false
   },
   "source": [
    "### 3a) Decomposing $W_{HT}$ ###\n",
    "\n",
    "Suppose the first few trials are $TTTTHHHTHHT$. Identify the value of $W_{HT}$ in this case, and then fill in the blank below:\n",
    "\n",
    "To get to $W_{HT}$, I waited till the first $H$ and then I waited till the first $\\underline{~~~~~~~~~~~}$."
   ]
  },
  {
   "cell_type": "markdown",
   "metadata": {
    "#solution": false,
    "#staff": false,
    "#student": true
   },
   "source": [
    "Tails."
   ]
  },
  {
   "cell_type": "markdown",
   "metadata": {
    "#solution": false,
    "#staff": false,
    "#student": false
   },
   "source": [
    "The cell below generates 50 i.i.d. Bernoulli $(0.4)$ variables, so $H$ is 1 and $T$ is 0 as usual. Run the cell and look for the first occurrence of the pattern 10. Is your observation above still true?\n",
    "\n",
    "Run the cell several times, and check every time whether your observation holds. It is possible, though not likely, that you don't see 10 in the 50 trials. That's fine. Just run the cell again."
   ]
  },
  {
   "cell_type": "code",
   "execution_count": 32,
   "metadata": {
    "#solution": false,
    "#staff": false,
    "#student": false
   },
   "outputs": [
    {
     "data": {
      "text/plain": [
       "array([1, 1, 1, 1, 0, 1, 0, 0, 0, 0, 0, 1, 0, 0, 0, 1, 1, 1, 0, 0, 1, 0,\n",
       "       0, 0, 0, 0, 0, 0, 0, 0, 0, 0, 0, 0, 0, 0, 1, 1, 1, 1, 0, 0, 0, 1,\n",
       "       0, 0, 0, 0, 0, 1])"
      ]
     },
     "execution_count": 32,
     "metadata": {},
     "output_type": "execute_result"
    }
   ],
   "source": [
    "stats.bernoulli.rvs(0.4, size=50)"
   ]
  },
  {
   "cell_type": "markdown",
   "metadata": {
    "#solution": false,
    "#staff": false,
    "#student": false
   },
   "source": [
    "Fill in the blanks:\n",
    "\n",
    "$W_{HT} ~ = ~ W_H + V$ where $V$ is independent of $W_H$ and has the $\\underline{~~~~~~~~~~~~~~~~~~~~~~~~~~~~~~~~~~~~~~~~~~~~~~}$ distribution."
   ]
  },
  {
   "cell_type": "markdown",
   "metadata": {
    "#solution": false,
    "#staff": false,
    "#student": true
   },
   "source": [
    "Geometric"
   ]
  },
  {
   "cell_type": "markdown",
   "metadata": {
    "#solution": false,
    "#staff": false,
    "#student": false
   },
   "source": [
    "Find $E(W_{HT})$ in terms of $p$ and $q$."
   ]
  },
  {
   "cell_type": "markdown",
   "metadata": {
    "#solution": false,
    "#staff": false,
    "#student": true
   },
   "source": [
    "$W_{HT} ~ = ~ W_H + 1+ V = W_{H} + 1 + V$, where V = 0 if next toss is T with probability 0.6, $W_{T}$ if next toss is an H with probability 0.4\n",
    "\n",
    "\n",
    "$$E(W_{HT}) = E(W_H) + E(1) + E(V) = 1/P + 1 + E(0 * (1-P) + W_T*P) = 1/0.4 + 1 + 0.4*E(W_T)$$\n",
    "\n",
    "$$= 1/0.4 + 1 + 0.4*(1/0.6) = 2.5+1+0.4*1.6666 = 2.5+1+0.66666 = 4.16666$$\n"
   ]
  },
  {
   "cell_type": "markdown",
   "metadata": {
    "#solution": false,
    "#staff": false,
    "#student": false
   },
   "source": [
    "### 3b) Comparing $W_{HH}$ and $W_{HT}$ When $p = 0.5$ ###\n",
    "\n",
    "Use your answers in **2d** and **3a** to find $E(W_{HH})$ and $E(W_{HT})$ in the case $p = 0.5$."
   ]
  },
  {
   "cell_type": "markdown",
   "metadata": {
    "#solution": false,
    "#staff": false,
    "#student": true
   },
   "source": [
    "$W_{HT} = W_H+1+X$ where X is 0 if another heads is tossed with P=0.5, and $W_{T}^{*}$ if a tails is tossed with P = 0.5\n",
    "\n",
    "thus, $E(W_{HT}) = E(W_H)+E(1)+E(0*0.5+{W_H^{*}}*0.5) = 1/0.5 + 1 + 0.5(1/0.5) = 2 + 1 +1 = 4$\n",
    "\n",
    "and from using our formula above we know that: $E(W_{HH}) = \\dfrac{1}{P^{2}}+\\dfrac{1}{P} = 2^{2} + 2 = 4+2 = 6$"
   ]
  },
  {
   "cell_type": "markdown",
   "metadata": {
    "#solution": false,
    "#staff": false,
    "#student": false
   },
   "source": [
    "The two answers aren't equal, even though the coin is fair and the patterns have the same length. \n",
    "\n",
    "To see why, start by completing the cell below. Use 10,000 simulated values and remember that $p = 0.5$."
   ]
  },
  {
   "cell_type": "code",
   "execution_count": 33,
   "metadata": {
    "#solution": false,
    "#staff": false,
    "#student": true
   },
   "outputs": [
    {
     "data": {
      "image/png": "[encoded data removed]",
      "text/plain": [
       "<Figure size 432x288 with 1 Axes>"
      ]
     },
     "metadata": {},
     "output_type": "display_data"
    }
   ],
   "source": [
    "# Fair coin: Empirical histogram of W_HT based on 10,000 simulated values\n",
    "def HT_run(p):\n",
    "    \"\"\"Returns one simulated value of W_H,n\n",
    "    in i.i.d. Bernoulli (p) trials\"\"\"\n",
    "    \n",
    "    Heads = 0\n",
    "    Tails = 0\n",
    "    tosses = 0\n",
    "    while Tails == 0:  # While no Tails has been observed after a Heads\n",
    "        while Heads == 0:\n",
    "            tosses += 1\n",
    "            if stats.bernoulli.rvs(p, size=1).item(0) == 1:                           \n",
    "                Heads += 1       #Got a heads, break out of the heads loop   \n",
    "        tosses += 1\n",
    "        \n",
    "        if stats.bernoulli.rvs(p, size=1).item(0) == 0:\n",
    "            Tails +=1  \n",
    "    return tosses\n",
    "\n",
    "def simulate_HT(p, N):\n",
    "    results = []\n",
    "    i = 0\n",
    "    while i< N:\n",
    "        i += 1\n",
    "        results.append(HT_run(p))\n",
    "    return results\n",
    "\n",
    "sim_W_HT = simulate_HT(0.5, 10000)\n",
    "Table().with_column('Simulated W_HT', sim_W_HT).hist(bins = np.arange(1.5, 40.5))"
   ]
  },
  {
   "cell_type": "markdown",
   "metadata": {
    "#solution": false,
    "#staff": false,
    "#student": false
   },
   "source": [
    "Now compare with the empirical distribution of $W_{HH}$ below. You drew a histogram of that distribution in **2c**; the code is repeated below for ease of reference.\n",
    "\n",
    "Also use the subsequent code cell to find the means of the two sets of simualted values and check that they are consistent with your answers at the start of this exercise."
   ]
  },
  {
   "cell_type": "code",
   "execution_count": 34,
   "metadata": {
    "#solution": false,
    "#staff": false,
    "#student": false
   },
   "outputs": [
    {
     "data": {
      "image/png": "[encoded data removed]",
      "text/plain": [
       "<Figure size 432x288 with 1 Axes>"
      ]
     },
     "metadata": {},
     "output_type": "display_data"
    }
   ],
   "source": [
    "# Fair coin: Empirical histogram of W_HH based on 10,000 simulated values\n",
    "\n",
    "Table().with_column('Simulated W_HH', sim_W_HH).hist(bins = np.arange(1.5, 40.5))"
   ]
  },
  {
   "cell_type": "code",
   "execution_count": 35,
   "metadata": {
    "#solution": false,
    "#staff": false,
    "#student": true
   },
   "outputs": [
    {
     "data": {
      "text/plain": [
       "(6.0101, 3.9943)"
      ]
     },
     "execution_count": 35,
     "metadata": {},
     "output_type": "execute_result"
    }
   ],
   "source": [
    "np.mean(sim_W_HH), np.mean(sim_W_HT)"
   ]
  },
  {
   "cell_type": "markdown",
   "metadata": {
    "#solution": false,
    "#staff": false,
    "#student": false
   },
   "source": [
    "The histograms clearly show why the two expectations are not equal. But you can also see the reason with minimal calculation and no graphs, as follows.\n",
    "\n",
    "Fill in the blanks with patterns:\n",
    "\n",
    "To compare $W_{HH}$ and $W_{HT}$ in tosses of a fair coin,\n",
    "- in both cases it takes the same expected time to first get to $W_H$;\n",
    "- in both cases, the pattern appears on the next toss with the same chance 0.5;\n",
    "- in both cases, the pattern fails to appear on the next toss with the same chance 0.5, and then:\n",
    "    - to get to $W_{HH}$ you have to wait till $\\underline{~~~~~~~~~~~~~~~~~}$ appears in the subsequent tosses, whereas\n",
    "    - to get to $W_{HT}$ you have to wait till $\\underline{~~~~~~~~~~~~~~~~~}$ appears in the subsequent tosses."
   ]
  },
  {
   "cell_type": "markdown",
   "metadata": {
    "#solution": false,
    "#staff": false,
    "#student": true
   },
   "source": [
    "    - to get to W_HH you have to wait till Heads appears in the subsequent tosses, whereas\n",
    "    - to get to W_HT you have to wait till Tails appears in the subsequent tosses."
   ]
  },
  {
   "cell_type": "markdown",
   "metadata": {
    "#solution": false,
    "#staff": false,
    "#student": false
   },
   "source": [
    "### 3c) [ON PAPER] Expectation of $W_{HTH}$\n",
    "\n",
    "Find $E(W_{HTH})$ by conditioning on $W_{HT}$. By now you're an expert on how to do this. Follow the process in **1b** and **1c**."
   ]
  },
  {
   "cell_type": "markdown",
   "metadata": {
    "#solution": false,
    "#staff": false,
    "#student": false
   },
   "source": [
    "#newpage"
   ]
  },
  {
   "cell_type": "markdown",
   "metadata": {
    "#solution": false,
    "#staff": false,
    "#student": false
   },
   "source": [
    "## Part 4: A Pattern in the Answers ##\n",
    "For several different patterns of successes and failures, you have calculated the expected waiting time till the pattern appears. Each calculation depended on the particular pattern. It's not unreasonable to think that the longer or more complicated the pattern, the more complicated the calculation will be.\n",
    "\n",
    "**But part of the job of a data scientist, or indeed any scientist or mathematician, is to notice patterns in what they have calculated. These insights help develop further results.**\n",
    "\n",
    "In this part of the lab you will take a more careful look at the expected waiting times that you have calculated thus far, and use them to make a conjecture about a straightforward formula for the expected waiting time till any pattern.\n",
    "\n",
    "You will check your conjecture by calculation in a couple of cases. For a proof that works in general, take Stat 150 to learn about martingale methods."
   ]
  },
  {
   "cell_type": "markdown",
   "metadata": {
    "#solution": false,
    "#staff": false,
    "#student": false
   },
   "source": [
    "### 4a) [ON PAPER] Beginning and End ###\n",
    "\n",
    "(1) Take a look at the formula that you derived in **3a** for $E(W_{HT})$.\n",
    "\n",
    "If you run two trials, what is $P(HT)$ in terms of $p$ and $q$? Write $E(W_{HT})$ in terms of $P(HT)$.\n",
    "\n",
    "(2) Now look at the formula for $E(W_{HTH})$ in **3c**. Simplify it if needed till you see a term involving $P(HTH)$ analogous to what you found in (1) in the case of $HT$. But there's more in the formula for $E(W_{HTH})$. So now compare the end of the pattern to the beginning of the pattern $HTH$. Specifically, compare:\n",
    "\n",
    "- the first and last elements of the pattern\n",
    "- the first two and the last two elements of the pattern\n",
    "\n",
    "Notice how when you are at the end of the pattern you are also partway into another occurrence of the pattern. \n",
    "\n",
    "Look again at the formula for $E(W_{HTH})$. How can you connect it with the comparisons that you have made?\n",
    "\n",
    "(3) Repeat (2) for $E(W_{HHH})$ instead of $E(W_{HTH})$. You found $E(W_{HHH})$ in **1b**."
   ]
  },
  {
   "cell_type": "markdown",
   "metadata": {
    "#solution": false,
    "#staff": false,
    "#student": false
   },
   "source": [
    "### 4b) [ON PAPER] Your Conjecture ###\n",
    "By now you should have a pretty good guess as to how these expected waiting times work out in general. It might be a bit of a pain to write out the guess in general, so just provide your guess for the expected waiting time till each of the following patterns. No explanations needed.\n",
    "\n",
    "(1) $HTT$\n",
    "\n",
    "(2) $HTTH$\n",
    "\n",
    "(3) $HTHTHT$\n",
    "\n",
    "(4) $HHHTHHH$\n",
    "\n",
    "(5) $HHTTHHT$"
   ]
  },
  {
   "cell_type": "markdown",
   "metadata": {
    "#solution": false,
    "#staff": false,
    "#student": false
   },
   "source": [
    "# 4c) [ON PAPER] Check Your Conjecture ###\n",
    "Checking these guesses by direct calculation can be laborious, but for the short patterns it is well worth knowing how to find the expected waiting time by conditioning.\n",
    "\n",
    "Check your guess for $E(W_{HTT})$ as follows.\n",
    "\n",
    "- Notice that you have to first wait for $HT$. In **3a** you have already calculated  the expected time needed for that.\n",
    "\n",
    "- Let $x = E(W_{HTT})$. This is what you are trying to find. \n",
    "\n",
    "- Suppose the first trial has been conducted. Let $Y$ be the *additional* number of trials till the pattern $HTT$ appears. For example, if the first four trials are $THTT$ then $Y=3$; if the first three trials are $HTT$ then $Y=2$; and so on.  Let $y = E(Y \\mid \\text{the first trial is } H)$.\n",
    "\n",
    "Fill in the blanks with math expressions involving $x$ and $y$:\n",
    "\n",
    "$$\n",
    "x ~ = ~ E(W_{HT}) ~ + ~ (1 + \\underline{~~~~~~~~~~~~~})p ~ + ~ (\\underline{~~~~~~~~~~~~~})q\n",
    "$$\n",
    "\n",
    "$$\n",
    "y ~ = ~ (1 + \\underline{~~~~~~~~~~~~~})p ~ + ~ (2 + \\underline{~~~~~~~~~~~~~})qp ~ + ~ (\\underline{~~~~~~~~~~~~~})q^2\n",
    "$$\n",
    "\n",
    "Hence find $x = E(W_{HTT})$ and simplify it if necessary to show that it is the same as your conjecture in **4b**."
   ]
  },
  {
   "cell_type": "markdown",
   "metadata": {
    "#solution": false,
    "#staff": false,
    "#student": false
   },
   "source": [
    "### 4d) [ON PAPER] Robot at a Typewriter ###\n",
    "By now you have a pretty good sense of how these expected waiting times work when the patterns involve just two symbols. So you're ready to branch out beyond just success/failure trials.\n",
    "\n",
    "Suppose letters are drawn uniformly at random with replacement from the 26 upper case letters of the English alphabet. \n",
    "\n",
    "(1) Find $E(W_A)$, the expected number of draws till the letter $A$ appears. No conjectures here — use what you have already shown.\n",
    "\n",
    "(2) Find $E(W_{AZ})$ by developing two simultaneous equations in two unknowns, as follows. The process is analogous to that in **4c**.\n",
    "\n",
    "- Let $x = E(W_{AZ})$. This is what you are trying to find.\n",
    "- Suppose the first draw has been made. Let $Y$ be the *additional* number of draws till the pattern $AZ$ appears. So $Y \\ge 1$. Let $y = E(Y \\mid \\text{first draw is } A)$.\n",
    "\n",
    "Fill in the blanks with math expressions involving $x$ and $y$.\n",
    "\n",
    "$$\n",
    "x ~ = ~ \\underline{~~~~~~~~~~~~~~~~~~~~~~~~~} \\cdot \\frac{25}{26} ~ + ~ \\underline{~~~~~~~~~~~~~~~~~~~~~~~~~} \\cdot \\frac{1}{26}\n",
    "$$\n",
    "\n",
    "$$\n",
    "y ~ = ~ \\underline{~~~~~~~~~~~~~~~~~~~~~~~~~} \\cdot \\frac{24}{26} ~ + ~ \\underline{~~~~~~~~~~~~~~~~~~~~~~~~~} \\cdot \\frac{1}{26} ~ + ~ \\underline{~~~~~~~~~~~~~~~~~~~~~~~~~} \\cdot \\frac{1}{26}\n",
    "$$\n",
    "\n",
    "Now find $x = E(W_{AZ})$. It's a good idea to start by multiplying both sides of the two equations by 26.\n",
    "\n",
    "(3) Adapt the method in (2) above to find $E(W_{AA})$. Your answer should be in terms of powers of 26."
   ]
  },
  {
   "cell_type": "markdown",
   "metadata": {
    "#solution": false,
    "#staff": false,
    "#student": false
   },
   "source": [
    "### 4e) Extending Your Conjecture ###\n",
    "\n",
    "Compare your answers to **4d** with your conjecture in **4b**, and remember that the chance of each letter is $1/26$ on a single draw. \n",
    "\n",
    "Now extend your conjecture in **4b** to guess the expected waiting time till each of the following patterns. The expressions should all be in terms of powers of 26.\n",
    "\n",
    "$BOO$, $BOB$, $GAGA$, $RADIOGAGA$, $ABRACADABRA$"
   ]
  },
  {
   "cell_type": "code",
   "execution_count": 3,
   "metadata": {
    "#solution": false,
    "#staff": false,
    "#student": true
   },
   "outputs": [
    {
     "data": {
      "text/plain": [
       "(26, 676, 702, 17576, 18278, 104, 5429503678976, 3670553623425130)"
      ]
     },
     "execution_count": 3,
     "metadata": {},
     "output_type": "execute_result"
    }
   ],
   "source": [
    "# A\n",
    "ev_W_A = 26\n",
    "\n",
    "# AZ\n",
    "ev_W_AZ = 26**2\n",
    "\n",
    "# AA\n",
    "ev_W_AA = 26**2+26\n",
    "\n",
    "# BOO\n",
    "ev_W_BOO = 26**3\n",
    "\n",
    "# BOB\n",
    "ev_W_BOB = 26**3+26**2+26\n",
    "\n",
    "# GAGA\n",
    "ev_W_GAGA = 26*4\n",
    "\n",
    "# RADIOGAGA\n",
    "ev_W_RADIOGAGA = 26**9\n",
    "\n",
    "# ABRACADABRA\n",
    "ev_W_ABRACADABRA = 26**11+26**8+26**6+26**4+26\n",
    "\n",
    "ev_W_A, ev_W_AZ, ev_W_AA, ev_W_BOO, ev_W_BOB, ev_W_GAGA, ev_W_RADIOGAGA, ev_W_ABRACADABRA"
   ]
  },
  {
   "cell_type": "markdown",
   "metadata": {
    "#solution": false,
    "#staff": false,
    "#student": false
   },
   "source": [
    "Curious about the proof? After the lab deadline, we will provide a sketch of a \"fair gambling game\" argument for this. If you want all the details, take Stat 150."
   ]
  },
  {
   "cell_type": "markdown",
   "metadata": {
    "#solution": false,
    "#staff": false,
    "#student": false
   },
   "source": [
    "## Conclusion ##\n",
    "\n",
    "What you have learned:\n",
    "\n",
    "- How to simulate discrete random variables in Python\n",
    "- A formula for the expected waiting time till a success run of a specified length\n",
    "- Approximate distributions of waiting times till success runs\n",
    "- Expected waiting times till patterns involving failures\n",
    "- A pattern in these expected waiting times\n",
    "- How to write down the expected waiting time till any pattern, just by looking at the pattern"
   ]
  },
  {
   "cell_type": "markdown",
   "metadata": {
    "#solution": false,
    "#staff": false,
    "#student": false
   },
   "source": [
    "## Submission Instructions ##\n",
    "\n",
    "Many assignments throughout the course will have a written portion and a code portion. Please follow the directions below to properly submit both portions.\n",
    "\n",
    "### Written Portion ###\n",
    "*  Scan all the pages into a PDF. There are many free apps available that allow you to convert your work into PDFs from your phone, or you can use a scanner. Please **DO NOT** simply take pictures using your phone. \n",
    "* Please start a new page for each question. If you have already written multiple questions on the same page, you can crop the image or fold your page over (the old-fashioned way). This helps expedite grading.\n",
    "* It is your responsibility to check that all the work on all the scanned pages is legible.\n",
    "\n",
    "### Code Portion ###\n",
    "* Save your notebook using File > Save and Checkpoint.\n",
    "* Download the PDF file and confirm that none of your work is missing or cut off.\n",
    "\n",
    "### Submitting ###\n",
    "* Combine the PDFs from the written and code portions into one PDF.  [Here](https://smallpdf.com/merge-pdf) is a useful tool for doing so.  \n",
    "* Submit the assignment to Lab4 on Gradescope. \n",
    "* **Make sure to assign each page of your pdf to the correct question.**\n",
    "\n",
    "\n",
    "\n",
    "### **We will not grade assignments which do not have pages selected for each question or were submitted after the deadline.** "
   ]
  }
 ],
 "metadata": {
  "checksums": [
   "36d6125272e38841d377985b31e7a672",
   "3d9001c2b5c4f95586f39a07c901a109",
   "9027ce1af9df9fc6d3cfac57cbfaf3c5",
   "af412acce8b7ae35a8f3bfcf1307aa82",
   "03e6080b4921ce832cb2b67b3e6c84c0",
   "518c84f8a1f148dbd174743a2ce02a06",
   "b5a1f2e61ea1bc615cd41288e1c8e081",
   "7a2469c4bdf9bbd7224750f7d32b2e03",
   "d889f3fd935439de5274d6ecc494d152",
   "df1a19e1560905f89867f59c9e183174",
   "0febf56c88784e5f37afdd7c1bef2737",
   "be64ff30f0ea85bded2bba6dc1b0c206",
   "0ec9c5e6d0489fae47ce60439795a27c",
   "5368cec7c6ea83d4fa06cb7ed8700d5e",
   "aa5f3ae6f08ef01f04801ec32773a12c",
   "02bfc4e8510cf02880f686b0dabcbe2a",
   "b98aa21251c9bcd9c2684296aad6c27d",
   "65e27aeecb7ae63d38cb05f0943e2396",
   "23bbb6f015760aff37e42f108c743e41",
   "a3e93c514b88a82136c5f57ff3a54fbc",
   "2117aae27ea9abe1a6d6decde4f4c169",
   "1aee2176cb2497cce76058e17084592b",
   "adfc9a493d0ce74718e14b0ad9f274dd",
   "db334c216dafc5da3e0425116ee095a0",
   "f35ec6a1b0cfebd332c7e2cf41b76748",
   "f7a5ee056fbefe78dea81cf7f085b039",
   "2661f0dc45ab9dd300322789ec6e948b",
   "9ffe399d72c7570774cc84cc385884cc",
   "4734cbd3f466dc5b5d49bc3b0f83a5ac",
   "6abec9b264067751893a0f9034ed5c5b",
   "795728b2f4b45b58463177e0271292a9",
   "5cd31ae938d559d243d466fd26d355fb",
   "011f9e3b3c7d6e563c0c70307fba3f45",
   "082ae527ef6979015b101b3237d3a94c",
   "97ad7cec01bae15e500d2a55e4b1acb2",
   "f717c3f3f5a2588bbd6ba5b3b859698a",
   "2bcb3c5f3a45364abfc19afebfa2fc75",
   "640061103a186fd26f59746dd4d6de57",
   "1fb607a9453523d6ec053a1660e19847",
   "95ee244fa752d95df27ab7bbbc299094",
   "311f47dfddfce1f9ca7b64b1fe942854",
   "e11e085101237bdec9d8e5db2d1c0c0b",
   "c6b782f2caa3ab264168741fe58725fe",
   "43aec8b74e936de0184d4ac1ba26446b",
   "b9f40ddf71a00071c6aa7be1d18a5ed2",
   "a05f6558c38ff65ebc966c1732a1598f",
   "a303931a0802760c18001ad2dfc6d33e",
   "2c05e3b64570cfeb77f54c287d316497",
   "d3acb0b4fc139b021e8843b291f7fb32",
   "c4231334af830e5221742e00ba6bca37",
   "f98c499b83257b46a3520341b09ebbc5",
   "ff292e92c32f4a6de3d54d715fd0d065",
   "d58c1401e2129c2424679543289a217e",
   "f0f7f426b01ce1926bfb8617ca585be5",
   "bbed5e0c163efe9d06fada48a934db66",
   "5ea6294f3d671b908f7fd05532a525a8",
   "7d2be3f60895992b6cf150ea3cf30a08",
   "3a76d7cce4e9ecdb4fe70737e7879960",
   "a12f7db5f6b5196d9b4cadaf924123f5",
   "2f43b42fd833d1e77420a8dae7419000",
   "d9184d01c74d5e6cffbc9ceea520cb48",
   "94d9825b7599cf4ead42b309a0f4e561",
   "0ec24e93165e3873a315685d554c8e30",
   "5b9f003da8944a1fd5f6e88aa1a5b37f",
   "e330dcc514e405ef1fa5c4556afb8903",
   "97fca2a8657a9aeec235c635c84eea50",
   "cef522f77bd974ea8c754c1657f940fc",
   "4fbbffd36b915a27e409e9050f790771",
   "5cb78790399d7f652aaa467e4be40663",
   "cb138b401f1fdabe507c21792d70dda2",
   "f38835aa2df711d31a8040da6a9b7b09",
   "6f01166ff4576863bcf0b99fe873680a",
   "2f43b42fd833d1e77420a8dae7419000",
   "2073229fa47dbb6fba7ecc233851a2c7",
   "2f43b42fd833d1e77420a8dae7419000",
   "640061103a186fd26f59746dd4d6de57",
   "ccbbec3d7447c5c64e29b3501ee299d7",
   "d321ece6c0c6c2cb56441d9d96d6079e",
   "3a76d7cce4e9ecdb4fe70737e7879960",
   "7978e8f2c3bec5977f7e04aaefefdd2a",
   "a888092cae77aae7198eed095a1bc88b",
   "df77018bca3dfccfeec96ed4794920d1",
   "3a76d7cce4e9ecdb4fe70737e7879960",
   "ffe615ec74566a67cbb99f338b31d71a",
   "3a76d7cce4e9ecdb4fe70737e7879960",
   "fd090fd51f4adee26aeadff6c60b52f1",
   "3a76d7cce4e9ecdb4fe70737e7879960",
   "ae5b612fd8beb19413f548f2dfa7958a",
   "a97b48ec2e5b409305abe7d77f59ac71",
   "5fce34efd46e592aa04deb2a8eac3971",
   "fac0630b3290e4432f26c80758f62c30",
   "9265a02732e0f7c446e24bb243f7d551",
   "60768c251e6ba6e4263ca20d102dddbb",
   "3a76d7cce4e9ecdb4fe70737e7879960",
   "8860a89af677de0f3095b5efa91adb9a",
   "640061103a186fd26f59746dd4d6de57",
   "c490f0f52249f84bb2b394ebd07c7246",
   "822e1e7c855dc24d44de2a50793f7f6b",
   "a4727d9a793180bce56df838f7945b0e",
   "29b00a1f419ed235bdf7ece7ada48cca",
   "21b4adf38c87b281e6f02658469ed19c",
   "c80897eafbf867bc6b530f6f79a2b0ec",
   "ec2887286ad948b908576da802c4ccb7",
   "501a0647f76e45a752069958c0d4fd68",
   "53d0d1331113d795789ca08463af2d25",
   "739bb99df959c29bcc0f4441453f07f1"
  ],
  "kernelspec": {
   "display_name": "Python 3",
   "language": "python",
   "name": "python3"
  },
  "language_info": {
   "codemirror_mode": {
    "name": "ipython",
    "version": 3
   },
   "file_extension": ".py",
   "mimetype": "text/x-python",
   "name": "python",
   "nbconvert_exporter": "python",
   "pygments_lexer": "ipython3",
   "version": "3.6.8"
  },
  "number_of_pagebreaks": 3
 },
 "nbformat": 4,
 "nbformat_minor": 2
}
