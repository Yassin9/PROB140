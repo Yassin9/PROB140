{
 "cells": [
  {
   "cell_type": "markdown",
   "metadata": {},
   "source": [
    "<table align=\"left\" style=\"border-style: hidden\" class=\"table\"> <tr><td class=\"col-md-2\"><img style=\"float\" src=\"http://prob140.org/assets/icon256.png\" alt=\"Prob140 Logo\" style=\"width: 120px;\"/></td><td><div align=\"left\"><h3 style=\"margin-top: 0;\">Probability for Data Science</h3><h4 style=\"margin-top: 20px;\">UC Berkeley, Fall 2019</h4><p>Ani Adhikari and Jim Pitman</p>CC BY-NC 4.0</div></td></tr></table><!-- not in pdf -->"
   ]
  },
  {
   "cell_type": "code",
   "execution_count": 1,
   "metadata": {
    "#solution": false,
    "#staff": false,
    "#student": false
   },
   "outputs": [],
   "source": [
    "# SETUP\n",
    "\n",
    "import numpy as np\n",
    "from datascience import *\n",
    "from prob140 import *\n",
    "\n",
    "# These lines do some fancy plotting magic\n",
    "import matplotlib\n",
    "%matplotlib inline\n",
    "import matplotlib.pyplot as plt\n",
    "plt.style.use('fivethirtyeight')\n",
    "\n",
    "# These lines make warnings look nicer\n",
    "import warnings\n",
    "warnings.simplefilter('ignore', FutureWarning)\n",
    "warnings.simplefilter('ignore', DeprecationWarning)\n",
    "\n",
    "# Useful for probability calculations\n",
    "from scipy import stats\n",
    "from scipy import special"
   ]
  },
  {
   "cell_type": "code",
   "execution_count": 2,
   "metadata": {
    "#solution": false,
    "#staff": false,
    "#student": false
   },
   "outputs": [],
   "source": [
    "# Standard deck of cards\n",
    "\n",
    "ranks = np.append(np.arange(2, 11), np.array(['Jack', 'Queen', 'King', 'Ace']))\n",
    "\n",
    "suits = ['\\u2660', '\\u2663', '\\u2661', '\\u2662']\n",
    "\n",
    "deck = Table().values('Suit', suits, 'Rank', ranks).move_to_start('Rank')"
   ]
  },
  {
   "cell_type": "markdown",
   "metadata": {
    "#solution": false,
    "#staff": false,
    "#student": false
   },
   "source": [
    "# Lab 1: Simple Random Samples #\n",
    "\n",
    "Welcome to labs in Prob 140! As this is the first lab you are doing after the long summer break, it is relatively short and takes you just a bit further than the text does.  \n",
    "\n",
    "Simple random sampling (sampling uniformly at random without replacement) is a natural scheme for sampling from a finite population. Data science applications aside, simple random sampling happens every time a hand of cards is dealt from a well shuffled deck. In this lab we will study aspects of simple random sampling in the context of cards. \n",
    "\n",
    "The discoveries you will make have obvious generalizations when the parameters are different. So the lab isn't just about cards, but cards are the primary setting. Throughout the course you will see similar calculations used in different contexts.\n",
    "\n",
    "More generally, the lab is an exploration of probability distributions and how to work with them. That is going to be the basis of the course.\n",
    "\n",
    "What you'll do in this lab:\n",
    "- Use SciPy to find numbers of combinations and hypergeometric probabilities\n",
    "- Study the distribution of the count of a specified rank in a hand\n",
    "- Study the joint distribution of the counts of two specified suits in a hand"
   ]
  },
  {
   "cell_type": "markdown",
   "metadata": {
    "#solution": false,
    "#staff": false,
    "#student": false
   },
   "source": [
    "*Note:* Similar to homework, labs have two components: a written portion and a portion that also involves code.  Written work should be completed on paper, and coding questions should be done in the notebook.  You are welcome to LaTeX your answers to the written portions, but staff will not be able to assist you with LaTeX related issues. It is your responsibility to ensure that both components of the homework are submitted completely and properly to Gradescope. Refer to the bottom of the notebook for submission instructions."
   ]
  },
  {
   "cell_type": "markdown",
   "metadata": {
    "#solution": false,
    "#staff": false,
    "#student": false
   },
   "source": [
    "## Part 1: Counting Hands ##\n",
    "We will start with some functions that make numerical probability calculations easy. `SciPy` is a system for scientific computing, based on Python. Its modules `special` and `stats` are useful for math and probability calculations.\n",
    "\n",
    "### Number of Combinations ###\n",
    "You know that if you have a population of size $N$ and you take a simple random sample of size $n$, then there are ${N \\choose n}$ possible samples. \n",
    "\n",
    "For integers $0 \\le n \\le N$, `special.comb(N, n)` evaluates to ${N \\choose n}$. \n",
    "\n",
    "But sometimes you get a float instead of an integer, due to the method of computation.\n",
    "\n",
    "If you are bothered by the decimals you can use `special.comb(N, n, exact=True)` for the integer value.\n",
    "\n",
    "Combinatorial terms can get large very quickly, but in this lab you won't have to worry about that."
   ]
  },
  {
   "cell_type": "code",
   "execution_count": 3,
   "metadata": {
    "#solution": false,
    "#staff": false,
    "#student": false
   },
   "outputs": [
    {
     "data": {
      "text/plain": [
       "(15.0, 19582837560.0, 19582837560)"
      ]
     },
     "execution_count": 3,
     "metadata": {},
     "output_type": "execute_result"
    }
   ],
   "source": [
    "special.comb(6, 2), special.comb(300, 5), special.comb(300, 5, exact=True)"
   ]
  },
  {
   "cell_type": "markdown",
   "metadata": {
    "#solution": false,
    "#staff": false,
    "#student": false
   },
   "source": [
    "### Standard Deck ###\n",
    "\n",
    "In a standard deck of 52 cards, each card has three attributes – suit, color, and rank.\n",
    "- There are 26 black cards, and 26 red cards which we show here as colorless.\n",
    "- There are 13 cards in each of four suits: hearts ($\\heartsuit$) and diamonds ($\\diamondsuit$) are red, and spades ($\\spadesuit$) and clubs ($\\clubsuit$) are black.\n",
    "- Within each suit, the 13 cards are ranked 2, 3, 4, 5, 6, 7, 8, 9, 10, Jack, Queen, King, Ace in ascending order of value.\n",
    "\n",
    "The table `deck` is a visualization of a standard deck, one card per row. The spades are displayed below."
   ]
  },
  {
   "cell_type": "code",
   "execution_count": 4,
   "metadata": {
    "#solution": false,
    "#staff": false,
    "#student": false
   },
   "outputs": [
    {
     "data": {
      "text/html": [
       "<table border=\"1\" class=\"dataframe\">\n",
       "    <thead>\n",
       "        <tr>\n",
       "            <th>Rank</th> <th>Suit</th>\n",
       "        </tr>\n",
       "    </thead>\n",
       "    <tbody>\n",
       "        <tr>\n",
       "            <td>2    </td> <td>♠   </td>\n",
       "        </tr>\n",
       "        <tr>\n",
       "            <td>3    </td> <td>♠   </td>\n",
       "        </tr>\n",
       "        <tr>\n",
       "            <td>4    </td> <td>♠   </td>\n",
       "        </tr>\n",
       "        <tr>\n",
       "            <td>5    </td> <td>♠   </td>\n",
       "        </tr>\n",
       "        <tr>\n",
       "            <td>6    </td> <td>♠   </td>\n",
       "        </tr>\n",
       "        <tr>\n",
       "            <td>7    </td> <td>♠   </td>\n",
       "        </tr>\n",
       "        <tr>\n",
       "            <td>8    </td> <td>♠   </td>\n",
       "        </tr>\n",
       "        <tr>\n",
       "            <td>9    </td> <td>♠   </td>\n",
       "        </tr>\n",
       "        <tr>\n",
       "            <td>10   </td> <td>♠   </td>\n",
       "        </tr>\n",
       "        <tr>\n",
       "            <td>Jack </td> <td>♠   </td>\n",
       "        </tr>\n",
       "        <tr>\n",
       "            <td>Queen</td> <td>♠   </td>\n",
       "        </tr>\n",
       "        <tr>\n",
       "            <td>King </td> <td>♠   </td>\n",
       "        </tr>\n",
       "        <tr>\n",
       "            <td>Ace  </td> <td>♠   </td>\n",
       "        </tr>\n",
       "    </tbody>\n",
       "</table>\n",
       "<p>... (39 rows omitted)</p>"
      ],
      "text/plain": [
       "<IPython.core.display.HTML object>"
      ]
     },
     "metadata": {},
     "output_type": "display_data"
    }
   ],
   "source": [
    "deck.show(13)"
   ]
  },
  {
   "cell_type": "markdown",
   "metadata": {
    "#solution": false,
    "#staff": false,
    "#student": false
   },
   "source": [
    "A 5-card poker hand, which we will simply call a poker hand, is a simple random sample of 5 cards dealt from a standard deck\n",
    "\n",
    "In each cell, use `special.comb`, the integers 0 through 52, and the basic arithmetic operations `+`, `-`, `*`, and `/` to find the counts described. "
   ]
  },
  {
   "cell_type": "markdown",
   "metadata": {
    "#solution": false,
    "#staff": false,
    "#student": false
   },
   "source": [
    "### 1a) Total Number of Hands ###\n",
    "\n",
    "Find the total number of poker hands"
   ]
  },
  {
   "cell_type": "code",
   "execution_count": 5,
   "metadata": {
    "#solution": false,
    "#staff": false,
    "#student": true
   },
   "outputs": [
    {
     "data": {
      "text/plain": [
       "2598960.0"
      ]
     },
     "execution_count": 5,
     "metadata": {},
     "output_type": "execute_result"
    }
   ],
   "source": [
    "num_poker_hands = special.comb(52, 5)\n",
    "\n",
    "num_poker_hands"
   ]
  },
  {
   "cell_type": "markdown",
   "metadata": {
    "#solution": false,
    "#staff": false,
    "#student": false
   },
   "source": [
    "### 1b) Four of a Kind ###\n",
    "\n",
    "Complete the cell below to find the number of poker hands that contain all four cards of any rank. This kind of hand is called \"four of a kind\" and the set of five cards is denoted $\\{a, a, a, a, b\\}$.\n",
    "\n",
    "Notice a very important combinatorial technique: start by specifying which rank appears four times, and then introduce the number of ways in which that rank can be specified."
   ]
  },
  {
   "cell_type": "code",
   "execution_count": 27,
   "metadata": {
    "#solution": false,
    "#staff": false,
    "#student": true
   },
   "outputs": [
    {
     "data": {
      "text/plain": [
       "(624.0, 2598960.0)"
      ]
     },
     "execution_count": 27,
     "metadata": {},
     "output_type": "execute_result"
    }
   ],
   "source": [
    "# num_poker_4_kings = number of poker hands that have all four kings\n",
    "# num_poker_4_of_a_kind = number of hands that are four of a kind\n",
    "\n",
    "num_poker_4_kings = special.comb(4,4) * special.comb(4,1) * special.comb(12,1)\n",
    "#only 1 king in each set of 13 cards thus 4 choose 4, 12 remaining cards in each of 4 sets to choose from for after 4 kings\n",
    "num_poker_4_of_a_kind = 13 * num_poker_4_kings\n",
    "#Since we are looking at not just kings, we have a total of 13 possible card ranks to choose from\n",
    "\n",
    "num_poker_4_of_a_kind, num_poker_hands"
   ]
  },
  {
   "cell_type": "markdown",
   "metadata": {
    "#solution": false,
    "#staff": false,
    "#student": false
   },
   "source": [
    "### 1c) Full House ###\n",
    "\n",
    "A \"full house\" is a hand that contains three cards of one rank and two of another: $\\{a, a, a, b, b\\}$.\n",
    "\n",
    "As before, we will start with specific ranks. So let $n$ be the number of hands that contain 3 queens and 2 aces. Pick the correct option and explain your choice in the Markdown cell below.\n",
    "\n",
    "The number of \"full house hands\" is equal to\n",
    "\n",
    "(i) $\\binom{13}{2} n$\n",
    "$~~~~~~~~~~~~~$\n",
    "(ii) $13 \\times 12 \\times n$"
   ]
  },
  {
   "cell_type": "markdown",
   "metadata": {
    "#solution": false,
    "#staff": false,
    "#student": true
   },
   "source": [
    "(ii) because the number of hands that contain 3 queens and 2 aces is just one of the combinations of a's and b's out of the $13 \\times 12$ possible choices. Thus, to find the total number of 'full house hands' in a deck of 52 cards with 4 sets and 13 ranks in each, we must multiply the number of hands, n, for any one combination of a's and b's(in this case 3 queens and 2 aces) by the total number of possible a's and b's. \n",
    "\n",
    "It cannot be (i) because we cannot use a combination in this case, as the order of a and b matters, since having 3 queens and 2 aces is different from 3 aces and 2 queens."
   ]
  },
  {
   "cell_type": "markdown",
   "metadata": {
    "#solution": false,
    "#staff": false,
    "#student": false
   },
   "source": [
    "Now complete the cell below to find the number of \"full house\" hands."
   ]
  },
  {
   "cell_type": "code",
   "execution_count": 26,
   "metadata": {
    "#solution": false,
    "#staff": false,
    "#student": true
   },
   "outputs": [
    {
     "data": {
      "text/plain": [
       "(3744.0, 2598960.0)"
      ]
     },
     "execution_count": 26,
     "metadata": {},
     "output_type": "execute_result"
    }
   ],
   "source": [
    "# num_poker_3_queens_2_aces = number of hands that have 3 queens and 2 aces\n",
    "# num_poker_full_house = number of \"full house\" hands\n",
    "\n",
    "num_poker_3_kings_2_queens = special.comb(4, 3) * special.comb(4, 2)\n",
    "num_poker_full_house = 13 * 12 * num_poker_3_kings_2_queens\n",
    "\n",
    "num_poker_full_house, num_poker_hands"
   ]
  },
  {
   "cell_type": "markdown",
   "metadata": {
    "#solution": false,
    "#staff": false,
    "#student": false
   },
   "source": [
    "### 1d) [ON PAPER] Two Pair ###\n",
    "\n",
    "A hand of the form $\\{ a, a, b, b, c\\}$ is called \"two pair.\" \n",
    "\n",
    "Use the methods developed in **1b** and **1c** to find the total number of \"two pair hands\" and **explain all the pieces** of your formula."
   ]
  },
  {
   "cell_type": "markdown",
   "metadata": {
    "#solution": false,
    "#staff": false,
    "#student": false
   },
   "source": [
    "### 1e) Two Pair, continued ###\n",
    "\n",
    "Now use the code cell to write an expression that evaluates to the number of \"two pair\" hands."
   ]
  },
  {
   "cell_type": "code",
   "execution_count": 30,
   "metadata": {
    "#solution": false,
    "#staff": false,
    "#student": true
   },
   "outputs": [
    {
     "data": {
      "text/plain": [
       "(123552.0, 2598960.0)"
      ]
     },
     "execution_count": 30,
     "metadata": {},
     "output_type": "execute_result"
    }
   ],
   "source": [
    "#num_poker_2_kings_2_queens = number of hands that have 2 kings and 2 queens\n",
    "#num_poker_two_pair = number of \"two pair\" hands\n",
    "\n",
    "num_poker_2_kings_2_queens = special.comb(4, 2)**2 * 44\n",
    "num_poker_two_pair = special.comb(13, 2) * num_poker_2_kings_2_queens\n",
    "\n",
    "num_poker_two_pair, num_poker_hands"
   ]
  },
  {
   "cell_type": "markdown",
   "metadata": {
    "#solution": false,
    "#staff": false,
    "#student": false
   },
   "source": [
    "## Part 2: Hypergeometric Probabilities ##\n",
    "Because of the simple random sampling scheme, all ${N \\choose n}$ possible samples are equally likely. Suppose that among the $N$ elements of the population, $G$ are good according to some precise definition of \"good\". Then you know that\n",
    "\n",
    "$$\n",
    "P(k \\text{ good elements in the sample}) ~ = ~ \n",
    "\\frac{ {G \\choose k}{{N-G} \\choose {n-k}} }{ {N \\choose n} }\n",
    "$$\n",
    "\n",
    "following the standard interpretation that \"$k$ good elements\" means \"exactly $k$ good elements.\"\n",
    "\n",
    "These are impressively called *hypergeometric probabilities* because the terms are related to the hypergeometric series of mathematics. Scary terminology notwithstanding, what is being calculated is straightforward: the chance of getting a specified number of good elements in a simple random sample.\n",
    "\n",
    "In the calculation above, $k$ is the desired number of good elements specified in the event. The *parameters*, or constants of the sampling scheme, are\n",
    "\n",
    "- the population size $N$\n",
    "- the population count of good elements $G$\n",
    "- the simple random sample size $n$\n",
    "\n",
    "`stats.hypergeom.pmf(k, N, G, n)` evaluates to the probability displayed above. The `pmf` part stands for \"probability mass function\".\n",
    "\n",
    "**Warning**: Be careful when you read `SciPy` documentation for `hypergeom`. Their notation uses some of the same letters as we are using, to mean different things. It can therefore be horribly confusing. \n",
    "\n",
    "Just remember the call as:\n",
    "\n",
    "`stats.hypergeom.pmf(k, population_size, num_good_in_population, sample_size)`\n",
    "\n",
    "#### Hypergeometric Distributions ####\n",
    "If $X$ is the number of good elements in the sample, then $P(X = k)$ is the hypergeometric probability above, and $X$ is said to have the *hypergeometric distribution with parameters $N$, $G$, and $n$.* When you see that, you should say in your head, \"$X$ is the number of good elements in a simple random sample with the listed parameters.\"\n",
    "\n",
    "By passing in a list or array for `k` instead of a single integer, you can get all the corresponding hypergeometric probabilities using the same call as above. The sampling scheme and hence the parameters stay fixed.\n",
    "\n",
    "#### Example ####\n",
    "Suppose a class has 100 students of whom 40 are seniors, and suppose you take a simple random sample of 25 students from the class. Then the chance that you get 10 seniors in the sample is\n",
    "\n",
    "$$\n",
    "\\frac{ {{40} \\choose {10}}{{60} \\choose {15}} }{ {{100} \\choose {25}} }\n",
    "$$\n",
    "\n",
    "which can be calculated in the two ways below."
   ]
  },
  {
   "cell_type": "code",
   "execution_count": 3,
   "metadata": {
    "#solution": false,
    "#staff": false,
    "#student": false
   },
   "outputs": [
    {
     "data": {
      "text/plain": [
       "0.18592555463150046"
      ]
     },
     "execution_count": 3,
     "metadata": {},
     "output_type": "execute_result"
    }
   ],
   "source": [
    "special.comb(40, 10) * special.comb(60, 15) / special.comb(100, 25)"
   ]
  },
  {
   "cell_type": "code",
   "execution_count": 4,
   "metadata": {
    "#solution": false,
    "#staff": false,
    "#student": false
   },
   "outputs": [
    {
     "data": {
      "text/plain": [
       "0.1859255546315013"
      ]
     },
     "execution_count": 4,
     "metadata": {},
     "output_type": "execute_result"
    }
   ],
   "source": [
    "stats.hypergeom.pmf(10, 100, 40, 25)"
   ]
  },
  {
   "cell_type": "markdown",
   "metadata": {
    "#solution": false,
    "#staff": false,
    "#student": false
   },
   "source": [
    "If $X$ is the number of seniors in the sample, then $X$ has the hypergeometric distribution with parameters 100, 40, and 25. Here are all the probabilities in the distribution followed by a confirmation that it is indeed a distribution."
   ]
  },
  {
   "cell_type": "code",
   "execution_count": 5,
   "metadata": {
    "#solution": false,
    "#staff": false,
    "#student": false
   },
   "outputs": [
    {
     "data": {
      "text/plain": [
       "array([2.14067270e-07, 5.94631305e-06, 7.52128246e-05, 5.76631655e-04,\n",
       "       3.00883441e-03, 1.13733941e-02, 3.23633164e-02, 7.11112326e-02,\n",
       "       1.22790908e-01, 1.68682459e-01, 1.85925555e-01, 1.65348813e-01,\n",
       "       1.19027692e-01, 6.94328203e-02, 3.27933437e-02, 1.25051951e-02,\n",
       "       3.83124849e-03, 9.36142164e-04, 1.80555721e-04, 2.71009562e-05,\n",
       "       3.10429135e-06, 2.63970353e-07, 1.59982032e-08, 6.47603428e-10,\n",
       "       1.55497998e-11, 1.65864532e-13])"
      ]
     },
     "execution_count": 5,
     "metadata": {},
     "output_type": "execute_result"
    }
   ],
   "source": [
    "k = np.arange(26)\n",
    "stats.hypergeom.pmf(k, 100, 40, 25)"
   ]
  },
  {
   "cell_type": "code",
   "execution_count": 6,
   "metadata": {
    "#solution": false,
    "#staff": false,
    "#student": false
   },
   "outputs": [
    {
     "data": {
      "text/plain": [
       "0.9999999999999991"
      ]
     },
     "execution_count": 6,
     "metadata": {},
     "output_type": "execute_result"
    }
   ],
   "source": [
    "sum(stats.hypergeom.pmf(k, 100, 40, 25))"
   ]
  },
  {
   "cell_type": "markdown",
   "metadata": {
    "#solution": false,
    "#staff": false,
    "#student": false
   },
   "source": [
    "### 2a) Aces in a Bridge Hand ###\n",
    "\n",
    "A hand in the game of bridge consists of a simple random sample of 13 cards dealt from a standard deck.\n",
    "\n",
    "Suppose a bridge hand is dealt. Use `stats.hypergeom` to write expressions that evaluate to the probabilities below. Remember that \"$n$ aces\" means \"exactly $n$ aces\"."
   ]
  },
  {
   "cell_type": "code",
   "execution_count": 4,
   "metadata": {
    "#solution": false,
    "#staff": false,
    "#student": true
   },
   "outputs": [
    {
     "data": {
      "text/plain": [
       "(0.21349339735894468, 0.6935414165666287)"
      ]
     },
     "execution_count": 4,
     "metadata": {},
     "output_type": "execute_result"
    }
   ],
   "source": [
    "# ans_i = P(2 aces)\n",
    "# ans_ii = P(at least one ace but not all the aces)\n",
    "\n",
    "ans_i = stats.hypergeom.pmf(2, 52, 4, 13)\n",
    "ans_ii = sum(stats.hypergeom.pmf(np.arange(1, 4), 52, 4, 13))\n",
    "\n",
    "ans_i, ans_ii"
   ]
  },
  {
   "cell_type": "markdown",
   "metadata": {
    "#solution": false,
    "#staff": false,
    "#student": false
   },
   "source": [
    "### 2b) Visualizing the Distribution ##\n",
    "In this exercise you will visualize the distribution of the number of aces in a bridge hand.\n",
    "\n",
    "The `prob140` library has methods that allow you to quickly draw a histogram of the probability distribution of an integer-valued random variable. For a random variable $X$ whose possible values are in `values_array` with the corresponding probabilities in the array `probs_array`, the assignment \n",
    "\n",
    "`dist_object = Table().values(values_array).probabilities(probs_array)`\n",
    "\n",
    "creates a \"distribution object\" that we have named `dist_object`, containing the distribution of $X$. Then `Plot(dist_object)` draws the histogram.\n",
    "\n",
    "Let $X$ be the number of aces in a bridge hand. Complete the cell below to draw the probability histogram of $X$. Make sure the histogram is consistent with your answers in **2a**."
   ]
  },
  {
   "cell_type": "code",
   "execution_count": 67,
   "metadata": {
    "#solution": false,
    "#staff": false,
    "#student": true
   },
   "outputs": [
    {
     "data": {
      "text/plain": [
       "Text(0.5, 1.0, 'Number of Aces in a Bridge Hand')"
      ]
     },
     "execution_count": 67,
     "metadata": {},
     "output_type": "execute_result"
    },
    {
     "data": {
      "image/png": "[encoded data removed]",
      "text/plain": [
       "<Figure size 432x288 with 1 Axes>"
      ]
     },
     "metadata": {},
     "output_type": "display_data"
    }
   ],
   "source": [
    "# Array of possible values of X\n",
    "k = np.arange(5)\n",
    "\n",
    "# Array/list of the corresponding probabilities\n",
    "aces_probs = stats.hypergeom.pmf(k, 52, 4, 13)\n",
    "\n",
    "# Distribution object consisting of the distribution of X\n",
    "aces_dist = Table().values(k).probabilities(aces_probs)\n",
    "Plot(aces_dist)\n",
    "\n",
    "# Probability histogram of X\n",
    "plt.title('Number of Aces in a Bridge Hand')"
   ]
  },
  {
   "cell_type": "markdown",
   "metadata": {
    "#solution": false,
    "#staff": false,
    "#student": false
   },
   "source": [
    "### 2c) Face Cards in a Bridge Hand ###\n",
    "The *face* cards are those that have faces on them: the kings, the queens, and the jacks. So there are 12 face cards.\n",
    "\n",
    "Use the cell below so that when it is run, the output is the probability histogram of the number of face cards in a bridge hand. Use as many lines of code as you need."
   ]
  },
  {
   "cell_type": "code",
   "execution_count": 66,
   "metadata": {
    "#solution": false,
    "#staff": false,
    "#student": true
   },
   "outputs": [
    {
     "data": {
      "text/plain": [
       "Text(0.5, 1.0, 'Number of Faces in a Bridge Hand')"
      ]
     },
     "execution_count": 66,
     "metadata": {},
     "output_type": "execute_result"
    },
    {
     "data": {
      "image/png": "[encoded data removed]",
      "text/plain": [
       "<Figure size 432x288 with 1 Axes>"
      ]
     },
     "metadata": {},
     "output_type": "display_data"
    }
   ],
   "source": [
    "# Array of possible values of X\n",
    "k = np.arange(13)\n",
    "\n",
    "# Array/list of the corresponding probabilities\n",
    "faces_probs = stats.hypergeom.pmf(k, 52, 12, 13)\n",
    "\n",
    "# Distribution object consisting of the distribution of X\n",
    "faces_dist = Table().values(k).probabilities(faces_probs)\n",
    "Plot(faces_dist)\n",
    "\n",
    "# Probability histogram of X\n",
    "plt.title('Number of Faces in a Bridge Hand')"
   ]
  },
  {
   "cell_type": "markdown",
   "metadata": {
    "#solution": false,
    "#staff": false,
    "#student": false
   },
   "source": [
    "### 2d) Comparing the Distributions ###\n",
    "The two distributions that you have plotted should look quite different. But understanding the differences is complicated because the scales on the axes of the two graphs are different. \n",
    "\n",
    "Overlaid histograms are easier to interpret. The call\n",
    "\n",
    "`Plots(variable_name_1, dist_object_1, variable_name_2, dist_object_2)`\n",
    "\n",
    "draws overlaid histograms of the two probability distributions in the arguments. Choose the strings `variable_name_1` and `variable_name_2` to be short but descriptive of the corresponding variables.\n",
    "\n",
    "Write one line of code to overlay the histograms in **2b** and **2c**. Call one of the variables `Number of Aces` and the other variable `Number of Face Cards`."
   ]
  },
  {
   "cell_type": "code",
   "execution_count": 68,
   "metadata": {
    "#solution": false,
    "#staff": false,
    "#student": true
   },
   "outputs": [
    {
     "data": {
      "image/png": "[encoded data removed]",
      "text/plain": [
       "<Figure size 432x288 with 1 Axes>"
      ]
     },
     "metadata": {},
     "output_type": "display_data"
    }
   ],
   "source": [
    "plt.title('Bridge Hand')\n",
    "Plots('aces in bridge hand',aces_dist, 'faces in bridge hand', faces_dist )"
   ]
  },
  {
   "cell_type": "markdown",
   "metadata": {
    "#solution": false,
    "#staff": false,
    "#student": false
   },
   "source": [
    "We have been studying ranks, but suits are very important in bridge. We will look at suits in the next part of the lab. Before doing that, say (without calculation or graphing) which of the two histograms above more closely resembles the distribution of the number of hearts in a bridge hand? Explain your answer."
   ]
  },
  {
   "cell_type": "markdown",
   "metadata": {
    "#solution": false,
    "#staff": false,
    "#student": true
   },
   "source": [
    "I believe that the histogram for 'faces in bridge hand' more closely resembles the distribution of the number of hearts in a bridge hand. This is because there are 13 heart cards in total in a standard deck, which is closer to the number of face cards, 12, then it is to the number of aces, 4, in a deck. Hence, the probability distribution of hearts in a bridge hand should more closely resemble the probability distribution of faces in a bridge hand then aces in a bridge hand."
   ]
  },
  {
   "cell_type": "markdown",
   "metadata": {
    "#solution": false,
    "#staff": false,
    "#student": false
   },
   "source": [
    "## Part 3: Joint Distribution  ##\n",
    "This part of the lab is a workout in joint distributions. The setting is the joint distribution of the counts of two suits in a bridge hand. We have used spades and hearts but the results apply to any pair of suits.\n",
    "\n",
    "Let $S$ be the number of spades and $H$ the number of hearts in a bridge hand."
   ]
  },
  {
   "cell_type": "markdown",
   "metadata": {
    "#solution": false,
    "#staff": false,
    "#student": false
   },
   "source": [
    "### 3a) [ON PAPER] Spades and Hearts ###\n",
    "\n",
    "Find:\n",
    "- all the possible values of the pair $(S, H)$\n",
    "- $P(S = s, H = h)$ for each possible value $(s, h)$. Write out a general formula in terms of $s$ and $h$.\n",
    "\n",
    "Make sure you don't include impossible pairs, as otherwise you might have trouble coding the joint distribution."
   ]
  },
  {
   "cell_type": "markdown",
   "metadata": {
    "#solution": false,
    "#staff": false,
    "#student": false
   },
   "source": [
    "### 3b) Joint Distribution ###\n",
    "\n",
    "Use your answers in **3a** to define a function `joint_prob` that takes arguments $s$ and $h$ and returns $P(S = s, H = h)$."
   ]
  },
  {
   "cell_type": "code",
   "execution_count": 29,
   "metadata": {
    "#solution": false,
    "#staff": false,
    "#student": true
   },
   "outputs": [],
   "source": [
    "def joint_prob(s, h):\n",
    "    if s+h <= 13:\n",
    "        return (special.comb(13, s) * special.comb(13, h) * special.comb(26, 13-s-h))/ special.comb(52, 13)\n",
    "    else:\n",
    "        return 0"
   ]
  },
  {
   "cell_type": "markdown",
   "metadata": {
    "#solution": false,
    "#staff": false,
    "#student": false
   },
   "source": [
    "Think about what `joint_prob(7, 8)` should evaluate to and run the cell below to check that your function gets the right answer."
   ]
  },
  {
   "cell_type": "code",
   "execution_count": 30,
   "metadata": {
    "#solution": false,
    "#staff": false,
    "#student": true
   },
   "outputs": [
    {
     "data": {
      "text/plain": [
       "0"
      ]
     },
     "execution_count": 30,
     "metadata": {},
     "output_type": "execute_result"
    }
   ],
   "source": [
    "joint_prob(7, 8)"
   ]
  },
  {
   "cell_type": "markdown",
   "metadata": {
    "#solution": false,
    "#staff": false,
    "#student": false
   },
   "source": [
    "You know what the total of all the probabilities in the joint distribution of $S$ and $H$ should be. Use the cell below to confirm that the sum of `joint_prob(s, h)` over all `s` and `h` is indeed what it should be. There are many ways of writing the code; whichever you use, make sure that the last line evaluates to the sum."
   ]
  },
  {
   "cell_type": "code",
   "execution_count": 32,
   "metadata": {
    "#solution": false,
    "#staff": false,
    "#student": true
   },
   "outputs": [
    {
     "name": "stdout",
     "output_type": "stream",
     "text": [
      "1.0000000000000002\n"
     ]
    }
   ],
   "source": [
    "total_probability = 0\n",
    "S = np.arange(14)\n",
    "H = np.arange(14)\n",
    "for s in S:\n",
    "    for h in H:\n",
    "        total_probability += joint_prob(s, h)\n",
    "print(total_probability)"
   ]
  },
  {
   "cell_type": "markdown",
   "metadata": {
    "#solution": false,
    "#staff": false,
    "#student": false
   },
   "source": [
    "### 3c) Joint Distribution Table ###\n",
    "[Section 4.1](http://prob140.org/textbook/Chapter_04/01_Joint_Distributions.html) of the textbook is going to be your source for the code needed below. The construction of the joint distribution table is essentially parallel to the construction of the distribution object of a single variable in Part 2 above. \n",
    "\n",
    "Scroll down Section 4.1 of the textbook till you see the first joint distribution table. Read the description of the code used to display the table, and then complete the cell below to display the joint distribution table of $S$ and $H$."
   ]
  },
  {
   "cell_type": "code",
   "execution_count": 34,
   "metadata": {
    "#solution": false,
    "#staff": false,
    "#student": true
   },
   "outputs": [
    {
     "data": {
      "text/html": [
       "<div>\n",
       "<style scoped>\n",
       "    .dataframe tbody tr th:only-of-type {\n",
       "        vertical-align: middle;\n",
       "    }\n",
       "\n",
       "    .dataframe tbody tr th {\n",
       "        vertical-align: top;\n",
       "    }\n",
       "\n",
       "    .dataframe thead th {\n",
       "        text-align: right;\n",
       "    }\n",
       "</style>\n",
       "<table border=\"1\" class=\"dataframe\">\n",
       "  <thead>\n",
       "    <tr style=\"text-align: right;\">\n",
       "      <th></th>\n",
       "      <th>X=0</th>\n",
       "      <th>X=1</th>\n",
       "      <th>X=2</th>\n",
       "      <th>X=3</th>\n",
       "      <th>X=4</th>\n",
       "      <th>X=5</th>\n",
       "      <th>X=6</th>\n",
       "      <th>X=7</th>\n",
       "      <th>X=8</th>\n",
       "      <th>X=9</th>\n",
       "      <th>X=10</th>\n",
       "      <th>X=11</th>\n",
       "      <th>X=12</th>\n",
       "      <th>X=13</th>\n",
       "    </tr>\n",
       "  </thead>\n",
       "  <tbody>\n",
       "    <tr>\n",
       "      <td>Y=13</td>\n",
       "      <td>1.574770e-12</td>\n",
       "      <td>0.000000e+00</td>\n",
       "      <td>0.000000e+00</td>\n",
       "      <td>0.000000e+00</td>\n",
       "      <td>0.000000e+00</td>\n",
       "      <td>0.000000</td>\n",
       "      <td>0.000000</td>\n",
       "      <td>0.000000</td>\n",
       "      <td>0.000000</td>\n",
       "      <td>0.000000e+00</td>\n",
       "      <td>0.000000e+00</td>\n",
       "      <td>0.000000e+00</td>\n",
       "      <td>0.000000e+00</td>\n",
       "      <td>0.000000e+00</td>\n",
       "    </tr>\n",
       "    <tr>\n",
       "      <td>Y=12</td>\n",
       "      <td>5.322721e-10</td>\n",
       "      <td>2.661360e-10</td>\n",
       "      <td>0.000000e+00</td>\n",
       "      <td>0.000000e+00</td>\n",
       "      <td>0.000000e+00</td>\n",
       "      <td>0.000000</td>\n",
       "      <td>0.000000</td>\n",
       "      <td>0.000000</td>\n",
       "      <td>0.000000</td>\n",
       "      <td>0.000000e+00</td>\n",
       "      <td>0.000000e+00</td>\n",
       "      <td>0.000000e+00</td>\n",
       "      <td>0.000000e+00</td>\n",
       "      <td>0.000000e+00</td>\n",
       "    </tr>\n",
       "    <tr>\n",
       "      <td>Y=11</td>\n",
       "      <td>3.992041e-08</td>\n",
       "      <td>4.151722e-08</td>\n",
       "      <td>9.580898e-09</td>\n",
       "      <td>0.000000e+00</td>\n",
       "      <td>0.000000e+00</td>\n",
       "      <td>0.000000</td>\n",
       "      <td>0.000000</td>\n",
       "      <td>0.000000</td>\n",
       "      <td>0.000000</td>\n",
       "      <td>0.000000e+00</td>\n",
       "      <td>0.000000e+00</td>\n",
       "      <td>0.000000e+00</td>\n",
       "      <td>0.000000e+00</td>\n",
       "      <td>0.000000e+00</td>\n",
       "    </tr>\n",
       "    <tr>\n",
       "      <td>Y=10</td>\n",
       "      <td>1.170999e-06</td>\n",
       "      <td>1.902873e-06</td>\n",
       "      <td>9.133789e-07</td>\n",
       "      <td>1.288098e-07</td>\n",
       "      <td>0.000000e+00</td>\n",
       "      <td>0.000000</td>\n",
       "      <td>0.000000</td>\n",
       "      <td>0.000000</td>\n",
       "      <td>0.000000</td>\n",
       "      <td>0.000000e+00</td>\n",
       "      <td>0.000000e+00</td>\n",
       "      <td>0.000000e+00</td>\n",
       "      <td>0.000000e+00</td>\n",
       "      <td>0.000000e+00</td>\n",
       "    </tr>\n",
       "    <tr>\n",
       "      <td>Y=9</td>\n",
       "      <td>1.683311e-05</td>\n",
       "      <td>3.805746e-05</td>\n",
       "      <td>2.854309e-05</td>\n",
       "      <td>8.372640e-06</td>\n",
       "      <td>8.050615e-07</td>\n",
       "      <td>0.000000</td>\n",
       "      <td>0.000000</td>\n",
       "      <td>0.000000</td>\n",
       "      <td>0.000000</td>\n",
       "      <td>0.000000e+00</td>\n",
       "      <td>0.000000e+00</td>\n",
       "      <td>0.000000e+00</td>\n",
       "      <td>0.000000e+00</td>\n",
       "      <td>0.000000e+00</td>\n",
       "    </tr>\n",
       "    <tr>\n",
       "      <td>Y=8</td>\n",
       "      <td>1.333182e-04</td>\n",
       "      <td>3.938947e-04</td>\n",
       "      <td>4.110205e-04</td>\n",
       "      <td>1.883844e-04</td>\n",
       "      <td>3.767688e-05</td>\n",
       "      <td>0.000003</td>\n",
       "      <td>0.000000</td>\n",
       "      <td>0.000000</td>\n",
       "      <td>0.000000</td>\n",
       "      <td>0.000000e+00</td>\n",
       "      <td>0.000000e+00</td>\n",
       "      <td>0.000000e+00</td>\n",
       "      <td>0.000000e+00</td>\n",
       "      <td>0.000000e+00</td>\n",
       "    </tr>\n",
       "    <tr>\n",
       "      <td>Y=7</td>\n",
       "      <td>6.221516e-04</td>\n",
       "      <td>2.310849e-03</td>\n",
       "      <td>3.151157e-03</td>\n",
       "      <td>2.009434e-03</td>\n",
       "      <td>6.279480e-04</td>\n",
       "      <td>0.000090</td>\n",
       "      <td>0.000005</td>\n",
       "      <td>0.000000</td>\n",
       "      <td>0.000000</td>\n",
       "      <td>0.000000e+00</td>\n",
       "      <td>0.000000e+00</td>\n",
       "      <td>0.000000e+00</td>\n",
       "      <td>0.000000e+00</td>\n",
       "      <td>0.000000e+00</td>\n",
       "    </tr>\n",
       "    <tr>\n",
       "      <td>Y=6</td>\n",
       "      <td>1.777576e-03</td>\n",
       "      <td>8.087970e-03</td>\n",
       "      <td>1.386509e-02</td>\n",
       "      <td>1.155424e-02</td>\n",
       "      <td>5.023584e-03</td>\n",
       "      <td>0.001130</td>\n",
       "      <td>0.000121</td>\n",
       "      <td>0.000005</td>\n",
       "      <td>0.000000</td>\n",
       "      <td>0.000000e+00</td>\n",
       "      <td>0.000000e+00</td>\n",
       "      <td>0.000000e+00</td>\n",
       "      <td>0.000000e+00</td>\n",
       "      <td>0.000000e+00</td>\n",
       "    </tr>\n",
       "    <tr>\n",
       "      <td>Y=5</td>\n",
       "      <td>3.166307e-03</td>\n",
       "      <td>1.733137e-02</td>\n",
       "      <td>3.639587e-02</td>\n",
       "      <td>3.812900e-02</td>\n",
       "      <td>2.166421e-02</td>\n",
       "      <td>0.006782</td>\n",
       "      <td>0.001130</td>\n",
       "      <td>0.000090</td>\n",
       "      <td>0.000003</td>\n",
       "      <td>0.000000e+00</td>\n",
       "      <td>0.000000e+00</td>\n",
       "      <td>0.000000e+00</td>\n",
       "      <td>0.000000e+00</td>\n",
       "      <td>0.000000e+00</td>\n",
       "    </tr>\n",
       "    <tr>\n",
       "      <td>Y=4</td>\n",
       "      <td>3.518119e-03</td>\n",
       "      <td>2.286777e-02</td>\n",
       "      <td>5.777122e-02</td>\n",
       "      <td>7.413973e-02</td>\n",
       "      <td>5.295695e-02</td>\n",
       "      <td>0.021664</td>\n",
       "      <td>0.005024</td>\n",
       "      <td>0.000628</td>\n",
       "      <td>0.000038</td>\n",
       "      <td>8.050615e-07</td>\n",
       "      <td>0.000000e+00</td>\n",
       "      <td>0.000000e+00</td>\n",
       "      <td>0.000000e+00</td>\n",
       "      <td>0.000000e+00</td>\n",
       "    </tr>\n",
       "    <tr>\n",
       "      <td>Y=3</td>\n",
       "      <td>2.392321e-03</td>\n",
       "      <td>1.829422e-02</td>\n",
       "      <td>5.488266e-02</td>\n",
       "      <td>8.473112e-02</td>\n",
       "      <td>7.413973e-02</td>\n",
       "      <td>0.038129</td>\n",
       "      <td>0.011554</td>\n",
       "      <td>0.002009</td>\n",
       "      <td>0.000188</td>\n",
       "      <td>8.372640e-06</td>\n",
       "      <td>1.288098e-07</td>\n",
       "      <td>0.000000e+00</td>\n",
       "      <td>0.000000e+00</td>\n",
       "      <td>0.000000e+00</td>\n",
       "    </tr>\n",
       "    <tr>\n",
       "      <td>Y=2</td>\n",
       "      <td>9.490199e-04</td>\n",
       "      <td>8.481865e-03</td>\n",
       "      <td>2.993599e-02</td>\n",
       "      <td>5.488266e-02</td>\n",
       "      <td>5.777122e-02</td>\n",
       "      <td>0.036396</td>\n",
       "      <td>0.013865</td>\n",
       "      <td>0.003151</td>\n",
       "      <td>0.000411</td>\n",
       "      <td>2.854309e-05</td>\n",
       "      <td>9.133789e-07</td>\n",
       "      <td>9.580898e-09</td>\n",
       "      <td>0.000000e+00</td>\n",
       "      <td>0.000000e+00</td>\n",
       "    </tr>\n",
       "    <tr>\n",
       "      <td>Y=1</td>\n",
       "      <td>1.977125e-04</td>\n",
       "      <td>2.056210e-03</td>\n",
       "      <td>8.481865e-03</td>\n",
       "      <td>1.829422e-02</td>\n",
       "      <td>2.286777e-02</td>\n",
       "      <td>0.017331</td>\n",
       "      <td>0.008088</td>\n",
       "      <td>0.002311</td>\n",
       "      <td>0.000394</td>\n",
       "      <td>3.805746e-05</td>\n",
       "      <td>1.902873e-06</td>\n",
       "      <td>4.151722e-08</td>\n",
       "      <td>2.661360e-10</td>\n",
       "      <td>0.000000e+00</td>\n",
       "    </tr>\n",
       "    <tr>\n",
       "      <td>Y=0</td>\n",
       "      <td>1.637855e-05</td>\n",
       "      <td>1.977125e-04</td>\n",
       "      <td>9.490199e-04</td>\n",
       "      <td>2.392321e-03</td>\n",
       "      <td>3.518119e-03</td>\n",
       "      <td>0.003166</td>\n",
       "      <td>0.001778</td>\n",
       "      <td>0.000622</td>\n",
       "      <td>0.000133</td>\n",
       "      <td>1.683311e-05</td>\n",
       "      <td>1.170999e-06</td>\n",
       "      <td>3.992041e-08</td>\n",
       "      <td>5.322721e-10</td>\n",
       "      <td>1.574770e-12</td>\n",
       "    </tr>\n",
       "  </tbody>\n",
       "</table>\n",
       "</div>"
      ],
      "text/plain": [
       "               X=0           X=1           X=2           X=3           X=4  \\\n",
       "Y=13  1.574770e-12  0.000000e+00  0.000000e+00  0.000000e+00  0.000000e+00   \n",
       "Y=12  5.322721e-10  2.661360e-10  0.000000e+00  0.000000e+00  0.000000e+00   \n",
       "Y=11  3.992041e-08  4.151722e-08  9.580898e-09  0.000000e+00  0.000000e+00   \n",
       "Y=10  1.170999e-06  1.902873e-06  9.133789e-07  1.288098e-07  0.000000e+00   \n",
       "Y=9   1.683311e-05  3.805746e-05  2.854309e-05  8.372640e-06  8.050615e-07   \n",
       "Y=8   1.333182e-04  3.938947e-04  4.110205e-04  1.883844e-04  3.767688e-05   \n",
       "Y=7   6.221516e-04  2.310849e-03  3.151157e-03  2.009434e-03  6.279480e-04   \n",
       "Y=6   1.777576e-03  8.087970e-03  1.386509e-02  1.155424e-02  5.023584e-03   \n",
       "Y=5   3.166307e-03  1.733137e-02  3.639587e-02  3.812900e-02  2.166421e-02   \n",
       "Y=4   3.518119e-03  2.286777e-02  5.777122e-02  7.413973e-02  5.295695e-02   \n",
       "Y=3   2.392321e-03  1.829422e-02  5.488266e-02  8.473112e-02  7.413973e-02   \n",
       "Y=2   9.490199e-04  8.481865e-03  2.993599e-02  5.488266e-02  5.777122e-02   \n",
       "Y=1   1.977125e-04  2.056210e-03  8.481865e-03  1.829422e-02  2.286777e-02   \n",
       "Y=0   1.637855e-05  1.977125e-04  9.490199e-04  2.392321e-03  3.518119e-03   \n",
       "\n",
       "           X=5       X=6       X=7       X=8           X=9          X=10  \\\n",
       "Y=13  0.000000  0.000000  0.000000  0.000000  0.000000e+00  0.000000e+00   \n",
       "Y=12  0.000000  0.000000  0.000000  0.000000  0.000000e+00  0.000000e+00   \n",
       "Y=11  0.000000  0.000000  0.000000  0.000000  0.000000e+00  0.000000e+00   \n",
       "Y=10  0.000000  0.000000  0.000000  0.000000  0.000000e+00  0.000000e+00   \n",
       "Y=9   0.000000  0.000000  0.000000  0.000000  0.000000e+00  0.000000e+00   \n",
       "Y=8   0.000003  0.000000  0.000000  0.000000  0.000000e+00  0.000000e+00   \n",
       "Y=7   0.000090  0.000005  0.000000  0.000000  0.000000e+00  0.000000e+00   \n",
       "Y=6   0.001130  0.000121  0.000005  0.000000  0.000000e+00  0.000000e+00   \n",
       "Y=5   0.006782  0.001130  0.000090  0.000003  0.000000e+00  0.000000e+00   \n",
       "Y=4   0.021664  0.005024  0.000628  0.000038  8.050615e-07  0.000000e+00   \n",
       "Y=3   0.038129  0.011554  0.002009  0.000188  8.372640e-06  1.288098e-07   \n",
       "Y=2   0.036396  0.013865  0.003151  0.000411  2.854309e-05  9.133789e-07   \n",
       "Y=1   0.017331  0.008088  0.002311  0.000394  3.805746e-05  1.902873e-06   \n",
       "Y=0   0.003166  0.001778  0.000622  0.000133  1.683311e-05  1.170999e-06   \n",
       "\n",
       "              X=11          X=12          X=13  \n",
       "Y=13  0.000000e+00  0.000000e+00  0.000000e+00  \n",
       "Y=12  0.000000e+00  0.000000e+00  0.000000e+00  \n",
       "Y=11  0.000000e+00  0.000000e+00  0.000000e+00  \n",
       "Y=10  0.000000e+00  0.000000e+00  0.000000e+00  \n",
       "Y=9   0.000000e+00  0.000000e+00  0.000000e+00  \n",
       "Y=8   0.000000e+00  0.000000e+00  0.000000e+00  \n",
       "Y=7   0.000000e+00  0.000000e+00  0.000000e+00  \n",
       "Y=6   0.000000e+00  0.000000e+00  0.000000e+00  \n",
       "Y=5   0.000000e+00  0.000000e+00  0.000000e+00  \n",
       "Y=4   0.000000e+00  0.000000e+00  0.000000e+00  \n",
       "Y=3   0.000000e+00  0.000000e+00  0.000000e+00  \n",
       "Y=2   9.580898e-09  0.000000e+00  0.000000e+00  \n",
       "Y=1   4.151722e-08  2.661360e-10  0.000000e+00  \n",
       "Y=0   3.992041e-08  5.322721e-10  1.574770e-12  "
      ]
     },
     "execution_count": 34,
     "metadata": {},
     "output_type": "execute_result"
    }
   ],
   "source": [
    "k = np.arange(14)\n",
    "two_suits = Table().values('X', k , 'Y', k).probability_function(joint_prob)\n",
    "\n",
    "two_suits"
   ]
  },
  {
   "cell_type": "markdown",
   "metadata": {
    "#solution": false,
    "#staff": false,
    "#student": false
   },
   "source": [
    "It's a pretty big table and none of the individual cells has a big chance. Use the table to find numerical values of the following probabilities.\n",
    "\n",
    "(i) $P(\\text{3 hearts and 5 spades})$\n",
    "\n",
    "(ii) $P(\\text{3 spades and 5 hearts})$ [Use your table; it's a sanity check.]"
   ]
  },
  {
   "cell_type": "markdown",
   "metadata": {
    "#solution": false,
    "#staff": false,
    "#student": true
   },
   "source": [
    "(i) $P(\\text{3 hearts and 5 spades}) = 0.038129$\n",
    "\n",
    "(ii)  $P(\\text{3 spades and 5 hearts}) =  0.038129$"
   ]
  },
  {
   "cell_type": "markdown",
   "metadata": {
    "#solution": false,
    "#staff": false,
    "#student": false
   },
   "source": [
    "### 3d) Equality ###\n",
    "For each statement below, say whether it is true or false and explain your choice. \n",
    "\n",
    "(i) $S = H$\n",
    "\n",
    "(ii) $S \\stackrel{d}{=} H$"
   ]
  },
  {
   "cell_type": "markdown",
   "metadata": {
    "#solution": false,
    "#staff": false,
    "#student": true
   },
   "source": [
    "\n",
    "**Your answer here**\n",
    "\n",
    "(i) False, S does not always equal H as there are cases where S=s, where s = 8 and H = h where h = 5, etc... Thus as long as S + H <= 13, S does not always have to be equal to H\n",
    "\n",
    "\n",
    "(ii) This is true as the distributions are symmetric, since in the above table we see that $P(\\text{3 spades and 5 hearts})$ and $P(\\text{3 hearts and 5 spades})$ are the same value, we know that there must be some symmetry at play and that the probability distributions of S and H must be symmetric, thus  $S \\stackrel{d}{=} H$"
   ]
  },
  {
   "cell_type": "markdown",
   "metadata": {
    "#solution": false,
    "#staff": false,
    "#student": false
   },
   "source": [
    "Your answer to (ii) above should be consistent with the output of the cell below. The display might be a bit hard to read, but be patient."
   ]
  },
  {
   "cell_type": "code",
   "execution_count": 35,
   "metadata": {
    "#solution": false,
    "#staff": false,
    "#student": true
   },
   "outputs": [
    {
     "data": {
      "text/html": [
       "<div>\n",
       "<style scoped>\n",
       "    .dataframe tbody tr th:only-of-type {\n",
       "        vertical-align: middle;\n",
       "    }\n",
       "\n",
       "    .dataframe tbody tr th {\n",
       "        vertical-align: top;\n",
       "    }\n",
       "\n",
       "    .dataframe thead th {\n",
       "        text-align: right;\n",
       "    }\n",
       "</style>\n",
       "<table border=\"1\" class=\"dataframe\">\n",
       "  <thead>\n",
       "    <tr style=\"text-align: right;\">\n",
       "      <th></th>\n",
       "      <th>X=0</th>\n",
       "      <th>X=1</th>\n",
       "      <th>X=2</th>\n",
       "      <th>X=3</th>\n",
       "      <th>X=4</th>\n",
       "      <th>X=5</th>\n",
       "      <th>X=6</th>\n",
       "      <th>X=7</th>\n",
       "      <th>X=8</th>\n",
       "      <th>X=9</th>\n",
       "      <th>X=10</th>\n",
       "      <th>X=11</th>\n",
       "      <th>X=12</th>\n",
       "      <th>X=13</th>\n",
       "      <th>Sum: Marginal of Y</th>\n",
       "    </tr>\n",
       "  </thead>\n",
       "  <tbody>\n",
       "    <tr>\n",
       "      <td>Y=13</td>\n",
       "      <td>1.574770e-12</td>\n",
       "      <td>0.000000e+00</td>\n",
       "      <td>0.000000e+00</td>\n",
       "      <td>0.000000e+00</td>\n",
       "      <td>0.000000e+00</td>\n",
       "      <td>0.000000</td>\n",
       "      <td>0.000000</td>\n",
       "      <td>0.000000</td>\n",
       "      <td>0.000000</td>\n",
       "      <td>0.000000e+00</td>\n",
       "      <td>0.000000e+00</td>\n",
       "      <td>0.000000e+00</td>\n",
       "      <td>0.000000e+00</td>\n",
       "      <td>0.000000e+00</td>\n",
       "      <td>1.574770e-12</td>\n",
       "    </tr>\n",
       "    <tr>\n",
       "      <td>Y=12</td>\n",
       "      <td>5.322721e-10</td>\n",
       "      <td>2.661360e-10</td>\n",
       "      <td>0.000000e+00</td>\n",
       "      <td>0.000000e+00</td>\n",
       "      <td>0.000000e+00</td>\n",
       "      <td>0.000000</td>\n",
       "      <td>0.000000</td>\n",
       "      <td>0.000000</td>\n",
       "      <td>0.000000</td>\n",
       "      <td>0.000000e+00</td>\n",
       "      <td>0.000000e+00</td>\n",
       "      <td>0.000000e+00</td>\n",
       "      <td>0.000000e+00</td>\n",
       "      <td>0.000000e+00</td>\n",
       "      <td>7.984081e-10</td>\n",
       "    </tr>\n",
       "    <tr>\n",
       "      <td>Y=11</td>\n",
       "      <td>3.992041e-08</td>\n",
       "      <td>4.151722e-08</td>\n",
       "      <td>9.580898e-09</td>\n",
       "      <td>0.000000e+00</td>\n",
       "      <td>0.000000e+00</td>\n",
       "      <td>0.000000</td>\n",
       "      <td>0.000000</td>\n",
       "      <td>0.000000</td>\n",
       "      <td>0.000000</td>\n",
       "      <td>0.000000e+00</td>\n",
       "      <td>0.000000e+00</td>\n",
       "      <td>0.000000e+00</td>\n",
       "      <td>0.000000e+00</td>\n",
       "      <td>0.000000e+00</td>\n",
       "      <td>9.101853e-08</td>\n",
       "    </tr>\n",
       "    <tr>\n",
       "      <td>Y=10</td>\n",
       "      <td>1.170999e-06</td>\n",
       "      <td>1.902873e-06</td>\n",
       "      <td>9.133789e-07</td>\n",
       "      <td>1.288098e-07</td>\n",
       "      <td>0.000000e+00</td>\n",
       "      <td>0.000000</td>\n",
       "      <td>0.000000</td>\n",
       "      <td>0.000000</td>\n",
       "      <td>0.000000</td>\n",
       "      <td>0.000000e+00</td>\n",
       "      <td>0.000000e+00</td>\n",
       "      <td>0.000000e+00</td>\n",
       "      <td>0.000000e+00</td>\n",
       "      <td>0.000000e+00</td>\n",
       "      <td>4.116060e-06</td>\n",
       "    </tr>\n",
       "    <tr>\n",
       "      <td>Y=9</td>\n",
       "      <td>1.683311e-05</td>\n",
       "      <td>3.805746e-05</td>\n",
       "      <td>2.854309e-05</td>\n",
       "      <td>8.372640e-06</td>\n",
       "      <td>8.050615e-07</td>\n",
       "      <td>0.000000</td>\n",
       "      <td>0.000000</td>\n",
       "      <td>0.000000</td>\n",
       "      <td>0.000000</td>\n",
       "      <td>0.000000e+00</td>\n",
       "      <td>0.000000e+00</td>\n",
       "      <td>0.000000e+00</td>\n",
       "      <td>0.000000e+00</td>\n",
       "      <td>0.000000e+00</td>\n",
       "      <td>9.261135e-05</td>\n",
       "    </tr>\n",
       "    <tr>\n",
       "      <td>Y=8</td>\n",
       "      <td>1.333182e-04</td>\n",
       "      <td>3.938947e-04</td>\n",
       "      <td>4.110205e-04</td>\n",
       "      <td>1.883844e-04</td>\n",
       "      <td>3.767688e-05</td>\n",
       "      <td>0.000003</td>\n",
       "      <td>0.000000</td>\n",
       "      <td>0.000000</td>\n",
       "      <td>0.000000</td>\n",
       "      <td>0.000000e+00</td>\n",
       "      <td>0.000000e+00</td>\n",
       "      <td>0.000000e+00</td>\n",
       "      <td>0.000000e+00</td>\n",
       "      <td>0.000000e+00</td>\n",
       "      <td>1.166903e-03</td>\n",
       "    </tr>\n",
       "    <tr>\n",
       "      <td>Y=7</td>\n",
       "      <td>6.221516e-04</td>\n",
       "      <td>2.310849e-03</td>\n",
       "      <td>3.151157e-03</td>\n",
       "      <td>2.009434e-03</td>\n",
       "      <td>6.279480e-04</td>\n",
       "      <td>0.000090</td>\n",
       "      <td>0.000005</td>\n",
       "      <td>0.000000</td>\n",
       "      <td>0.000000</td>\n",
       "      <td>0.000000e+00</td>\n",
       "      <td>0.000000e+00</td>\n",
       "      <td>0.000000e+00</td>\n",
       "      <td>0.000000e+00</td>\n",
       "      <td>0.000000e+00</td>\n",
       "      <td>8.816601e-03</td>\n",
       "    </tr>\n",
       "    <tr>\n",
       "      <td>Y=6</td>\n",
       "      <td>1.777576e-03</td>\n",
       "      <td>8.087970e-03</td>\n",
       "      <td>1.386509e-02</td>\n",
       "      <td>1.155424e-02</td>\n",
       "      <td>5.023584e-03</td>\n",
       "      <td>0.001130</td>\n",
       "      <td>0.000121</td>\n",
       "      <td>0.000005</td>\n",
       "      <td>0.000000</td>\n",
       "      <td>0.000000e+00</td>\n",
       "      <td>0.000000e+00</td>\n",
       "      <td>0.000000e+00</td>\n",
       "      <td>0.000000e+00</td>\n",
       "      <td>0.000000e+00</td>\n",
       "      <td>4.156398e-02</td>\n",
       "    </tr>\n",
       "    <tr>\n",
       "      <td>Y=5</td>\n",
       "      <td>3.166307e-03</td>\n",
       "      <td>1.733137e-02</td>\n",
       "      <td>3.639587e-02</td>\n",
       "      <td>3.812900e-02</td>\n",
       "      <td>2.166421e-02</td>\n",
       "      <td>0.006782</td>\n",
       "      <td>0.001130</td>\n",
       "      <td>0.000090</td>\n",
       "      <td>0.000003</td>\n",
       "      <td>0.000000e+00</td>\n",
       "      <td>0.000000e+00</td>\n",
       "      <td>0.000000e+00</td>\n",
       "      <td>0.000000e+00</td>\n",
       "      <td>0.000000e+00</td>\n",
       "      <td>1.246919e-01</td>\n",
       "    </tr>\n",
       "    <tr>\n",
       "      <td>Y=4</td>\n",
       "      <td>3.518119e-03</td>\n",
       "      <td>2.286777e-02</td>\n",
       "      <td>5.777122e-02</td>\n",
       "      <td>7.413973e-02</td>\n",
       "      <td>5.295695e-02</td>\n",
       "      <td>0.021664</td>\n",
       "      <td>0.005024</td>\n",
       "      <td>0.000628</td>\n",
       "      <td>0.000038</td>\n",
       "      <td>8.050615e-07</td>\n",
       "      <td>0.000000e+00</td>\n",
       "      <td>0.000000e+00</td>\n",
       "      <td>0.000000e+00</td>\n",
       "      <td>0.000000e+00</td>\n",
       "      <td>2.386080e-01</td>\n",
       "    </tr>\n",
       "    <tr>\n",
       "      <td>Y=3</td>\n",
       "      <td>2.392321e-03</td>\n",
       "      <td>1.829422e-02</td>\n",
       "      <td>5.488266e-02</td>\n",
       "      <td>8.473112e-02</td>\n",
       "      <td>7.413973e-02</td>\n",
       "      <td>0.038129</td>\n",
       "      <td>0.011554</td>\n",
       "      <td>0.002009</td>\n",
       "      <td>0.000188</td>\n",
       "      <td>8.372640e-06</td>\n",
       "      <td>1.288098e-07</td>\n",
       "      <td>0.000000e+00</td>\n",
       "      <td>0.000000e+00</td>\n",
       "      <td>0.000000e+00</td>\n",
       "      <td>2.863296e-01</td>\n",
       "    </tr>\n",
       "    <tr>\n",
       "      <td>Y=2</td>\n",
       "      <td>9.490199e-04</td>\n",
       "      <td>8.481865e-03</td>\n",
       "      <td>2.993599e-02</td>\n",
       "      <td>5.488266e-02</td>\n",
       "      <td>5.777122e-02</td>\n",
       "      <td>0.036396</td>\n",
       "      <td>0.013865</td>\n",
       "      <td>0.003151</td>\n",
       "      <td>0.000411</td>\n",
       "      <td>2.854309e-05</td>\n",
       "      <td>9.133789e-07</td>\n",
       "      <td>9.580898e-09</td>\n",
       "      <td>0.000000e+00</td>\n",
       "      <td>0.000000e+00</td>\n",
       "      <td>2.058734e-01</td>\n",
       "    </tr>\n",
       "    <tr>\n",
       "      <td>Y=1</td>\n",
       "      <td>1.977125e-04</td>\n",
       "      <td>2.056210e-03</td>\n",
       "      <td>8.481865e-03</td>\n",
       "      <td>1.829422e-02</td>\n",
       "      <td>2.286777e-02</td>\n",
       "      <td>0.017331</td>\n",
       "      <td>0.008088</td>\n",
       "      <td>0.002311</td>\n",
       "      <td>0.000394</td>\n",
       "      <td>3.805746e-05</td>\n",
       "      <td>1.902873e-06</td>\n",
       "      <td>4.151722e-08</td>\n",
       "      <td>2.661360e-10</td>\n",
       "      <td>0.000000e+00</td>\n",
       "      <td>8.006186e-02</td>\n",
       "    </tr>\n",
       "    <tr>\n",
       "      <td>Y=0</td>\n",
       "      <td>1.637855e-05</td>\n",
       "      <td>1.977125e-04</td>\n",
       "      <td>9.490199e-04</td>\n",
       "      <td>2.392321e-03</td>\n",
       "      <td>3.518119e-03</td>\n",
       "      <td>0.003166</td>\n",
       "      <td>0.001778</td>\n",
       "      <td>0.000622</td>\n",
       "      <td>0.000133</td>\n",
       "      <td>1.683311e-05</td>\n",
       "      <td>1.170999e-06</td>\n",
       "      <td>3.992041e-08</td>\n",
       "      <td>5.322721e-10</td>\n",
       "      <td>1.574770e-12</td>\n",
       "      <td>1.279095e-02</td>\n",
       "    </tr>\n",
       "    <tr>\n",
       "      <td>Sum: Marginal of X</td>\n",
       "      <td>1.279095e-02</td>\n",
       "      <td>8.006186e-02</td>\n",
       "      <td>2.058734e-01</td>\n",
       "      <td>2.863296e-01</td>\n",
       "      <td>2.386080e-01</td>\n",
       "      <td>0.124692</td>\n",
       "      <td>0.041564</td>\n",
       "      <td>0.008817</td>\n",
       "      <td>0.001167</td>\n",
       "      <td>9.261135e-05</td>\n",
       "      <td>4.116060e-06</td>\n",
       "      <td>9.101853e-08</td>\n",
       "      <td>7.984081e-10</td>\n",
       "      <td>1.574770e-12</td>\n",
       "      <td>1.000000e+00</td>\n",
       "    </tr>\n",
       "  </tbody>\n",
       "</table>\n",
       "</div>"
      ],
      "text/plain": [
       "                             X=0           X=1           X=2           X=3  \\\n",
       "Y=13                1.574770e-12  0.000000e+00  0.000000e+00  0.000000e+00   \n",
       "Y=12                5.322721e-10  2.661360e-10  0.000000e+00  0.000000e+00   \n",
       "Y=11                3.992041e-08  4.151722e-08  9.580898e-09  0.000000e+00   \n",
       "Y=10                1.170999e-06  1.902873e-06  9.133789e-07  1.288098e-07   \n",
       "Y=9                 1.683311e-05  3.805746e-05  2.854309e-05  8.372640e-06   \n",
       "Y=8                 1.333182e-04  3.938947e-04  4.110205e-04  1.883844e-04   \n",
       "Y=7                 6.221516e-04  2.310849e-03  3.151157e-03  2.009434e-03   \n",
       "Y=6                 1.777576e-03  8.087970e-03  1.386509e-02  1.155424e-02   \n",
       "Y=5                 3.166307e-03  1.733137e-02  3.639587e-02  3.812900e-02   \n",
       "Y=4                 3.518119e-03  2.286777e-02  5.777122e-02  7.413973e-02   \n",
       "Y=3                 2.392321e-03  1.829422e-02  5.488266e-02  8.473112e-02   \n",
       "Y=2                 9.490199e-04  8.481865e-03  2.993599e-02  5.488266e-02   \n",
       "Y=1                 1.977125e-04  2.056210e-03  8.481865e-03  1.829422e-02   \n",
       "Y=0                 1.637855e-05  1.977125e-04  9.490199e-04  2.392321e-03   \n",
       "Sum: Marginal of X  1.279095e-02  8.006186e-02  2.058734e-01  2.863296e-01   \n",
       "\n",
       "                             X=4       X=5       X=6       X=7       X=8  \\\n",
       "Y=13                0.000000e+00  0.000000  0.000000  0.000000  0.000000   \n",
       "Y=12                0.000000e+00  0.000000  0.000000  0.000000  0.000000   \n",
       "Y=11                0.000000e+00  0.000000  0.000000  0.000000  0.000000   \n",
       "Y=10                0.000000e+00  0.000000  0.000000  0.000000  0.000000   \n",
       "Y=9                 8.050615e-07  0.000000  0.000000  0.000000  0.000000   \n",
       "Y=8                 3.767688e-05  0.000003  0.000000  0.000000  0.000000   \n",
       "Y=7                 6.279480e-04  0.000090  0.000005  0.000000  0.000000   \n",
       "Y=6                 5.023584e-03  0.001130  0.000121  0.000005  0.000000   \n",
       "Y=5                 2.166421e-02  0.006782  0.001130  0.000090  0.000003   \n",
       "Y=4                 5.295695e-02  0.021664  0.005024  0.000628  0.000038   \n",
       "Y=3                 7.413973e-02  0.038129  0.011554  0.002009  0.000188   \n",
       "Y=2                 5.777122e-02  0.036396  0.013865  0.003151  0.000411   \n",
       "Y=1                 2.286777e-02  0.017331  0.008088  0.002311  0.000394   \n",
       "Y=0                 3.518119e-03  0.003166  0.001778  0.000622  0.000133   \n",
       "Sum: Marginal of X  2.386080e-01  0.124692  0.041564  0.008817  0.001167   \n",
       "\n",
       "                             X=9          X=10          X=11          X=12  \\\n",
       "Y=13                0.000000e+00  0.000000e+00  0.000000e+00  0.000000e+00   \n",
       "Y=12                0.000000e+00  0.000000e+00  0.000000e+00  0.000000e+00   \n",
       "Y=11                0.000000e+00  0.000000e+00  0.000000e+00  0.000000e+00   \n",
       "Y=10                0.000000e+00  0.000000e+00  0.000000e+00  0.000000e+00   \n",
       "Y=9                 0.000000e+00  0.000000e+00  0.000000e+00  0.000000e+00   \n",
       "Y=8                 0.000000e+00  0.000000e+00  0.000000e+00  0.000000e+00   \n",
       "Y=7                 0.000000e+00  0.000000e+00  0.000000e+00  0.000000e+00   \n",
       "Y=6                 0.000000e+00  0.000000e+00  0.000000e+00  0.000000e+00   \n",
       "Y=5                 0.000000e+00  0.000000e+00  0.000000e+00  0.000000e+00   \n",
       "Y=4                 8.050615e-07  0.000000e+00  0.000000e+00  0.000000e+00   \n",
       "Y=3                 8.372640e-06  1.288098e-07  0.000000e+00  0.000000e+00   \n",
       "Y=2                 2.854309e-05  9.133789e-07  9.580898e-09  0.000000e+00   \n",
       "Y=1                 3.805746e-05  1.902873e-06  4.151722e-08  2.661360e-10   \n",
       "Y=0                 1.683311e-05  1.170999e-06  3.992041e-08  5.322721e-10   \n",
       "Sum: Marginal of X  9.261135e-05  4.116060e-06  9.101853e-08  7.984081e-10   \n",
       "\n",
       "                            X=13  Sum: Marginal of Y  \n",
       "Y=13                0.000000e+00        1.574770e-12  \n",
       "Y=12                0.000000e+00        7.984081e-10  \n",
       "Y=11                0.000000e+00        9.101853e-08  \n",
       "Y=10                0.000000e+00        4.116060e-06  \n",
       "Y=9                 0.000000e+00        9.261135e-05  \n",
       "Y=8                 0.000000e+00        1.166903e-03  \n",
       "Y=7                 0.000000e+00        8.816601e-03  \n",
       "Y=6                 0.000000e+00        4.156398e-02  \n",
       "Y=5                 0.000000e+00        1.246919e-01  \n",
       "Y=4                 0.000000e+00        2.386080e-01  \n",
       "Y=3                 0.000000e+00        2.863296e-01  \n",
       "Y=2                 0.000000e+00        2.058734e-01  \n",
       "Y=1                 0.000000e+00        8.006186e-02  \n",
       "Y=0                 1.574770e-12        1.279095e-02  \n",
       "Sum: Marginal of X  1.574770e-12        1.000000e+00  "
      ]
     },
     "execution_count": 35,
     "metadata": {},
     "output_type": "execute_result"
    }
   ],
   "source": [
    "two_suits.both_marginals()"
   ]
  },
  {
   "cell_type": "markdown",
   "metadata": {
    "#solution": false,
    "#staff": false,
    "#student": false
   },
   "source": [
    "### 3e) Probabilities ###\n",
    "Read the examples in Finding Probabilities in [Section 4.1](http://prob140.org/textbook/Chapter_04/01_Joint_Distributions.html) before you attempt these. The process and code is explained there. \n",
    "\n",
    "- You have to define an *indicator* function that takes an outcome pair and returns 1 or 0 depending on whether the outcome is or is not in the event.\n",
    "- Then you pass the indicator function to the `event` method operating on the joint distribution table.\n",
    "\n",
    "That sounds a lot harder than it is. Read the examples and you will see that the first event below is exactly the same as in the text. [Section 4.2](http://prob140.org/textbook/Chapter_04/02_Examples.html) has several more examples.\n",
    "\n",
    "Use the cell below to find $P(S = H)$."
   ]
  },
  {
   "cell_type": "code",
   "execution_count": 39,
   "metadata": {
    "#solution": false,
    "#staff": false,
    "#student": true
   },
   "outputs": [
    {
     "name": "stdout",
     "output_type": "stream",
     "text": [
      "P(Event) = 0.17659905351728178\n"
     ]
    },
    {
     "data": {
      "text/html": [
       "<div>\n",
       "<style scoped>\n",
       "    .dataframe tbody tr th:only-of-type {\n",
       "        vertical-align: middle;\n",
       "    }\n",
       "\n",
       "    .dataframe tbody tr th {\n",
       "        vertical-align: top;\n",
       "    }\n",
       "\n",
       "    .dataframe thead th {\n",
       "        text-align: right;\n",
       "    }\n",
       "</style>\n",
       "<table border=\"1\" class=\"dataframe\">\n",
       "  <thead>\n",
       "    <tr style=\"text-align: right;\">\n",
       "      <th></th>\n",
       "      <th>X=0</th>\n",
       "      <th>X=1</th>\n",
       "      <th>X=2</th>\n",
       "      <th>X=3</th>\n",
       "      <th>X=4</th>\n",
       "      <th>X=5</th>\n",
       "      <th>X=6</th>\n",
       "      <th>X=7</th>\n",
       "      <th>X=8</th>\n",
       "      <th>X=9</th>\n",
       "      <th>X=10</th>\n",
       "      <th>X=11</th>\n",
       "      <th>X=12</th>\n",
       "      <th>X=13</th>\n",
       "    </tr>\n",
       "  </thead>\n",
       "  <tbody>\n",
       "    <tr>\n",
       "      <td>Y=13</td>\n",
       "      <td></td>\n",
       "      <td></td>\n",
       "      <td></td>\n",
       "      <td></td>\n",
       "      <td></td>\n",
       "      <td></td>\n",
       "      <td></td>\n",
       "      <td></td>\n",
       "      <td></td>\n",
       "      <td></td>\n",
       "      <td></td>\n",
       "      <td></td>\n",
       "      <td></td>\n",
       "      <td>0</td>\n",
       "    </tr>\n",
       "    <tr>\n",
       "      <td>Y=12</td>\n",
       "      <td></td>\n",
       "      <td></td>\n",
       "      <td></td>\n",
       "      <td></td>\n",
       "      <td></td>\n",
       "      <td></td>\n",
       "      <td></td>\n",
       "      <td></td>\n",
       "      <td></td>\n",
       "      <td></td>\n",
       "      <td></td>\n",
       "      <td></td>\n",
       "      <td>0</td>\n",
       "      <td></td>\n",
       "    </tr>\n",
       "    <tr>\n",
       "      <td>Y=11</td>\n",
       "      <td></td>\n",
       "      <td></td>\n",
       "      <td></td>\n",
       "      <td></td>\n",
       "      <td></td>\n",
       "      <td></td>\n",
       "      <td></td>\n",
       "      <td></td>\n",
       "      <td></td>\n",
       "      <td></td>\n",
       "      <td></td>\n",
       "      <td>0</td>\n",
       "      <td></td>\n",
       "      <td></td>\n",
       "    </tr>\n",
       "    <tr>\n",
       "      <td>Y=10</td>\n",
       "      <td></td>\n",
       "      <td></td>\n",
       "      <td></td>\n",
       "      <td></td>\n",
       "      <td></td>\n",
       "      <td></td>\n",
       "      <td></td>\n",
       "      <td></td>\n",
       "      <td></td>\n",
       "      <td></td>\n",
       "      <td>0</td>\n",
       "      <td></td>\n",
       "      <td></td>\n",
       "      <td></td>\n",
       "    </tr>\n",
       "    <tr>\n",
       "      <td>Y=9</td>\n",
       "      <td></td>\n",
       "      <td></td>\n",
       "      <td></td>\n",
       "      <td></td>\n",
       "      <td></td>\n",
       "      <td></td>\n",
       "      <td></td>\n",
       "      <td></td>\n",
       "      <td></td>\n",
       "      <td>0</td>\n",
       "      <td></td>\n",
       "      <td></td>\n",
       "      <td></td>\n",
       "      <td></td>\n",
       "    </tr>\n",
       "    <tr>\n",
       "      <td>Y=8</td>\n",
       "      <td></td>\n",
       "      <td></td>\n",
       "      <td></td>\n",
       "      <td></td>\n",
       "      <td></td>\n",
       "      <td></td>\n",
       "      <td></td>\n",
       "      <td></td>\n",
       "      <td>0</td>\n",
       "      <td></td>\n",
       "      <td></td>\n",
       "      <td></td>\n",
       "      <td></td>\n",
       "      <td></td>\n",
       "    </tr>\n",
       "    <tr>\n",
       "      <td>Y=7</td>\n",
       "      <td></td>\n",
       "      <td></td>\n",
       "      <td></td>\n",
       "      <td></td>\n",
       "      <td></td>\n",
       "      <td></td>\n",
       "      <td></td>\n",
       "      <td>0</td>\n",
       "      <td></td>\n",
       "      <td></td>\n",
       "      <td></td>\n",
       "      <td></td>\n",
       "      <td></td>\n",
       "      <td></td>\n",
       "    </tr>\n",
       "    <tr>\n",
       "      <td>Y=6</td>\n",
       "      <td></td>\n",
       "      <td></td>\n",
       "      <td></td>\n",
       "      <td></td>\n",
       "      <td></td>\n",
       "      <td></td>\n",
       "      <td>0.000120566</td>\n",
       "      <td></td>\n",
       "      <td></td>\n",
       "      <td></td>\n",
       "      <td></td>\n",
       "      <td></td>\n",
       "      <td></td>\n",
       "      <td></td>\n",
       "    </tr>\n",
       "    <tr>\n",
       "      <td>Y=5</td>\n",
       "      <td></td>\n",
       "      <td></td>\n",
       "      <td></td>\n",
       "      <td></td>\n",
       "      <td></td>\n",
       "      <td>0.00678184</td>\n",
       "      <td></td>\n",
       "      <td></td>\n",
       "      <td></td>\n",
       "      <td></td>\n",
       "      <td></td>\n",
       "      <td></td>\n",
       "      <td></td>\n",
       "      <td></td>\n",
       "    </tr>\n",
       "    <tr>\n",
       "      <td>Y=4</td>\n",
       "      <td></td>\n",
       "      <td></td>\n",
       "      <td></td>\n",
       "      <td></td>\n",
       "      <td>0.0529569</td>\n",
       "      <td></td>\n",
       "      <td></td>\n",
       "      <td></td>\n",
       "      <td></td>\n",
       "      <td></td>\n",
       "      <td></td>\n",
       "      <td></td>\n",
       "      <td></td>\n",
       "      <td></td>\n",
       "    </tr>\n",
       "    <tr>\n",
       "      <td>Y=3</td>\n",
       "      <td></td>\n",
       "      <td></td>\n",
       "      <td></td>\n",
       "      <td>0.0847311</td>\n",
       "      <td></td>\n",
       "      <td></td>\n",
       "      <td></td>\n",
       "      <td></td>\n",
       "      <td></td>\n",
       "      <td></td>\n",
       "      <td></td>\n",
       "      <td></td>\n",
       "      <td></td>\n",
       "      <td></td>\n",
       "    </tr>\n",
       "    <tr>\n",
       "      <td>Y=2</td>\n",
       "      <td></td>\n",
       "      <td></td>\n",
       "      <td>0.029936</td>\n",
       "      <td></td>\n",
       "      <td></td>\n",
       "      <td></td>\n",
       "      <td></td>\n",
       "      <td></td>\n",
       "      <td></td>\n",
       "      <td></td>\n",
       "      <td></td>\n",
       "      <td></td>\n",
       "      <td></td>\n",
       "      <td></td>\n",
       "    </tr>\n",
       "    <tr>\n",
       "      <td>Y=1</td>\n",
       "      <td></td>\n",
       "      <td>0.00205621</td>\n",
       "      <td></td>\n",
       "      <td></td>\n",
       "      <td></td>\n",
       "      <td></td>\n",
       "      <td></td>\n",
       "      <td></td>\n",
       "      <td></td>\n",
       "      <td></td>\n",
       "      <td></td>\n",
       "      <td></td>\n",
       "      <td></td>\n",
       "      <td></td>\n",
       "    </tr>\n",
       "    <tr>\n",
       "      <td>Y=0</td>\n",
       "      <td>1.63785e-05</td>\n",
       "      <td></td>\n",
       "      <td></td>\n",
       "      <td></td>\n",
       "      <td></td>\n",
       "      <td></td>\n",
       "      <td></td>\n",
       "      <td></td>\n",
       "      <td></td>\n",
       "      <td></td>\n",
       "      <td></td>\n",
       "      <td></td>\n",
       "      <td></td>\n",
       "      <td></td>\n",
       "    </tr>\n",
       "  </tbody>\n",
       "</table>\n",
       "</div>"
      ],
      "text/plain": [
       "              X=0         X=1       X=2        X=3        X=4         X=5  \\\n",
       "Y=13                                                                        \n",
       "Y=12                                                                        \n",
       "Y=11                                                                        \n",
       "Y=10                                                                        \n",
       "Y=9                                                                         \n",
       "Y=8                                                                         \n",
       "Y=7                                                                         \n",
       "Y=6                                                                         \n",
       "Y=5                                                            0.00678184   \n",
       "Y=4                                                 0.0529569               \n",
       "Y=3                                      0.0847311                          \n",
       "Y=2                            0.029936                                     \n",
       "Y=1                0.00205621                                               \n",
       "Y=0   1.63785e-05                                                           \n",
       "\n",
       "              X=6 X=7 X=8 X=9 X=10 X=11 X=12 X=13  \n",
       "Y=13                                            0  \n",
       "Y=12                                       0       \n",
       "Y=11                                  0            \n",
       "Y=10                             0                 \n",
       "Y=9                         0                      \n",
       "Y=8                     0                          \n",
       "Y=7                 0                              \n",
       "Y=6   0.000120566                                  \n",
       "Y=5                                                \n",
       "Y=4                                                \n",
       "Y=3                                                \n",
       "Y=2                                                \n",
       "Y=1                                                \n",
       "Y=0                                                "
      ]
     },
     "execution_count": 39,
     "metadata": {},
     "output_type": "execute_result"
    }
   ],
   "source": [
    "def indicator_equal(s, h):\n",
    "    return s==h\n",
    "\n",
    "two_suits.event(indicator_equal,'X', 'Y')"
   ]
  },
  {
   "cell_type": "markdown",
   "metadata": {
    "#solution": false,
    "#staff": false,
    "#student": false
   },
   "source": [
    "Use the `event` method again to find $P(S+H \\le 8)$. Use as many lines of code as you need."
   ]
  },
  {
   "cell_type": "code",
   "execution_count": 41,
   "metadata": {
    "#solution": false,
    "#staff": false,
    "#student": true
   },
   "outputs": [
    {
     "name": "stdout",
     "output_type": "stream",
     "text": [
      "P(Event) = 0.9003249059124501\n"
     ]
    },
    {
     "data": {
      "text/html": [
       "<div>\n",
       "<style scoped>\n",
       "    .dataframe tbody tr th:only-of-type {\n",
       "        vertical-align: middle;\n",
       "    }\n",
       "\n",
       "    .dataframe tbody tr th {\n",
       "        vertical-align: top;\n",
       "    }\n",
       "\n",
       "    .dataframe thead th {\n",
       "        text-align: right;\n",
       "    }\n",
       "</style>\n",
       "<table border=\"1\" class=\"dataframe\">\n",
       "  <thead>\n",
       "    <tr style=\"text-align: right;\">\n",
       "      <th></th>\n",
       "      <th>X=0</th>\n",
       "      <th>X=1</th>\n",
       "      <th>X=2</th>\n",
       "      <th>X=3</th>\n",
       "      <th>X=4</th>\n",
       "      <th>X=5</th>\n",
       "      <th>X=6</th>\n",
       "      <th>X=7</th>\n",
       "      <th>X=8</th>\n",
       "      <th>X=9</th>\n",
       "      <th>X=10</th>\n",
       "      <th>X=11</th>\n",
       "      <th>X=12</th>\n",
       "      <th>X=13</th>\n",
       "    </tr>\n",
       "  </thead>\n",
       "  <tbody>\n",
       "    <tr>\n",
       "      <td>Y=13</td>\n",
       "      <td></td>\n",
       "      <td></td>\n",
       "      <td></td>\n",
       "      <td></td>\n",
       "      <td></td>\n",
       "      <td></td>\n",
       "      <td></td>\n",
       "      <td></td>\n",
       "      <td></td>\n",
       "      <td></td>\n",
       "      <td></td>\n",
       "      <td></td>\n",
       "      <td></td>\n",
       "      <td></td>\n",
       "    </tr>\n",
       "    <tr>\n",
       "      <td>Y=12</td>\n",
       "      <td></td>\n",
       "      <td></td>\n",
       "      <td></td>\n",
       "      <td></td>\n",
       "      <td></td>\n",
       "      <td></td>\n",
       "      <td></td>\n",
       "      <td></td>\n",
       "      <td></td>\n",
       "      <td></td>\n",
       "      <td></td>\n",
       "      <td></td>\n",
       "      <td></td>\n",
       "      <td></td>\n",
       "    </tr>\n",
       "    <tr>\n",
       "      <td>Y=11</td>\n",
       "      <td></td>\n",
       "      <td></td>\n",
       "      <td></td>\n",
       "      <td></td>\n",
       "      <td></td>\n",
       "      <td></td>\n",
       "      <td></td>\n",
       "      <td></td>\n",
       "      <td></td>\n",
       "      <td></td>\n",
       "      <td></td>\n",
       "      <td></td>\n",
       "      <td></td>\n",
       "      <td></td>\n",
       "    </tr>\n",
       "    <tr>\n",
       "      <td>Y=10</td>\n",
       "      <td></td>\n",
       "      <td></td>\n",
       "      <td></td>\n",
       "      <td></td>\n",
       "      <td></td>\n",
       "      <td></td>\n",
       "      <td></td>\n",
       "      <td></td>\n",
       "      <td></td>\n",
       "      <td></td>\n",
       "      <td></td>\n",
       "      <td></td>\n",
       "      <td></td>\n",
       "      <td></td>\n",
       "    </tr>\n",
       "    <tr>\n",
       "      <td>Y=9</td>\n",
       "      <td></td>\n",
       "      <td></td>\n",
       "      <td></td>\n",
       "      <td></td>\n",
       "      <td></td>\n",
       "      <td></td>\n",
       "      <td></td>\n",
       "      <td></td>\n",
       "      <td></td>\n",
       "      <td></td>\n",
       "      <td></td>\n",
       "      <td></td>\n",
       "      <td></td>\n",
       "      <td></td>\n",
       "    </tr>\n",
       "    <tr>\n",
       "      <td>Y=8</td>\n",
       "      <td>0.000133318</td>\n",
       "      <td></td>\n",
       "      <td></td>\n",
       "      <td></td>\n",
       "      <td></td>\n",
       "      <td></td>\n",
       "      <td></td>\n",
       "      <td></td>\n",
       "      <td></td>\n",
       "      <td></td>\n",
       "      <td></td>\n",
       "      <td></td>\n",
       "      <td></td>\n",
       "      <td></td>\n",
       "    </tr>\n",
       "    <tr>\n",
       "      <td>Y=7</td>\n",
       "      <td>0.000622152</td>\n",
       "      <td>0.00231085</td>\n",
       "      <td></td>\n",
       "      <td></td>\n",
       "      <td></td>\n",
       "      <td></td>\n",
       "      <td></td>\n",
       "      <td></td>\n",
       "      <td></td>\n",
       "      <td></td>\n",
       "      <td></td>\n",
       "      <td></td>\n",
       "      <td></td>\n",
       "      <td></td>\n",
       "    </tr>\n",
       "    <tr>\n",
       "      <td>Y=6</td>\n",
       "      <td>0.00177758</td>\n",
       "      <td>0.00808797</td>\n",
       "      <td>0.0138651</td>\n",
       "      <td></td>\n",
       "      <td></td>\n",
       "      <td></td>\n",
       "      <td></td>\n",
       "      <td></td>\n",
       "      <td></td>\n",
       "      <td></td>\n",
       "      <td></td>\n",
       "      <td></td>\n",
       "      <td></td>\n",
       "      <td></td>\n",
       "    </tr>\n",
       "    <tr>\n",
       "      <td>Y=5</td>\n",
       "      <td>0.00316631</td>\n",
       "      <td>0.0173314</td>\n",
       "      <td>0.0363959</td>\n",
       "      <td>0.038129</td>\n",
       "      <td></td>\n",
       "      <td></td>\n",
       "      <td></td>\n",
       "      <td></td>\n",
       "      <td></td>\n",
       "      <td></td>\n",
       "      <td></td>\n",
       "      <td></td>\n",
       "      <td></td>\n",
       "      <td></td>\n",
       "    </tr>\n",
       "    <tr>\n",
       "      <td>Y=4</td>\n",
       "      <td>0.00351812</td>\n",
       "      <td>0.0228678</td>\n",
       "      <td>0.0577712</td>\n",
       "      <td>0.0741397</td>\n",
       "      <td>0.0529569</td>\n",
       "      <td></td>\n",
       "      <td></td>\n",
       "      <td></td>\n",
       "      <td></td>\n",
       "      <td></td>\n",
       "      <td></td>\n",
       "      <td></td>\n",
       "      <td></td>\n",
       "      <td></td>\n",
       "    </tr>\n",
       "    <tr>\n",
       "      <td>Y=3</td>\n",
       "      <td>0.00239232</td>\n",
       "      <td>0.0182942</td>\n",
       "      <td>0.0548827</td>\n",
       "      <td>0.0847311</td>\n",
       "      <td>0.0741397</td>\n",
       "      <td>0.038129</td>\n",
       "      <td></td>\n",
       "      <td></td>\n",
       "      <td></td>\n",
       "      <td></td>\n",
       "      <td></td>\n",
       "      <td></td>\n",
       "      <td></td>\n",
       "      <td></td>\n",
       "    </tr>\n",
       "    <tr>\n",
       "      <td>Y=2</td>\n",
       "      <td>0.00094902</td>\n",
       "      <td>0.00848187</td>\n",
       "      <td>0.029936</td>\n",
       "      <td>0.0548827</td>\n",
       "      <td>0.0577712</td>\n",
       "      <td>0.0363959</td>\n",
       "      <td>0.0138651</td>\n",
       "      <td></td>\n",
       "      <td></td>\n",
       "      <td></td>\n",
       "      <td></td>\n",
       "      <td></td>\n",
       "      <td></td>\n",
       "      <td></td>\n",
       "    </tr>\n",
       "    <tr>\n",
       "      <td>Y=1</td>\n",
       "      <td>0.000197712</td>\n",
       "      <td>0.00205621</td>\n",
       "      <td>0.00848187</td>\n",
       "      <td>0.0182942</td>\n",
       "      <td>0.0228678</td>\n",
       "      <td>0.0173314</td>\n",
       "      <td>0.00808797</td>\n",
       "      <td>0.00231085</td>\n",
       "      <td></td>\n",
       "      <td></td>\n",
       "      <td></td>\n",
       "      <td></td>\n",
       "      <td></td>\n",
       "      <td></td>\n",
       "    </tr>\n",
       "    <tr>\n",
       "      <td>Y=0</td>\n",
       "      <td>1.63785e-05</td>\n",
       "      <td>0.000197712</td>\n",
       "      <td>0.00094902</td>\n",
       "      <td>0.00239232</td>\n",
       "      <td>0.00351812</td>\n",
       "      <td>0.00316631</td>\n",
       "      <td>0.00177758</td>\n",
       "      <td>0.000622152</td>\n",
       "      <td>0.000133318</td>\n",
       "      <td></td>\n",
       "      <td></td>\n",
       "      <td></td>\n",
       "      <td></td>\n",
       "      <td></td>\n",
       "    </tr>\n",
       "  </tbody>\n",
       "</table>\n",
       "</div>"
      ],
      "text/plain": [
       "              X=0          X=1         X=2         X=3         X=4  \\\n",
       "Y=13                                                                 \n",
       "Y=12                                                                 \n",
       "Y=11                                                                 \n",
       "Y=10                                                                 \n",
       "Y=9                                                                  \n",
       "Y=8   0.000133318                                                    \n",
       "Y=7   0.000622152   0.00231085                                       \n",
       "Y=6    0.00177758   0.00808797   0.0138651                           \n",
       "Y=5    0.00316631    0.0173314   0.0363959    0.038129               \n",
       "Y=4    0.00351812    0.0228678   0.0577712   0.0741397   0.0529569   \n",
       "Y=3    0.00239232    0.0182942   0.0548827   0.0847311   0.0741397   \n",
       "Y=2    0.00094902   0.00848187    0.029936   0.0548827   0.0577712   \n",
       "Y=1   0.000197712   0.00205621  0.00848187   0.0182942   0.0228678   \n",
       "Y=0   1.63785e-05  0.000197712  0.00094902  0.00239232  0.00351812   \n",
       "\n",
       "             X=5         X=6          X=7          X=8 X=9 X=10 X=11 X=12 X=13  \n",
       "Y=13                                                                            \n",
       "Y=12                                                                            \n",
       "Y=11                                                                            \n",
       "Y=10                                                                            \n",
       "Y=9                                                                             \n",
       "Y=8                                                                             \n",
       "Y=7                                                                             \n",
       "Y=6                                                                             \n",
       "Y=5                                                                             \n",
       "Y=4                                                                             \n",
       "Y=3     0.038129                                                                \n",
       "Y=2    0.0363959   0.0138651                                                    \n",
       "Y=1    0.0173314  0.00808797   0.00231085                                       \n",
       "Y=0   0.00316631  0.00177758  0.000622152  0.000133318                          "
      ]
     },
     "execution_count": 41,
     "metadata": {},
     "output_type": "execute_result"
    }
   ],
   "source": [
    "def indicator_8(s,h):\n",
    "    return s + h <= 8\n",
    "two_suits.event(indicator_8,'X', 'Y')"
   ]
  },
  {
   "cell_type": "markdown",
   "metadata": {
    "#solution": false,
    "#staff": false,
    "#student": false
   },
   "source": [
    "Let $R$ be the number of red cards in a bridge hand. Without further calculation, find $P(R \\le 8)$. Explain."
   ]
  },
  {
   "cell_type": "markdown",
   "metadata": {
    "#solution": false,
    "#staff": false,
    "#student": true
   },
   "source": [
    "$P(R \\le 8) = 0.9003249059124501$ This is because we know that the number of red cards consists of Diamonds and Hearts. With this in mind, we also know that the number of Diamond suit cards is the same as the number of Spade suit cards, thus, if we replace the probability calculations with $P(D+H \\le 8)$ then we will get the same probability."
   ]
  },
  {
   "cell_type": "markdown",
   "metadata": {
    "#solution": false,
    "#staff": false,
    "#student": false
   },
   "source": [
    "### Conclusion ###\n",
    "What you have learned in this lab:\n",
    "- The `stats` and `special` modules of SciPy make it easy to compute probabilities numerically.\n",
    "- Counting isn't always as easy as 1-2-3; you have to be careful to avoid double counting or leaving out elements that should be counted.\n",
    "- Shapes of hypergeometric distributions can vary quite markedly depending on the parameters.\n",
    "- The joint distribution of two variables is simply a probability distribution over pairs of outcomes. Using it to find a probability works the same way as with one variable: identify the outcomes in the event and add up their chances.\n",
    "- Noticing symmetry and equality in distribution can reduce the amount of calculation needed."
   ]
  },
  {
   "cell_type": "markdown",
   "metadata": {
    "#solution": false,
    "#staff": false,
    "#student": false
   },
   "source": [
    "## Submission Instructions ##\n",
    "\n",
    "Many assignments throughout the course will have a written portion and a code portion. Please follow the directions below to properly submit both portions.\n",
    "\n",
    "### Written Portion ###\n",
    "*  Scan all the pages into a PDF. You can use any scanner or a phone using applications such as CamScanner. Please **DO NOT** simply take pictures using your phone. \n",
    "* Please start a new page for each question. If you have already written multiple questions on the same page, you can crop the image in CamScanner or fold your page over (the old-fashioned way). This helps expedite grading.\n",
    "* It is your responsibility to check that all the work on all the scanned pages is legible.\n",
    "\n",
    "### Code Portion ###\n",
    "* Save your notebook using File > Save and Checkpoint.\n",
    "* Generate a PDF file using File > Download as > PDF via LaTeX. This might take a few seconds and will automatically download a PDF version of this notebook.\n",
    "    * If you have issues, please make a follow-up post on the general Lab 1 Piazza thread.\n",
    "    \n",
    "### Submitting ###\n",
    "* Combine the PDFs from the written and code portions into one PDF.  [Here](https://smallpdf.com/merge-pdf) is a useful tool for doing so. \n",
    "* Submit the assignment to Lab 1 on Gradescope. \n",
    "* **Make sure to assign each page of your pdf to the correct question.**\n",
    "* **It is your responsibility to verify that all of your work shows up in your final PDF submission.**"
   ]
  }
 ],
 "metadata": {
  "anaconda-cloud": {},
  "checksums": [
   "1ccfeeb045915fb7127619e3ebb3482e",
   "90c4f28f8c665c9a9b700d1d456f3a8d",
   "d560dee47ca3ce4c8ebaa36393861d55",
   "0f1d629eb188191eb01b4c435bbf4304",
   "174f3ba13f30ee84342d1334df8743cc",
   "170d3fa39cab5b396d041855039e4bd2",
   "75cbbc27a909e4726509ac08856c0cc7",
   "fe0bc19ae6df0d824f038fa84bd72746",
   "89f9224203fed03c504b2343e0ed2a12",
   "bda32f6dcfaf0fbc46f11c9a75ad4b49",
   "a6c4d51968fbd1d7ef5d32ccbe4ac432",
   "1b8b68f3e8f7946da3ca585de872238a",
   "3ad7f1e5f38a03d86a2676a88b8637f0",
   "318fa31a09ff616ca0709ad98169a384",
   "e686b564c068cb6b7943792a3a49f47b",
   "0de20b93bb878d597e59213991465648",
   "6480ac227e0d41710bbe44bac9686f53",
   "09b1d666aca103ec12e69f9aefa784e1",
   "061e361323bc981dc90e20f4d220f11d",
   "883e1ab834afcc89cad84074b7257c2b",
   "2f43b42fd833d1e77420a8dae7419000",
   "8660382b46b65c535d072b1ca1aa83fc",
   "b9633ebaaa020a26f1bd55a88dd915a5",
   "5526d395e7ee353008fa6a8b4e67dc1d",
   "e9256c95bbfffde31e5b28f666a8fa76",
   "3725eb8575b2b2624dc048487fc186a9",
   "2b0348b615f00d1658fd4fca3ce81404",
   "bafe50dee2c1089962715f21b9cb0830",
   "b2cd5e0db4a41872c9a247a70c879bd0",
   "225d2e78d0a13be0fff51210d4de7c6d",
   "4184f6eed65b5edc021d03f7dd6cdd98",
   "224a01008b72fc67c9e0981f1337593c",
   "2f43b42fd833d1e77420a8dae7419000",
   "eff7592329bdc45be8aef0794d22053f",
   "455a7ace1ba605901022cbe6757ad7f7",
   "53a5fb2f30901a1955ad3e53729503b4",
   "0de20b93bb878d597e59213991465648",
   "3eb1de85e5877898cbb2e43f31ac1c83",
   "9c41c2dbe245de5c5ba3e29829a8f163",
   "8a743fdcefb673c2cc123c3e07d311a3",
   "70b08a33d5ac3435e98ccef912718a19",
   "a717cab365fa45a5b2fc17afa3887fce",
   "3059041d31373a4750a509bc6e45c7cf",
   "7bd2513afbb3a1461ab63ef591513fde",
   "2f43b42fd833d1e77420a8dae7419000",
   "6c5ccd7f45ff8a45c1e0c7d45d68e660",
   "4816377c1efa2148976112ccc413919b",
   "e3a44e395ed836cc592f669ba7562f5f",
   "3a76d7cce4e9ecdb4fe70737e7879960",
   "4646c1edc9a39e3f44c90e6dc5770a81",
   "19cb0ca6d5b93cee2155b90794dc03d4",
   "bc502ff2bff958b5192bf6b6bd08c0ef",
   "83aa35eb496250db2f6f47182abdbab9",
   "c2534f31a75f6f446676022c870a3ea7",
   "608f3c037468f37b08714904d5bc9e40",
   "d9aa2a821b6fd9e491bdfecf747961cb",
   "2f43b42fd833d1e77420a8dae7419000",
   "8c41b6de1552c3aa1d5edfd1c1ed0e9d",
   "0de20b93bb878d597e59213991465648",
   "fc8d270f95ac927e728b8bc7a52c7d96",
   "3c8536173592b7820241afc4ac741496"
  ],
  "kernelspec": {
   "display_name": "Python 3",
   "language": "python",
   "name": "python3"
  },
  "language_info": {
   "codemirror_mode": {
    "name": "ipython",
    "version": 3
   },
   "file_extension": ".py",
   "mimetype": "text/x-python",
   "name": "python",
   "nbconvert_exporter": "python",
   "pygments_lexer": "ipython3",
   "version": "3.6.8"
  },
  "number_of_pagebreaks": 0
 },
 "nbformat": 4,
 "nbformat_minor": 1
}
