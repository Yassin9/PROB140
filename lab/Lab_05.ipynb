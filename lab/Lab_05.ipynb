{
 "cells": [
  {
   "cell_type": "markdown",
   "metadata": {},
   "source": [
    "<table align=\"left\" style=\"border-style: hidden\" class=\"table\"> <tr><td class=\"col-md-2\"><img style=\"float\" src=\"http://prob140.org/assets/icon256.png\" alt=\"Prob140 Logo\" style=\"width: 120px;\"/></td><td><div align=\"left\"><h3 style=\"margin-top: 0;\">Probability for Data Science</h3><h4 style=\"margin-top: 20px;\">UC Berkeley, Fall 2019</h4><p>Ani Adhikari and Jim Pitman</p>CC BY-NC 4.0</div></td></tr></table><!-- not in pdf -->"
   ]
  },
  {
   "cell_type": "code",
   "execution_count": 1,
   "metadata": {
    "#solution": false,
    "#staff": false,
    "#student": false
   },
   "outputs": [],
   "source": [
    "from datascience import *\n",
    "from prob140 import *     \n",
    "import numpy as np\n",
    "from scipy import special\n",
    "import pickle"
   ]
  },
  {
   "cell_type": "code",
   "execution_count": 2,
   "metadata": {
    "#solution": false,
    "#staff": false,
    "#student": false
   },
   "outputs": [],
   "source": [
    "# Run this code\n",
    "\n",
    "import itertools as it\n",
    "from collections import Counter\n",
    "\n",
    "def clean_string(string):\n",
    "    \"\"\"\n",
    "    Cleans an input string by replacing all newlines with spaces, and then\n",
    "    removing all letters not in *allowable_letters*\n",
    "    \"\"\"\n",
    "    string = string.replace(\"\\n\",\" \")\n",
    "    return \"\".join([i for i in string.lower().strip() if i in allowable_letters])\n",
    "\n",
    "def load_bigrams(text):\n",
    "    \"\"\"\n",
    "    Takes a string which has already been cleaned, and returns a dictionary\n",
    "    of conditional bigram probabilities\n",
    "    \n",
    "    cond_bigram[(a,b)] = P(X_{n+1} = b | X_{n} = a)\n",
    "    \n",
    "    Uses Laplace smoothing with size $1$, to remove zero transition probabilities\n",
    "    \"\"\"\n",
    "    bigram_counter = Counter(list(it.product(allowable_letters, repeat=2)))\n",
    "    gram_counter = Counter(allowable_letters*len(allowable_letters))\n",
    "    for l1, l2 in zip(text,text[1:]):\n",
    "        bigram_counter[(l1, l2)] += 1\n",
    "        gram_counter[l1] += 1\n",
    "    cond_bigram = {k:v/gram_counter[k[0]] for k,v in bigram_counter.items()}\n",
    "    return cond_bigram\n",
    "    \n",
    "def bigram_from_file(filename):\n",
    "    \"\"\"\n",
    "    Given a filename, this reads it, cleans it, and returns the conditional bigram\n",
    "    \"\"\"\n",
    "    file_text = open(filename).read()\n",
    "    file_text = clean_string(file_text)\n",
    "    return load_bigrams(file_text)\n",
    "\n",
    "def reverse_cipher(cipher):\n",
    "    return {v:k for k, v in cipher.items()}\n",
    "\n",
    "def print_differences(cipher1, cipher2):\n",
    "    for k in cipher1:\n",
    "        if cipher1[k] != cipher2[k]:\n",
    "            print(\"%s: %s  %s\"%(k,cipher1[k], cipher2[k]))\n",
    "            \n",
    "def num_errors(cipher, encoded_text, original_text):\n",
    "    decoded = np.array(list(decode_text(encoded_text, cipher)))\n",
    "    original = np.array(list(original_text))\n",
    "    num_errors = np.count_nonzero(decoded != original)\n",
    "    return num_errors\n",
    "\n",
    "def get_secret_text(student_id):\n",
    "    with open('Lab05_data/secret_strings.p', 'rb') as f:\n",
    "        texts = pickle.load(f)\n",
    "    return texts[student_id % len(texts)]"
   ]
  },
  {
   "cell_type": "markdown",
   "metadata": {
    "#solution": false,
    "#staff": false,
    "#student": false
   },
   "source": [
    "# Lab 5: Code Breaking by MCMC #"
   ]
  },
  {
   "cell_type": "markdown",
   "metadata": {
    "#solution": false,
    "#staff": false,
    "#student": false
   },
   "source": [
    "Cryptography is the study of algorithms used to encode and decode messages. Markov Chain Monte Carlo (MCMC) methods have been successfully used to decode messages encrypted using substitution codes and also [more complex](http://probability.ca/jeff/ftpdir/decipherart.pdf) encryption methods. In this lab you will apply MCMC and the Metropolis algorithm to decode English text that has been encrypted by a substitution code.\n",
    "\n",
    "The lab is based on the paper [The Markov Chain Monte Carlo Revolution](https://math.uchicago.edu/~shmuel/Network-course-readings/MCMCRev.pdf) by [Persi Diaconis](https://en.wikipedia.org/wiki/Persi_Diaconis). It was presented at the 25th anniversary celebrations of MSRI up the hill, and appeared in the Bulletin of the American Mathematical Society in November 2008. The code is based on [Simulation and Solving Substitution Codes](http://www-users.york.ac.uk/~sbc502/decode.pdf) written by [Stephen Connor](https://www.york.ac.uk/maths/staff/stephen-connor/) in 2003.\n",
    "\n",
    "Recall that in class we worked with a tiny alphabet and a short message that had been encoded using a substitution code. We used a Markov chain model and a scoring system to choose the decoder that had the highest score. That is, we chose the decoder that had the highest likelihood given the message. \n",
    "\n",
    "Because the alphabet was small, we were able to list all the decoders and their corresponding scores. When the alphabet is large, making an exhaustive list of all possible decoders and scores is not feasible. That's where the Monte Carlo part of the algorithm comes in. The idea is to choose decoders at random using an algorithm that favors good decoders over bad ones.\n",
    "\n",
    "In this lab you will work with an alphabet consisting of all 26 English letters as well as a space character that will have a special status. Before you begin, please review Sections [11.3](http://prob140.org/textbook/Chapter_11/03_Code_Breaking.html) (Code Breaking) and [11.4](http://prob140.org/textbook/Chapter_11/04_Markov_Chain_Monte_Carlo.html) (Markov Chain Monte Carlo) of the textbook. The lab follows those sections closely.\n",
    "\n",
    "Unlike all the other labs, this lab is not divided into parts. It's just one small project. You will learn how to:\n",
    "- Apply a decoder to encoded text\n",
    "- Use transformations for improved numerical accuracy\n",
    "- Implement the Metropolis algorithm \n",
    "- Decode a message encrypted by a substitution code\n",
    "\n",
    "The programming needed for this lab is more complex than what can reasonably be expected based on just Data 8 background, so much of it has been done for you. Those of you who have more extensive Python knowledge might be interested in looking at the details.\n",
    "\n",
    "Please start by running all the cells above this one."
   ]
  },
  {
   "cell_type": "markdown",
   "metadata": {
    "#solution": false,
    "#staff": false,
    "#student": false
   },
   "source": [
    "## Instructions\n",
    "Your labs have two components: a written portion and a portion that also involves code. Written work should be completed on paper, and coding questions should be done in the notebook. You are welcome to LaTeX your answers to the written portions, but staff will not be able to assist you with LaTeX related issues. It is your responsibility to ensure that both components of the lab are submitted completely and properly to Gradescope. Refer to the bottom of the notebook for submission instructions."
   ]
  },
  {
   "cell_type": "markdown",
   "metadata": {
    "#solution": false,
    "#staff": false,
    "#student": false
   },
   "source": [
    "## Alphabet and Bigrams ##\n",
    "The text that you are going to decode was written in English. For data on the frequencies of all the different bigrams in English, we will start by counting all the bigrams in *War and Peace* by Tolstoy. That is one of the longest novels in English (actually in Russian, but we are using an English translation from Project Gutenberg) and is often used as a \"corpus\" or body of language on which to base analyses of other text.\n",
    "\n",
    "To keep the calculations manageable, we will restrict ourselves to a 27-character alphabet, consisting of the 26 lower case letters and a space. The cell below places all 27 in a list."
   ]
  },
  {
   "cell_type": "code",
   "execution_count": 3,
   "metadata": {
    "#solution": false,
    "#staff": false,
    "#student": false
   },
   "outputs": [],
   "source": [
    "allowable_letters = list(\"abcdefghijklmnopqrstuvwxyz \")"
   ]
  },
  {
   "cell_type": "markdown",
   "metadata": {
    "#solution": false,
    "#staff": false,
    "#student": false
   },
   "source": [
    "In the cell below, we find the relative frequencies of all bigrams in War and Peace and place them in the dictionary `wp_bigrams`. You don't need to know what a dictionary is. It's fine to imagine it containing the same information as a Table that has a column with the bigrams and another column with the relative frequencies. "
   ]
  },
  {
   "cell_type": "code",
   "execution_count": 4,
   "metadata": {
    "#solution": false,
    "#staff": false,
    "#student": false
   },
   "outputs": [],
   "source": [
    "wp_bigrams = bigram_from_file(\"Lab05_data/warandpeace.txt\")"
   ]
  },
  {
   "cell_type": "markdown",
   "metadata": {
    "#solution": false,
    "#staff": false,
    "#student": false
   },
   "source": [
    "### 1. Transition Matrix ###\n",
    "As in class, the model is that the sequence of characters in the text is a Markov chain. The state space of the chain is the alphabet of 27 characters. Of course the text has other punctuation, but we are stripping all of it. We are also replacing upper case letters by lower case.\n",
    "\n",
    "Construct the transition matrix for this Markov chain based on the relative frequencies in `wp_bigrams` defined above.\n",
    "\n",
    "We have started the code off for you by defining the transition function `wp_transition`. Use `allowable_letters` in your definition."
   ]
  },
  {
   "cell_type": "code",
   "execution_count": 5,
   "metadata": {
    "#solution": false,
    "#staff": false,
    "#student": true
   },
   "outputs": [
    {
     "data": {
      "text/html": [
       "<div>\n",
       "<style scoped>\n",
       "    .dataframe tbody tr th:only-of-type {\n",
       "        vertical-align: middle;\n",
       "    }\n",
       "\n",
       "    .dataframe tbody tr th {\n",
       "        vertical-align: top;\n",
       "    }\n",
       "\n",
       "    .dataframe thead th {\n",
       "        text-align: right;\n",
       "    }\n",
       "</style>\n",
       "<table border=\"1\" class=\"dataframe\">\n",
       "  <thead>\n",
       "    <tr style=\"text-align: right;\">\n",
       "      <th></th>\n",
       "      <th>a</th>\n",
       "      <th>b</th>\n",
       "      <th>c</th>\n",
       "      <th>d</th>\n",
       "      <th>e</th>\n",
       "      <th>f</th>\n",
       "      <th>g</th>\n",
       "      <th>h</th>\n",
       "      <th>i</th>\n",
       "      <th>j</th>\n",
       "      <th>...</th>\n",
       "      <th>r</th>\n",
       "      <th>s</th>\n",
       "      <th>t</th>\n",
       "      <th>u</th>\n",
       "      <th>v</th>\n",
       "      <th>w</th>\n",
       "      <th>x</th>\n",
       "      <th>y</th>\n",
       "      <th>z</th>\n",
       "      <th></th>\n",
       "    </tr>\n",
       "  </thead>\n",
       "  <tbody>\n",
       "    <tr>\n",
       "      <td>a</td>\n",
       "      <td>0.000123</td>\n",
       "      <td>0.016969</td>\n",
       "      <td>0.034439</td>\n",
       "      <td>0.055522</td>\n",
       "      <td>0.000809</td>\n",
       "      <td>0.008217</td>\n",
       "      <td>0.016857</td>\n",
       "      <td>0.001598</td>\n",
       "      <td>0.042852</td>\n",
       "      <td>0.000829</td>\n",
       "      <td>...</td>\n",
       "      <td>0.087455</td>\n",
       "      <td>0.097825</td>\n",
       "      <td>0.138167</td>\n",
       "      <td>0.012351</td>\n",
       "      <td>0.021411</td>\n",
       "      <td>0.010605</td>\n",
       "      <td>0.000255</td>\n",
       "      <td>0.025883</td>\n",
       "      <td>0.001893</td>\n",
       "      <td>0.074040</td>\n",
       "    </tr>\n",
       "    <tr>\n",
       "      <td>b</td>\n",
       "      <td>0.092429</td>\n",
       "      <td>0.006631</td>\n",
       "      <td>0.000144</td>\n",
       "      <td>0.000490</td>\n",
       "      <td>0.327913</td>\n",
       "      <td>0.000029</td>\n",
       "      <td>0.000029</td>\n",
       "      <td>0.000086</td>\n",
       "      <td>0.029493</td>\n",
       "      <td>0.005074</td>\n",
       "      <td>...</td>\n",
       "      <td>0.057228</td>\n",
       "      <td>0.013925</td>\n",
       "      <td>0.007496</td>\n",
       "      <td>0.152223</td>\n",
       "      <td>0.001355</td>\n",
       "      <td>0.000605</td>\n",
       "      <td>0.000029</td>\n",
       "      <td>0.073546</td>\n",
       "      <td>0.000029</td>\n",
       "      <td>0.005824</td>\n",
       "    </tr>\n",
       "    <tr>\n",
       "      <td>c</td>\n",
       "      <td>0.109112</td>\n",
       "      <td>0.000016</td>\n",
       "      <td>0.017047</td>\n",
       "      <td>0.000162</td>\n",
       "      <td>0.213245</td>\n",
       "      <td>0.000016</td>\n",
       "      <td>0.000016</td>\n",
       "      <td>0.188266</td>\n",
       "      <td>0.041799</td>\n",
       "      <td>0.000016</td>\n",
       "      <td>...</td>\n",
       "      <td>0.033608</td>\n",
       "      <td>0.001622</td>\n",
       "      <td>0.067070</td>\n",
       "      <td>0.027444</td>\n",
       "      <td>0.000016</td>\n",
       "      <td>0.000162</td>\n",
       "      <td>0.000016</td>\n",
       "      <td>0.005044</td>\n",
       "      <td>0.000097</td>\n",
       "      <td>0.009878</td>\n",
       "    </tr>\n",
       "    <tr>\n",
       "      <td>d</td>\n",
       "      <td>0.021188</td>\n",
       "      <td>0.000659</td>\n",
       "      <td>0.000110</td>\n",
       "      <td>0.011046</td>\n",
       "      <td>0.116413</td>\n",
       "      <td>0.000963</td>\n",
       "      <td>0.003702</td>\n",
       "      <td>0.000676</td>\n",
       "      <td>0.066075</td>\n",
       "      <td>0.002003</td>\n",
       "      <td>...</td>\n",
       "      <td>0.030282</td>\n",
       "      <td>0.020191</td>\n",
       "      <td>0.000625</td>\n",
       "      <td>0.009432</td>\n",
       "      <td>0.002721</td>\n",
       "      <td>0.000549</td>\n",
       "      <td>0.000008</td>\n",
       "      <td>0.010066</td>\n",
       "      <td>0.000025</td>\n",
       "      <td>0.641109</td>\n",
       "    </tr>\n",
       "    <tr>\n",
       "      <td>e</td>\n",
       "      <td>0.042608</td>\n",
       "      <td>0.000884</td>\n",
       "      <td>0.017399</td>\n",
       "      <td>0.091233</td>\n",
       "      <td>0.025779</td>\n",
       "      <td>0.010148</td>\n",
       "      <td>0.006876</td>\n",
       "      <td>0.002347</td>\n",
       "      <td>0.011143</td>\n",
       "      <td>0.000273</td>\n",
       "      <td>...</td>\n",
       "      <td>0.140364</td>\n",
       "      <td>0.065150</td>\n",
       "      <td>0.023902</td>\n",
       "      <td>0.001018</td>\n",
       "      <td>0.017494</td>\n",
       "      <td>0.010275</td>\n",
       "      <td>0.009970</td>\n",
       "      <td>0.012008</td>\n",
       "      <td>0.000604</td>\n",
       "      <td>0.353170</td>\n",
       "    </tr>\n",
       "    <tr>\n",
       "      <td>f</td>\n",
       "      <td>0.070639</td>\n",
       "      <td>0.000564</td>\n",
       "      <td>0.000692</td>\n",
       "      <td>0.000419</td>\n",
       "      <td>0.083948</td>\n",
       "      <td>0.051705</td>\n",
       "      <td>0.000036</td>\n",
       "      <td>0.000182</td>\n",
       "      <td>0.085168</td>\n",
       "      <td>0.000036</td>\n",
       "      <td>...</td>\n",
       "      <td>0.103246</td>\n",
       "      <td>0.004060</td>\n",
       "      <td>0.039234</td>\n",
       "      <td>0.033918</td>\n",
       "      <td>0.000018</td>\n",
       "      <td>0.000601</td>\n",
       "      <td>0.000018</td>\n",
       "      <td>0.001566</td>\n",
       "      <td>0.000018</td>\n",
       "      <td>0.353724</td>\n",
       "    </tr>\n",
       "    <tr>\n",
       "      <td>g</td>\n",
       "      <td>0.066342</td>\n",
       "      <td>0.000058</td>\n",
       "      <td>0.000117</td>\n",
       "      <td>0.001013</td>\n",
       "      <td>0.114711</td>\n",
       "      <td>0.000234</td>\n",
       "      <td>0.008724</td>\n",
       "      <td>0.116172</td>\n",
       "      <td>0.048798</td>\n",
       "      <td>0.000019</td>\n",
       "      <td>...</td>\n",
       "      <td>0.053451</td>\n",
       "      <td>0.017486</td>\n",
       "      <td>0.004595</td>\n",
       "      <td>0.026112</td>\n",
       "      <td>0.000019</td>\n",
       "      <td>0.000526</td>\n",
       "      <td>0.000019</td>\n",
       "      <td>0.001908</td>\n",
       "      <td>0.000136</td>\n",
       "      <td>0.431058</td>\n",
       "    </tr>\n",
       "    <tr>\n",
       "      <td>h</td>\n",
       "      <td>0.164932</td>\n",
       "      <td>0.000412</td>\n",
       "      <td>0.000388</td>\n",
       "      <td>0.000382</td>\n",
       "      <td>0.448388</td>\n",
       "      <td>0.000424</td>\n",
       "      <td>0.000024</td>\n",
       "      <td>0.000084</td>\n",
       "      <td>0.155101</td>\n",
       "      <td>0.000006</td>\n",
       "      <td>...</td>\n",
       "      <td>0.007752</td>\n",
       "      <td>0.001135</td>\n",
       "      <td>0.025150</td>\n",
       "      <td>0.009562</td>\n",
       "      <td>0.000036</td>\n",
       "      <td>0.000257</td>\n",
       "      <td>0.000006</td>\n",
       "      <td>0.006134</td>\n",
       "      <td>0.000006</td>\n",
       "      <td>0.092114</td>\n",
       "    </tr>\n",
       "    <tr>\n",
       "      <td>i</td>\n",
       "      <td>0.016801</td>\n",
       "      <td>0.007746</td>\n",
       "      <td>0.049227</td>\n",
       "      <td>0.050081</td>\n",
       "      <td>0.048754</td>\n",
       "      <td>0.021611</td>\n",
       "      <td>0.024772</td>\n",
       "      <td>0.000040</td>\n",
       "      <td>0.002659</td>\n",
       "      <td>0.000006</td>\n",
       "      <td>...</td>\n",
       "      <td>0.034191</td>\n",
       "      <td>0.125124</td>\n",
       "      <td>0.122580</td>\n",
       "      <td>0.000756</td>\n",
       "      <td>0.020112</td>\n",
       "      <td>0.000046</td>\n",
       "      <td>0.001874</td>\n",
       "      <td>0.000012</td>\n",
       "      <td>0.003426</td>\n",
       "      <td>0.031365</td>\n",
       "    </tr>\n",
       "    <tr>\n",
       "      <td>j</td>\n",
       "      <td>0.038432</td>\n",
       "      <td>0.000384</td>\n",
       "      <td>0.000384</td>\n",
       "      <td>0.000384</td>\n",
       "      <td>0.217525</td>\n",
       "      <td>0.000384</td>\n",
       "      <td>0.000384</td>\n",
       "      <td>0.000384</td>\n",
       "      <td>0.004612</td>\n",
       "      <td>0.000384</td>\n",
       "      <td>...</td>\n",
       "      <td>0.000384</td>\n",
       "      <td>0.000384</td>\n",
       "      <td>0.000384</td>\n",
       "      <td>0.455419</td>\n",
       "      <td>0.000384</td>\n",
       "      <td>0.000384</td>\n",
       "      <td>0.000384</td>\n",
       "      <td>0.000384</td>\n",
       "      <td>0.000384</td>\n",
       "      <td>0.000384</td>\n",
       "    </tr>\n",
       "    <tr>\n",
       "      <td>k</td>\n",
       "      <td>0.027715</td>\n",
       "      <td>0.000635</td>\n",
       "      <td>0.002493</td>\n",
       "      <td>0.000196</td>\n",
       "      <td>0.277055</td>\n",
       "      <td>0.000880</td>\n",
       "      <td>0.000831</td>\n",
       "      <td>0.040375</td>\n",
       "      <td>0.166390</td>\n",
       "      <td>0.000049</td>\n",
       "      <td>...</td>\n",
       "      <td>0.004839</td>\n",
       "      <td>0.037785</td>\n",
       "      <td>0.000440</td>\n",
       "      <td>0.033092</td>\n",
       "      <td>0.000684</td>\n",
       "      <td>0.004399</td>\n",
       "      <td>0.000049</td>\n",
       "      <td>0.006648</td>\n",
       "      <td>0.000049</td>\n",
       "      <td>0.247287</td>\n",
       "    </tr>\n",
       "    <tr>\n",
       "      <td>l</td>\n",
       "      <td>0.079685</td>\n",
       "      <td>0.000860</td>\n",
       "      <td>0.001119</td>\n",
       "      <td>0.071669</td>\n",
       "      <td>0.175475</td>\n",
       "      <td>0.023976</td>\n",
       "      <td>0.000963</td>\n",
       "      <td>0.000166</td>\n",
       "      <td>0.098503</td>\n",
       "      <td>0.000010</td>\n",
       "      <td>...</td>\n",
       "      <td>0.004878</td>\n",
       "      <td>0.016964</td>\n",
       "      <td>0.017234</td>\n",
       "      <td>0.015773</td>\n",
       "      <td>0.004578</td>\n",
       "      <td>0.004961</td>\n",
       "      <td>0.000010</td>\n",
       "      <td>0.103671</td>\n",
       "      <td>0.000269</td>\n",
       "      <td>0.133903</td>\n",
       "    </tr>\n",
       "    <tr>\n",
       "      <td>m</td>\n",
       "      <td>0.151252</td>\n",
       "      <td>0.017642</td>\n",
       "      <td>0.000616</td>\n",
       "      <td>0.000081</td>\n",
       "      <td>0.245638</td>\n",
       "      <td>0.002254</td>\n",
       "      <td>0.000032</td>\n",
       "      <td>0.000292</td>\n",
       "      <td>0.080117</td>\n",
       "      <td>0.000016</td>\n",
       "      <td>...</td>\n",
       "      <td>0.003211</td>\n",
       "      <td>0.031359</td>\n",
       "      <td>0.003421</td>\n",
       "      <td>0.027127</td>\n",
       "      <td>0.000114</td>\n",
       "      <td>0.000259</td>\n",
       "      <td>0.000016</td>\n",
       "      <td>0.039856</td>\n",
       "      <td>0.000016</td>\n",
       "      <td>0.202474</td>\n",
       "    </tr>\n",
       "    <tr>\n",
       "      <td>n</td>\n",
       "      <td>0.030173</td>\n",
       "      <td>0.000858</td>\n",
       "      <td>0.050129</td>\n",
       "      <td>0.187753</td>\n",
       "      <td>0.080584</td>\n",
       "      <td>0.004978</td>\n",
       "      <td>0.135691</td>\n",
       "      <td>0.000847</td>\n",
       "      <td>0.033772</td>\n",
       "      <td>0.000657</td>\n",
       "      <td>...</td>\n",
       "      <td>0.000429</td>\n",
       "      <td>0.036715</td>\n",
       "      <td>0.093331</td>\n",
       "      <td>0.005266</td>\n",
       "      <td>0.004093</td>\n",
       "      <td>0.000727</td>\n",
       "      <td>0.000451</td>\n",
       "      <td>0.011362</td>\n",
       "      <td>0.000125</td>\n",
       "      <td>0.220043</td>\n",
       "    </tr>\n",
       "    <tr>\n",
       "      <td>o</td>\n",
       "      <td>0.007304</td>\n",
       "      <td>0.004705</td>\n",
       "      <td>0.007650</td>\n",
       "      <td>0.016043</td>\n",
       "      <td>0.002656</td>\n",
       "      <td>0.088668</td>\n",
       "      <td>0.004055</td>\n",
       "      <td>0.001918</td>\n",
       "      <td>0.011763</td>\n",
       "      <td>0.000639</td>\n",
       "      <td>...</td>\n",
       "      <td>0.103606</td>\n",
       "      <td>0.035482</td>\n",
       "      <td>0.052531</td>\n",
       "      <td>0.123395</td>\n",
       "      <td>0.030939</td>\n",
       "      <td>0.052007</td>\n",
       "      <td>0.000744</td>\n",
       "      <td>0.003762</td>\n",
       "      <td>0.000629</td>\n",
       "      <td>0.140942</td>\n",
       "    </tr>\n",
       "    <tr>\n",
       "      <td>p</td>\n",
       "      <td>0.100020</td>\n",
       "      <td>0.000285</td>\n",
       "      <td>0.002809</td>\n",
       "      <td>0.000066</td>\n",
       "      <td>0.180110</td>\n",
       "      <td>0.002217</td>\n",
       "      <td>0.000241</td>\n",
       "      <td>0.009196</td>\n",
       "      <td>0.092294</td>\n",
       "      <td>0.000022</td>\n",
       "      <td>...</td>\n",
       "      <td>0.172428</td>\n",
       "      <td>0.023770</td>\n",
       "      <td>0.053686</td>\n",
       "      <td>0.025636</td>\n",
       "      <td>0.003995</td>\n",
       "      <td>0.000527</td>\n",
       "      <td>0.000022</td>\n",
       "      <td>0.007287</td>\n",
       "      <td>0.000022</td>\n",
       "      <td>0.069138</td>\n",
       "    </tr>\n",
       "    <tr>\n",
       "      <td>q</td>\n",
       "      <td>0.000424</td>\n",
       "      <td>0.000424</td>\n",
       "      <td>0.000424</td>\n",
       "      <td>0.000424</td>\n",
       "      <td>0.000424</td>\n",
       "      <td>0.000424</td>\n",
       "      <td>0.000424</td>\n",
       "      <td>0.000424</td>\n",
       "      <td>0.000424</td>\n",
       "      <td>0.000424</td>\n",
       "      <td>...</td>\n",
       "      <td>0.000424</td>\n",
       "      <td>0.000424</td>\n",
       "      <td>0.000424</td>\n",
       "      <td>0.988545</td>\n",
       "      <td>0.000424</td>\n",
       "      <td>0.000424</td>\n",
       "      <td>0.000424</td>\n",
       "      <td>0.000424</td>\n",
       "      <td>0.000424</td>\n",
       "      <td>0.000849</td>\n",
       "    </tr>\n",
       "    <tr>\n",
       "      <td>r</td>\n",
       "      <td>0.055996</td>\n",
       "      <td>0.001495</td>\n",
       "      <td>0.009956</td>\n",
       "      <td>0.029470</td>\n",
       "      <td>0.240263</td>\n",
       "      <td>0.003058</td>\n",
       "      <td>0.010030</td>\n",
       "      <td>0.001536</td>\n",
       "      <td>0.089210</td>\n",
       "      <td>0.000027</td>\n",
       "      <td>...</td>\n",
       "      <td>0.033242</td>\n",
       "      <td>0.060522</td>\n",
       "      <td>0.031234</td>\n",
       "      <td>0.020437</td>\n",
       "      <td>0.004756</td>\n",
       "      <td>0.002054</td>\n",
       "      <td>0.000007</td>\n",
       "      <td>0.038738</td>\n",
       "      <td>0.000559</td>\n",
       "      <td>0.212013</td>\n",
       "    </tr>\n",
       "    <tr>\n",
       "      <td>s</td>\n",
       "      <td>0.051883</td>\n",
       "      <td>0.002719</td>\n",
       "      <td>0.013724</td>\n",
       "      <td>0.000546</td>\n",
       "      <td>0.107847</td>\n",
       "      <td>0.001921</td>\n",
       "      <td>0.000307</td>\n",
       "      <td>0.066675</td>\n",
       "      <td>0.055946</td>\n",
       "      <td>0.000031</td>\n",
       "      <td>...</td>\n",
       "      <td>0.000184</td>\n",
       "      <td>0.059598</td>\n",
       "      <td>0.109596</td>\n",
       "      <td>0.024281</td>\n",
       "      <td>0.000491</td>\n",
       "      <td>0.004389</td>\n",
       "      <td>0.000006</td>\n",
       "      <td>0.002320</td>\n",
       "      <td>0.000043</td>\n",
       "      <td>0.385687</td>\n",
       "    </tr>\n",
       "    <tr>\n",
       "      <td>t</td>\n",
       "      <td>0.034031</td>\n",
       "      <td>0.000150</td>\n",
       "      <td>0.002893</td>\n",
       "      <td>0.000022</td>\n",
       "      <td>0.084535</td>\n",
       "      <td>0.000839</td>\n",
       "      <td>0.000066</td>\n",
       "      <td>0.325798</td>\n",
       "      <td>0.061567</td>\n",
       "      <td>0.000018</td>\n",
       "      <td>...</td>\n",
       "      <td>0.025040</td>\n",
       "      <td>0.026859</td>\n",
       "      <td>0.019590</td>\n",
       "      <td>0.013664</td>\n",
       "      <td>0.004346</td>\n",
       "      <td>0.005251</td>\n",
       "      <td>0.000009</td>\n",
       "      <td>0.013898</td>\n",
       "      <td>0.002946</td>\n",
       "      <td>0.257271</td>\n",
       "    </tr>\n",
       "    <tr>\n",
       "      <td>u</td>\n",
       "      <td>0.020441</td>\n",
       "      <td>0.014008</td>\n",
       "      <td>0.031733</td>\n",
       "      <td>0.022107</td>\n",
       "      <td>0.029450</td>\n",
       "      <td>0.005122</td>\n",
       "      <td>0.050631</td>\n",
       "      <td>0.000740</td>\n",
       "      <td>0.027151</td>\n",
       "      <td>0.000031</td>\n",
       "      <td>...</td>\n",
       "      <td>0.125189</td>\n",
       "      <td>0.137731</td>\n",
       "      <td>0.169911</td>\n",
       "      <td>0.000046</td>\n",
       "      <td>0.001913</td>\n",
       "      <td>0.000046</td>\n",
       "      <td>0.000679</td>\n",
       "      <td>0.000339</td>\n",
       "      <td>0.001296</td>\n",
       "      <td>0.059255</td>\n",
       "    </tr>\n",
       "    <tr>\n",
       "      <td>v</td>\n",
       "      <td>0.066239</td>\n",
       "      <td>0.000074</td>\n",
       "      <td>0.000037</td>\n",
       "      <td>0.000406</td>\n",
       "      <td>0.535332</td>\n",
       "      <td>0.000037</td>\n",
       "      <td>0.000148</td>\n",
       "      <td>0.000074</td>\n",
       "      <td>0.176772</td>\n",
       "      <td>0.000037</td>\n",
       "      <td>...</td>\n",
       "      <td>0.006712</td>\n",
       "      <td>0.022719</td>\n",
       "      <td>0.002877</td>\n",
       "      <td>0.000848</td>\n",
       "      <td>0.000111</td>\n",
       "      <td>0.000295</td>\n",
       "      <td>0.000037</td>\n",
       "      <td>0.004057</td>\n",
       "      <td>0.000037</td>\n",
       "      <td>0.098473</td>\n",
       "    </tr>\n",
       "    <tr>\n",
       "      <td>w</td>\n",
       "      <td>0.205470</td>\n",
       "      <td>0.000203</td>\n",
       "      <td>0.000405</td>\n",
       "      <td>0.006229</td>\n",
       "      <td>0.130987</td>\n",
       "      <td>0.000844</td>\n",
       "      <td>0.000135</td>\n",
       "      <td>0.201351</td>\n",
       "      <td>0.169258</td>\n",
       "      <td>0.000017</td>\n",
       "      <td>...</td>\n",
       "      <td>0.008947</td>\n",
       "      <td>0.014603</td>\n",
       "      <td>0.000405</td>\n",
       "      <td>0.000523</td>\n",
       "      <td>0.000017</td>\n",
       "      <td>0.000456</td>\n",
       "      <td>0.000017</td>\n",
       "      <td>0.000709</td>\n",
       "      <td>0.000017</td>\n",
       "      <td>0.139512</td>\n",
       "    </tr>\n",
       "    <tr>\n",
       "      <td>x</td>\n",
       "      <td>0.076627</td>\n",
       "      <td>0.000227</td>\n",
       "      <td>0.136930</td>\n",
       "      <td>0.000227</td>\n",
       "      <td>0.071639</td>\n",
       "      <td>0.000453</td>\n",
       "      <td>0.000227</td>\n",
       "      <td>0.013829</td>\n",
       "      <td>0.116527</td>\n",
       "      <td>0.000227</td>\n",
       "      <td>...</td>\n",
       "      <td>0.000227</td>\n",
       "      <td>0.001587</td>\n",
       "      <td>0.107005</td>\n",
       "      <td>0.004081</td>\n",
       "      <td>0.035593</td>\n",
       "      <td>0.000227</td>\n",
       "      <td>0.036046</td>\n",
       "      <td>0.001587</td>\n",
       "      <td>0.000227</td>\n",
       "      <td>0.084335</td>\n",
       "    </tr>\n",
       "    <tr>\n",
       "      <td>y</td>\n",
       "      <td>0.028471</td>\n",
       "      <td>0.003413</td>\n",
       "      <td>0.003737</td>\n",
       "      <td>0.000410</td>\n",
       "      <td>0.056121</td>\n",
       "      <td>0.003305</td>\n",
       "      <td>0.000281</td>\n",
       "      <td>0.000648</td>\n",
       "      <td>0.024453</td>\n",
       "      <td>0.000043</td>\n",
       "      <td>...</td>\n",
       "      <td>0.002463</td>\n",
       "      <td>0.033893</td>\n",
       "      <td>0.018361</td>\n",
       "      <td>0.001318</td>\n",
       "      <td>0.000562</td>\n",
       "      <td>0.002139</td>\n",
       "      <td>0.000022</td>\n",
       "      <td>0.000238</td>\n",
       "      <td>0.000238</td>\n",
       "      <td>0.678180</td>\n",
       "    </tr>\n",
       "    <tr>\n",
       "      <td>z</td>\n",
       "      <td>0.057167</td>\n",
       "      <td>0.002071</td>\n",
       "      <td>0.000829</td>\n",
       "      <td>0.011599</td>\n",
       "      <td>0.304060</td>\n",
       "      <td>0.000414</td>\n",
       "      <td>0.000414</td>\n",
       "      <td>0.064209</td>\n",
       "      <td>0.101906</td>\n",
       "      <td>0.000414</td>\n",
       "      <td>...</td>\n",
       "      <td>0.000414</td>\n",
       "      <td>0.001243</td>\n",
       "      <td>0.000829</td>\n",
       "      <td>0.012842</td>\n",
       "      <td>0.001657</td>\n",
       "      <td>0.000829</td>\n",
       "      <td>0.000414</td>\n",
       "      <td>0.006214</td>\n",
       "      <td>0.019884</td>\n",
       "      <td>0.054681</td>\n",
       "    </tr>\n",
       "    <tr>\n",
       "      <td></td>\n",
       "      <td>0.119834</td>\n",
       "      <td>0.043355</td>\n",
       "      <td>0.036531</td>\n",
       "      <td>0.029719</td>\n",
       "      <td>0.020259</td>\n",
       "      <td>0.036824</td>\n",
       "      <td>0.016908</td>\n",
       "      <td>0.085827</td>\n",
       "      <td>0.053078</td>\n",
       "      <td>0.002858</td>\n",
       "      <td>...</td>\n",
       "      <td>0.026106</td>\n",
       "      <td>0.070295</td>\n",
       "      <td>0.150823</td>\n",
       "      <td>0.009706</td>\n",
       "      <td>0.006878</td>\n",
       "      <td>0.070007</td>\n",
       "      <td>0.000777</td>\n",
       "      <td>0.011618</td>\n",
       "      <td>0.000255</td>\n",
       "      <td>0.025147</td>\n",
       "    </tr>\n",
       "  </tbody>\n",
       "</table>\n",
       "<p>27 rows × 27 columns</p>\n",
       "</div>"
      ],
      "text/plain": [
       "          a         b         c         d         e         f         g  \\\n",
       "a  0.000123  0.016969  0.034439  0.055522  0.000809  0.008217  0.016857   \n",
       "b  0.092429  0.006631  0.000144  0.000490  0.327913  0.000029  0.000029   \n",
       "c  0.109112  0.000016  0.017047  0.000162  0.213245  0.000016  0.000016   \n",
       "d  0.021188  0.000659  0.000110  0.011046  0.116413  0.000963  0.003702   \n",
       "e  0.042608  0.000884  0.017399  0.091233  0.025779  0.010148  0.006876   \n",
       "f  0.070639  0.000564  0.000692  0.000419  0.083948  0.051705  0.000036   \n",
       "g  0.066342  0.000058  0.000117  0.001013  0.114711  0.000234  0.008724   \n",
       "h  0.164932  0.000412  0.000388  0.000382  0.448388  0.000424  0.000024   \n",
       "i  0.016801  0.007746  0.049227  0.050081  0.048754  0.021611  0.024772   \n",
       "j  0.038432  0.000384  0.000384  0.000384  0.217525  0.000384  0.000384   \n",
       "k  0.027715  0.000635  0.002493  0.000196  0.277055  0.000880  0.000831   \n",
       "l  0.079685  0.000860  0.001119  0.071669  0.175475  0.023976  0.000963   \n",
       "m  0.151252  0.017642  0.000616  0.000081  0.245638  0.002254  0.000032   \n",
       "n  0.030173  0.000858  0.050129  0.187753  0.080584  0.004978  0.135691   \n",
       "o  0.007304  0.004705  0.007650  0.016043  0.002656  0.088668  0.004055   \n",
       "p  0.100020  0.000285  0.002809  0.000066  0.180110  0.002217  0.000241   \n",
       "q  0.000424  0.000424  0.000424  0.000424  0.000424  0.000424  0.000424   \n",
       "r  0.055996  0.001495  0.009956  0.029470  0.240263  0.003058  0.010030   \n",
       "s  0.051883  0.002719  0.013724  0.000546  0.107847  0.001921  0.000307   \n",
       "t  0.034031  0.000150  0.002893  0.000022  0.084535  0.000839  0.000066   \n",
       "u  0.020441  0.014008  0.031733  0.022107  0.029450  0.005122  0.050631   \n",
       "v  0.066239  0.000074  0.000037  0.000406  0.535332  0.000037  0.000148   \n",
       "w  0.205470  0.000203  0.000405  0.006229  0.130987  0.000844  0.000135   \n",
       "x  0.076627  0.000227  0.136930  0.000227  0.071639  0.000453  0.000227   \n",
       "y  0.028471  0.003413  0.003737  0.000410  0.056121  0.003305  0.000281   \n",
       "z  0.057167  0.002071  0.000829  0.011599  0.304060  0.000414  0.000414   \n",
       "   0.119834  0.043355  0.036531  0.029719  0.020259  0.036824  0.016908   \n",
       "\n",
       "          h         i         j  ...         r         s         t         u  \\\n",
       "a  0.001598  0.042852  0.000829  ...  0.087455  0.097825  0.138167  0.012351   \n",
       "b  0.000086  0.029493  0.005074  ...  0.057228  0.013925  0.007496  0.152223   \n",
       "c  0.188266  0.041799  0.000016  ...  0.033608  0.001622  0.067070  0.027444   \n",
       "d  0.000676  0.066075  0.002003  ...  0.030282  0.020191  0.000625  0.009432   \n",
       "e  0.002347  0.011143  0.000273  ...  0.140364  0.065150  0.023902  0.001018   \n",
       "f  0.000182  0.085168  0.000036  ...  0.103246  0.004060  0.039234  0.033918   \n",
       "g  0.116172  0.048798  0.000019  ...  0.053451  0.017486  0.004595  0.026112   \n",
       "h  0.000084  0.155101  0.000006  ...  0.007752  0.001135  0.025150  0.009562   \n",
       "i  0.000040  0.002659  0.000006  ...  0.034191  0.125124  0.122580  0.000756   \n",
       "j  0.000384  0.004612  0.000384  ...  0.000384  0.000384  0.000384  0.455419   \n",
       "k  0.040375  0.166390  0.000049  ...  0.004839  0.037785  0.000440  0.033092   \n",
       "l  0.000166  0.098503  0.000010  ...  0.004878  0.016964  0.017234  0.015773   \n",
       "m  0.000292  0.080117  0.000016  ...  0.003211  0.031359  0.003421  0.027127   \n",
       "n  0.000847  0.033772  0.000657  ...  0.000429  0.036715  0.093331  0.005266   \n",
       "o  0.001918  0.011763  0.000639  ...  0.103606  0.035482  0.052531  0.123395   \n",
       "p  0.009196  0.092294  0.000022  ...  0.172428  0.023770  0.053686  0.025636   \n",
       "q  0.000424  0.000424  0.000424  ...  0.000424  0.000424  0.000424  0.988545   \n",
       "r  0.001536  0.089210  0.000027  ...  0.033242  0.060522  0.031234  0.020437   \n",
       "s  0.066675  0.055946  0.000031  ...  0.000184  0.059598  0.109596  0.024281   \n",
       "t  0.325798  0.061567  0.000018  ...  0.025040  0.026859  0.019590  0.013664   \n",
       "u  0.000740  0.027151  0.000031  ...  0.125189  0.137731  0.169911  0.000046   \n",
       "v  0.000074  0.176772  0.000037  ...  0.006712  0.022719  0.002877  0.000848   \n",
       "w  0.201351  0.169258  0.000017  ...  0.008947  0.014603  0.000405  0.000523   \n",
       "x  0.013829  0.116527  0.000227  ...  0.000227  0.001587  0.107005  0.004081   \n",
       "y  0.000648  0.024453  0.000043  ...  0.002463  0.033893  0.018361  0.001318   \n",
       "z  0.064209  0.101906  0.000414  ...  0.000414  0.001243  0.000829  0.012842   \n",
       "   0.085827  0.053078  0.002858  ...  0.026106  0.070295  0.150823  0.009706   \n",
       "\n",
       "          v         w         x         y         z            \n",
       "a  0.021411  0.010605  0.000255  0.025883  0.001893  0.074040  \n",
       "b  0.001355  0.000605  0.000029  0.073546  0.000029  0.005824  \n",
       "c  0.000016  0.000162  0.000016  0.005044  0.000097  0.009878  \n",
       "d  0.002721  0.000549  0.000008  0.010066  0.000025  0.641109  \n",
       "e  0.017494  0.010275  0.009970  0.012008  0.000604  0.353170  \n",
       "f  0.000018  0.000601  0.000018  0.001566  0.000018  0.353724  \n",
       "g  0.000019  0.000526  0.000019  0.001908  0.000136  0.431058  \n",
       "h  0.000036  0.000257  0.000006  0.006134  0.000006  0.092114  \n",
       "i  0.020112  0.000046  0.001874  0.000012  0.003426  0.031365  \n",
       "j  0.000384  0.000384  0.000384  0.000384  0.000384  0.000384  \n",
       "k  0.000684  0.004399  0.000049  0.006648  0.000049  0.247287  \n",
       "l  0.004578  0.004961  0.000010  0.103671  0.000269  0.133903  \n",
       "m  0.000114  0.000259  0.000016  0.039856  0.000016  0.202474  \n",
       "n  0.004093  0.000727  0.000451  0.011362  0.000125  0.220043  \n",
       "o  0.030939  0.052007  0.000744  0.003762  0.000629  0.140942  \n",
       "p  0.003995  0.000527  0.000022  0.007287  0.000022  0.069138  \n",
       "q  0.000424  0.000424  0.000424  0.000424  0.000424  0.000849  \n",
       "r  0.004756  0.002054  0.000007  0.038738  0.000559  0.212013  \n",
       "s  0.000491  0.004389  0.000006  0.002320  0.000043  0.385687  \n",
       "t  0.004346  0.005251  0.000009  0.013898  0.002946  0.257271  \n",
       "u  0.001913  0.000046  0.000679  0.000339  0.001296  0.059255  \n",
       "v  0.000111  0.000295  0.000037  0.004057  0.000037  0.098473  \n",
       "w  0.000017  0.000456  0.000017  0.000709  0.000017  0.139512  \n",
       "x  0.035593  0.000227  0.036046  0.001587  0.000227  0.084335  \n",
       "y  0.000562  0.002139  0.000022  0.000238  0.000238  0.678180  \n",
       "z  0.001657  0.000829  0.000414  0.006214  0.019884  0.054681  \n",
       "   0.006878  0.070007  0.000777  0.011618  0.000255  0.025147  \n",
       "\n",
       "[27 rows x 27 columns]"
      ]
     },
     "execution_count": 5,
     "metadata": {},
     "output_type": "execute_result"
    }
   ],
   "source": [
    "def wp_transition(a, b):\n",
    "    if (a, b) in wp_bigrams:\n",
    "        return wp_bigrams[(a, b)]\n",
    "    return 0\n",
    "\n",
    "wp_bigram_mc = MarkovChain.from_transition_function(allowable_letters, wp_transition)\n",
    "wp_bigram_mc"
   ]
  },
  {
   "cell_type": "markdown",
   "metadata": {
    "#solution": false,
    "#staff": false,
    "#student": false
   },
   "source": [
    "## Decoders ##\n",
    "\n",
    "As you know, when a substitution code has been used for encryption, a decoder is a permutation of the alphabet. We apply this permutation to our encoded text in order to generate the decoded text.\n",
    "\n",
    "We will be representing the decoder as a Python dictionary. Here is an example of how a dictionary works, using a three-letter alphabet 'a', 'b', 'c'.\n",
    "\n",
    "If the decoder is ['b', 'c', 'a'] then the substitutions for decoding the encrypted message are\n",
    "\n",
    "$$\n",
    "a \\to b ~~~~~~~~ b \\to c ~~~~~~~~ c \\to a\n",
    "$$\n",
    "\n",
    "This decoder written as a dictionary dictionary looks like this:\n",
    "\n",
    "    simple_decoder = {'a':'b','b':'c','c':a'}\n",
    "\n",
    "To access a value in the decoder, use the method `.get`. For example, to access the translation of *a*, use\n",
    "    \n",
    "    simple_decoder.get('a')"
   ]
  },
  {
   "cell_type": "code",
   "execution_count": 6,
   "metadata": {
    "#solution": false,
    "#staff": false,
    "#student": false
   },
   "outputs": [
    {
     "data": {
      "text/plain": [
       "'b'"
      ]
     },
     "execution_count": 6,
     "metadata": {},
     "output_type": "execute_result"
    }
   ],
   "source": [
    "simple_decoder = {'a':'b', 'b':'c', 'c':'a'}\n",
    "simple_decoder.get('a')"
   ]
  },
  {
   "cell_type": "markdown",
   "metadata": {
    "#solution": false,
    "#staff": false,
    "#student": false
   },
   "source": [
    "### Keeping Spaces Intact ###\n",
    "To simplify calculations, we are assuming that our substitution code keeps spaces unchanged. Letters can precede and follow spaces, but spaces will be fixed points in the encoding permutation. \n",
    "\n",
    "So our decoder must keep spaces unchanged as well. The following cell defines a function called `random_decoder` which will randomly generate a decoder. It will operate on the 26 letters, omitting the space.\n",
    "\n",
    "Run the cell below. The function `random_decoder` constructs a random permutation of the alphabet and places it in a dictionary to make it a decoder."
   ]
  },
  {
   "cell_type": "code",
   "execution_count": 7,
   "metadata": {
    "#solution": false,
    "#staff": false,
    "#student": false
   },
   "outputs": [],
   "source": [
    "decoder_letters = np.array(list(\"abcdefghijklmnopqrstuvwxyz\")) \n",
    "# We don't operate on spaces\n",
    "\n",
    "identity_decoder = \\\n",
    "    {letter:letter for letter in decoder_letters}\n",
    "\n",
    "# Random starting decoder\n",
    "def random_decoder():\n",
    "    \"\"\" Random decoder \"\"\"\n",
    "    new_letters = decoder_letters.copy()\n",
    "    np.random.shuffle(new_letters)\n",
    "    return {orig:new for orig ,new in zip(decoder_letters, new_letters)}\n"
   ]
  },
  {
   "cell_type": "markdown",
   "metadata": {
    "#solution": false,
    "#staff": false,
    "#student": false
   },
   "source": [
    "#newpage\n",
    "\n",
    "### 2. Applying a Decoder ###\n",
    "\n",
    "Define a function `decode_text` that takes as its arguments a string to be decoded and the decoder. It should return the decoded string.\n",
    "\n",
    "Remember that we are only decoding alphabetical characters. If a character is not in the decoder (e.g. a space), leave the character alone."
   ]
  },
  {
   "cell_type": "code",
   "execution_count": 8,
   "metadata": {
    "#solution": false,
    "#staff": false,
    "#student": true
   },
   "outputs": [],
   "source": [
    "def decode_text(string, decoder):\n",
    "    new_string = \"\"\n",
    "    \n",
    "    for char in string:\n",
    "        if char in decoder:\n",
    "            new_letter = decoder.get(char)\n",
    "        else:\n",
    "            new_letter = char\n",
    "        \n",
    "        # Now we append the letter to the back of the new string\n",
    "        new_string = new_string + new_letter\n",
    "        \n",
    "    return new_string"
   ]
  },
  {
   "cell_type": "markdown",
   "metadata": {
    "#solution": false,
    "#staff": false,
    "#student": false
   },
   "source": [
    "## Metropolis Algorithm: Proposal Chain ##\n",
    "The Metropolis algorithm we will use is essentially the same as the one defined in class and proved to converge to the correct distribution. There is one tweak to increase computatational accuracy, and another to deal with spaces. You shouldn't worry about either of them.\n",
    "\n",
    "Please have Section [11.4](http://prob140.org/textbook/Chapter_11/04_Markov_Chain_Monte_Carlo.html) of the textbook at hand as you go through the exercises below.\n",
    "\n",
    "- The state space $S$ of the proposal chain is the set of all possible decoders.\n",
    "\n",
    "- Define a matrix $Q$ as follows: given that the chain is at decoder $i$, pick another decoder by randomly swapping two elements of $i$. For any two decoders $i$ and $j$, define\n",
    "\n",
    "\\begin{equation}\n",
    "Q(i, j) = \n",
    " \\begin{cases}\n",
    " \\frac{1}{\\binom{26}{2}} & \\text{if } i \\text{ and } j \\text{ differ in exactly two places} \\\\\n",
    "0 & \\text{otherwise}\n",
    " \\end{cases}\n",
    "\\end{equation}\n",
    "\n",
    "You will show below that $Q$ satisfies the conditions to be the transition matrix of a proposal chain."
   ]
  },
  {
   "cell_type": "markdown",
   "metadata": {
    "#solution": false,
    "#staff": false,
    "#student": false
   },
   "source": [
    "#newpage\n",
    "\n",
    "### 3a) Properties of $Q$ ###\n",
    "The state space of the proposal chain is large. How many elements does it contain? For reference, `special.comb(n, k)` evaluates to $\\binom{n}{k}$ and `np.math.factorial(n)` evaluates to $n!$. The modules were imported at the start of the lab."
   ]
  },
  {
   "cell_type": "code",
   "execution_count": 9,
   "metadata": {
    "#solution": false,
    "#staff": false,
    "#student": true
   },
   "outputs": [
    {
     "data": {
      "text/plain": [
       "162644002617632464507038883409628607021056000000000000"
      ]
     },
     "execution_count": 9,
     "metadata": {},
     "output_type": "execute_result"
    }
   ],
   "source": [
    "np.math.factorial(26)**2"
   ]
  },
  {
   "cell_type": "markdown",
   "metadata": {
    "#solution": false,
    "#staff": false,
    "#student": false
   },
   "source": [
    "Define the three permutations below:\n",
    "\n",
    "- decoder_1: alphbetical order, that is, `abcdef ... xyz`\n",
    "- decoder_2: `bacdef ... xyz`, that is, `ba` followed by the other letters in alphabetical order\n",
    "- decoder_3: `badcef ... xyz`, that is, `badc` followed by the other letters in alphabetical order\n",
    "\n",
    "For each of (i)-(iv) below, type 1/(26_choose_2) if you think the value is $1/\\binom{26}{2}$ and 0 otherwise, and enter the reason for your choice."
   ]
  },
  {
   "cell_type": "markdown",
   "metadata": {
    "#solution": false,
    "#staff": false,
    "#student": true
   },
   "source": [
    "\n",
    "(i) Q(decoder_1, decoder_2)  =  1/(26_choose_2)\n",
    "\n",
    "because i and j differ in exactly two places; the first two letters where i = (ab) and j = (ba)\n",
    "\n",
    "(ii) Q(decoder_2, decoder_1) =  1/(26_choose_2)\n",
    "\n",
    "because i and j differ in exactly two places; the first two letters where i = (ba) and j = (ab)\n",
    "\n",
    "(iii) Q(decoder_1, decoder_3) = 0\n",
    "\n",
    "because i and j differ in more then two places\n",
    "\n",
    "(iv) Q(decoder_2, decoder_3) = 1/(26_choose_2)\n",
    "\n",
    "because i and j differ in exactly two places; the third and fourth letters where i = (cd) and j = (dc)"
   ]
  },
  {
   "cell_type": "markdown",
   "metadata": {
    "#solution": false,
    "#staff": false,
    "#student": false
   },
   "source": [
    "**Symmetric Transition Matrix:** Explain why $Q$ is a symmetric transition matrix. \n",
    "\n",
    "[Note: You have to establish that $Q$ is symmetric and that it is a transition matrix. For the latter, it is a good idea to focus on the row corresponding to decoder_1 above. What criteria do the entries of each row have to satisfy? Why are the criteria satisfied?]"
   ]
  },
  {
   "cell_type": "markdown",
   "metadata": {
    "#solution": false,
    "#staff": false,
    "#student": true
   },
   "source": [
    "Each row in a transition matrix has to add up to 1 and we know this because there are 26_choose_2 different possible j's that i could go to each with a probability of 1/(26_choose_2), and thus we know that Q is a symmetric transition matrix because the probability Q(j,i)=Q(i,j) where both are 1/(26_choose_2) since bacdef ... xyz and abcdef ... xyz only differ by exactly two letters and the order of going from 1 to 2 has the same probability as 2 to 1 as defined above."
   ]
  },
  {
   "cell_type": "markdown",
   "metadata": {
    "#solution": false,
    "#staff": false,
    "#student": false
   },
   "source": [
    "**Irreducible:** It is a fact that Q is the transition matrix of an irreducible chain, but formally establishing that takes a bit of writing. To avoid complicated writing, let's reduce the problem to an alphabet of just three letters `a`, `b`, and `c` and transition behavior defined analogously on the six decoders, with positive transition probabilities each equal 1/(3_choose_2) = 1/3 if the two permutations differ in exactly two places. Why does this create an irreducible chain?"
   ]
  },
  {
   "cell_type": "markdown",
   "metadata": {
    "#solution": false,
    "#staff": false,
    "#student": true
   },
   "source": [
    "This creates an irreducible chain because there will never be a point where the chain gets stuck at a specific value, thus you can go from every permutation to every other one along some path with n steps."
   ]
  },
  {
   "cell_type": "markdown",
   "metadata": {
    "#solution": false,
    "#staff": false,
    "#student": false
   },
   "source": [
    "For any size of alphabet, there is a [famous algorithm](https://en.wikipedia.org/wiki/Steinhaus%E2%80%93Johnson%E2%80%93Trotter_algorithm) for creating all possible permutations by successively swapping two *adjacent* elements. It was known to bell-ringers in 17th-century England. Adjacent swaps are among the transitions allowed by the matrix $Q$, so the chain is irreducible. "
   ]
  },
  {
   "cell_type": "markdown",
   "metadata": {
    "#solution": false,
    "#staff": false,
    "#student": false
   },
   "source": [
    "**Proposal Chain:** Now explain why $Q$ satisfies all the criteria for the transition matrix of a proposal chain. You have done all the work already; carefully read the Metropolis Algorithm section of [Section 11.4](http://prob140.org/textbook/Chapter_11/04_Markov_Chain_Monte_Carlo.html) to see what is needed."
   ]
  },
  {
   "cell_type": "markdown",
   "metadata": {
    "#solution": false,
    "#staff": false,
    "#student": true
   },
   "source": [
    "Q satisfies the criteria for the transition matrix of a proposal chain since it is both symmetric and irreducible as we have shown above."
   ]
  },
  {
   "cell_type": "markdown",
   "metadata": {
    "#solution": false,
    "#staff": false,
    "#student": false
   },
   "source": [
    "### 3b) Making a Proposal to Move ###\n",
    "\n",
    "Define the function `generate_proposed_decoder` which takes an existing decoder and returns a new decoder as follows: it randomly picks two different letters of the alphabet and swaps the decoding for those letters. Make sure to use `decoder_letters` rather than `allowable_letters` because we want to keep the spaces as is.\n",
    "\n",
    "For example, if we have the decoder `{'a':'b','b':'c','c':a'}` and decide to swap `a` and `b`, our new decoder should be `{'a':'c','b':'b','c':a'}`. \n",
    "\n",
    "There are several different ways you can use Python to draw random samples. In this instance we recommend `np.random.choice`. It takes two arguments:\n",
    "- a list from which to sample uniformly at random with replacement\n",
    "- the number of times to sample\n",
    "\n",
    "The optional argument `replace=False` leads to simple random sampling.\n",
    "\n",
    "It returns an array consisting of the sampled elements."
   ]
  },
  {
   "cell_type": "code",
   "execution_count": 16,
   "metadata": {
    "#solution": false,
    "#staff": false,
    "#student": true
   },
   "outputs": [],
   "source": [
    "def generate_proposed_decoder(decoder):\n",
    "    new_decoder = decoder.copy()\n",
    "    \n",
    "    letters = np.random.choice(\n",
    "        decoder_letters, 2, replace=False)\n",
    "    \n",
    "    letter1 = letters[0]\n",
    "    letter2 = letters[1]\n",
    "    \n",
    "    new_value_of_letter1 = new_decoder.get(letter2)\n",
    "    new_value_of_letter2 = new_decoder.get(letter1)\n",
    "\n",
    "    # This code replaces the value of letter1 and letter2 \n",
    "    # with new_value_of_letter1 and new_value_of_letter2\n",
    "    new_decoder[letter1] = new_value_of_letter1\n",
    "    new_decoder[letter2] = new_value_of_letter2\n",
    "    return new_decoder"
   ]
  },
  {
   "cell_type": "markdown",
   "metadata": {
    "#solution": false,
    "#staff": false,
    "#student": false
   },
   "source": [
    "## The Target Distribution $\\pi$ ##\n",
    "\n",
    "For letters $x_1$ and $x_2$, let $B(x_1, x_2)$ be the $(x_1, x_2)$th entry in the bigram transition matrix. Suppose the decoded text consists of the characters $x_0, x_1, \\ldots , x_n$. Recall from class that we defined the *score* of the corresponding decoder $i$ to be\n",
    "\n",
    "$$\n",
    "s(i) = \\prod_{k=0}^{n-1}B_i(x_k, x_{k+1})\n",
    "$$\n",
    "\n",
    "Here's a tweak to what was done in class. When the string is long, the score of any decoder is going to be very small. This causes problems with numerical accuracy. So we will work with the log-score instead, that is, with the $\\log$ of the score. \n",
    "\n",
    "$$\n",
    "\\log(s(i)) = \\sum_{k=0}^{n-1} \\log(B_i(x_k, x_{k+1}))\n",
    "$$\n"
   ]
  },
  {
   "cell_type": "markdown",
   "metadata": {
    "#solution": false,
    "#staff": false,
    "#student": false
   },
   "source": [
    "#newpage\n",
    "\n",
    "### 4. Log Probability of Path ###\n",
    "\n",
    "Define a function `log_prob_path` that takes two arguments:\n",
    "- a string `message` that is a sequence of letters \n",
    "- the bigram transition matrix of a `MarkovChain` `mc` \n",
    "\n",
    "and returns the log of the probability of the path `message` taken by `mc`, given that the first character of `message` is the initial state of the path.\n",
    "\n",
    "Though `mc.prob_of_path` returns the probability of the path, don't use `np.log(mc.prob_of_path)`. Each path has very small probability, so the numbers will round too soon and your computations might be inaccurate.\n",
    "\n",
    "Instead, you can use the function [`mc.log_prob_of_path`](http://prob140.org/prob140/_autosummary/prob140.MarkovChain.log_prob_of_path.html#prob140.MarkovChain.log_prob_of_path). This takes as its first argument the starting character of the string, and as its next argument a list or array containing the characters in the rest of the string. It returns the log of the probability of the path, conditional on the starting character.\n",
    "\n",
    "Some string methods will be helpful:\n",
    "\n",
    "* string[0] returns the first letter of a string. For example:\n",
    "```python\n",
    ">>> x = 'HELLO'\n",
    ">>> x[0]\n",
    "'H'\n",
    "```\n",
    "* string[1:] returns everything except the first letter of a string. For example:\n",
    "```python\n",
    ">>> x[1:]\n",
    "'ELLO'\n",
    "```\n",
    "* list(string) splits the string into a list of its characters. This was used above to generate `allowable_letters`."
   ]
  },
  {
   "cell_type": "code",
   "execution_count": 17,
   "metadata": {
    "#solution": false,
    "#staff": false,
    "#student": true
   },
   "outputs": [],
   "source": [
    "def log_prob_path(string, bigram_mc):\n",
    "    start = string[0]\n",
    "    \n",
    "    path = list(string[1:])\n",
    "    \n",
    "    return bigram_mc.log_prob_of_path(start, path)"
   ]
  },
  {
   "cell_type": "markdown",
   "metadata": {
    "#solution": false,
    "#staff": false,
    "#student": false
   },
   "source": [
    "#newpage\n",
    "\n",
    "### 5. Log Score of Decoder ###\n",
    "\n",
    "Define a function `log_score` that takes the following arguments:\n",
    "\n",
    "- an encrypted string\n",
    "- a decoder\n",
    "- a bigram transition matrix\n",
    "\n",
    "The function should decode the encrypted string using the decoder, and return the log score of the decoder.\n",
    "\n",
    "Use the functions `decode_text` and `log_prob_path` that you wrote earlier."
   ]
  },
  {
   "cell_type": "code",
   "execution_count": 40,
   "metadata": {
    "#solution": false,
    "#staff": false,
    "#student": true
   },
   "outputs": [],
   "source": [
    "def log_score(string, decoder, bigrams):\n",
    "    return log_prob_path(decode_text(string,decoder), bigrams)"
   ]
  },
  {
   "cell_type": "markdown",
   "metadata": {
    "#solution": false,
    "#staff": false,
    "#student": false
   },
   "source": [
    "### Acceptance Ratios ###\n",
    "We would like Decoder $i$ to appear among our randomly selected decoders with target probability $\\pi(i)$, where $\\pi(i)$ is the likelihood of $i$ given the data. As we saw in class, the likelihood $\\pi(i)$ is proportional to $s(i)$ but we don't know the constant of proportionality. However, for any two decoders $i$ and $j$, we can calculate the ratio\n",
    "\n",
    "$$\n",
    "r(i, j) = \\frac{\\pi(j)}{\\pi(i)} = \\frac{s(j)}{s(i)}\n",
    "$$\n",
    "\n",
    "The Metropolis algorithm creates a new chain that has $\\pi$ as its limit distribution. Recall that if the new chain is at $i$, then the the decision about whether or not to accept a transition to a new state $j$ depends on the ratio $r(i, j)$.\n",
    "\n",
    "Because we are working with log scores and not the scores themselves, every statement that we made in class about scores has to be rewritten in terms of log scores. For example, the ratio can be written as\n",
    "\n",
    "$$\n",
    "\\frac{s(j)}{s(i)} = e^{\\log(\\frac{s(j)}{s(i)})} = e^{\\log(s(j)) - \\log(s(i))}\n",
    "$$\n",
    "\n",
    "You will have to calculate the ratios, so keep in mind that `np.e**(x)` evaluates to $e^x$."
   ]
  },
  {
   "cell_type": "markdown",
   "metadata": {
    "#solution": false,
    "#staff": false,
    "#student": false
   },
   "source": [
    "Write the condition $r(i, j) < 1$ in terms of $\\log(s(i))$ and $\\log(s(j)$. Justify your answer."
   ]
  },
  {
   "cell_type": "markdown",
   "metadata": {
    "#solution": false,
    "#staff": false,
    "#student": true
   },
   "source": [
    "Since we know:\n",
    "\n",
    "$$\n",
    "\\frac{s(j)}{s(i)} = e^{\\log(\\frac{s(j)}{s(i)})} = e^{\\log(s(j)) - \\log(s(i))}\n",
    "$$\n",
    "\n",
    "then from here, we also know that: $$\n",
    "r(i, j) = \\frac{\\pi(j)}{\\pi(i)} = \\frac{s(j)}{s(i)}\n",
    "$$\n",
    "\n",
    "thus,\n",
    "\n",
    "\n",
    "$$\n",
    "\\frac{\\pi(j)}{\\pi(i)} = e^{\\log(\\frac{\\pi(j)}{\\pi(i)})} = e^{\\log(\\pi(j)) - \\log(\\pi(i))}\n",
    "$$\n",
    "\n",
    "so in order for $r(i,j)<1$, $\\log(\\frac{\\pi(j)}{\\pi(i)}) = \\log(\\pi(j)) - \\log(\\pi(i)) < 0$"
   ]
  },
  {
   "cell_type": "markdown",
   "metadata": {
    "#solution": false,
    "#staff": false,
    "#student": false
   },
   "source": [
    "## Implementing the Metropolis Algorithm ##"
   ]
  },
  {
   "cell_type": "markdown",
   "metadata": {
    "#solution": false,
    "#staff": false,
    "#student": false
   },
   "source": [
    "#newpage\n",
    "\n",
    "### 6. An Encoded Message ###\n",
    "\n",
    "Enter your student id in the cell below to access your secret encoded message. By the end of the lab, you should be able to decode your string."
   ]
  },
  {
   "cell_type": "code",
   "execution_count": 19,
   "metadata": {
    "#solution": false,
    "#staff": false,
    "#student": true
   },
   "outputs": [
    {
     "data": {
      "text/plain": [
       "'lv xae jivr alwxigt iz xae qigjk ivjt u zeq reveguxlivw ause heev rguvxek xae gije iz kezevklvr zgeekid lv lxw aiyg iz duoldyd kuvreg l ki vix waglvn zgid xalw gewmivwlhljlxtl qejcide lx l ki vix hejlese xaux uvt iz yw qiyjk eocauvre mjucew qlxa uvt ixaeg meimje ig uvt ixaeg reveguxliv xae evegrt xae zulxa xae kesixliv qalca qe hglvr xi xalw evkeusig qljj jlrax iyg ciyvxgt uvk ujj qai wegse lxuvk xae rjiq zgid xaux zlge cuv xgyjt jlrax xae qigjk uvk wi dt zejjiq udeglcuvw uwn vix qaux tiyg ciyvxgt cuv ki zig tiyuwn qaux tiy cuv ki zig tiyg ciyvxgt dt zejjiq clxlpevw iz xae qigjk uwn vix qaux udeglcu qljj ki zig tiy hyx qaux xirexaeg qe cuv ki zig xae zgeekid iz duv      wiygce fiav z nevvektw lvuyryguj wmeeca'"
      ]
     },
     "execution_count": 19,
     "metadata": {},
     "output_type": "execute_result"
    }
   ],
   "source": [
    "student_id = 3032869699\n",
    "secret_text = get_secret_text(student_id)\n",
    "secret_text"
   ]
  },
  {
   "cell_type": "markdown",
   "metadata": {
    "#solution": false,
    "#staff": false,
    "#student": false
   },
   "source": [
    "#newpage\n",
    "\n",
    "### 7. Implementation ###\n",
    "\n",
    "Define the function `metropolis` which will take as its arguments:\n",
    "\n",
    "- the encrypted text, as a string\n",
    "- the transition matrix of bigrams\n",
    "- the number of repetitions for running the Metropolis algorithm \n",
    "\n",
    "The function should return the decoder that it arrives at after performing the Metropolis algorithm the specified number of times. \n",
    "\n",
    "If the number of repetitions is large, you know from class that the distribution of this random decoder is close to the desired distribution $\\pi$ which is the likelihood distribution of the decoder given the data. Therefore you expect to end up with a decoder that has a high likelihood compared to the other decoders.\n",
    "\n",
    "Between iterations, you should keep track of the following variables:\n",
    "\n",
    "1. `best_decoder`: the decoder that has the highest log score\n",
    "2. `best_score`: the log score associated with the best_decoder\n",
    "3. `decoder`: the decoder that you are currently working with\n",
    "4. `last_score`: the log score of the current decoder\n",
    "\n",
    "In each iteration, you should do the following:\n",
    "\n",
    "1. Generate a new decoder based on the current decoder; the \"new\" decoder might be the same as the current one.\n",
    "2. Calculate the log score of your new decoder.\n",
    "3. **Important:** Follow the Metropolis algorithm to decide whether or not to move to a new decoder.\n",
    "4. If the new decoder's log score is the best seen so far, update `best_score` and `best_decoder`"
   ]
  },
  {
   "cell_type": "code",
   "execution_count": 50,
   "metadata": {
    "#solution": false,
    "#staff": false,
    "#student": true
   },
   "outputs": [],
   "source": [
    "import time\n",
    "\n",
    "def p_coin(p):\n",
    "    \"\"\"\n",
    "    Flips a coin that comes up heads with probability p\n",
    "    and returns 1 if Heads, 0 if Tails\n",
    "    \"\"\"\n",
    "    return np.random.random() < p\n",
    "\n",
    "\n",
    "def metropolis(string_to_decode, bigrams, reps):\n",
    "    decoder = random_decoder() # Starting decoder\n",
    "    \n",
    "    best_decoder = decoder\n",
    "    best_score = log_score(\n",
    "        string_to_decode,\n",
    "        best_decoder,\n",
    "        bigrams\n",
    "    )\n",
    "    \n",
    "    last_score = best_score\n",
    "    \n",
    "    for rep in np.arange(reps):\n",
    "        \n",
    "        # This will print out our progress\n",
    "        if rep*10%reps == 0: # Repeat every 10%\n",
    "            time.sleep(.01)\n",
    "            decoded_text = decode_text(\n",
    "                string_to_decode,\n",
    "                best_decoder\n",
    "            )[:40]\n",
    "            print('Score: %.00f \\t Guess: %s'%(best_score, decoded_text))\n",
    "            \n",
    "        #########################\n",
    "        # Your code starts here #\n",
    "        #########################\n",
    "        proposed_decoder = generate_proposed_decoder(decoder)\n",
    "        log_s_orig = log_score(string_to_decode, decoder, bigrams)\n",
    "        log_s_new = log_score(string_to_decode, proposed_decoder, bigrams)\n",
    "        \n",
    "        # If better than before or p-coin flip works\n",
    "        if log_s_new > log_s_orig or p_coin(np.e**(log_s_new-log_s_orig)): \n",
    "            decoder = proposed_decoder\n",
    "            \n",
    "            if log_s_new > best_score:\n",
    "                best_decoder = decoder\n",
    "                best_score = log_s_new\n",
    "    return best_decoder"
   ]
  },
  {
   "cell_type": "markdown",
   "metadata": {
    "#solution": false,
    "#staff": false,
    "#student": false
   },
   "source": [
    "## Running It ##\n",
    "\n",
    "The text you are going to first encrypt and then decode is taken from [Winston Churchill's speech](https://en.wikipedia.org/wiki/We_shall_fight_on_the_beaches) to the House of Commons on 4 June 1940. Naturally, it contains upper case letters and punctuation that we have not included in our alphabet. In the cell below, the function `clean_string` strips out all the punctuation and replaces upper case letters by the corresponding lower case letters."
   ]
  },
  {
   "cell_type": "code",
   "execution_count": 43,
   "metadata": {
    "#solution": false,
    "#staff": false,
    "#student": false
   },
   "outputs": [
    {
     "data": {
      "text/plain": [
       "'o tseb ijybpz zqpp dgwzoabwdb ltsl oz spp ag ltbou aqlj oz wgltowk oy wbkpbdlba  swa oz ltb mbyl suuswkbibwly sub isab sy ltbj sub mbowk isab xb ytspp cugeb gquybpeby  gwdb sksow smpb lg abzbwa gqu oypswa tgib lg uoab gql ltb ylgui gz xsu swa lg gqlpoeb  ltb ibwsdb gz ljuswwj oz wbdbyysuj zgu jbsuy oz wbdbyysuj spgwb sl swj uslb ltsl oy  xtsl xb sub kgowk lg luj lg ag ltsl oy ltb ubygpeb gz toy isrbyljy kgebuwibwlbebuj isw  gz ltbi ltsl oy ltb xopp gz csuposibwl swa ltb wslogw'"
      ]
     },
     "execution_count": 43,
     "metadata": {},
     "output_type": "execute_result"
    }
   ],
   "source": [
    "ogtext = \"\"\"\n",
    "I have, myself, full confidence that if all do their duty, if nothing is neglected, \n",
    "and if the best arrangements are made, as they are being made, we shall prove ourselves \n",
    "once again able to defend our Island home, to ride out the storm of war, and to outlive \n",
    "the menace of tyranny, if necessary for years, if necessary alone. At any rate, that is \n",
    "what we are going to try to do. That is the resolve of His Majesty’s Government-every man \n",
    "of them. That is the will of Parliament and the nation. \n",
    "\"\"\"\n",
    "original_string = clean_string(ogtext)\n",
    "encoding_cipher = random_decoder()\n",
    "string_to_decode = decode_text(original_string,encoding_cipher)\n",
    "string_to_decode\n"
   ]
  },
  {
   "cell_type": "markdown",
   "metadata": {
    "#solution": false,
    "#staff": false,
    "#student": false
   },
   "source": [
    "### 8a) Finding the Decoder ###\n",
    "Run the following cell to generate your decoder. You may have to run the cell a couple of times to get the correct decoder."
   ]
  },
  {
   "cell_type": "code",
   "execution_count": 51,
   "metadata": {
    "#solution": false,
    "#staff": false,
    "#student": false,
    "scrolled": true
   },
   "outputs": [
    {
     "name": "stdout",
     "output_type": "stream",
     "text": [
      "Score: -2417 \t Guess: y sgmk rbekoj jxoo dqnjytkndk wsgw yj go\n",
      "Score: -1203 \t Guess: r hake wiseld dull vondrgenve that rd al\n",
      "Score: -1108 \t Guess: i have cyself full monfidenme that if al\n",
      "Score: -1088 \t Guess: i have myself full confidence that if al\n",
      "Score: -1088 \t Guess: i have myself full confidence that if al\n",
      "Score: -1088 \t Guess: i have myself full confidence that if al\n",
      "Score: -1088 \t Guess: i have myself full confidence that if al\n",
      "Score: -1088 \t Guess: i have myself full confidence that if al\n",
      "Score: -1088 \t Guess: i have myself full confidence that if al\n",
      "Score: -1088 \t Guess: i have myself full confidence that if al\n"
     ]
    }
   ],
   "source": [
    "new_decoder = metropolis(string_to_decode, wp_bigram_mc, 10000) "
   ]
  },
  {
   "cell_type": "markdown",
   "metadata": {
    "#solution": false,
    "#staff": false,
    "#student": false
   },
   "source": [
    "Run the cell below to decode the entire string."
   ]
  },
  {
   "cell_type": "code",
   "execution_count": 52,
   "metadata": {
    "#solution": false,
    "#staff": false,
    "#student": true
   },
   "outputs": [
    {
     "data": {
      "text/plain": [
       "'i have myself full confidence that if all do their duty if nothing is neglected  and if the best arrangements are made as they are being made we shall prove ourselves  once again able to defend our island home to ride out the storm of war and to outlive  the menace of tyranny if necessary for years if necessary alone at any rate that is  what we are going to try to do that is the resolve of his makestys governmentevery man  of them that is the will of parliament and the nation'"
      ]
     },
     "execution_count": 52,
     "metadata": {},
     "output_type": "execute_result"
    }
   ],
   "source": [
    "decode_text(string_to_decode, new_decoder)"
   ]
  },
  {
   "cell_type": "markdown",
   "metadata": {
    "#solution": false,
    "#staff": false,
    "#student": false
   },
   "source": [
    "### 8b) Decoding Your Secret Message\n",
    "\n",
    "`secret_text` contains your customized, secret message. Use MCMC to decode it. (Note: Even with correct implementation of previous parts, it may take a few runs to successfully decode the text due to randomness in the algorithm.)"
   ]
  },
  {
   "cell_type": "code",
   "execution_count": 54,
   "metadata": {
    "#solution": false,
    "#staff": false,
    "#student": true
   },
   "outputs": [
    {
     "name": "stdout",
     "output_type": "stream",
     "text": [
      "Score: -3280 \t Guess: es jwt fosd wehjonq ox jwt gonfy osfq u \n",
      "Score: -1935 \t Guess: ir the lark himtasu ag the wasld arlu o \n",
      "Score: -1763 \t Guess: in the lonk historg of the world onlg a \n",
      "Score: -1701 \t Guess: in the long history of the world only a \n",
      "Score: -1701 \t Guess: in the long history of the world only a \n",
      "Score: -1701 \t Guess: in the long history of the world only a \n",
      "Score: -1701 \t Guess: in the long history of the world only a \n",
      "Score: -1701 \t Guess: in the long history of the world only a \n",
      "Score: -1701 \t Guess: in the long history of the world only a \n",
      "Score: -1701 \t Guess: in the long history of the world only a \n"
     ]
    },
    {
     "data": {
      "text/plain": [
       "'in the long history of the world only a few generations have been granted the role of defending freedom in its hour of maximum danger i do not shrink from this responsibilityi welcome it i do not believe that any of us would exchange places with any other people or any other generation the energy the faith the devotion which we bring to this endeavor will light our country and all who serve itand the glow from that fire can truly light the world and so my fellow americans ask not what your country can do for youask what you can do for your country my fellow citizens of the world ask not what america will do for you but what together we can do for the freedom of man      source john f kennedys inaugural speech'"
      ]
     },
     "execution_count": 54,
     "metadata": {},
     "output_type": "execute_result"
    }
   ],
   "source": [
    "secret_decoder = metropolis(secret_text, wp_bigram_mc, 10000)\n",
    "decode_text(secret_text, secret_decoder)"
   ]
  },
  {
   "cell_type": "markdown",
   "metadata": {
    "#solution": false,
    "#staff": false,
    "#student": false
   },
   "source": [
    "## Conclusion ##\n",
    "What you have learned:\n",
    "- How to implement the Metropolis algorithm to decode text encrypted by a substitution code, with simplifying assumptions about spaces, capitalization, and punctuation\n",
    "- MCMC works\n",
    "- Abstract concepts such as balance and convergence of $n$-step transition matrices are remarkable in their own right and also have powerful applications"
   ]
  },
  {
   "cell_type": "markdown",
   "metadata": {
    "#solution": false,
    "#staff": false,
    "#student": false
   },
   "source": [
    "## Submission Instructions ##\n",
    "\n",
    "Many assignments throughout the course will have a written portion and a code portion. Please follow the directions below to properly submit both portions.\n",
    "\n",
    "### Written Portion ###\n",
    "*  Scan all the pages into a PDF. You can use any scanner or a phone using an application. Please **DO NOT** simply take pictures using your phone. \n",
    "* Please start a new page for each question. If you have already written multiple questions on the same page, you can crop the image or fold your page over (the old-fashioned way). This helps expedite grading.\n",
    "* It is your responsibility to check that all the work on all the scanned pages is legible.\n",
    "\n",
    "### Code Portion ###\n",
    "* Save your notebook using File > Save and Checkpoint.\n",
    "* Generate a PDF file using File > Download as > PDF via LaTeX. This might take a few seconds and will automatically download a PDF version of this notebook.\n",
    "    * If you have issues, please make a follow-up post on the general Lab 5 Piazza thread.\n",
    "    \n",
    "### Submitting ###\n",
    "* Combine the PDFs from the written and code portions into one PDF.  [Here](https://smallpdf.com/merge-pdf) is a useful tool for doing so. \n",
    "* Submit the assignment to Lab 5 on Gradescope. \n",
    "* **Make sure to assign each page of your pdf to the correct question.**\n",
    "* **It is your responsibility to verify that all of your work shows up in your final PDF submission.**\n",
    "\n",
    "\n",
    "### **We will not grade assignments which do not have pages selected for each question.** "
   ]
  }
 ],
 "metadata": {
  "anaconda-cloud": {},
  "checksums": [
   "1ccfeeb045915fb7127619e3ebb3482e",
   "bf34c7013940d79ba8b508c42d7ec159",
   "2da5cc122d2853a56e8e83e356017eaa",
   "527fc37143140c117eba099f18683c1f",
   "1a0ea97599266f513b1e6b5ab80be858",
   "518c84f8a1f148dbd174743a2ce02a06",
   "4db0d1a17c9f5c2658fb8fcf10cf4c30",
   "c1912f16f311b1d93153155b717e36be",
   "ba3cb46122e0a1ce6a5e62a763b58ae5",
   "4e1c808117d23d28a5f9c04a468dc381",
   "7bb7363184d3b43f53aa41be8117c12a",
   "6496d78f35dd22b8f498c56c77868861",
   "5fc5ac6e718726a8eb13785e58b65f83",
   "dd1a3684b3f691f41f85e497bc4f97c3",
   "d499bbbb45e4e6c70f6bafb05442bd05",
   "e58cd49f9f0de75b020d38233fe095bc",
   "79f19d425575e8bca827c6d1cba072f5",
   "1d946f9e91b7dc0b99104ce32f007045",
   "7ead215a4defe8879141466adf172ecd",
   "eef5eb46a153ddba392879a8ca96e448",
   "2f43b42fd833d1e77420a8dae7419000",
   "3b7e9ec4dfd571113bc9b2df838a6e68",
   "f03589ddcc55bc8b69dcc9e59811dc29",
   "925c19707780dce63e4c5a267fd2ddf3",
   "3a76d7cce4e9ecdb4fe70737e7879960",
   "29c2c7ed08943b4310d1455a66ce0576",
   "3a76d7cce4e9ecdb4fe70737e7879960",
   "016fd6620792bc9e5f9dfa60a22c9f85",
   "5fe3d0eb9ddfa57685bbaf8ddaacf52a",
   "3a76d7cce4e9ecdb4fe70737e7879960",
   "767187ecf05e5d2b20bbe0f9f16a1b54",
   "df50150582bb5449ed2168e5b89d88de",
   "0677609636be37812a11b7a2ee536ebc",
   "e5150de7202f64f3703d907801a8908c",
   "a0a9754a3de78df8ef6d1c3fa6518607",
   "1c097a533ebd3dd9c13e1398eb99b1cf",
   "fba421c3f33ce40f1a48a801e870abc7",
   "0495eb9b36f8c4e3c9602e0dc4356e22",
   "365b827c84b9575c8afd1ea77f1c7da0",
   "3a76d7cce4e9ecdb4fe70737e7879960",
   "a6a59d20a2769bc6c28d70afe2d1a953",
   "0457c2c7563184126b442c108afc59b6",
   "416472516a05995c34c20841635b7531",
   "d0371bb7bf78209fb88abbf36331265d",
   "bf3ab0a0b5ca1ff155dce7d3c91f6b6c",
   "48021f5a24ee2189294484b961acefbd",
   "bc67157562aa1610ccf2c46552dca23a",
   "173a3ab396f52dbde9d8bf37418c905e",
   "be2d62c6138ec4854efbb7714c2037fd",
   "c12dee123fcf85747921585f7e211e4a",
   "fb19e0eb13cfd3b6ce245572e7583e4d",
   "e0c78da957e65717b0cab9ad690f25f2",
   "3b96e6b115f11148b4909943469818d0",
   "d668949aacb91bf6c5ecff37dc3e1643",
   "1be6b962ec666e29d15cb6506d4523ef",
   "d41d8cd98f00b204e9800998ecf8427e"
  ],
  "kernelspec": {
   "display_name": "Python 3",
   "language": "python",
   "name": "python3"
  },
  "language_info": {
   "codemirror_mode": {
    "name": "ipython",
    "version": 3
   },
   "file_extension": ".py",
   "mimetype": "text/x-python",
   "name": "python",
   "nbconvert_exporter": "python",
   "pygments_lexer": "ipython3",
   "version": "3.6.8"
  },
  "number_of_pagebreaks": 6
 },
 "nbformat": 4,
 "nbformat_minor": 2
}
