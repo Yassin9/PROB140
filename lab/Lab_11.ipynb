{
 "cells": [
  {
   "cell_type": "markdown",
   "metadata": {},
   "source": [
    "<table align=\"left\" style=\"border-style: hidden\" class=\"table\"> <tr><td class=\"col-md-2\"><img style=\"float\" src=\"http://prob140.org/assets/icon256.png\" alt=\"Prob140 Logo\" style=\"width: 120px;\"/></td><td><div align=\"left\"><h3 style=\"margin-top: 0;\">Probability for Data Science</h3><h4 style=\"margin-top: 20px;\">UC Berkeley, Fall 2019</h4><p>Ani Adhikari and Jim Pitman</p>CC BY-NC 4.0</div></td></tr></table><!-- not in pdf -->"
   ]
  },
  {
   "cell_type": "code",
   "execution_count": 113,
   "metadata": {
    "#solution": false,
    "#staff": false,
    "#student": false
   },
   "outputs": [],
   "source": [
    "from datascience import *\n",
    "from prob140 import *\n",
    "import numpy as np\n",
    "import matplotlib.pyplot as plt\n",
    "plt.style.use('fivethirtyeight')\n",
    "%matplotlib inline\n",
    "from scipy import stats\n",
    "from sympy import *\n",
    "init_printing()\n",
    "from matplotlib import patches\n",
    "from mpl_toolkits.mplot3d.axes3d import Axes3D\n",
    "import ipywidgets as widgets\n",
    "from ipywidgets import interact"
   ]
  },
  {
   "cell_type": "code",
   "execution_count": 114,
   "metadata": {
    "#solution": false,
    "#staff": false,
    "#student": false
   },
   "outputs": [],
   "source": [
    "def plot_ellipse(ax, a, b, color, draw_lines=True):\n",
    "    ax.add_artist(patches.Ellipse((0, 0), 6 * a, 6 * b, color=color,\n",
    "                                  lw=2, fill=False))\n",
    "    for x in range(-3, 4):\n",
    "        ax.plot([-3 * a, 3 * a], [x * b, x * b],\n",
    "                color='k', lw=1)\n",
    "        ax.plot([x * a, x * a], [-3 * b, 3 * b],\n",
    "                color='k', lw=1)"
   ]
  },
  {
   "cell_type": "code",
   "execution_count": 115,
   "metadata": {
    "#solution": false,
    "#staff": false,
    "#student": false
   },
   "outputs": [],
   "source": [
    "def z_to_v(a, b, n=0, **kwargs):\n",
    "    m = max(a, b, 1) * 3 + 0.5\n",
    "    samples = stats.multivariate_normal.rvs(mean=[0, 0], size=n).reshape((n, 2))\n",
    "    \n",
    "    def indep_normals(v, w):\n",
    "        const = 1 / (2 * np.pi * np.abs(a * b))\n",
    "        return const * np.exp(-0.5*((v / a) ** 2 + (w / b)**2))\n",
    "    def indep_standard_normals(x,y):\n",
    "        const = 1 / (2 * np.pi)\n",
    "        return const * np.exp(-0.5 * (x ** 2 + y **2 ))\n",
    "\n",
    "    x = np.linspace(-m, m, 100)\n",
    "    y = np.linspace(-m, m, 100)\n",
    "    X, Y = np.meshgrid(x, y)\n",
    "\n",
    "    f1 = np.vectorize(indep_standard_normals)\n",
    "    f2 = np.vectorize(indep_normals)\n",
    "\n",
    "    Z1 = f1(X, Y)\n",
    "    Z2 = f2(X, Y)\n",
    "    \n",
    "    def plot(azim):\n",
    "        fig = plt.figure(figsize=(18, 18))\n",
    "        ax1 = fig.add_subplot(221, projection='3d')\n",
    "        ax2 = fig.add_subplot(222, projection='3d')\n",
    "        ax1.plot_surface(X, Y, Z1, color='blue', **kwargs)\n",
    "        ax2.plot_surface(X, Y, Z2, color='gold', **kwargs)\n",
    "        z_max = max(Z1.max(), Z2.max())\n",
    "        ax1.set_zlim3d(0, z_max) \n",
    "        ax2.set_zlim3d(0, z_max)\n",
    "        ax1.set_title('$\\mathbf{Z}$')\n",
    "        ax1.set_xlabel('$z_1$')\n",
    "        ax1.set_ylabel('$z_2$')\n",
    "        ax1.set_zlabel('$f(z_1, z_2)$')\n",
    "        ax2.set_title('$\\mathbf{V}$')\n",
    "        ax2.set_xlabel('$v_1$')\n",
    "        ax2.set_ylabel('$v_2$')\n",
    "        ax2.set_zlabel('$f_V(v_1, v_2)$')\n",
    "        ax1.view_init(20, azim)\n",
    "        ax2.view_init(20, azim)\n",
    "        ax3 = fig.add_subplot(223)\n",
    "        ax4 = fig.add_subplot(224)\n",
    "        ax3.set_aspect('equal', 'datalim')\n",
    "        ax4.set_aspect('equal', 'datalim')\n",
    "        plot_ellipse(ax3, 1, 1, 'blue')\n",
    "        ax3.scatter(samples[:, 0], samples[:, 1], s=30)\n",
    "        ax3.grid(False)\n",
    "        plot_ellipse(ax4, a, b, 'gold')\n",
    "        ax4.scatter(samples[:, 0] * a, samples[:, 1] * b, s=30)\n",
    "        ax3.set_xlim(-m, m)\n",
    "        ax3.set_ylim(-m, m)\n",
    "        ax4.set_xlim(-m, m)\n",
    "        ax4.set_ylim(-m, m)\n",
    "        ax4.grid(False)\n",
    "    azimuth_slider = widgets.IntSlider(\n",
    "        value=-90,\n",
    "        min=-180,\n",
    "        max=180,\n",
    "        step=15,\n",
    "        description='azimuth',\n",
    "        continuous_update=False\n",
    "    )\n",
    "\n",
    "    @interact(azim=azimuth_slider)\n",
    "    def wrapper(azim):\n",
    "        plot(azim)"
   ]
  },
  {
   "cell_type": "code",
   "execution_count": 116,
   "metadata": {
    "#solution": false,
    "#staff": false,
    "#student": false
   },
   "outputs": [],
   "source": [
    "def unit_square_to_rectangle(a, b):\n",
    "    plt.axes().set_aspect('equal')\n",
    "    plt.xlim(-0.1 + min(a, 0), max(a, 1) + 0.1)\n",
    "    plt.xticks(np.arange(min(a, 0), max(a, 1) + 0.1))\n",
    "    plt.ylim(-0.1 + min(b, 0), max(b, 1) + 0.1)\n",
    "    plt.yticks(np.arange(min(b, 0), max(b, 1) + 0.1))\n",
    "    plt.plot([0, 1], [0, 0], color='k', lw=2)\n",
    "    plt.plot([0, 0], [0, 1], color='k', lw=2)\n",
    "    plt.plot([0, 1], [1, 1], color='k', lw=2)\n",
    "    plt.plot([1, 1], [0, 1], color='k', lw=2)\n",
    "    plt.plot([0, a], [0, 0], color='gold', lw=2)\n",
    "    plt.plot([0, 0], [0, b], color='gold', lw=2)\n",
    "    plt.plot([0, a], [b, b], color='gold', lw=2)\n",
    "    plt.plot([a, a], [0, b], color='gold', lw=2);"
   ]
  },
  {
   "cell_type": "code",
   "execution_count": 117,
   "metadata": {
    "#solution": false,
    "#staff": false,
    "#student": false
   },
   "outputs": [],
   "source": [
    "def unit_square_to_parallelogram(a, b):\n",
    "    plt.axes().set_aspect('equal')\n",
    "    plt.xlim(-0.1 + min(a, 0), max(a, 1) + 0.1)\n",
    "    plt.xticks(np.arange(min(a, 0), max(a, 1) + 0.1))\n",
    "    plt.ylim(-0.1 + min(a + b, 0, a, b), max(a + b, 1, a, b) + 0.1)\n",
    "    plt.yticks(np.arange(min(a + b, 0, a, b), max(a + b, 1, a, b) + 0.1))\n",
    "    plt.plot([0, 1], [0, 0], color='k', lw=2)\n",
    "    plt.plot([0, 0], [0, 1], color='k', lw=2)\n",
    "    plt.plot([0, 1], [1, 1], color='k', lw=2)\n",
    "    plt.plot([1, 1], [0, 1], color='k', lw=2)\n",
    "    plt.plot([0, 1], [0, a], color='red', lw=2)\n",
    "    plt.plot([0, 0], [0, b], color='red', lw=2)\n",
    "    plt.plot([1, 1], [a, a + b], color='red', lw=2)\n",
    "    plt.plot([0, 1], [b, a + b], color='red', lw=2);"
   ]
  },
  {
   "cell_type": "code",
   "execution_count": 118,
   "metadata": {
    "#solution": false,
    "#staff": false,
    "#student": false
   },
   "outputs": [],
   "source": [
    "def z_to_w(a, b, n=0, **kwargs):\n",
    "    m = max(3 * (a + b), 4) + 0.5\n",
    "    samples = stats.multivariate_normal.rvs(mean=[0, 0], size=n).reshape((n, 2))\n",
    "    cov1 = np.identity(2)\n",
    "    norm1 = stats.multivariate_normal(cov=cov1)\n",
    "    cov2 = np.array([[1, a],[a, a ** 2 + b ** 2]])\n",
    "    norm2 = stats.multivariate_normal(cov=cov2)\n",
    "    x = np.linspace(-m, m, 100)\n",
    "    y = np.linspace(-m, m, 100)\n",
    "    X, Y = np.meshgrid(x, y)\n",
    "    pos = np.empty(X.shape + (2,))\n",
    "    pos[:, :, 0] = X\n",
    "    pos[:, :, 1] = Y\n",
    "    Z1 = norm1.pdf(pos)\n",
    "    Z2 = norm2.pdf(pos)\n",
    "    def plot(azim):\n",
    "        fig = plt.figure(figsize=(18, 18))\n",
    "        ax1 = fig.add_subplot(221, projection='3d')\n",
    "        ax2 = fig.add_subplot(222, projection='3d')\n",
    "        ax1.plot_surface(X, Y, Z1, color='blue', **kwargs)\n",
    "        ax2.plot_surface(X, Y, Z2, color='r', **kwargs)\n",
    "        z_max = max(Z1.max(), Z2.max())\n",
    "        ax1.set_zlim3d(0, z_max) \n",
    "        ax2.set_zlim3d(0, z_max)\n",
    "        ax1.set_title('$\\mathbf{Z}$')\n",
    "        ax1.set_xlabel('$z_1$')\n",
    "        ax1.set_ylabel('$z_2$')\n",
    "        ax1.set_zlabel('$f(z_1, z_2)$')\n",
    "        ax2.set_title('$\\mathbf{W}$')\n",
    "        ax2.set_xlabel('$w_1$')\n",
    "        ax2.set_ylabel('$w_2$')\n",
    "        ax2.set_zlabel('$f_W(w_1, w_2)$')\n",
    "        ax1.set_xlim(-m, m)\n",
    "        ax1.set_ylim(-m, m)\n",
    "        ax2.set_xlim(-m, m)\n",
    "        ax2.set_ylim(-m, m)\n",
    "        ax1.view_init(20, azim)\n",
    "        ax2.view_init(20, azim)\n",
    "        ax1 = fig.add_subplot(223)\n",
    "        ax1.set_aspect('equal', 'datalim')\n",
    "        ax1.set_xlabel('$Z_1$')\n",
    "        ax1.set_ylabel('$Z_2$')\n",
    "        ax1.scatter(samples[:, 0], samples[:, 1], s=30)\n",
    "        plot_ellipse(ax1, 1, 1, 'blue')\n",
    "        ax2 = fig.add_subplot(224)\n",
    "        ax2.set_aspect('equal', 'datalim')\n",
    "        for x in range(-3, 4):\n",
    "            ax2.plot([-3, 3], [-3 * a + b * x, 3 * a + b * x], color='k', lw=1)\n",
    "            ax2.plot([x, x], [a * x - 3 * b, a * x + 3 * b], color='k', lw=1)\n",
    "        radius = 32 / (a ** 2 + b ** 2) ** 0.5\n",
    "        ax2.scatter(samples[:, 0], a * samples[:, 0] + b * samples[:, 1], s=30)\n",
    "        ax2.set_xlabel('$W_1$')\n",
    "        ax2.set_ylabel('$W_2$')\n",
    "        ax1.set_xlim(-m, m)\n",
    "        ax1.set_ylim(-m, m)\n",
    "        ax2.set_xlim(-m, m)\n",
    "        ax2.set_ylim(-m, m)\n",
    "        theta = np.linspace(0, 2 * np.pi)\n",
    "        x = np.cos(theta)\n",
    "        y = np.sin(theta)\n",
    "        plt.plot(3 * x, 3 * (a * x + b * y), lw=2, color='r')\n",
    "    \n",
    "    azimuth_slider = widgets.IntSlider(\n",
    "        value=-90,\n",
    "        min=-180,\n",
    "        max=180,\n",
    "        step=15,\n",
    "        description='azimuth',\n",
    "        continuous_update=False\n",
    "    )\n",
    "\n",
    "    @interact(azim=azimuth_slider)\n",
    "    def wrapper(azim):\n",
    "        plot(azim)\n",
    "        \n"
   ]
  },
  {
   "cell_type": "markdown",
   "metadata": {
    "#solution": false,
    "#staff": false,
    "#student": false
   },
   "source": [
    "# Lab 11: Introduction to Jointly Normal Vectors #\n",
    "The multivariate normal distribution is central to many topics in statistical learning theory. In this lab you will develop the most commonly used formula for the multivariate normal joint density.\n",
    "\n",
    "The lab is designed as a sequence of small steps that lead you to the joint distribution of linear combinations of independent standard normal variables. That's the multivariate normal distribution. Random variables with this joint distribution are called *jointly normal*. In class we will study the fundamental properties of this joint distribution and its use in multiple linear regression.\n",
    "\n",
    "The lab is just an introduction to the multivariate normal. It's not intended as a thorough account, and you might have questions at the end of it. Keep a note of your questions. I hope that they will be answered once we study the distribution in class."
   ]
  },
  {
   "cell_type": "markdown",
   "metadata": {
    "#solution": false,
    "#staff": false,
    "#student": false
   },
   "source": [
    "**Please make sure you have some paper and a pencil as you do this lab.** It combines algebra, geometry, calculus, linear algebra, and of course probability theory.\n",
    "\n",
    "What you will learn:\n",
    "- How to use `SymPy` for linear algebra\n",
    "- How to find the joint density of a linear transformation of two variables\n",
    "- How to parametrize the joint density of two independent normal variables so that the formula can easily be extended to handle higher dimensions"
   ]
  },
  {
   "cell_type": "markdown",
   "metadata": {
    "#solution": false,
    "#staff": false,
    "#student": false
   },
   "source": [
    "Let's get started with a couple of preliminaries. The first one sets up some standard notation for collections of random variables and their moments. The second one examines the form of the normal density function in one dimension.\n",
    "\n",
    "## Two Dimensions ##\n",
    "We are used to thinking about a pair of random variables $X$ and $Y$ as a point $(X, Y)$ on the plane. As we move to higher dimensions, it becomes convenient to use matrix representations instead. \n",
    "\n",
    "This lab is almost entirely about two dimensions, so the definitions below are about a pair of random variables. All the definitions have obvious extensions to $n$ dimensions for $n > 2$.\n",
    "\n",
    "### Random Vector ###\n",
    "We will represent random variables $X_1$ and $X_2$ as a column vector.\n",
    "$$\n",
    "\\mathbf{X} ~ = ~ \n",
    "\\begin{bmatrix}\n",
    "X_1 \\\\\n",
    "X_2 \\\\\n",
    "\\end{bmatrix}\n",
    "$$\n",
    "\n",
    "### Mean Vector ###\n",
    "The *mean vector* of $\\mathbf{X}$ is defined as\n",
    "$$\n",
    "\\boldsymbol{\\mu} ~ = ~ \n",
    "\\begin{bmatrix}\n",
    "E(X_1) \\\\\n",
    "E(X_2) \\\\\n",
    "\\end{bmatrix}\n",
    "$$\n",
    "\n",
    "### Covariance Matrix ###\n",
    "The *covariance matrix* of $\\mathbf{X}$ is the $2\\times2$ matrix $\\boldsymbol{\\Sigma}$ whose $(i, j)$th element is $Cov(X_i, X_j)$. By properties of covariance,\n",
    "\n",
    "$$\n",
    "\\boldsymbol{\\Sigma} ~ = ~ \n",
    "\\begin{bmatrix}\n",
    "Var(X_1) & Cov(X_1, X_2) \\\\\n",
    "Cov(X_1, X_2) & Var(X_2)\n",
    "\\end{bmatrix}\n",
    "$$\n",
    "\n",
    "Every covariance matrix is symmetric, and the elements along its main diagonal are non-negative. Covariance matrices have another property that isn't easy to spot just by looking. As you will soon see in class, there is a relation between $Cov(X_1, X_2)$, $Var(X_1)$, and $Var(X_2)$; the  relation implies that only positive semi-definite matrices can be covariance matrices. But you don't have to worry about that in this lab."
   ]
  },
  {
   "cell_type": "markdown",
   "metadata": {
    "#solution": false,
    "#staff": false,
    "#student": false
   },
   "source": [
    "## The Normal Density Function ##\n",
    "The normal density function can be written in many ways. Let's look at how we have written it thus far. The goal is to help you focus on the most important aspects of the density function without getting caught up in details.\n",
    "\n",
    "### Quadratic in the Exponent  ###\n",
    "The normal $(\\mu, \\sigma^2)$ density has a quadratic expression in the exponent.\n",
    "\n",
    "$$\n",
    "f(x) ~ = ~ \\frac{1}{\\sqrt{2\\pi}} e^{-\\frac{1}{2} \\big{(} \\frac{x-\\mu}{\\sigma} \\big{)}^2} ~ = ~ C e^{-\\big{[}\\frac{1}{2}(ax^2 + bx + c)\\big{]}}, ~~~~~~ -\\infty < x < \\infty\n",
    "$$\n",
    "\n",
    "where $C$, $a$, $b$, and $c$ are constants with $a > 0$. \n",
    "\n",
    "The quadratic expression $\\frac{1}{2}(ax^2 + bx + c)$ determines the shape of the density. As you know, $C$ just makes the density integrate to 1.\n",
    "\n",
    "If you have a density function and are trying to decide whether it is a normal density, ignore the constants and just look in the exponent. If what you see there is a quadratic, the density is normal. You can work out the mean and SD by methods such as \"completing the square\", but that algebra exercise is not part of this lab.\n",
    "\n",
    "### Centering ###\n",
    "The focus of the lab is on the form of the normal density function and the shape of the density surface of two jointly normal variables. Shifting the variables only affects location, not the shape. So we will start with centered variables, that is, variables with expectation 0. At the end of the lab we will make a straightforward modification for the case of non-zero means. For now, just assume $\\mu = 0$, so that\n",
    "\n",
    "$$\n",
    "f(x) ~ = ~ Ce^{-\\frac{1}{2}ax^2}, ~~~~~~ -\\infty < x < \\infty\n",
    "$$"
   ]
  },
  {
   "cell_type": "markdown",
   "metadata": {
    "#solution": false,
    "#staff": false,
    "#student": false
   },
   "source": [
    "#newpage\n",
    "\n",
    "## Part 1. Independent Standard Normal Variables ##"
   ]
  },
  {
   "cell_type": "markdown",
   "metadata": {
    "#solution": false,
    "#staff": false,
    "#student": false
   },
   "source": [
    "Let $Z_1, Z_2$ be i.i.d. standard normal. As you know, their joint density is\n",
    "\n",
    "$$\n",
    "f(z_1, z_2) ~ = ~ \\frac{1}{2\\pi} e^{-\\frac{1}{2}(z_1^2 + z_2^2)}, ~~~~~ -\\infty < z_1, z_2 < \\infty\n",
    "$$\n",
    "\n",
    "Notice that the expression in the exponent is quadratic in $z_1$ and $z_2$. It's a particularly simple quadratic – there are no $z_1z_2$, $z_1$, or $z_2$ terms. That is because $Z_1$ and $Z_2$ are independent and in standard units.\n",
    "\n",
    "In this part of the lab you will learn how to rewrite $f$ using matrices."
   ]
  },
  {
   "cell_type": "markdown",
   "metadata": {
    "#solution": false,
    "#staff": false,
    "#student": false
   },
   "source": [
    "### 1a) The Familiar Form ###\n",
    "Run the cell below. It contains the code used in the textbook to plot $f$. Notice the use of `np.pi` for $\\pi$ and `np.exp` for exponentiation."
   ]
  },
  {
   "cell_type": "code",
   "execution_count": 119,
   "metadata": {
    "#solution": false,
    "#staff": false,
    "#student": false
   },
   "outputs": [
    {
     "data": {
      "image/png": "[encoded data removed]",
      "text/plain": [
       "<Figure size 864x576 with 1 Axes>"
      ]
     },
     "metadata": {
      "needs_background": "light"
     },
     "output_type": "display_data"
    }
   ],
   "source": [
    "def indep_standard_normals(x, y):\n",
    "    return 1/(2*np.pi) * np.exp(-0.5*(x**2 + y**2))\n",
    "\n",
    "Plot_3d((-4, 4), (-4, 4), indep_standard_normals,\n",
    "        rstride=4, cstride=4)\n",
    "plt.title('Joint Density of $Z_1$ and $Z_2$');"
   ]
  },
  {
   "cell_type": "markdown",
   "metadata": {
    "#solution": false,
    "#staff": false,
    "#student": false
   },
   "source": [
    "### 1b) The Joint Density in `SymPy` ###\n",
    "\n",
    "Recall from a previous lab that you can do symbolic math in Python using `SymPy`. Run the cell below to create two symbols `z_1` and `z_2`."
   ]
  },
  {
   "cell_type": "code",
   "execution_count": 120,
   "metadata": {
    "#solution": false,
    "#staff": false,
    "#student": false
   },
   "outputs": [],
   "source": [
    "z_1 = Symbol('z_1')\n",
    "z_2 = Symbol('z_2')"
   ]
  },
  {
   "cell_type": "markdown",
   "metadata": {
    "#solution": false,
    "#staff": false,
    "#student": false
   },
   "source": [
    "Construct the `SymPy`expression `f` to have the value $f(z_1, z_2)$ for the joint density $f$ of two i.i.d. standard normal variables. Remember that `SymPy` recognizes `pi` as $\\pi$ and `exp(x)` as $e^x$."
   ]
  },
  {
   "cell_type": "code",
   "execution_count": 121,
   "metadata": {
    "#solution": false,
    "#staff": false,
    "#student": true
   },
   "outputs": [
    {
     "data": {
      "image/png": "[encoded data removed]",
      "text/latex": [
       "$\\displaystyle \\frac{e^{- 0.5 z_{1}^{2} - 0.5 z_{2}^{2}}}{2 \\pi}$"
      ],
      "text/plain": [
       "         2         2\n",
       " - 0.5⋅z₁  - 0.5⋅z₂ \n",
       "ℯ                   \n",
       "────────────────────\n",
       "        2⋅π         "
      ]
     },
     "execution_count": 121,
     "metadata": {},
     "output_type": "execute_result"
    }
   ],
   "source": [
    "# f(z_1, z_2)\n",
    "\n",
    "f = 1/(2*pi) * exp(-0.5*(z_1**2 + z_2**2))\n",
    "f"
   ]
  },
  {
   "cell_type": "markdown",
   "metadata": {
    "#solution": false,
    "#staff": false,
    "#student": false
   },
   "source": [
    "As you saw when you used `SymPy` before, it doesn't always display functions in the way that's most natural for probability theory. That's OK. It happens sometimes when we use symbolic math programs. \n",
    "\n",
    "Let `function_name` be a `SymPy` expression involving two symbols `x` and `y`. Recall that you can display the integral of `function_name` over a region in the plane by using:\n",
    "\n",
    "`Integral(function_name, (x, lower_x, upper_x), (y, lower_y, upper_y))`\n",
    "\n",
    "where `lower` and `upper` are the lower and upper limits of integration. \n",
    "\n",
    "Remember also that `SymPy` uses the symbol `oo` (two lower-case letter o's) for $\\infty$ and `-oo` for $-\\infty$.\n",
    "\n",
    "Display the integral of the function $f$ over the entire plane."
   ]
  },
  {
   "cell_type": "code",
   "execution_count": 122,
   "metadata": {
    "#solution": false,
    "#staff": false,
    "#student": true
   },
   "outputs": [
    {
     "data": {
      "image/png": "[encoded data removed]",
      "text/latex": [
       "$\\displaystyle \\int\\limits_{-\\infty}^{\\infty}\\int\\limits_{-\\infty}^{\\infty} \\frac{e^{- 0.5 z_{1}^{2} - 0.5 z_{2}^{2}}}{2 \\pi}\\, dz_{1}\\, dz_{2}$"
      ],
      "text/plain": [
       "∞  ∞                                  \n",
       "⌠  ⌠                                  \n",
       "⎮  ⎮           2         2            \n",
       "⎮  ⎮   - 0.5⋅z₁  - 0.5⋅z₂             \n",
       "⎮  ⎮  ℯ                               \n",
       "⎮  ⎮  ──────────────────── d(z₁) d(z₂)\n",
       "⎮  ⎮          2⋅π                     \n",
       "⌡  ⌡                                  \n",
       "-∞ -∞                                 "
      ]
     },
     "execution_count": 122,
     "metadata": {},
     "output_type": "execute_result"
    }
   ],
   "source": [
    "total_integral = Integral(f, (z_1, -oo, oo), (z_2, -oo, oo))\n",
    "total_integral"
   ]
  },
  {
   "cell_type": "markdown",
   "metadata": {
    "#solution": false,
    "#staff": false,
    "#student": false
   },
   "source": [
    "Recall that you can compute the value of the definite integral by using `.doit()`. Run the cell below to check that `SymPy` gets the right answer."
   ]
  },
  {
   "cell_type": "code",
   "execution_count": 123,
   "metadata": {
    "#solution": false,
    "#staff": false,
    "#student": false
   },
   "outputs": [
    {
     "data": {
      "image/png": "[encoded data removed]",
      "text/latex": [
       "$\\displaystyle 1.0$"
      ],
      "text/plain": [
       "1.00000000000000"
      ]
     },
     "execution_count": 123,
     "metadata": {},
     "output_type": "execute_result"
    }
   ],
   "source": [
    "total_integral.doit()"
   ]
  },
  {
   "cell_type": "markdown",
   "metadata": {
    "#solution": false,
    "#staff": false,
    "#student": false
   },
   "source": [
    "### 1c) Matrices in `SymPy` ###\n",
    "Let\n",
    "$$\n",
    "\\mathbf{Z} ~ = ~\n",
    "\\begin{bmatrix}\n",
    "Z_1 \\\\\n",
    "Z_2\n",
    "\\end{bmatrix}\n",
    "$$\n",
    "and let\n",
    "$$\n",
    "\\mathbf{z} ~ = ~\n",
    "\\begin{bmatrix}\n",
    "z_1 \\\\\n",
    "z_2\n",
    "\\end{bmatrix}\n",
    "$$\n",
    "be a generic value of $\\mathbf{Z}$.\n",
    "\n",
    "Recall the formula for the joint density of $\\mathbf{Z}$:\n",
    "\n",
    "$$\n",
    "f(z_1, z_2) ~ = ~ \\frac{1}{2\\pi} e^{-\\frac{1}{2}(z_1^2 + z_2^2)}\n",
    "$$\n",
    "\n",
    "We will use the notation $\\mathbf{M}^T$ for the transpose of a matrix $\\mathbf{M}$. It is clear by algebra that\n",
    "\n",
    "$$\n",
    "f(\\mathbf{z}) \n",
    "~ = ~ \\frac{1}{(\\sqrt{2\\pi})^2} \\exp(-\\frac{1}{2}\\mathbf{z}^T \\mathbf{z})\n",
    "$$\n",
    "\n",
    "Let's see how to calculate $\\mathbf{z}^T\\mathbf{z}$ in `SymPy`.\n",
    "\n",
    "The function `Matrix` converts a list into a column matrix. The method `.T` returns the transpose of the matrix."
   ]
  },
  {
   "cell_type": "code",
   "execution_count": 124,
   "metadata": {
    "#solution": false,
    "#staff": false,
    "#student": false
   },
   "outputs": [
    {
     "data": {
      "text/latex": [
       "$\\displaystyle \\left[\\begin{matrix}z_{1}\\\\z_{2}\\end{matrix}\\right]$"
      ],
      "text/plain": [
       "⎡z₁⎤\n",
       "⎢  ⎥\n",
       "⎣z₂⎦"
      ]
     },
     "execution_count": 124,
     "metadata": {},
     "output_type": "execute_result"
    }
   ],
   "source": [
    "z = Matrix([z_1, z_2])\n",
    "z"
   ]
  },
  {
   "cell_type": "code",
   "execution_count": 125,
   "metadata": {
    "#solution": false,
    "#staff": false,
    "#student": false
   },
   "outputs": [
    {
     "data": {
      "text/latex": [
       "$\\displaystyle \\left[\\begin{matrix}z_{1} & z_{2}\\end{matrix}\\right]$"
      ],
      "text/plain": [
       "[z₁  z₂]"
      ]
     },
     "execution_count": 125,
     "metadata": {},
     "output_type": "execute_result"
    }
   ],
   "source": [
    "z.T"
   ]
  },
  {
   "cell_type": "markdown",
   "metadata": {
    "#solution": false,
    "#staff": false,
    "#student": false
   },
   "source": [
    "Compute $\\mathbf{z}^T \\mathbf{z}$ in the cell below. The ordinary multiplication symbol `*` works for matrix multiplication in `SymPy`."
   ]
  },
  {
   "cell_type": "code",
   "execution_count": 126,
   "metadata": {
    "#solution": false,
    "#staff": false,
    "#student": true
   },
   "outputs": [
    {
     "data": {
      "text/latex": [
       "$\\displaystyle \\left[\\begin{matrix}z_{1}^{2} + z_{2}^{2}\\end{matrix}\\right]$"
      ],
      "text/plain": [
       "⎡  2     2⎤\n",
       "⎣z₁  + z₂ ⎦"
      ]
     },
     "execution_count": 126,
     "metadata": {},
     "output_type": "execute_result"
    }
   ],
   "source": [
    "z.T*z"
   ]
  },
  {
   "cell_type": "markdown",
   "metadata": {
    "#solution": false,
    "#staff": false,
    "#student": false
   },
   "source": [
    "### 1d) The Quadratic and the Covariance Matrix ###\n",
    "You have now checked in a couple of ways that if the two-dimensional random vector $\\mathbf{Z}$ consists of i.i.d. standard normal variables, then the joint density of $\\mathbf{Z}$ is\n",
    "\n",
    "$$\n",
    "f(\\mathbf{z}) \n",
    "~ = ~ \\frac{1}{(\\sqrt{2\\pi})^2} \\exp(-\\frac{1}{2}\\mathbf{z}^T \\mathbf{z})\n",
    "$$\n",
    "\n",
    "The key point to keep in mind:\n",
    "\n",
    "When $\\mathbf{Z}$ is i.i.d. standard normal, **the quadratic in the exponent** is defined as $\\frac{1}{2}\\mathbf{z}^T\\mathbf{z}$ (without the minus sign). That is, the quadratic is half the dot product of the vector $\\mathbf{z}$ with itself.\n",
    "\n",
    "Because $Z_1$ and $Z_2$ are i.i.d. standard normal, the covariance matrix of $\\mathbf{Z}$ is the two-dimensional identity matrix $\\mathbf{I}_2$, which `SymPy` has chosen to name as follows:"
   ]
  },
  {
   "cell_type": "code",
   "execution_count": 127,
   "metadata": {
    "#solution": false,
    "#staff": false,
    "#student": false
   },
   "outputs": [
    {
     "data": {
      "text/latex": [
       "$\\displaystyle \\left[\\begin{matrix}1 & 0\\\\0 & 1\\end{matrix}\\right]$"
      ],
      "text/plain": [
       "⎡1  0⎤\n",
       "⎢    ⎥\n",
       "⎣0  1⎦"
      ]
     },
     "execution_count": 127,
     "metadata": {},
     "output_type": "execute_result"
    }
   ],
   "source": [
    "eye(2)"
   ]
  },
  {
   "cell_type": "markdown",
   "metadata": {
    "#solution": false,
    "#staff": false,
    "#student": false
   },
   "source": [
    "After you've stopped laughing, check that `SymPy` gives the right answers for the following. We are using the notation $\\det(\\mathbf{M})$ for the determinant of $\\mathbf{M}$.\n",
    "\n",
    "(i) $\\mathbf{I}_2^{-1}$\n",
    "\n",
    "(ii) $\\det(\\mathbf{I}_2)$\n",
    "\n",
    "(iii) $\\mathbf{z}^T \\mathbf{I}_2^{-1} \\mathbf{z}$\n",
    "\n",
    "For a `SymPy` matrix `mat`:\n",
    "- `mat.T` evaluates to the transpose\n",
    "- `mat.det()` evaluates to the determinant\n",
    "- `mat.inv()` evaluates to the inverse"
   ]
  },
  {
   "cell_type": "code",
   "execution_count": 128,
   "metadata": {
    "#solution": false,
    "#staff": false,
    "#student": true
   },
   "outputs": [
    {
     "data": {
      "text/latex": [
       "$\\displaystyle \\left[\\begin{matrix}1 & 0\\\\0 & 1\\end{matrix}\\right]$"
      ],
      "text/plain": [
       "⎡1  0⎤\n",
       "⎢    ⎥\n",
       "⎣0  1⎦"
      ]
     },
     "execution_count": 128,
     "metadata": {},
     "output_type": "execute_result"
    }
   ],
   "source": [
    "# (i)\n",
    "\n",
    "eye(2).inv()"
   ]
  },
  {
   "cell_type": "code",
   "execution_count": 129,
   "metadata": {
    "#solution": false,
    "#staff": false,
    "#student": true
   },
   "outputs": [
    {
     "data": {
      "image/png": "[encoded data removed]",
      "text/latex": [
       "$\\displaystyle 1$"
      ],
      "text/plain": [
       "1"
      ]
     },
     "execution_count": 129,
     "metadata": {},
     "output_type": "execute_result"
    }
   ],
   "source": [
    "# (ii)\n",
    "\n",
    "eye(2).det()"
   ]
  },
  {
   "cell_type": "code",
   "execution_count": 130,
   "metadata": {
    "#solution": false,
    "#staff": false,
    "#student": true
   },
   "outputs": [
    {
     "data": {
      "text/latex": [
       "$\\displaystyle \\left[\\begin{matrix}z_{1}^{2} + z_{2}^{2}\\end{matrix}\\right]$"
      ],
      "text/plain": [
       "⎡  2     2⎤\n",
       "⎣z₁  + z₂ ⎦"
      ]
     },
     "execution_count": 130,
     "metadata": {},
     "output_type": "execute_result"
    }
   ],
   "source": [
    "# (iii)\n",
    "\n",
    "z.T*eye(2).inv()*z"
   ]
  },
  {
   "cell_type": "markdown",
   "metadata": {
    "#solution": false,
    "#staff": false,
    "#student": false
   },
   "source": [
    "You showed earlier that we can rewrite the i.i.d. standard normal joint density as\n",
    "\n",
    "$$\n",
    "f(\\mathbf{z}) \n",
    "~ = ~ \\frac{1}{(\\sqrt{2\\pi})^2} \\exp(-\\frac{1}{2}\\mathbf{z}^T \\mathbf{z})\n",
    "$$\n",
    "\n",
    "Now you can write another equivalent form:\n",
    "\n",
    "$$\n",
    "f(\\mathbf{z}) \n",
    "~ = ~ \\frac{1}{(\\sqrt{2\\pi})^2\\sqrt{\\det(\\mathbf{I}_2)}} \\exp(-\\frac{1}{2}\\mathbf{z}^T \\mathbf{I}_2^{-1} \\mathbf{z})\n",
    "$$\n",
    "\n",
    "We say that $\\mathbf{Z}$ is has the **centered bivariate normal distribution with covariance matrix $\\mathbf{I}_2$**. \n",
    "\n",
    "To see why we complicating matters by throwing in a bunch of silly multiplications by 1, continue with the lab."
   ]
  },
  {
   "cell_type": "markdown",
   "metadata": {
    "#solution": false,
    "#staff": false,
    "#student": false
   },
   "source": [
    "#newpage\n",
    "\n",
    "## Part 2: Changing Units – The Effect on the Quadratic  ###\n",
    "Let $a$ and $b$ be non-zero constants. Let $V_1 = aZ_1$ and $V_2 = bZ_2$, and let\n",
    "\n",
    "$$\n",
    "\\mathbf{V} ~ = ~ \n",
    "\\begin{bmatrix}\n",
    "V_1 \\\\\n",
    "V_2\n",
    "\\end{bmatrix}\n",
    "$$\n",
    "\n",
    "Let $f_\\mathbf{V}$ be the joint density of $V_1$ and $V_2$. We will say for short that $f_\\mathbf{V}$ is the joint density of $\\mathbf{V}$.\n",
    "\n",
    "The goal of this part of the lab is to begin to write the formula for $f_\\mathbf{V}$ in terms of matrices and to understand the quadratic component.\n",
    "\n",
    "Much of the work in this part can be done easily by hand. But setting up the matrix framework in `SymPy`, as you are being asked to do below, will make some of the subsequent parts easier."
   ]
  },
  {
   "cell_type": "markdown",
   "metadata": {
    "#solution": false,
    "#staff": false,
    "#student": false
   },
   "source": [
    "### 2a) [ON PAPER] Joint Density of a Linear Transformation ###\n",
    "\n",
    "We started the lab with the definition \n",
    "\n",
    "$$\n",
    "f(z_1, z_2) ~ = ~ \\frac{1}{2\\pi} e^{-\\frac{1}{2}(z_1^2 + z_2^2)}\n",
    "$$\n",
    "\n",
    "By extending the argument for linear change of variable in one dimension, find a formula for $f_{\\mathbf{V}}(v_1, v_2)$ in terms of $f$, $a$, $b$ and of course $v_1$ and $v_2$. Be careful – make sure that your density can't be negative.\n",
    "\n",
    "Explain why your formula works. \n",
    "\n",
    "Then fill in the three blanks below. \n",
    "\n",
    "$$\n",
    "f_{\\mathbf{V}}(v_1, v_2) ~ = ~ \n",
    "f \\big{(} \\underline{ ~ (i) ~ }, \\underline{ ~ (ii) ~ } \\big{)} \\cdot \\frac{1}{\\underline{ ~ (iii) ~ }}\n",
    "$$"
   ]
  },
  {
   "cell_type": "markdown",
   "metadata": {
    "#solution": false,
    "#staff": false,
    "#student": false
   },
   "source": [
    "### 2b) Image and Preimage ###\n",
    "We started with non-zero constants $a$ and $b$, the variables $V_1 = aZ_1$ and $V_2 = bZ_2$, and the random vector\n",
    "\n",
    "$$\n",
    "\\mathbf{V} ~ = ~ \n",
    "\\begin{bmatrix}\n",
    "V_1 \\\\\n",
    "V_2\n",
    "\\end{bmatrix}\n",
    "$$\n",
    "\n",
    "$\\mathbf{V}$ is a linear transformation of $\\mathbf{Z}$, so $\\mathbf{V} = \\mathbf{A}\\mathbf{Z}$ where $\\mathbf{A}$ is a matrix of coefficients.\n",
    "\n",
    "On the space of possible values, let vectors $\\mathbf{z}$ and $\\mathbf{v}$ be such that\n",
    "\n",
    "$$\n",
    "\\mathbf{v} ~ = ~ \\mathbf{A}\\mathbf{z}\n",
    "$$\n",
    "\n",
    "We will call $\\mathbf{v}$ the *image* of $\\mathbf{z}$ under the linear tranformation by $\\mathbf{A}$, and we will call $\\mathbf{z}$ the *preimage* of $\\mathbf{v}$.\n",
    "\n",
    "Informally, $\\mathbf{z}$ is the point that leads to $\\mathbf{v}$ via the linear transformation $\\mathbf{A}$.\n",
    "\n",
    "In this exercise you will establish the relation between the preimage and the quadratic in the exponent. First, run the cell below create some symbols."
   ]
  },
  {
   "cell_type": "code",
   "execution_count": 131,
   "metadata": {
    "#solution": false,
    "#staff": false,
    "#student": false
   },
   "outputs": [],
   "source": [
    "a = Symbol('a')\n",
    "b = Symbol('b')\n",
    "v_1 = Symbol('v_1')\n",
    "v_2 = Symbol('v_2')"
   ]
  },
  {
   "cell_type": "markdown",
   "metadata": {
    "#solution": false,
    "#staff": false,
    "#student": false
   },
   "source": [
    "You can use `Matrix` to create a matrix by rows, providing a list of lists as the argument, as follows. \n",
    "\n",
    "Here is a matrix with just one row. Notice the contrast with the way of producing a column."
   ]
  },
  {
   "cell_type": "code",
   "execution_count": 132,
   "metadata": {
    "#solution": false,
    "#staff": false,
    "#student": false
   },
   "outputs": [
    {
     "data": {
      "text/latex": [
       "$\\displaystyle \\left( \\left[\\begin{matrix}1 & 2\\end{matrix}\\right], \\  \\left[\\begin{matrix}1\\\\2\\end{matrix}\\right]\\right)$"
      ],
      "text/plain": [
       "⎛        ⎡1⎤⎞\n",
       "⎜[1  2], ⎢ ⎥⎟\n",
       "⎝        ⎣2⎦⎠"
      ]
     },
     "execution_count": 132,
     "metadata": {},
     "output_type": "execute_result"
    }
   ],
   "source": [
    "Matrix([[1,2]]), Matrix([1, 2])"
   ]
  },
  {
   "cell_type": "code",
   "execution_count": 133,
   "metadata": {
    "#solution": false,
    "#staff": false,
    "#student": false
   },
   "outputs": [
    {
     "data": {
      "text/latex": [
       "$\\displaystyle \\left[\\begin{matrix}1 & 2\\\\3 & 4\\end{matrix}\\right]$"
      ],
      "text/plain": [
       "⎡1  2⎤\n",
       "⎢    ⎥\n",
       "⎣3  4⎦"
      ]
     },
     "execution_count": 133,
     "metadata": {},
     "output_type": "execute_result"
    }
   ],
   "source": [
    "Matrix([[1, 2], [3, 4]])"
   ]
  },
  {
   "cell_type": "markdown",
   "metadata": {
    "#solution": false,
    "#staff": false,
    "#student": false
   },
   "source": [
    "Create the matrix $\\mathbf{A}$ in `SymPy`. Call it `coeffs` as a reminder that it contains the coefficients of the linear transformation."
   ]
  },
  {
   "cell_type": "code",
   "execution_count": 134,
   "metadata": {
    "#solution": false,
    "#staff": false,
    "#student": true
   },
   "outputs": [
    {
     "data": {
      "text/latex": [
       "$\\displaystyle \\left[\\begin{matrix}a & 0\\\\0 & b\\end{matrix}\\right]$"
      ],
      "text/plain": [
       "⎡a  0⎤\n",
       "⎢    ⎥\n",
       "⎣0  b⎦"
      ]
     },
     "execution_count": 134,
     "metadata": {},
     "output_type": "execute_result"
    }
   ],
   "source": [
    "coeffs = Matrix([[a, 0], [0, b]])\n",
    "coeffs"
   ]
  },
  {
   "cell_type": "markdown",
   "metadata": {
    "#solution": false,
    "#staff": false,
    "#student": false
   },
   "source": [
    "Remember that you have already defined\n",
    "$\\mathbf{z} = \n",
    "\\begin{bmatrix}\n",
    "z_1 \\\\\n",
    "z_2\n",
    "\\end{bmatrix}$\n",
    "\n",
    "Find the image of $\\mathbf{z}$. This is a check to see that your definition of `coeffs` is correct."
   ]
  },
  {
   "cell_type": "code",
   "execution_count": 135,
   "metadata": {
    "#solution": false,
    "#staff": false,
    "#student": true
   },
   "outputs": [
    {
     "data": {
      "text/latex": [
       "$\\displaystyle \\left[\\begin{matrix}a z_{1}\\\\b z_{2}\\end{matrix}\\right]$"
      ],
      "text/plain": [
       "⎡a⋅z₁⎤\n",
       "⎢    ⎥\n",
       "⎣b⋅z₂⎦"
      ]
     },
     "execution_count": 135,
     "metadata": {},
     "output_type": "execute_result"
    }
   ],
   "source": [
    "image_of_z = coeffs*z\n",
    "image_of_z"
   ]
  },
  {
   "cell_type": "markdown",
   "metadata": {
    "#solution": false,
    "#staff": false,
    "#student": false
   },
   "source": [
    "Define\n",
    "$\\mathbf{v} = \n",
    "\\begin{bmatrix}\n",
    "v_1 \\\\\n",
    "v_2\n",
    "\\end{bmatrix}$"
   ]
  },
  {
   "cell_type": "code",
   "execution_count": 136,
   "metadata": {
    "#solution": false,
    "#staff": false,
    "#student": true
   },
   "outputs": [
    {
     "data": {
      "text/latex": [
       "$\\displaystyle \\left[\\begin{matrix}v_{1}\\\\v_{2}\\end{matrix}\\right]$"
      ],
      "text/plain": [
       "⎡v₁⎤\n",
       "⎢  ⎥\n",
       "⎣v₂⎦"
      ]
     },
     "execution_count": 136,
     "metadata": {},
     "output_type": "execute_result"
    }
   ],
   "source": [
    "v = Matrix([v_1, v_2])\n",
    "v"
   ]
  },
  {
   "cell_type": "markdown",
   "metadata": {
    "#solution": false,
    "#staff": false,
    "#student": false
   },
   "source": [
    "Find the preimage of $\\mathbf{v}$. Make sure your answer is a column vector. You might want to use some scratch paper first."
   ]
  },
  {
   "cell_type": "code",
   "execution_count": 137,
   "metadata": {
    "#solution": false,
    "#staff": false,
    "#student": true
   },
   "outputs": [
    {
     "data": {
      "text/latex": [
       "$\\displaystyle \\left[\\begin{matrix}\\frac{v_{1}}{a}\\\\\\frac{v_{2}}{b}\\end{matrix}\\right]$"
      ],
      "text/plain": [
       "⎡v₁⎤\n",
       "⎢──⎥\n",
       "⎢a ⎥\n",
       "⎢  ⎥\n",
       "⎢v₂⎥\n",
       "⎢──⎥\n",
       "⎣b ⎦"
      ]
     },
     "execution_count": 137,
     "metadata": {},
     "output_type": "execute_result"
    }
   ],
   "source": [
    "preimage_of_v = coeffs.inv() * v\n",
    "preimage_of_v"
   ]
  },
  {
   "cell_type": "markdown",
   "metadata": {
    "#solution": false,
    "#staff": false,
    "#student": false
   },
   "source": [
    "Find the dot product of this preimage with itself."
   ]
  },
  {
   "cell_type": "code",
   "execution_count": 138,
   "metadata": {
    "#solution": false,
    "#staff": false,
    "#student": true
   },
   "outputs": [
    {
     "data": {
      "text/latex": [
       "$\\displaystyle \\left[\\begin{matrix}\\frac{v_{2}^{2}}{b^{2}} + \\frac{v_{1}^{2}}{a^{2}}\\end{matrix}\\right]$"
      ],
      "text/plain": [
       "⎡  2     2⎤\n",
       "⎢v₂    v₁ ⎥\n",
       "⎢─── + ───⎥\n",
       "⎢  2     2⎥\n",
       "⎣ b     a ⎦"
      ]
     },
     "execution_count": 138,
     "metadata": {},
     "output_type": "execute_result"
    }
   ],
   "source": [
    "preimage_of_v.T * preimage_of_v"
   ]
  },
  {
   "cell_type": "markdown",
   "metadata": {
    "#solution": false,
    "#staff": false,
    "#student": false
   },
   "source": [
    "Go back and look at your answer to **2a**. \n",
    "\n",
    "**True or false:**\n",
    "\n",
    "In the formula for the joint density $f_\\mathbf{V}$ at the point $\\mathbf{v}$, the quadratic in the exponent is half the dot product of the preimage of $\\mathbf{v}$ with itself."
   ]
  },
  {
   "cell_type": "markdown",
   "metadata": {
    "#solution": false,
    "#staff": false,
    "#student": true
   },
   "source": [
    "\n",
    "**Your answer here:**\n",
    "\n",
    "True\n"
   ]
  },
  {
   "cell_type": "markdown",
   "metadata": {
    "#solution": false,
    "#staff": false,
    "#student": false
   },
   "source": [
    "### 2c) Covariance Matrix of $\\mathbf{V}$ ###\n",
    "\n",
    "Let $\\boldsymbol{\\Sigma}_\\mathbf{V}$ be the covariance matrix of $\\mathbf{V}$. In the cell below, define $\\boldsymbol{\\Sigma}_\\mathbf{V}$ in terms of $a$ and $b$."
   ]
  },
  {
   "cell_type": "code",
   "execution_count": 139,
   "metadata": {
    "#solution": false,
    "#staff": false,
    "#student": true,
    "scrolled": true
   },
   "outputs": [
    {
     "data": {
      "text/latex": [
       "$\\displaystyle \\left[\\begin{matrix}a^{2} & 0\\\\0 & b^{2}\\end{matrix}\\right]$"
      ],
      "text/plain": [
       "⎡ 2    ⎤\n",
       "⎢a   0 ⎥\n",
       "⎢      ⎥\n",
       "⎢     2⎥\n",
       "⎣0   b ⎦"
      ]
     },
     "execution_count": 139,
     "metadata": {},
     "output_type": "execute_result"
    }
   ],
   "source": [
    "Sigma_V = Matrix([[a**2, 0], [0, b**2]])\n",
    "Sigma_V"
   ]
  },
  {
   "cell_type": "markdown",
   "metadata": {
    "#solution": false,
    "#staff": false,
    "#student": false
   },
   "source": [
    "Find $\\boldsymbol{\\Sigma}_\\mathbf{V}^{-1}$."
   ]
  },
  {
   "cell_type": "code",
   "execution_count": 140,
   "metadata": {
    "#solution": false,
    "#staff": false,
    "#student": true
   },
   "outputs": [
    {
     "data": {
      "text/latex": [
       "$\\displaystyle \\left[\\begin{matrix}\\frac{1}{a^{2}} & 0\\\\0 & \\frac{1}{b^{2}}\\end{matrix}\\right]$"
      ],
      "text/plain": [
       "⎡1     ⎤\n",
       "⎢──  0 ⎥\n",
       "⎢ 2    ⎥\n",
       "⎢a     ⎥\n",
       "⎢      ⎥\n",
       "⎢    1 ⎥\n",
       "⎢0   ──⎥\n",
       "⎢     2⎥\n",
       "⎣    b ⎦"
      ]
     },
     "execution_count": 140,
     "metadata": {},
     "output_type": "execute_result"
    }
   ],
   "source": [
    "Sigma_V.inv()"
   ]
  },
  {
   "cell_type": "markdown",
   "metadata": {
    "#solution": false,
    "#staff": false,
    "#student": false
   },
   "source": [
    "Find $\\mathbf{v}^T \\boldsymbol{\\Sigma}_\\mathbf{V}^{-1} \\mathbf{v}$."
   ]
  },
  {
   "cell_type": "code",
   "execution_count": 141,
   "metadata": {
    "#solution": false,
    "#staff": false,
    "#student": true
   },
   "outputs": [
    {
     "data": {
      "text/latex": [
       "$\\displaystyle \\left[\\begin{matrix}\\frac{v_{2}^{2}}{b^{2}} + \\frac{v_{1}^{2}}{a^{2}}\\end{matrix}\\right]$"
      ],
      "text/plain": [
       "⎡  2     2⎤\n",
       "⎢v₂    v₁ ⎥\n",
       "⎢─── + ───⎥\n",
       "⎢  2     2⎥\n",
       "⎣ b     a ⎦"
      ]
     },
     "execution_count": 141,
     "metadata": {},
     "output_type": "execute_result"
    }
   ],
   "source": [
    "v.T*Sigma_V.inv() * v"
   ]
  },
  {
   "cell_type": "markdown",
   "metadata": {
    "#solution": false,
    "#staff": false,
    "#student": false
   },
   "source": [
    "This shows that in the formula for the joint density of $f_\\mathbf{V}$ at the point $\\mathbf{v}$, the quadratic in the exponent can be written as\n",
    "\n",
    "$$\n",
    "\\frac{1}{2} \\mathbf{v}^T \\boldsymbol{\\Sigma}_\\mathbf{V}^{-1} \\mathbf{v}\n",
    "$$\n",
    "\n",
    "This form is useful because it is expressed directly in terms of $\\mathbf{v}$ and not the preimage. "
   ]
  },
  {
   "cell_type": "markdown",
   "metadata": {
    "#solution": false,
    "#staff": false,
    "#student": false
   },
   "source": [
    "#newpage\n",
    "\n",
    "## Part 3. Changing Units: The Effect on the Constant of Integration ##\n",
    "To complete the formula for $f_\\mathbf{V}$, we need the constant of integration.\n",
    "\n",
    "Recall from your linear algebra class that in two dimensions, the determinant of a matrix is the area of the parallelogram formed by the images of the two unit vectors under the transformation by that matrix.\n",
    "\n",
    "Let's confirm this for the transformation in Part 2.\n",
    "\n",
    "### 3a) Transformation of the Unit Square ###\n",
    "Define the two unit vectors. Remember that they should be column vectors."
   ]
  },
  {
   "cell_type": "code",
   "execution_count": 142,
   "metadata": {
    "#solution": false,
    "#staff": false,
    "#student": true
   },
   "outputs": [
    {
     "data": {
      "text/latex": [
       "$\\displaystyle \\left( \\left[\\begin{matrix}1\\\\0\\end{matrix}\\right], \\  \\left[\\begin{matrix}0\\\\1\\end{matrix}\\right]\\right)$"
      ],
      "text/plain": [
       "⎛⎡1⎤  ⎡0⎤⎞\n",
       "⎜⎢ ⎥, ⎢ ⎥⎟\n",
       "⎝⎣0⎦  ⎣1⎦⎠"
      ]
     },
     "execution_count": 142,
     "metadata": {},
     "output_type": "execute_result"
    }
   ],
   "source": [
    "unit_vector_1 = Matrix([1,0])\n",
    "unit_vector_2 = Matrix([0,1])\n",
    "unit_vector_1, unit_vector_2"
   ]
  },
  {
   "cell_type": "markdown",
   "metadata": {
    "#solution": false,
    "#staff": false,
    "#student": false
   },
   "source": [
    "Find the images of the unit vectors under the tranformation by `coeffs`."
   ]
  },
  {
   "cell_type": "code",
   "execution_count": 143,
   "metadata": {
    "#solution": false,
    "#staff": false,
    "#student": true
   },
   "outputs": [
    {
     "data": {
      "text/latex": [
       "$\\displaystyle \\left( \\left[\\begin{matrix}a\\\\0\\end{matrix}\\right], \\  \\left[\\begin{matrix}0\\\\b\\end{matrix}\\right]\\right)$"
      ],
      "text/plain": [
       "⎛⎡a⎤  ⎡0⎤⎞\n",
       "⎜⎢ ⎥, ⎢ ⎥⎟\n",
       "⎝⎣0⎦  ⎣b⎦⎠"
      ]
     },
     "execution_count": 143,
     "metadata": {},
     "output_type": "execute_result"
    }
   ],
   "source": [
    "image_1 = coeffs*unit_vector_1\n",
    "image_2 = coeffs*unit_vector_2\n",
    "image_1, image_2"
   ]
  },
  {
   "cell_type": "markdown",
   "metadata": {
    "#solution": false,
    "#staff": false,
    "#student": false
   },
   "source": [
    "Run the cell below to see the unit square and the resulting parallelogram when $a=2$ and $b=3$. For this linear transformation, the parallelogram is a rectangle.. The area of the unit square has gone up by a factor of $ab = 6$."
   ]
  },
  {
   "cell_type": "code",
   "execution_count": 144,
   "metadata": {
    "#solution": false,
    "#staff": false,
    "#student": false
   },
   "outputs": [
    {
     "data": {
      "image/png": "[encoded data removed]",
      "text/plain": [
       "<Figure size 432x288 with 1 Axes>"
      ]
     },
     "metadata": {
      "needs_background": "light"
     },
     "output_type": "display_data"
    }
   ],
   "source": [
    "unit_square_to_rectangle(a = 2, b = 3)"
   ]
  },
  {
   "cell_type": "markdown",
   "metadata": {
    "#solution": false,
    "#staff": false,
    "#student": false
   },
   "source": [
    "Suppose $a=2$ and $b=-3$. Run the cell below. What is the area of the rectangle bounded by the transformed unit vectors? Is $ab$ the correct formula for the area? Write your answer in the subsequent cell."
   ]
  },
  {
   "cell_type": "code",
   "execution_count": 145,
   "metadata": {
    "#solution": false,
    "#staff": false,
    "#student": false
   },
   "outputs": [
    {
     "data": {
      "image/png": "[encoded data removed]",
      "text/plain": [
       "<Figure size 432x288 with 1 Axes>"
      ]
     },
     "metadata": {
      "needs_background": "light"
     },
     "output_type": "display_data"
    }
   ],
   "source": [
    "unit_square_to_rectangle(a = 2, b = -3)"
   ]
  },
  {
   "cell_type": "markdown",
   "metadata": {
    "#solution": false,
    "#staff": false,
    "#student": true
   },
   "source": [
    "\n",
    "**Your answer here**\n",
    "\n",
    "The area of this rectangle is also 6 since we know that area cannot be negative. As a result, we know that the formula a*b is not correct here because this would result in -6. Instead of a*b it should be $|a*b|$ to get the correct values no matter what values in the transformation matrix are negative."
   ]
  },
  {
   "cell_type": "markdown",
   "metadata": {
    "#solution": false,
    "#staff": false,
    "#student": false
   },
   "source": [
    "### 3b) [ON PAPER] Two Related Determinants ###\n",
    "In Part 2 you created the `SymPy` matrix `coeffs` to be the linear transformation in the equation $\\mathbf{V} = \\mathbf{AZ}$. You also created `Sigma_V` to be the covariance matrix of $\\mathbf{V}$.\n",
    "\n",
    "(i) Calculate $\\mathbf{AA}^T$ by hand and show that\n",
    "\n",
    "$$\n",
    "\\boldsymbol{\\Sigma}_\\mathbf{V} ~ = ~ \\mathbf{AA}^T\n",
    "$$\n",
    "\n",
    "(ii) Show that if $\\mathbf{z}$ is the preimage of $\\mathbf{v}$ then\n",
    "\n",
    "$$\n",
    "\\mathbf{z}^T\\mathbf{z} ~ = ~ \\mathbf{v}^T (\\mathbf{AA^T})^{-1} \\mathbf{v}\n",
    "~ = ~ \\mathbf{v}^T \\boldsymbol{\\Sigma}_\\mathbf{V}^{-1} \\mathbf{v}\n",
    "$$\n",
    "\n",
    "(iii) Use properties of determinants and the first fact above to explain why $\\det(\\boldsymbol{\\Sigma}_\\mathbf{V}) = (\\det(\\mathbf{A}))^2$."
   ]
  },
  {
   "cell_type": "markdown",
   "metadata": {
    "#solution": false,
    "#staff": false,
    "#student": false
   },
   "source": [
    "### 3c) The Determinant of the Covariance Matrix ###\n",
    "\n",
    "Find $\\det(\\boldsymbol{\\Sigma}_\\mathbf{V})$ in the cell below."
   ]
  },
  {
   "cell_type": "code",
   "execution_count": 146,
   "metadata": {
    "#solution": false,
    "#staff": false,
    "#student": true
   },
   "outputs": [
    {
     "data": {
      "image/png": "[encoded data removed]",
      "text/latex": [
       "$\\displaystyle a^{2} b^{2}$"
      ],
      "text/plain": [
       " 2  2\n",
       "a ⋅b "
      ]
     },
     "execution_count": 146,
     "metadata": {},
     "output_type": "execute_result"
    }
   ],
   "source": [
    "det(Sigma_V)"
   ]
  },
  {
   "cell_type": "markdown",
   "metadata": {
    "#solution": false,
    "#staff": false,
    "#student": false
   },
   "source": [
    "Now look at what you put in Blank (iii) of **2a**, and fill in the blanks below.\n",
    "\n",
    "I filled Blank (iii) of **2a** with the $\\underline{~~~~~~~~~~~~~~~~}$ \n",
    "of the determinant of $\\mathbf{A}$, which is the same as the \n",
    "$\\underline{~~~~~~~~~~~~~~~~}$ \n",
    "of the determinant of $\\boldsymbol{\\Sigma_\\mathbf{V}}$."
   ]
  },
  {
   "cell_type": "markdown",
   "metadata": {
    "#solution": false,
    "#staff": false,
    "#student": true
   },
   "source": [
    "\n",
    "**Your answer here:**\n",
    "1. value\n",
    "2. square root"
   ]
  },
  {
   "cell_type": "markdown",
   "metadata": {
    "#solution": false,
    "#staff": false,
    "#student": false
   },
   "source": [
    "### 3d) [ON PAPER] A Reparametrization ###\n",
    "\n",
    "Your work in Parts 2 and 3 has shown that\n",
    "\n",
    "$$\n",
    "f_\\mathbf{V}(\\mathbf{v}) ~ = ~ \\frac{1}{(\\sqrt{2\\pi})^2 \\sqrt{\\det(\\boldsymbol{\\Sigma}_\\mathbf{V})} } \\exp \\big{(} -\\frac{1}{2} \\mathbf{v}^T \\boldsymbol{\\Sigma}_\\mathbf{V}^{-1} \\mathbf{v} \\big{)}\n",
    "$$\n",
    "\n",
    "The joint density has been expressed in terms of the parameter $\\boldsymbol{\\Sigma}$, the covariance matrix. We say that $\\mathbf{V}$ has the **centered bivariate normal distribution with covariance matrix $\\boldsymbol{\\Sigma}_\\mathbf{V}$**.\n",
    "\n",
    "Confirm that the formula at the end of Part 1 is a special case of this one.\n",
    "\n",
    "This way of expressing the joint density in terms of the covariance matrix extends to higher dimensions. The dimension 2 gets replaced by the new dimension $n$, but other than that, the formula remains exactly the same."
   ]
  },
  {
   "cell_type": "markdown",
   "metadata": {
    "#solution": false,
    "#staff": false,
    "#student": false
   },
   "source": [
    "### 3e) Visualization ###\n",
    "Run the cell below to see graphs of $f$ and $f_\\mathbf{V}$. As in **3a**, we have set $a=2$ and $b=3$. The bottom left panel shows 10 points picked independently according to $f$. The bottom right panel shows those 10 points transformed to create the corresponding 10 replications from $f_\\mathbf{V}$.\n",
    "\n",
    "As you know, $f$ has circular symmetry: its level sets are circles. Those circles get transformed into ellipses whose axes are along the $v_1$ and $v_2$ axes. That is why the level sets $f_\\mathbf{V}$ are ellipses. Move the slider (slowly!) to the right to see the elongated shape."
   ]
  },
  {
   "cell_type": "code",
   "execution_count": 147,
   "metadata": {
    "#solution": false,
    "#staff": false,
    "#student": false
   },
   "outputs": [
    {
     "data": {
      "application/vnd.jupyter.widget-view+json": {
       "model_id": "160acb7633bb45e78d34f653435e889f",
       "version_major": 2,
       "version_minor": 0
      },
      "text/plain": [
       "interactive(children=(IntSlider(value=-90, continuous_update=False, description='azimuth', max=180, min=-180, …"
      ]
     },
     "metadata": {},
     "output_type": "display_data"
    }
   ],
   "source": [
    "z_to_v(a=2, b=3, n=10)"
   ]
  },
  {
   "cell_type": "markdown",
   "metadata": {
    "#solution": false,
    "#staff": false,
    "#student": false
   },
   "source": [
    "#newpage\n",
    "\n",
    "## Part 4: Introducing Dependence ##"
   ]
  },
  {
   "cell_type": "markdown",
   "metadata": {
    "#solution": false,
    "#staff": false,
    "#student": false
   },
   "source": [
    "Let $Z_1$ and $Z_2$ be i.i.d. standard normal as before. Now let $W_1 = Z_1$ and $W_2 = aZ_1 + bZ_2$. As before, both $a$ and $b$ are non-zero constants. \n",
    "\n",
    "Let \n",
    "$\\mathbf{W} = \n",
    "\\begin{bmatrix}\n",
    "W_1 \\\\\n",
    "W_2\n",
    "\\end{bmatrix}$. \n",
    "\n",
    "Our goal is to find the joint density $f_\\mathbf{W}$ at the generic point \n",
    "\n",
    "$\\mathbf{w} = \n",
    "\\begin{bmatrix}\n",
    "w_1 \\\\\n",
    "w_2\n",
    "\\end{bmatrix}$.\n",
    "\n",
    "### 4a) Marginals and Covariance ###\n",
    "\n",
    "Are the marginal distributions of $W_1$ and $W_2$ normal? Why or why not?"
   ]
  },
  {
   "cell_type": "markdown",
   "metadata": {
    "#solution": false,
    "#staff": false,
    "#student": true
   },
   "source": [
    "\n",
    "**Your answer here:**\n",
    "\n",
    "Yes the marginal distributions of $W_1$ and $W_2$ are normal since we know that $W_1 = Z_1$ and $Z_1$ has a standard normal distribution therefore $W_1$ must also have a standard normal distribution. $W_2 = aZ_1 + bZ_2$ and we know that linear transformations of normal distributions are also normal and that the sum of normal distributions is also normal. Putting these two together we can reason that $W_2$ must also have a normal distribution."
   ]
  },
  {
   "cell_type": "markdown",
   "metadata": {
    "#solution": false,
    "#staff": false,
    "#student": false
   },
   "source": [
    "Construct the covariance matrix $\\boldsymbol{\\Sigma}_\\mathbf{W}$ of the random vector $\\mathbf{W}$. Use only the symbols `a` and `b`."
   ]
  },
  {
   "cell_type": "code",
   "execution_count": 148,
   "metadata": {
    "#solution": false,
    "#staff": false,
    "#student": true
   },
   "outputs": [
    {
     "data": {
      "text/latex": [
       "$\\displaystyle \\left[\\begin{matrix}1 & a\\\\a & a^{2} + b^{2}\\end{matrix}\\right]$"
      ],
      "text/plain": [
       "⎡1     a   ⎤\n",
       "⎢          ⎥\n",
       "⎢    2    2⎥\n",
       "⎣a  a  + b ⎦"
      ]
     },
     "execution_count": 148,
     "metadata": {},
     "output_type": "execute_result"
    }
   ],
   "source": [
    "Sigma_W = Matrix([[1, a], [a, a**2+b**2]])\n",
    "Sigma_W"
   ]
  },
  {
   "cell_type": "markdown",
   "metadata": {
    "#solution": false,
    "#staff": false,
    "#student": false
   },
   "source": [
    "Could $W_1$ and $W_2$ be independent? Explain your answer."
   ]
  },
  {
   "cell_type": "markdown",
   "metadata": {
    "#solution": false,
    "#staff": false,
    "#student": true
   },
   "source": [
    "\n",
    "**Your answer here:**\n",
    "\n",
    "$W_1$ and $W_2$ cannot be independent since their covariance is not 0 as we see from the covariance properties:\n",
    "$Cov(W_1, W_2) = Cov(Z_1, aZ_1 + bZ_2) = Cov(Z_1, aZ_1) + Cov(Z_1, bZ_2) = Cov(Z_1, aZ_1) = aCov(Z_1, Z_1) = aVar(Z_1) = a$"
   ]
  },
  {
   "cell_type": "markdown",
   "metadata": {
    "#solution": false,
    "#staff": false,
    "#student": false
   },
   "source": [
    "### 4b) The Quadratic ###\n",
    "\n",
    "By the same logic as in **2a**,\n",
    "$$\n",
    "f_\\mathbf{W}(\\mathbf{w}) ~ = ~ Cf(\\mathbf{z})\n",
    "$$\n",
    "where $\\mathbf{z}$ is the preimage of $\\mathbf{w}$ and $C$ is a positive constant.\n",
    "\n",
    "You know that the quadratic in the exponent of $f(\\mathbf{z})$ is $\\frac{1}{2}\\mathbf{z}^T\\mathbf{z}$. In this exercise you will express that quadratic in terms of $\\mathbf{w}$ and $\\boldsymbol{\\Sigma}_\\mathbf{W}$.\n",
    "\n",
    "$\\mathbf{W} = \\mathbf{AZ}$ for some matrix $\\mathbf{A}$. Define $\\mathbf{A}$ in the cell below; call it `coeffs` as before."
   ]
  },
  {
   "cell_type": "code",
   "execution_count": 149,
   "metadata": {
    "#solution": false,
    "#staff": false,
    "#student": true
   },
   "outputs": [
    {
     "data": {
      "text/latex": [
       "$\\displaystyle \\left[\\begin{matrix}1 & 0\\\\a & b\\end{matrix}\\right]$"
      ],
      "text/plain": [
       "⎡1  0⎤\n",
       "⎢    ⎥\n",
       "⎣a  b⎦"
      ]
     },
     "execution_count": 149,
     "metadata": {},
     "output_type": "execute_result"
    }
   ],
   "source": [
    "coeffs = Matrix([[1,0],[a, b]])\n",
    "coeffs"
   ]
  },
  {
   "cell_type": "markdown",
   "metadata": {
    "#solution": false,
    "#staff": false,
    "#student": false
   },
   "source": [
    "Check that your matrix is correct by finding the image of $\\mathbf{z}$ under the transformation by the matrix."
   ]
  },
  {
   "cell_type": "code",
   "execution_count": 150,
   "metadata": {
    "#solution": false,
    "#staff": false,
    "#student": true
   },
   "outputs": [
    {
     "data": {
      "text/latex": [
       "$\\displaystyle \\left[\\begin{matrix}z_{1}\\\\a z_{1} + b z_{2}\\end{matrix}\\right]$"
      ],
      "text/plain": [
       "⎡    z₁     ⎤\n",
       "⎢           ⎥\n",
       "⎣a⋅z₁ + b⋅z₂⎦"
      ]
     },
     "execution_count": 150,
     "metadata": {},
     "output_type": "execute_result"
    }
   ],
   "source": [
    "coeffs*z"
   ]
  },
  {
   "cell_type": "markdown",
   "metadata": {
    "#solution": false,
    "#staff": false,
    "#student": false
   },
   "source": [
    "Now run the cell below to define\n",
    "$\\mathbf{w} =  \n",
    "\\begin{bmatrix}\n",
    "w_1 \\\\\n",
    "w_2\n",
    "\\end{bmatrix}$"
   ]
  },
  {
   "cell_type": "code",
   "execution_count": 151,
   "metadata": {
    "#solution": false,
    "#staff": false,
    "#student": false
   },
   "outputs": [
    {
     "data": {
      "text/latex": [
       "$\\displaystyle \\left[\\begin{matrix}w_{1}\\\\w_{2}\\end{matrix}\\right]$"
      ],
      "text/plain": [
       "⎡w₁⎤\n",
       "⎢  ⎥\n",
       "⎣w₂⎦"
      ]
     },
     "execution_count": 151,
     "metadata": {},
     "output_type": "execute_result"
    }
   ],
   "source": [
    "w_1 = Symbol('w_1')\n",
    "w_2 = Symbol('w_2')\n",
    "\n",
    "w = Matrix([w_1, w_2])\n",
    "w"
   ]
  },
  {
   "cell_type": "markdown",
   "metadata": {
    "#solution": false,
    "#staff": false,
    "#student": false
   },
   "source": [
    "Find the preimage of $\\mathbf{w}$."
   ]
  },
  {
   "cell_type": "code",
   "execution_count": 152,
   "metadata": {
    "#solution": false,
    "#staff": false,
    "#student": true
   },
   "outputs": [
    {
     "data": {
      "text/latex": [
       "$\\displaystyle \\left[\\begin{matrix}w_{1}\\\\- \\frac{a w_{1}}{b} + \\frac{w_{2}}{b}\\end{matrix}\\right]$"
      ],
      "text/plain": [
       "⎡    w₁     ⎤\n",
       "⎢           ⎥\n",
       "⎢  a⋅w₁   w₂⎥\n",
       "⎢- ──── + ──⎥\n",
       "⎣   b     b ⎦"
      ]
     },
     "execution_count": 152,
     "metadata": {},
     "output_type": "execute_result"
    }
   ],
   "source": [
    "preimage = coeffs.inv() * w\n",
    "preimage"
   ]
  },
  {
   "cell_type": "markdown",
   "metadata": {
    "#solution": false,
    "#staff": false,
    "#student": false
   },
   "source": [
    "Find the dot product of the preimage with itself. The quadratic in the exponent of the joint density function is 1/2 times this dot product. "
   ]
  },
  {
   "cell_type": "code",
   "execution_count": 153,
   "metadata": {
    "#solution": false,
    "#staff": false,
    "#student": true
   },
   "outputs": [
    {
     "data": {
      "text/latex": [
       "$\\displaystyle \\left[\\begin{matrix}w_{1}^{2} + \\left(- \\frac{a w_{1}}{b} + \\frac{w_{2}}{b}\\right)^{2}\\end{matrix}\\right]$"
      ],
      "text/plain": [
       "⎡                   2⎤\n",
       "⎢  2   ⎛  a⋅w₁   w₂⎞ ⎥\n",
       "⎢w₁  + ⎜- ──── + ──⎟ ⎥\n",
       "⎣      ⎝   b     b ⎠ ⎦"
      ]
     },
     "execution_count": 153,
     "metadata": {},
     "output_type": "execute_result"
    }
   ],
   "source": [
    "preimage_dotproduct = preimage.T * preimage\n",
    "preimage_dotproduct"
   ]
  },
  {
   "cell_type": "markdown",
   "metadata": {
    "#solution": false,
    "#staff": false,
    "#student": false
   },
   "source": [
    "As in Part 2, this dot product is equal to $\\mathbf{w}^T \\boldsymbol{\\Sigma}_\\mathbf{W}^{-1} \\mathbf{w}$. This expression is called a *quadratic form*. \n",
    "\n",
    "To show this, compute the quadratic form and don't worry if it doesn't look like the output of the cell above. Algebraic expressions can be written in many equivalent ways."
   ]
  },
  {
   "cell_type": "code",
   "execution_count": 154,
   "metadata": {
    "#solution": false,
    "#staff": false,
    "#student": true
   },
   "outputs": [
    {
     "data": {
      "text/latex": [
       "$\\displaystyle \\left[\\begin{matrix}w_{1} \\left(- \\frac{a w_{2}}{b^{2}} + \\frac{w_{1} \\left(a^{2} + b^{2}\\right)}{b^{2}}\\right) + w_{2} \\left(- \\frac{a w_{1}}{b^{2}} + \\frac{w_{2}}{b^{2}}\\right)\\end{matrix}\\right]$"
      ],
      "text/plain": [
       "⎡   ⎛            ⎛ 2    2⎞⎞                   ⎤\n",
       "⎢   ⎜  a⋅w₂   w₁⋅⎝a  + b ⎠⎟      ⎛  a⋅w₁   w₂⎞⎥\n",
       "⎢w₁⋅⎜- ──── + ────────────⎟ + w₂⋅⎜- ──── + ──⎟⎥\n",
       "⎢   ⎜    2          2     ⎟      ⎜    2     2⎟⎥\n",
       "⎣   ⎝   b          b      ⎠      ⎝   b     b ⎠⎦"
      ]
     },
     "execution_count": 154,
     "metadata": {},
     "output_type": "execute_result"
    }
   ],
   "source": [
    "quadratic_form = w.T * Sigma_W.inv() * w\n",
    "quadratic_form"
   ]
  },
  {
   "cell_type": "markdown",
   "metadata": {
    "#solution": false,
    "#staff": false,
    "#student": false
   },
   "source": [
    "You saw in an earlier lab that the function `simplify` saves you the trouble of simplifying the algebra. But because there are multiple ways of simplifying algebraic expressions, there are also multiple simplification functions in `SymPy`. \n",
    "\n",
    "One such function is `expand`, which does what you expect based on its name: it carries out all the multiplications and collects terms. Run the two cells below and compare the outputs."
   ]
  },
  {
   "cell_type": "code",
   "execution_count": 155,
   "metadata": {
    "#solution": false,
    "#staff": false,
    "#student": false
   },
   "outputs": [
    {
     "data": {
      "text/latex": [
       "$\\displaystyle \\left[\\begin{matrix}\\frac{a^{2} w_{1}^{2}}{b^{2}} - \\frac{2 a w_{1} w_{2}}{b^{2}} + w_{1}^{2} + \\frac{w_{2}^{2}}{b^{2}}\\end{matrix}\\right]$"
      ],
      "text/plain": [
       "⎡ 2   2                       2⎤\n",
       "⎢a ⋅w₁    2⋅a⋅w₁⋅w₂     2   w₂ ⎥\n",
       "⎢────── - ───────── + w₁  + ───⎥\n",
       "⎢   2          2              2⎥\n",
       "⎣  b          b              b ⎦"
      ]
     },
     "execution_count": 155,
     "metadata": {},
     "output_type": "execute_result"
    }
   ],
   "source": [
    "expand(preimage_dotproduct)"
   ]
  },
  {
   "cell_type": "code",
   "execution_count": 156,
   "metadata": {
    "#solution": false,
    "#staff": false,
    "#student": false
   },
   "outputs": [
    {
     "data": {
      "text/latex": [
       "$\\displaystyle \\left[\\begin{matrix}\\frac{a^{2} w_{1}^{2}}{b^{2}} - \\frac{2 a w_{1} w_{2}}{b^{2}} + w_{1}^{2} + \\frac{w_{2}^{2}}{b^{2}}\\end{matrix}\\right]$"
      ],
      "text/plain": [
       "⎡ 2   2                       2⎤\n",
       "⎢a ⋅w₁    2⋅a⋅w₁⋅w₂     2   w₂ ⎥\n",
       "⎢────── - ───────── + w₁  + ───⎥\n",
       "⎢   2          2              2⎥\n",
       "⎣  b          b              b ⎦"
      ]
     },
     "execution_count": 156,
     "metadata": {},
     "output_type": "execute_result"
    }
   ],
   "source": [
    "expand(quadratic_form)"
   ]
  },
  {
   "cell_type": "markdown",
   "metadata": {
    "#solution": false,
    "#staff": false,
    "#student": false
   },
   "source": [
    "What you have shown thus far is that the joint density of $\\mathbf{W}$ is given by\n",
    "$$\n",
    "f_\\mathbf{W}(\\mathbf{w}) ~ = ~ C \\exp (-\\frac{1}{2} \\mathbf{w}^T \\boldsymbol{\\Sigma}_\\mathbf{W}^{-1} \\mathbf{w})\n",
    "$$"
   ]
  },
  {
   "cell_type": "markdown",
   "metadata": {
    "#solution": false,
    "#staff": false,
    "#student": false
   },
   "source": [
    "### 4c) The Constant of Integration ###\n",
    "As in Part 3, the constant $C$ has two factors. One factor is $(1/\\sqrt{2\\pi})^2$. The other is $1/s$ where $s$ is the area of the parallelogram formed by the transformed unit vectors.\n",
    "\n",
    "Remember that the transformation is determined by the matrix `coeffs`, and that the unit vectors are called `unit_vector_1` and `unit_vector_2`."
   ]
  },
  {
   "cell_type": "code",
   "execution_count": 157,
   "metadata": {
    "#solution": false,
    "#staff": false,
    "#student": false
   },
   "outputs": [
    {
     "data": {
      "text/latex": [
       "$\\displaystyle \\left( \\left[\\begin{matrix}1 & 0\\\\a & b\\end{matrix}\\right], \\  \\left[\\begin{matrix}1\\\\0\\end{matrix}\\right], \\  \\left[\\begin{matrix}0\\\\1\\end{matrix}\\right]\\right)$"
      ],
      "text/plain": [
       "⎛⎡1  0⎤  ⎡1⎤  ⎡0⎤⎞\n",
       "⎜⎢    ⎥, ⎢ ⎥, ⎢ ⎥⎟\n",
       "⎝⎣a  b⎦  ⎣0⎦  ⎣1⎦⎠"
      ]
     },
     "execution_count": 157,
     "metadata": {},
     "output_type": "execute_result"
    }
   ],
   "source": [
    "coeffs, unit_vector_1, unit_vector_2"
   ]
  },
  {
   "cell_type": "markdown",
   "metadata": {
    "#solution": false,
    "#staff": false,
    "#student": false
   },
   "source": [
    "Find the images of the unit vectors under the linear transformation."
   ]
  },
  {
   "cell_type": "code",
   "execution_count": 158,
   "metadata": {
    "#solution": false,
    "#staff": false,
    "#student": true
   },
   "outputs": [
    {
     "data": {
      "text/latex": [
       "$\\displaystyle \\left( \\left[\\begin{matrix}1\\\\a\\end{matrix}\\right], \\  \\left[\\begin{matrix}0\\\\b\\end{matrix}\\right]\\right)$"
      ],
      "text/plain": [
       "⎛⎡1⎤  ⎡0⎤⎞\n",
       "⎜⎢ ⎥, ⎢ ⎥⎟\n",
       "⎝⎣a⎦  ⎣b⎦⎠"
      ]
     },
     "execution_count": 158,
     "metadata": {},
     "output_type": "execute_result"
    }
   ],
   "source": [
    "image_1 = coeffs * unit_vector_1\n",
    "image_2 = coeffs * unit_vector_2\n",
    "image_1, image_2"
   ]
  },
  {
   "cell_type": "markdown",
   "metadata": {
    "#solution": false,
    "#staff": false,
    "#student": false
   },
   "source": [
    "The figure below shows the two image vectors and the resulting parallelogram in the case $a=3$ and $b=2$."
   ]
  },
  {
   "cell_type": "code",
   "execution_count": 159,
   "metadata": {
    "#solution": false,
    "#staff": false,
    "#student": false
   },
   "outputs": [
    {
     "data": {
      "image/png": "[encoded data removed]",
      "text/plain": [
       "<Figure size 432x288 with 1 Axes>"
      ]
     },
     "metadata": {
      "needs_background": "light"
     },
     "output_type": "display_data"
    }
   ],
   "source": [
    "unit_square_to_parallelogram(a = 2, b = 3)"
   ]
  },
  {
   "cell_type": "markdown",
   "metadata": {
    "#solution": false,
    "#staff": false,
    "#student": false
   },
   "source": [
    "Run the cell below a few times with varying positive values of $a$ and $b$. Notice the geometry of how the parallelogram is formed: how are $a$ and $b$ connected with the vertices?"
   ]
  },
  {
   "cell_type": "code",
   "execution_count": 169,
   "metadata": {
    "#solution": false,
    "#staff": false,
    "#student": false
   },
   "outputs": [
    {
     "data": {
      "image/png": "[encoded data removed]",
      "text/plain": [
       "<Figure size 432x288 with 1 Axes>"
      ]
     },
     "metadata": {
      "needs_background": "light"
     },
     "output_type": "display_data"
    }
   ],
   "source": [
    "unit_square_to_parallelogram(a = 5, b = 1)"
   ]
  },
  {
   "cell_type": "markdown",
   "metadata": {
    "#solution": false,
    "#staff": false,
    "#student": false
   },
   "source": [
    "One of the vertices is always $(0, 0)$. In terms of $a$ and $b$, what are the other three vertices? It's fine to assume $a$ and $b$ are both positive, though it is not necessary."
   ]
  },
  {
   "cell_type": "markdown",
   "metadata": {
    "#solution": false,
    "#staff": false,
    "#student": true
   },
   "source": [
    "\n",
    "**Your answer here**\n",
    "\n",
    "The other three vertices are:\n",
    "\n",
    "$(0,b),(1,a),(1,a+b)$"
   ]
  },
  {
   "cell_type": "markdown",
   "metadata": {
    "#solution": false,
    "#staff": false,
    "#student": false
   },
   "source": [
    "Fill in the blanks:\n",
    "\n",
    "Supppose $a$ and $b$ are both positive. If we define the \"base\" of the parallelogram to be a vertical side of length b, then the \"height\" of the red parallelogram is always equal to $\\underline{~~~~~~~~}$. Therefore the area of the parallelogram is $\\underline{~~~~~~~~}$."
   ]
  },
  {
   "cell_type": "markdown",
   "metadata": {
    "#solution": false,
    "#staff": false,
    "#student": true
   },
   "source": [
    "\n",
    "**Your answer here:**\n",
    "1. 1\n",
    "2. 1"
   ]
  },
  {
   "cell_type": "markdown",
   "metadata": {
    "#solution": false,
    "#staff": false,
    "#student": false
   },
   "source": [
    "Use `SymPy` and `Sigma_W` to find $\\det(\\boldsymbol{\\Sigma}_\\mathbf{W})$."
   ]
  },
  {
   "cell_type": "code",
   "execution_count": 172,
   "metadata": {
    "#solution": false,
    "#staff": false,
    "#student": true
   },
   "outputs": [
    {
     "data": {
      "image/png": "[encoded data removed]",
      "text/latex": [
       "$\\displaystyle b^{2}$"
      ],
      "text/plain": [
       " 2\n",
       "b "
      ]
     },
     "execution_count": 172,
     "metadata": {},
     "output_type": "execute_result"
    }
   ],
   "source": [
    "det(Sigma_W)"
   ]
  },
  {
   "cell_type": "markdown",
   "metadata": {
    "#solution": false,
    "#staff": false,
    "#student": false
   },
   "source": [
    "**True or False:** The area of the parallelogram is $\\sqrt{\\det(\\boldsymbol{\\Sigma}_\\mathbf{W})}$."
   ]
  },
  {
   "cell_type": "markdown",
   "metadata": {
    "#solution": false,
    "#staff": false,
    "#student": true
   },
   "source": [
    "\n",
    "**Your answer here:**\n",
    "True (We can see this is true because the $det(A) =$ b $=\\sqrt{\\det(\\boldsymbol{\\Sigma}_\\mathbf{W})}$)"
   ]
  },
  {
   "cell_type": "markdown",
   "metadata": {
    "#solution": false,
    "#staff": false,
    "#student": false
   },
   "source": [
    "### 4d) The Joint Density ###\n",
    "You have shown that $\\mathbf{W}$ has the **centered bivariate normal density with covariance matrix $\\boldsymbol{\\Sigma}_\\mathbf{W}$**, given by\n",
    "\n",
    "$$\n",
    "f_\\mathbf{W}(\\mathbf{w}) ~ = ~ \\frac{1}{(\\sqrt{2\\pi})^2 \\sqrt{\\det(\\boldsymbol{\\Sigma}_\\mathbf{W})} } \\exp \\big{(} -\\frac{1}{2} \\mathbf{w}^T \\boldsymbol{\\Sigma}_\\mathbf{W}^{-1} \\mathbf{w} \\big{)}\n",
    "$$\n",
    "\n",
    "Run the cell below for graphs of $f$ and $f_\\mathbf{W}$. As before, we have set $a=2$ and $b=3$. Circles get transformed to ellipses as before, but now the axes of the ellipses are at an angle to the $w_1$ and $w_2$ axes."
   ]
  },
  {
   "cell_type": "code",
   "execution_count": 173,
   "metadata": {
    "#solution": false,
    "#staff": false,
    "#student": false
   },
   "outputs": [
    {
     "data": {
      "application/vnd.jupyter.widget-view+json": {
       "model_id": "600358c795b8486885682d20b9b2bcd5",
       "version_major": 2,
       "version_minor": 0
      },
      "text/plain": [
       "interactive(children=(IntSlider(value=-90, continuous_update=False, description='azimuth', max=180, min=-180, …"
      ]
     },
     "metadata": {},
     "output_type": "display_data"
    }
   ],
   "source": [
    "z_to_w(a=2, b=3, n=10)"
   ]
  },
  {
   "cell_type": "markdown",
   "metadata": {
    "#solution": false,
    "#staff": false,
    "#student": false
   },
   "source": [
    "At this point you should be pretty confident that if we took some other centered linear transformation of $\\mathbf{Z}$, it too would have a joint density of the form that we have developed. We will do the general calculation in class. Because you have done this lab, you will quickly understand what the pieces of the general formula mean."
   ]
  },
  {
   "cell_type": "markdown",
   "metadata": {
    "#solution": false,
    "#staff": false,
    "#student": false
   },
   "source": [
    "## Endnote: $n$ Dimensions ##\n",
    "We will discuss the details in class, but here is a summary that should come as no surprise.\n",
    "\n",
    "Let $\\mathbf{X} = \n",
    "\\begin{bmatrix}\n",
    "X_1 \\\\\n",
    "X_2 \\\\\n",
    "\\vdots \\\\\n",
    "X_n\n",
    "\\end{bmatrix}$\n",
    "be a random vector.\n",
    "\n",
    "- For a symmetric positive definite $n \\times n$ matrix $\\boldsymbol{\\Sigma}$, the random vector $\\mathbf{X}$ has the centered multivariate normal distribution with covariance matrix $\\boldsymbol{\\Sigma}$ if the joint density function is given by\n",
    "\n",
    "$$\n",
    "f_{\\mathbf{X}}(\\mathbf{x}) ~ = ~ \\frac{1}{(\\sqrt{2\\pi})^n \\sqrt{\\det(\\boldsymbol{\\Sigma})} } \\exp \\big{(} -\\frac{1}{2} \\mathbf{x}^T \\boldsymbol{\\Sigma}^{-1} \\mathbf{x} \\big{)}\n",
    "$$\n",
    "\n",
    "This is exactly the same as the formula you have developed in this lab, but now $n$ can be greater than 2.\n",
    "\n",
    "- Multivariate normal variables with mean vector $\\boldsymbol{\\mu}$ and covariance matrix $\\boldsymbol{\\Sigma}$ are just $Y_1, Y_2, \\ldots, Y_n$ where $Y_i = X_i + \\boldsymbol{\\mu}[i]$. Shifting doesn't change covariances or volumes. So\n",
    "\n",
    "$$\n",
    "f_{\\mathbf{Y}}(\\mathbf{y}) ~ = ~ f_{\\mathbf{X}}(\\mathbf{y} - \\boldsymbol{\\mu})\n",
    "~ = ~ \\frac{1}{(\\sqrt{2\\pi})^n \\sqrt{\\det(\\boldsymbol{\\Sigma})} } \\exp \\big{(} -\\frac{1}{2} (\\mathbf{y} - \\boldsymbol{\\mu})^T \\boldsymbol{\\Sigma}^{-1} (\\mathbf{y} - \\boldsymbol{\\mu}) \\big{)}\n",
    "$$\n",
    "\n",
    "We will see that if the joint distribution of a random vector is multivariate normal then all the marginals are normal.\n",
    "\n",
    "However, we will also see that it is possible to construct a random vector such that all the marginals are normal but the joint density is not multivariate normal.\n",
    "\n",
    "So \"multivariate normal\" means more than \"all the marginals are normal.\" In the remainder of the course you will see the main properties of this joint distribution and develop the theory of multiple regression."
   ]
  },
  {
   "cell_type": "markdown",
   "metadata": {
    "#solution": false,
    "#staff": false,
    "#student": false
   },
   "source": [
    "## Conclusion ##\n",
    "You have learned:\n",
    "- how to use `SymPy` for linear algebra\n",
    "- the formula for the multivariate normal joint density\n",
    "- where the pieces of the formula come from\n",
    "- what the joint density surface looks like in two dimensions\n",
    "- how the covariance matrix is related to the matrix of coefficients of the linear transformation"
   ]
  },
  {
   "cell_type": "markdown",
   "metadata": {
    "#solution": false,
    "#staff": false,
    "#student": false
   },
   "source": [
    "## Submission Instructions ##\n",
    "\n",
    "Many assignments throughout the course will have a written portion and a code portion. Please follow the directions below to properly submit both portions.\n",
    "\n",
    "### Written Portion ###\n",
    "*  Scan all the pages into a PDF. You can use any scanner or a phone using an application. Please **DO NOT** simply take pictures using your phone. \n",
    "* Please start a new page for each question. If you have already written multiple questions on the same page, you can crop the image or fold your page over (the old-fashioned way). This helps expedite grading.\n",
    "* It is your responsibility to check that all the work on all the scanned pages is legible.\n",
    "\n",
    "### Code Portion ###\n",
    "* Save your notebook using File > Save and Checkpoint.\n",
    "* Generate a PDF file using File > Download as > PDF via LaTeX. This might take a few seconds and will automatically download a PDF version of this notebook.\n",
    "    * If you have issues, please make a follow-up post on the general Lab 11 Piazza thread.\n",
    "    \n",
    "### Submitting ###\n",
    "* Combine the PDFs from the written and code portions into one PDF.  [Here](https://smallpdf.com/merge-pdf) is a useful tool for doing so. \n",
    "* Submit the assignment to Lab 11 on Gradescope. \n",
    "* **Make sure to assign each page of your pdf to the correct question.**\n",
    "* **It is your responsibility to verify that all of your work shows up in your final PDF submission.**\n",
    "\n",
    "\n",
    "### **We will not grade assignments which do not have pages selected for each question.** \n",
    "\n",
    "**Congratulations on finishing the last lab of the semester!** "
   ]
  }
 ],
 "metadata": {
  "anaconda-cloud": {},
  "checksums": [
   "1ccfeeb045915fb7127619e3ebb3482e",
   "3d5bc308777b311bc6e1236a1bab1e2e",
   "63ba48cba8c253bc88ff021505be1691",
   "73f122f400fe01b33d7566ad509d771d",
   "1ed8efad100a2a317c1958b03a31ed6b",
   "1ecbf68cee51d68f77e3f3c2997c3065",
   "41d4fa3482d40162d4fc7fa267bc8130",
   "951c097c197bb76fb61634e470972118",
   "2ac080bab68244f461c30801970f1845",
   "5c5d3147fae28af9597674c3c9497bd8",
   "94983acd918967a199f41f9b5215fcaf",
   "1c36ddde39f2b4a184f9b890f5aba540",
   "50ea614f8e94c3d55f0ae8b4200836c7",
   "4e74d999d97b4aec2741417d8e8254e7",
   "af93f2ab7da473408f9710c10bc9a493",
   "8983bab671f34812b678eb4b6ac0389a",
   "eb21cc245fb884ec688d776ad844608a",
   "a32edc2c765c8a628ada9102f8579b78",
   "0102167b600104d3364fd7c245046df5",
   "6f6b68e63a8dc62832e76bf0ec3026e1",
   "4f9760fafa68b2af7a403f73e6994208",
   "b6141cdfda9eef6f31ce24e0443a0524",
   "9d36403bf7c8f716121af7364c26ba9c",
   "870c57e6aa3aa8eb5fe5dee2650999b8",
   "6716898ebc08ee7ce3d7bf4280f33773",
   "23d1d17b2b7a19f3b779c97b0da729f4",
   "4efa4749598a29a65b005da1aa295d67",
   "2f43b42fd833d1e77420a8dae7419000",
   "721c0a1ca60ee2b6db54b43b483177cc",
   "2a92caf98e64c64c492f31f8ff41d133",
   "22d76a2aa58ec57293e15bc7f2fd9196",
   "6178d7990e0e19323f67adfbf4b5bab2",
   "89d63f166823eee810feb9cf5fd43a55",
   "ba85086343acb009f0f9129b7d56d39b",
   "c694cefe367e1a7d44f2063be1ecfc34",
   "7ba3bf311b89307d15a3d74fcdf1161c",
   "4815f45b32e16d1799a8e1e03273b05b",
   "269427d7ea78cd9966bdb71503903fa5",
   "281af13a33563776ddf673c7219d01ac",
   "5d16c34da240c5ca1fb99f909f4e8224",
   "f6258a146317770557e1eec2f378b631",
   "37917c9cbc8a9af27160ad97045b03b7",
   "b87b55a61103fdea7f4167f5ea724ebc",
   "18a1644ad6f74de14c700d0248fd7abf",
   "ccc7ea2306136190f42cf97a7ba1604f",
   "1e41a6fc880bbecbbe91fd59888f81cf",
   "7b6436946486c2ad1d05f4c80d129f75",
   "9dad95aa1028872116fb8daf6043a23f",
   "76276f64628cb1119abd0930e8f818a9",
   "7ac7328447a5d6a1a480e1a13eae02e1",
   "bc94950668261718e1f2df8085de4940",
   "2f43b42fd833d1e77420a8dae7419000",
   "5cf18b1edabd5a0e9b27ba8f0dba4296",
   "3e4e798bebee02accabb5a87e5bbf985",
   "63fc58bdcf0a74a47676feb432a1ba39",
   "166746185543ebae31a67b4b06093766",
   "234f3f7ec6cc3db82bda63e00c37200d",
   "2f43b42fd833d1e77420a8dae7419000",
   "adffa6a4ad420d11eec9bd26535ac434",
   "2f43b42fd833d1e77420a8dae7419000",
   "04caf385398f8d8c7efb140b14f1eaf9",
   "d11ca13c0769bcc9275eea94b9e81e2b",
   "bc7c579118924ed5f2ff6bb01db54fa9",
   "0a3116ffe7fe4d7ae8079a2534f84576",
   "fd93a1abbd1ea662152b79cdf69afa03",
   "e8381b9a58ec701e1ef078e1bf93a9c4",
   "183eaaab35aa00c672a0f21eca262853",
   "7256573c68dedaa164ff497832ff6885",
   "2e0e58a3a855bdb88b084abba270d18d",
   "0de20b93bb878d597e59213991465648",
   "c0acce2c4061c9bb69ddfd91252d1249",
   "a29f13882a5630e5615debee592ef3d5",
   "2f43b42fd833d1e77420a8dae7419000",
   "3ffb0ade2c07d473ca536e51a0038827",
   "3e4e798bebee02accabb5a87e5bbf985",
   "7111f75da42c5dc32e8ff64c9cc4e06c",
   "1ec8d50e43e6ef89c56d7204f666c5bf",
   "cdaf384a869b5f98c0cc503a5f361acc",
   "77ae061856bfd6b10918a0630c97764d",
   "f47e7d89422449e897db76bb1eab41ae",
   "3e4e798bebee02accabb5a87e5bbf985",
   "54366dd7b8a459f6f3df20c3bef3412d",
   "a446d00061da4f9ab86d45206fd2bb1f",
   "6d8daa29d52a3c52e5b1c2d59ac5cedf",
   "3e4e798bebee02accabb5a87e5bbf985",
   "aa60c77adaa7e35c26ad38be921f655c",
   "18a1644ad6f74de14c700d0248fd7abf",
   "7fcdffdfb40f3d75e11b21ed652051b6",
   "2f43b42fd833d1e77420a8dae7419000",
   "f846c1b92bef774bf05f1eb4b0066a81",
   "0de0e05b9b68cd2c592dac263e5eb43d",
   "e4e51b595a2d46ad8b4cf6aba1916063",
   "b38351dd00d349a54817aa0c062388e2",
   "b4ff7c922dcad63e7e456079730f87d1",
   "398be2fe0723d362ffe19ee59afe8e8b",
   "3a734cc7e805653f879a9b8c55bcab3e",
   "0253cae4dd56fd77dfbc9e3c47a081b7",
   "ed898ac60ba4d304a603d685c3a2d2c1",
   "88ad3bc0c47ce0dda509fb3638b2c5e2",
   "68b507c9a05b1a88c3e6b1eeeda1667d",
   "c84dab39db51165c22a9e71f78532afc",
   "2ec6b5fe5b0e03a379bc42aafc75e322",
   "b66889fd32dfd8f2f2f013793f161f71",
   "8151e814f95f52014b3612827f30f6f3",
   "fd93a1abbd1ea662152b79cdf69afa03",
   "737c8039d3b7899f28e881b3724ae14d",
   "a55ce9af3f38abbc7ca472e4008d53f6",
   "96c00560f02a85f9cfd65c39ee85fb99",
   "d3ee3324bb322a34d1bff5f04ae5a285",
   "a82f708adee6c28869936f2e882714d2",
   "0de20b93bb878d597e59213991465648",
   "c727d71a0bcddfbc272bc9c784df77ff",
   "3e4e798bebee02accabb5a87e5bbf985",
   "c992d5598049ab3c9aceca07c3b57037",
   "2f43b42fd833d1e77420a8dae7419000",
   "c1e46950e801d25ace07cee38b67089c",
   "3e4e798bebee02accabb5a87e5bbf985",
   "d0778cf467c120138b4e8b2826df160a",
   "190b34ba3f714c3be261e85119e0a231",
   "bb2dd86e11375c0db29243d07cc7f7c8",
   "6a9948f562a4cd9e730c84de9a5c2bb2",
   "2b5b3f662b553d93399bb0f499528d49",
   "b2a6b4dd9ebe3356260f82f90d106037"
  ],
  "kernelspec": {
   "display_name": "Python 3",
   "language": "python",
   "name": "python3"
  },
  "language_info": {
   "codemirror_mode": {
    "name": "ipython",
    "version": 3
   },
   "file_extension": ".py",
   "mimetype": "text/x-python",
   "name": "python",
   "nbconvert_exporter": "python",
   "pygments_lexer": "ipython3",
   "version": "3.6.8"
  },
  "number_of_pagebreaks": 4
 },
 "nbformat": 4,
 "nbformat_minor": 1
}
