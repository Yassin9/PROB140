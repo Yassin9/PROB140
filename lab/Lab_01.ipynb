{
 "cells": [
  {
   "cell_type": "markdown",
   "metadata": {},
   "source": [
    "<table align=\"left\" style=\"border-style: hidden\" class=\"table\"> <tr><td class=\"col-md-2\"><img style=\"float\" src=\"http://prob140.org/assets/icon256.png\" alt=\"Prob140 Logo\" style=\"width: 120px;\"/></td><td><div align=\"left\"><h3 style=\"margin-top: 0;\">Probability for Data Science</h3><h4 style=\"margin-top: 20px;\">UC Berkeley, Fall 2019</h4><p>Ani Adhikari and Jim Pitman</p>CC BY-NC 4.0</div></td></tr></table><!-- not in pdf -->"
   ]
  },
  {
   "cell_type": "code",
   "execution_count": null,
   "metadata": {
    "#solution": false,
    "#staff": false,
    "#student": false
   },
   "outputs": [],
   "source": [
    "# SETUP\n",
    "\n",
    "import numpy as np\n",
    "from datascience import *\n",
    "from prob140 import *\n",
    "\n",
    "# These lines do some fancy plotting magic\n",
    "import matplotlib\n",
    "%matplotlib inline\n",
    "import matplotlib.pyplot as plt\n",
    "plt.style.use('fivethirtyeight')\n",
    "\n",
    "# These lines make warnings look nicer\n",
    "import warnings\n",
    "warnings.simplefilter('ignore', FutureWarning)\n",
    "warnings.simplefilter('ignore', DeprecationWarning)\n",
    "\n",
    "# Useful for probability calculations\n",
    "from scipy import stats\n",
    "from scipy import special"
   ]
  },
  {
   "cell_type": "code",
   "execution_count": null,
   "metadata": {
    "#solution": false,
    "#staff": false,
    "#student": false
   },
   "outputs": [],
   "source": [
    "# Standard deck of cards\n",
    "\n",
    "ranks = np.append(np.arange(2, 11), np.array(['Jack', 'Queen', 'King', 'Ace']))\n",
    "\n",
    "suits = ['\\u2660', '\\u2663', '\\u2661', '\\u2662']\n",
    "\n",
    "deck = Table().values('Suit', suits, 'Rank', ranks).move_to_start('Rank')"
   ]
  },
  {
   "cell_type": "markdown",
   "metadata": {
    "#solution": false,
    "#staff": false,
    "#student": false
   },
   "source": [
    "# Lab 1: Simple Random Samples #\n",
    "\n",
    "Welcome to labs in Prob 140! As this is the first lab you are doing after the long summer break, it is relatively short and takes you just a bit further than the text does.  \n",
    "\n",
    "Simple random sampling (sampling uniformly at random without replacement) is a natural scheme for sampling from a finite population. Data science applications aside, simple random sampling happens every time a hand of cards is dealt from a well shuffled deck. In this lab we will study aspects of simple random sampling in the context of cards. \n",
    "\n",
    "The discoveries you will make have obvious generalizations when the parameters are different. So the lab isn't just about cards, but cards are the primary setting. Throughout the course you will see similar calculations used in different contexts.\n",
    "\n",
    "More generally, the lab is an exploration of probability distributions and how to work with them. That is going to be the basis of the course.\n",
    "\n",
    "What you'll do in this lab:\n",
    "- Use SciPy to find numbers of combinations and hypergeometric probabilities\n",
    "- Study the distribution of the count of a specified rank in a hand\n",
    "- Study the joint distribution of the counts of two specified suits in a hand"
   ]
  },
  {
   "cell_type": "markdown",
   "metadata": {
    "#solution": false,
    "#staff": false,
    "#student": false
   },
   "source": [
    "*Note:* Similar to homework, labs have two components: a written portion and a portion that also involves code.  Written work should be completed on paper, and coding questions should be done in the notebook.  You are welcome to LaTeX your answers to the written portions, but staff will not be able to assist you with LaTeX related issues. It is your responsibility to ensure that both components of the homework are submitted completely and properly to Gradescope. Refer to the bottom of the notebook for submission instructions."
   ]
  },
  {
   "cell_type": "markdown",
   "metadata": {
    "#solution": false,
    "#staff": false,
    "#student": false
   },
   "source": [
    "## Part 1: Counting Hands ##\n",
    "We will start with some functions that make numerical probability calculations easy. `SciPy` is a system for scientific computing, based on Python. Its modules `special` and `stats` are useful for math and probability calculations.\n",
    "\n",
    "### Number of Combinations ###\n",
    "You know that if you have a population of size $N$ and you take a simple random sample of size $n$, then there are ${N \\choose n}$ possible samples. \n",
    "\n",
    "For integers $0 \\le n \\le N$, `special.comb(N, n)` evaluates to ${N \\choose n}$. \n",
    "\n",
    "But sometimes you get a float instead of an integer, due to the method of computation.\n",
    "\n",
    "If you are bothered by the decimals you can use `special.comb(N, n, exact=True)` for the integer value.\n",
    "\n",
    "Combinatorial terms can get large very quickly, but in this lab you won't have to worry about that."
   ]
  },
  {
   "cell_type": "code",
   "execution_count": null,
   "metadata": {
    "#solution": false,
    "#staff": false,
    "#student": false
   },
   "outputs": [],
   "source": [
    "special.comb(6, 2), special.comb(300, 5), special.comb(300, 5, exact=True)"
   ]
  },
  {
   "cell_type": "markdown",
   "metadata": {
    "#solution": false,
    "#staff": false,
    "#student": false
   },
   "source": [
    "### Standard Deck ###\n",
    "\n",
    "In a standard deck of 52 cards, each card has three attributes – suit, color, and rank.\n",
    "- There are 26 black cards, and 26 red cards which we show here as colorless.\n",
    "- There are 13 cards in each of four suits: hearts ($\\heartsuit$) and diamonds ($\\diamondsuit$) are red, and spades ($\\spadesuit$) and clubs ($\\clubsuit$) are black.\n",
    "- Within each suit, the 13 cards are ranked 2, 3, 4, 5, 6, 7, 8, 9, 10, Jack, Queen, King, Ace in ascending order of value.\n",
    "\n",
    "The table `deck` is a visualization of a standard deck, one card per row. The spades are displayed below."
   ]
  },
  {
   "cell_type": "code",
   "execution_count": null,
   "metadata": {
    "#solution": false,
    "#staff": false,
    "#student": false
   },
   "outputs": [],
   "source": [
    "deck.show(13)"
   ]
  },
  {
   "cell_type": "markdown",
   "metadata": {
    "#solution": false,
    "#staff": false,
    "#student": false
   },
   "source": [
    "A 5-card poker hand, which we will simply call a poker hand, is a simple random sample of 5 cards dealt from a standard deck\n",
    "\n",
    "In each cell, use `special.comb`, the integers 0 through 52, and the basic arithmetic operations `+`, `-`, `*`, and `/` to find the counts described. "
   ]
  },
  {
   "cell_type": "markdown",
   "metadata": {
    "#solution": false,
    "#staff": false,
    "#student": false
   },
   "source": [
    "### 1a) Total Number of Hands ###\n",
    "\n",
    "Find the total number of poker hands"
   ]
  },
  {
   "cell_type": "markdown",
   "metadata": {
    "#solution": false,
    "#staff": false,
    "#student": false
   },
   "source": [
    "### 1b) Four of a Kind ###\n",
    "\n",
    "Complete the cell below to find the number of poker hands that contain all four cards of any rank. This kind of hand is called \"four of a kind\" and the set of five cards is denoted $\\{a, a, a, a, b\\}$.\n",
    "\n",
    "Notice a very important combinatorial technique: start by specifying which rank appears four times, and then introduce the number of ways in which that rank can be specified."
   ]
  },
  {
   "cell_type": "code",
   "execution_count": null,
   "metadata": {
    "#solution": false,
    "#staff": false,
    "#student": true
   },
   "outputs": [],
   "source": [
    "# num_poker_4_kings = number of poker hands that have all four kings\n",
    "# num_poker_4_of_a_kind = number of hands that are four of a kind\n",
    "\n",
    "num_poker_4_kings = ...\n",
    "num_poker_4_of_a_kind = ... * num_poker_4_kings\n",
    "\n",
    "num_poker_4_of_a_kind, num_poker_hands"
   ]
  },
  {
   "cell_type": "markdown",
   "metadata": {
    "#solution": false,
    "#staff": false,
    "#student": false
   },
   "source": [
    "### 1c) Full House ###\n",
    "\n",
    "A \"full house\" is a hand that contains three cards of one rank and two of another: $\\{a, a, a, b, b\\}$.\n",
    "\n",
    "As before, we will start with specific ranks. So let $n$ be the number of hands that contain 3 queens and 2 aces. Pick the correct option and explain your choice in the Markdown cell below.\n",
    "\n",
    "The number of \"full house hands\" is equal to\n",
    "\n",
    "(i) $ \\binom{13}{2} n$\n",
    "$~~~~~~~~~~~~~$\n",
    "(ii) $ 13 \\times 12 \\times n$"
   ]
  },
  {
   "cell_type": "markdown",
   "metadata": {
    "#solution": false,
    "#staff": false,
    "#student": true
   },
   "source": [
    "\n",
    "**Your answer here**"
   ]
  },
  {
   "cell_type": "markdown",
   "metadata": {
    "#solution": false,
    "#staff": false,
    "#student": false
   },
   "source": [
    "Now complete the cell below to find the number of \"full house\" hands."
   ]
  },
  {
   "cell_type": "code",
   "execution_count": null,
   "metadata": {
    "#solution": false,
    "#staff": false,
    "#student": true
   },
   "outputs": [],
   "source": [
    "# num_poker_3_queens_2_aces = number of hands that have 3 queens and 2 aces\n",
    "# num_poker_full_house = number of \"full house\" hands\n",
    "\n",
    "num_poker_3_kings_2_queens = ...\n",
    "num_poker_full_house = ... * num_poker_3_kings_2_queens\n",
    "\n",
    "num_poker_full_house, num_poker_hands"
   ]
  },
  {
   "cell_type": "markdown",
   "metadata": {
    "#solution": false,
    "#staff": false,
    "#student": false
   },
   "source": [
    "### 1d) [ON PAPER] Two Pair ###\n",
    "\n",
    "A hand of the form $\\{ a, a, b, b, c\\}$ is called \"two pair.\" \n",
    "\n",
    "Use the methods developed in **1b** and **1c** to find the total number of \"two pair hands\" and **explain all the pieces** of your formula."
   ]
  },
  {
   "cell_type": "markdown",
   "metadata": {
    "#solution": false,
    "#staff": false,
    "#student": false
   },
   "source": [
    "### 1e) Two Pair, continued ###\n",
    "\n",
    "Now use the code cell to write an expression that evaluates to the number of \"two pair\" hands."
   ]
  },
  {
   "cell_type": "code",
   "execution_count": null,
   "metadata": {
    "#solution": false,
    "#staff": false,
    "#student": true
   },
   "outputs": [],
   "source": [
    "..."
   ]
  },
  {
   "cell_type": "markdown",
   "metadata": {
    "#solution": false,
    "#staff": false,
    "#student": false
   },
   "source": [
    "## Part 2: Hypergeometric Probabilities ##\n",
    "Because of the simple random sampling scheme, all ${N \\choose n}$ possible samples are equally likely. Suppose that among the $N$ elements of the population, $G$ are good according to some precise definition of \"good\". Then you know that\n",
    "\n",
    "$$\n",
    "P(k \\text{ good elements in the sample}) ~ = ~ \n",
    "\\frac{ {G \\choose k}{{N-G} \\choose {n-k}} }{ {N \\choose n} }\n",
    "$$\n",
    "\n",
    "following the standard interpretation that \"$k$ good elements\" means \"exactly $k$ good elements.\"\n",
    "\n",
    "These are impressively called *hypergeometric probabilities* because the terms are related to the hypergeometric series of mathematics. Scary terminology notwithstanding, what is being calculated is straightforward: the chance of getting a specified number of good elements in a simple random sample.\n",
    "\n",
    "In the calculation above, $k$ is the desired number of good elements specified in the event. The *parameters*, or constants of the sampling scheme, are\n",
    "\n",
    "- the population size $N$\n",
    "- the population count of good elements $G$\n",
    "- the simple random sample size $n$\n",
    "\n",
    "`stats.hypergeom.pmf(k, N, G, n)` evaluates to the probability displayed above. The `pmf` part stands for \"probability mass function\".\n",
    "\n",
    "**Warning**: Be careful when you read `SciPy` documentation for `hypergeom`. Their notation uses some of the same letters as we are using, to mean different things. It can therefore be horribly confusing. \n",
    "\n",
    "Just remember the call as:\n",
    "\n",
    "`stats.hypergeom.pmf(k, population_size, num_good_in_population, sample_size)`\n",
    "\n",
    "#### Hypergeometric Distributions ####\n",
    "If $X$ is the number of good elements in the sample, then $P(X = k)$ is the hypergeometric probability above, and $X$ is said to have the *hypergeometric distribution with parameters $N$, $G$, and $n$.* When you see that, you should say in your head, \"$X$ is the number of good elements in a simple random sample with the listed parameters.\"\n",
    "\n",
    "By passing in a list or array for `k` instead of a single integer, you can get all the corresponding hypergeometric probabilities using the same call as above. The sampling scheme and hence the parameters stay fixed.\n",
    "\n",
    "#### Example ####\n",
    "Suppose a class has 100 students of whom 40 are seniors, and suppose you take a simple random sample of 25 students from the class. Then the chance that you get 10 seniors in the sample is\n",
    "\n",
    "$$\n",
    "\\frac{ {{40} \\choose {10}}{{60} \\choose {15}} }{ {{100} \\choose {25}} }\n",
    "$$\n",
    "\n",
    "which can be calculated in the two ways below."
   ]
  },
  {
   "cell_type": "code",
   "execution_count": null,
   "metadata": {
    "#solution": false,
    "#staff": false,
    "#student": false
   },
   "outputs": [],
   "source": [
    "special.comb(40, 10) * special.comb(60, 15) / special.comb(100, 25)"
   ]
  },
  {
   "cell_type": "code",
   "execution_count": null,
   "metadata": {
    "#solution": false,
    "#staff": false,
    "#student": false
   },
   "outputs": [],
   "source": [
    "stats.hypergeom.pmf(10, 100, 40, 25)"
   ]
  },
  {
   "cell_type": "markdown",
   "metadata": {
    "#solution": false,
    "#staff": false,
    "#student": false
   },
   "source": [
    "If $X$ is the number of seniors in the sample, then $X$ has the hypergeometric distribution with parameters 100, 40, and 25. Here are all the probabilities in the distribution followed by a confirmation that it is indeed a distribution."
   ]
  },
  {
   "cell_type": "code",
   "execution_count": null,
   "metadata": {
    "#solution": false,
    "#staff": false,
    "#student": false
   },
   "outputs": [],
   "source": [
    "k = np.arange(26)\n",
    "stats.hypergeom.pmf(k, 100, 40, 25)"
   ]
  },
  {
   "cell_type": "code",
   "execution_count": null,
   "metadata": {
    "#solution": false,
    "#staff": false,
    "#student": false
   },
   "outputs": [],
   "source": [
    "sum(stats.hypergeom.pmf(k, 100, 40, 25))"
   ]
  },
  {
   "cell_type": "markdown",
   "metadata": {
    "#solution": false,
    "#staff": false,
    "#student": false
   },
   "source": [
    "### 2a) Aces in a Bridge Hand ###\n",
    "\n",
    "A hand in the game of bridge consists of a simple random sample of 13 cards dealt from a standard deck.\n",
    "\n",
    "Suppose a bridge hand is dealt. Use `stats.hypergeom` to write expressions that evaluate to the probabilities below. Remember that \"$n$ aces\" means \"exactly $n$ aces\"."
   ]
  },
  {
   "cell_type": "code",
   "execution_count": null,
   "metadata": {
    "#solution": false,
    "#staff": false,
    "#student": true
   },
   "outputs": [],
   "source": [
    "# ans_i = P(2 aces)\n",
    "# ans_ii = P(at least one ace but not all the aces)\n",
    "\n",
    "ans_i = stats.hypergeom.pmf(...)\n",
    "ans_ii = sum(stats.hypergeom.pmf(...))\n",
    "\n",
    "ans_i, ans_ii"
   ]
  },
  {
   "cell_type": "markdown",
   "metadata": {
    "#solution": false,
    "#staff": false,
    "#student": false
   },
   "source": [
    "### 2b) Visualizing the Distribution ##\n",
    "In this exercise you will visualize the distribution of the number of aces in a bridge hand.\n",
    "\n",
    "The `prob140` library has methods that allow you to quickly draw a histogram of the probability distribution of an integer-valued random variable. For a random variable $X$ whose possible values are in `values_array` with the corresponding probabilities in the array `probs_array`, the assignment \n",
    "\n",
    "`dist_object = Table().values(values_array).probabilities(probs_array)`\n",
    "\n",
    "creates a \"distribution object\" that we have named `dist_object`, containing the distribution of $X$. Then `Plot(dist_object)` draws the histogram.\n",
    "\n",
    "Let $X$ be the number of aces in a bridge hand. Complete the cell below to draw the probability histogram of $X$. Make sure the histogram is consistent with your answers in **2a**."
   ]
  },
  {
   "cell_type": "code",
   "execution_count": null,
   "metadata": {
    "#solution": false,
    "#staff": false,
    "#student": true
   },
   "outputs": [],
   "source": [
    "# Array of possible values of X\n",
    "k = ...\n",
    "\n",
    "# Array/list of the corresponding probabilities\n",
    "aces_probs = ...\n",
    "\n",
    "# Distribution object consisting of the distribution of X\n",
    "aces_dist = ...\n",
    "\n",
    "# Probability histogram of X\n",
    "plt.title('Number of Aces in a Bridge Hand')\n",
    "..."
   ]
  },
  {
   "cell_type": "markdown",
   "metadata": {
    "#solution": false,
    "#staff": false,
    "#student": false
   },
   "source": [
    "### 2c) Face Cards in a Bridge Hand ###\n",
    "The *face* cards are those that have faces on them: the kings, the queens, and the jacks. So there are 12 face cards.\n",
    "\n",
    "Use the cell below so that when it is run, the output is the probability histogram of the number of face cards in a bridge hand. Use as many lines of code as you need."
   ]
  },
  {
   "cell_type": "code",
   "execution_count": null,
   "metadata": {
    "#solution": false,
    "#staff": false,
    "#student": true
   },
   "outputs": [],
   "source": [
    "..."
   ]
  },
  {
   "cell_type": "markdown",
   "metadata": {
    "#solution": false,
    "#staff": false,
    "#student": false
   },
   "source": [
    "### 2d) Comparing the Distributions ###\n",
    "The two distributions that you have plotted should look quite different. But understanding the differences is complicated because the scales on the axes of the two graphs are different. \n",
    "\n",
    "Overlaid histograms are easier to interpret. The call\n",
    "\n",
    "`Plots(variable_name_1, dist_object_1, variable_name_2, dist_object_2)`\n",
    "\n",
    "draws overlaid histograms of the two probability distributions in the arguments. Choose the strings `variable_name_1` and `variable_name_2` to be short but descriptive of the corresponding variables.\n",
    "\n",
    "Write one line of code to overlay the histograms in **2b** and **2c**. Call one of the variables `Number of Aces` and the other variable `Number of Face Cards`."
   ]
  },
  {
   "cell_type": "code",
   "execution_count": null,
   "metadata": {
    "#solution": false,
    "#staff": false,
    "#student": true
   },
   "outputs": [],
   "source": [
    "plt.title('Bridge Hand')\n",
    "..."
   ]
  },
  {
   "cell_type": "markdown",
   "metadata": {
    "#solution": false,
    "#staff": false,
    "#student": false
   },
   "source": [
    "We have been studying ranks, but suits are very important in bridge. We will look at suits in the next part of the lab. Before doing that, say (without calculation or graphing) which of the two histograms above more closely resembles the distribution of the number of hearts in a bridge hand? Explain your answer."
   ]
  },
  {
   "cell_type": "markdown",
   "metadata": {
    "#solution": false,
    "#staff": false,
    "#student": true
   },
   "source": [
    "\n",
    "**Your answer here**"
   ]
  },
  {
   "cell_type": "markdown",
   "metadata": {
    "#solution": false,
    "#staff": false,
    "#student": false
   },
   "source": [
    "## Part 3: Joint Distribution  ##\n",
    "This part of the lab is a workout in joint distributions. The setting is the joint distribution of the counts of two suits in a bridge hand. We have used spades and hearts but the results apply to any pair of suits.\n",
    "\n",
    "Let $S$ be the number of spades and $H$ the number of hearts in a bridge hand."
   ]
  },
  {
   "cell_type": "markdown",
   "metadata": {
    "#solution": false,
    "#staff": false,
    "#student": false
   },
   "source": [
    "### 3a) [ON PAPER] Spades and Hearts ###\n",
    "\n",
    "Find:\n",
    "- all the possible values of the pair $(S, H)$\n",
    "- $P(S = s, H = h)$ for each possible value $(s, h)$. Write out a general formula in terms of $s$ and $h$.\n",
    "\n",
    "Make sure you don't include impossible pairs, as otherwise you might have trouble coding the joint distribution."
   ]
  },
  {
   "cell_type": "markdown",
   "metadata": {
    "#solution": false,
    "#staff": false,
    "#student": false
   },
   "source": [
    "### 3b) Joint Distribution ###\n",
    "\n",
    "Use your answers in **3a** to define a function `joint_prob` that takes arguments $s$ and $h$ and returns $P(S = s, H = h)$."
   ]
  },
  {
   "cell_type": "code",
   "execution_count": null,
   "metadata": {
    "#solution": false,
    "#staff": false,
    "#student": true
   },
   "outputs": [],
   "source": [
    "def joint_prob(x, y):\n",
    "    return ..."
   ]
  },
  {
   "cell_type": "markdown",
   "metadata": {
    "#solution": false,
    "#staff": false,
    "#student": false
   },
   "source": [
    "Think about what `joint_prob(7, 8)` should evaluate to and run the cell below to check that your function gets the right answer."
   ]
  },
  {
   "cell_type": "code",
   "execution_count": null,
   "metadata": {
    "#solution": false,
    "#staff": false,
    "#student": true
   },
   "outputs": [],
   "source": [
    "joint_prob(7, 8)"
   ]
  },
  {
   "cell_type": "markdown",
   "metadata": {
    "#solution": false,
    "#staff": false,
    "#student": false
   },
   "source": [
    "You know what the total of all the probabilities in the joint distribution of $S$ and $H$ should be. Use the cell below to confirm that the sum of `joint_prob(s, h)` over all `s` and `h` is indeed what it should be. There are many ways of writing the code; whichever you use, make sure that the last line evaluates to the sum."
   ]
  },
  {
   "cell_type": "code",
   "execution_count": null,
   "metadata": {
    "#solution": false,
    "#staff": false,
    "#student": true
   },
   "outputs": [],
   "source": [
    "..."
   ]
  },
  {
   "cell_type": "markdown",
   "metadata": {
    "#solution": false,
    "#staff": false,
    "#student": false
   },
   "source": [
    "### 3c) Joint Distribution Table ###\n",
    "[Section 4.1](http://prob140.org/textbook/Chapter_04/01_Joint_Distributions.html) of the textbook is going to be your source for the code needed below. The construction of the joint distribution table is essentially parallel to the construction of the distribution object of a single variable in Part 2 above. \n",
    "\n",
    "Scroll down Section 4.1 of the textbook till you see the first joint distribution table. Read the description of the code used to display the table, and then complete the cell below to display the joint distribution table of $S$ and $H$."
   ]
  },
  {
   "cell_type": "code",
   "execution_count": null,
   "metadata": {
    "#solution": false,
    "#staff": false,
    "#student": true
   },
   "outputs": [],
   "source": [
    "k = np.arange(...)\n",
    "two_ranks_tbl = Table().values(\"Aces\", k, \"Kings\", k).probability_function(joint_prob)\n",
    "two_ranks = two_ranks_tbl.to_joint()\n",
    "\n",
    "two_ranks"
   ]
  },
  {
   "cell_type": "markdown",
   "metadata": {
    "#solution": false,
    "#staff": false,
    "#student": false
   },
   "source": [
    "It's a pretty big table and none of the individual cells has a big chance. Use the table to find numerical values of the following probabilities.\n",
    "\n",
    "(i) $P(\\text{3 hearts and 5 spades})$\n",
    "\n",
    "(ii) $P(\\text{3 spades and 5 hearts})$ [Use your table; it's a sanity check.]"
   ]
  },
  {
   "cell_type": "markdown",
   "metadata": {
    "#solution": false,
    "#staff": false,
    "#student": true
   },
   "source": [
    "\n",
    "**Your answer here.**"
   ]
  },
  {
   "cell_type": "markdown",
   "metadata": {
    "#solution": false,
    "#staff": false,
    "#student": false
   },
   "source": [
    "### 3d) Equality ###\n",
    "For each statement below, say whether it is true or false and explain your choice. \n",
    "\n",
    "(i) $S = H$\n",
    "\n",
    "(ii) $S \\stackrel{d}{=} H$"
   ]
  },
  {
   "cell_type": "markdown",
   "metadata": {
    "#solution": false,
    "#staff": false,
    "#student": true
   },
   "source": [
    "\n",
    "**Your answer here**\n",
    "\n",
    "(i)\n",
    "\n",
    "\n",
    "(ii)"
   ]
  },
  {
   "cell_type": "markdown",
   "metadata": {
    "#solution": false,
    "#staff": false,
    "#student": false
   },
   "source": [
    "Your answer to (ii) above should be consistent with the output of the cell below. The display might be a bit hard to read, but be patient."
   ]
  },
  {
   "cell_type": "code",
   "execution_count": null,
   "metadata": {
    "#solution": false,
    "#staff": false,
    "#student": true
   },
   "outputs": [],
   "source": [
    "two_suits.both_marginals()"
   ]
  },
  {
   "cell_type": "markdown",
   "metadata": {
    "#solution": false,
    "#staff": false,
    "#student": false
   },
   "source": [
    "### 3e) Probabilities ###\n",
    "Read the examples in Finding Probabilities in [Section 4.1](http://prob140.org/textbook/Chapter_04/01_Joint_Distributions.html) before you attempt these. The process and code is explained there. \n",
    "\n",
    "- You have to define an *indicator* function that takes an outcome pair and returns 1 or 0 depending on whether the outcome is or is not in the event.\n",
    "- Then you pass the indicator function to the `event` method operating on the joint distribution table.\n",
    "\n",
    "That sounds a lot harder than it is. Read the examples and you will see that the first event below is exactly the same as in the text. [Section 4.2](http://prob140.org/textbook/Chapter_04/02_Examples.html) has several more examples.\n",
    "\n",
    "Use the cell below to find $P(S = H)$."
   ]
  },
  {
   "cell_type": "code",
   "execution_count": null,
   "metadata": {
    "#solution": false,
    "#staff": false,
    "#student": true
   },
   "outputs": [],
   "source": [
    "def indicator_equal(s, h):\n",
    "    return ...\n",
    "\n",
    "two_suits.event(...)"
   ]
  },
  {
   "cell_type": "markdown",
   "metadata": {
    "#solution": false,
    "#staff": false,
    "#student": false
   },
   "source": [
    "Use the `event` method again to find $P(S+H \\le 8)$. Use as many lines of code as you need."
   ]
  },
  {
   "cell_type": "code",
   "execution_count": null,
   "metadata": {
    "#solution": false,
    "#staff": false,
    "#student": true
   },
   "outputs": [],
   "source": [
    "..."
   ]
  },
  {
   "cell_type": "markdown",
   "metadata": {
    "#solution": false,
    "#staff": false,
    "#student": false
   },
   "source": [
    "Let $R$ be the number of red cards in a bridge hand. Without further calculation, find $P(R \\le 8)$. Explain."
   ]
  },
  {
   "cell_type": "markdown",
   "metadata": {
    "#solution": false,
    "#staff": false,
    "#student": true
   },
   "source": [
    "\n",
    "**Your answer here**"
   ]
  },
  {
   "cell_type": "markdown",
   "metadata": {
    "#solution": false,
    "#staff": false,
    "#student": false
   },
   "source": [
    "### Conclusion ###\n",
    "What you have learned in this lab:\n",
    "- The `stats` and `special` modules of SciPy make it easy to compute probabilities numerically.\n",
    "- Counting isn't always as easy as 1-2-3; you have to be careful to avoid double counting or leaving out elements that should be counted.\n",
    "- Shapes of hypergeometric distributions can vary quite markedly depending on the parameters.\n",
    "- The joint distribution of two variables is simply a probability distribution over pairs of outcomes. Using it to find a probability works the same way as with one variable: identify the outcomes in the event and add up their chances.\n",
    "- Noticing symmetry and equality in distribution can reduce the amount of calculation needed."
   ]
  },
  {
   "cell_type": "markdown",
   "metadata": {
    "#solution": false,
    "#staff": false,
    "#student": false
   },
   "source": [
    "## Submission Instructions ##\n",
    "\n",
    "Many assignments throughout the course will have a written portion and a code portion. Please follow the directions below to properly submit both portions.\n",
    "\n",
    "### Written Portion ###\n",
    "*  Scan all the pages into a PDF. You can use any scanner or a phone using applications such as CamScanner. Please **DO NOT** simply take pictures using your phone. \n",
    "* Please start a new page for each question. If you have already written multiple questions on the same page, you can crop the image in CamScanner or fold your page over (the old-fashioned way). This helps expedite grading.\n",
    "* It is your responsibility to check that all the work on all the scanned pages is legible.\n",
    "\n",
    "### Code Portion ###\n",
    "* Save your notebook using File > Save and Checkpoint.\n",
    "* Generate a PDF file using File > Download as > PDF via LaTeX. This might take a few seconds and will automatically download a PDF version of this notebook.\n",
    "    * If you have issues, please make a follow-up post on the general Lab 1 Piazza thread.\n",
    "    \n",
    "### Submitting ###\n",
    "* Combine the PDFs from the written and code portions into one PDF.  [Here](https://smallpdf.com/merge-pdf) is a useful tool for doing so. \n",
    "* Submit the assignment to Lab 1 on Gradescope. \n",
    "* **Make sure to assign each page of your pdf to the correct question.**\n",
    "* **It is your responsibility to verify that all of your work shows up in your final PDF submission.**"
   ]
  }
 ],
 "metadata": {
  "anaconda-cloud": {},
  "checksums": [
   "1ccfeeb045915fb7127619e3ebb3482e",
   "90c4f28f8c665c9a9b700d1d456f3a8d",
   "d560dee47ca3ce4c8ebaa36393861d55",
   "0f1d629eb188191eb01b4c435bbf4304",
   "174f3ba13f30ee84342d1334df8743cc",
   "170d3fa39cab5b396d041855039e4bd2",
   "75cbbc27a909e4726509ac08856c0cc7",
   "fe0bc19ae6df0d824f038fa84bd72746",
   "89f9224203fed03c504b2343e0ed2a12",
   "bda32f6dcfaf0fbc46f11c9a75ad4b49",
   "a6c4d51968fbd1d7ef5d32ccbe4ac432",
   "3ad7f1e5f38a03d86a2676a88b8637f0",
   "318fa31a09ff616ca0709ad98169a384",
   "e686b564c068cb6b7943792a3a49f47b",
   "0de20b93bb878d597e59213991465648",
   "6480ac227e0d41710bbe44bac9686f53",
   "09b1d666aca103ec12e69f9aefa784e1",
   "061e361323bc981dc90e20f4d220f11d",
   "883e1ab834afcc89cad84074b7257c2b",
   "2f43b42fd833d1e77420a8dae7419000",
   "8660382b46b65c535d072b1ca1aa83fc",
   "b9633ebaaa020a26f1bd55a88dd915a5",
   "5526d395e7ee353008fa6a8b4e67dc1d",
   "e9256c95bbfffde31e5b28f666a8fa76",
   "3725eb8575b2b2624dc048487fc186a9",
   "2b0348b615f00d1658fd4fca3ce81404",
   "bafe50dee2c1089962715f21b9cb0830",
   "b2cd5e0db4a41872c9a247a70c879bd0",
   "225d2e78d0a13be0fff51210d4de7c6d",
   "4184f6eed65b5edc021d03f7dd6cdd98",
   "224a01008b72fc67c9e0981f1337593c",
   "2f43b42fd833d1e77420a8dae7419000",
   "eff7592329bdc45be8aef0794d22053f",
   "455a7ace1ba605901022cbe6757ad7f7",
   "53a5fb2f30901a1955ad3e53729503b4",
   "0de20b93bb878d597e59213991465648",
   "3eb1de85e5877898cbb2e43f31ac1c83",
   "9c41c2dbe245de5c5ba3e29829a8f163",
   "8a743fdcefb673c2cc123c3e07d311a3",
   "d824297c12daa1c8f948d20046ee081d",
   "a717cab365fa45a5b2fc17afa3887fce",
   "3059041d31373a4750a509bc6e45c7cf",
   "7bd2513afbb3a1461ab63ef591513fde",
   "2f43b42fd833d1e77420a8dae7419000",
   "6c5ccd7f45ff8a45c1e0c7d45d68e660",
   "3af93c9a409f781a3cdaf5fbd613487e",
   "e3a44e395ed836cc592f669ba7562f5f",
   "3a76d7cce4e9ecdb4fe70737e7879960",
   "4646c1edc9a39e3f44c90e6dc5770a81",
   "19cb0ca6d5b93cee2155b90794dc03d4",
   "bc502ff2bff958b5192bf6b6bd08c0ef",
   "83aa35eb496250db2f6f47182abdbab9",
   "c2534f31a75f6f446676022c870a3ea7",
   "608f3c037468f37b08714904d5bc9e40",
   "d9aa2a821b6fd9e491bdfecf747961cb",
   "2f43b42fd833d1e77420a8dae7419000",
   "8c41b6de1552c3aa1d5edfd1c1ed0e9d",
   "0de20b93bb878d597e59213991465648",
   "fc8d270f95ac927e728b8bc7a52c7d96",
   "3c8536173592b7820241afc4ac741496"
  ],
  "kernelspec": {
   "display_name": "Python 3",
   "language": "python",
   "name": "python3"
  },
  "language_info": {
   "codemirror_mode": {
    "name": "ipython",
    "version": 3
   },
   "file_extension": ".py",
   "mimetype": "text/x-python",
   "name": "python",
   "nbconvert_exporter": "python",
   "pygments_lexer": "ipython3",
   "version": "3.6.5"
  },
  "number_of_pagebreaks": 0
 },
 "nbformat": 4,
 "nbformat_minor": 1
}
