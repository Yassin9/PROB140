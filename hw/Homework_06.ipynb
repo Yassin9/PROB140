{
 "cells": [
  {
   "cell_type": "markdown",
   "metadata": {},
   "source": [
    "<table align=\"left\" style=\"border-style: hidden\" class=\"table\"> <tr><td class=\"col-md-2\"><img style=\"float\" src=\"http://prob140.org/assets/icon256.png\" alt=\"Prob140 Logo\" style=\"width: 120px;\"/></td><td><div align=\"left\"><h3 style=\"margin-top: 0;\">Probability for Data Science</h3><h4 style=\"margin-top: 20px;\">UC Berkeley, Fall 2019</h4><p>Ani Adhikari and Jim Pitman</p>CC BY-NC 4.0</div></td></tr></table><!-- not in pdf -->"
   ]
  },
  {
   "cell_type": "markdown",
   "metadata": {
    "#solution": false,
    "#staff": false,
    "#student": false
   },
   "source": [
    "# Homework 6 #\n",
    "\n",
    "This homework set consists of the problems from the Spring 2019 midterm. It only involves written work; there is no code on the midterm.\n",
    "\n",
    "### Recommendation ###\n",
    "**Don't start this homework early. Use it as an opportunity to assess your preparation for the upcoming midterm. First complete the bulk of your review for the exam. After your review, set aside all course materials, find a place where you can work on your own, and give yourself 75 minutes to do the assignment. The problems that you are not able to do in that time will give you an indication of where you need to focus the remaining portion of your review.**"
   ]
  },
  {
   "cell_type": "markdown",
   "metadata": {
    "#solution": false,
    "#staff": false,
    "#student": false
   },
   "source": [
    "## Relevant Exam Instructions ##\n",
    "\n",
    "- **Give brief explanations or show calculations in each part of each question** unless the question says this is not required.\n",
    "\n",
    "- You may use, without proof, any result proved or used in lecture, the textbook, homework, and labs, unless the question asks for a proof.\n",
    "\n",
    "- You may answer any part of any question. If the answer to one part depends on another that you couldn't do, you can still provide an answer such as \"The answer to part (a), divided by 2.\"\n",
    "\n",
    "- If your answer involves only finitely many terms, please leave it unsimplified unless the question requires a simplification. \n",
    "\n",
    "- **Please simplify all infinite sums.** It's fine to leave finite sums unsimplified, whether they are numerical or algebraic, unless the question requires a simplification."
   ]
  },
  {
   "cell_type": "markdown",
   "metadata": {
    "#solution": false,
    "#staff": false,
    "#student": false
   },
   "source": [
    "## 1. ##\n",
    "Two draws are made at random from a box that contains five tickets labeled 6, 6, 7, 8, and 8. Let $X_1$ be the label on the first ticket drawn and $X_2$ the label on the second. Let $V = X_1 + X_2$ and $W = 2X_1$. \n",
    "\n",
    "**a)** Circle either True or False for each statement below, if the two draws are made at random **with** replacement. No explanations are required.\n",
    "\n",
    "\n",
    "- True/False: $X_1 \\stackrel{d}{=} X_2$ \n",
    "\n",
    "- True/False: $V \\stackrel{d}{=} W$ \n",
    "\n",
    "- True/False: $E(V) = E(W)$ \n",
    "\n",
    "**b)** Circle either True or False for each statement below, if the two draws are made at random **without** replacement. No explanations are required.\n",
    "\n",
    "\n",
    "- True/False: $X_1 \\stackrel{d}{=} X_2$ \n",
    "\n",
    "- True/False: $V \\stackrel{d}{=} W$ \n",
    "\n",
    "- True/False: $E(V) = E(W)$ \n",
    "\n",
    "\n",
    "**c)** Pick **one** option and explain: $P(X_1 > 7  \\mid X_1 > 6)$ is equal to \n",
    "\n",
    "$~~~~~~~~~~$ (i) $1/5$ $~~~~~~~~~~$ (ii) $1/3$ $~~~~~~~~~~$ (iii) $2/5$ $~~~~~~~~~~$ (iv) $2/3$\n",
    "\n",
    "**d)** Find $P(X_2 > 6 \\mid V = 14)$ if the two draws are made at random **with** replacement."
   ]
  },
  {
   "cell_type": "markdown",
   "metadata": {
    "#solution": false,
    "#staff": false,
    "#student": false
   },
   "source": [
    "## 2. ##\n",
    "\n",
    "Let $X_0, X_1, X_2, \\ldots$ be a Markov Chain that has state space $\\{1, 2, 3, 4, 5\\}$ and one-step transition probabilities given by\n",
    "\n",
    "$$\n",
    "P(1, 2) ~ = ~ 1 ~ = ~ P(5, 4)\n",
    "$$\n",
    "and for $2 \\le i \\le 4$,\n",
    "$$\n",
    "P(i, j) ~ = ~ \n",
    "\\begin{cases}\n",
    "\\frac{1}{3} ~~ \\text{ if } j = i+1 \\\\\n",
    "\\frac{1}{3} ~~ \\text{ if } j = i \\\\\n",
    "\\frac{1}{3} ~~ \\text{ if } j = i-1 \\\\\n",
    "\\end{cases}\n",
    "$$\n",
    "\n",
    "**a)** Is there a probability distribution that satisfies the detailed balance equations for this chain? Why or why not?\n",
    "\n",
    "**b)** Find the stationary distribution of the chain.\n",
    "\n",
    "**c)** Find an approximate numercial value of $P(X_{1000} = 4 \\mid X_0 = 3)$."
   ]
  },
  {
   "cell_type": "markdown",
   "metadata": {
    "#solution": false,
    "#staff": false,
    "#student": false
   },
   "source": [
    "## 3. ##\n",
    "\n",
    "A population consists of $N$ individuals where $N$ has the Poisson $(\\lambda)$ distribution. Each individual dies with chance $p_d$ independently of all others.\n",
    "\n",
    "Let $N_d$ be the number of individuals who die and $N_r$ the number who remain, so that $N_d + N_r = N$.\n",
    "\n",
    "Suppose there are also $Y$ newcomers where $Y$ has the Poisson $(\\mu)$ distribution independently of all other individuals living or dead.\n",
    "\n",
    "**a)** The total number of living individuals is $S = N_r + Y$. What is the distribution of $S$?\n",
    "\n",
    "**b)** Let $n \\ge 0$ be a fixed integer. Let $X$ be the minimum of $Y$ and $n$. Find $E(X)$."
   ]
  },
  {
   "cell_type": "markdown",
   "metadata": {
    "#solution": false,
    "#staff": false,
    "#student": false
   },
   "source": [
    "## 4. ##\n",
    "\n",
    "A lab has 25 students. Define a student's \"birth month\" to be the month in which the student was born. Assume that each student's birth month is equally likely to be any of the 12 months of the year, independently of everyone else's birth month.\n",
    "\n",
    "**a)** Find the expected number of months in which more than one student was born.\n",
    "\n",
    "**b)** Find the chance that exactly six students were born in summer (June, July, August) and exactly six were born in the Fall (September, October, November).\n",
    "\n",
    "**b)** Find the chance that the number of students born in summer is equal to the number of students born in the Fall."
   ]
  },
  {
   "cell_type": "markdown",
   "metadata": {
    "#solution": false,
    "#staff": false,
    "#student": false
   },
   "source": [
    "## 5. ##\n",
    "\n",
    "A die that has 1 red face, 2 green faces, and 3 blue faces is rolled repeatedly.\n",
    "\n",
    "**a)** Let $X$ be the number of rolls till the red face appears and let $Y$ be the number of rolls before the red face appears. For example, if the colors on the first 10 rolls are Green, Green, Blue, Green, Blue, Blue, Green, Blue, Red, Blue, then $X = 9$ and $Y = 8$. Fill in the blanks and provide your reasoning.\n",
    "\n",
    "\n",
    "$E(X) ~ = ~ \\underline{~~~~~~~~~~~~~~~~~~~}$ and $E(Y) ~ = ~ \\underline{~~~~~~~~~~~~~~~~~~~}$.\n",
    "\n",
    "**b)** Guess the expected number of rolls on which the color blue appears before the red face appears. Prove your guess by conditioning on the first roll. \n",
    "\n",
    "[Remember that you are not waiting for any particular pattern of colors. You are just counting the number of times you see the color blue before the red face appears.]\n",
    "\n",
    "**c)** Consistent with the notation in Lab 4, let $W_{BBBB}$ be the number of rolls till the color blue appears on four consecutive rolls. Write a numerical expression that approximates $P(W_{BBBB} > 43)$.\n"
   ]
  },
  {
   "cell_type": "markdown",
   "metadata": {
    "#solution": false,
    "#staff": false,
    "#student": false
   },
   "source": [
    "## 6. ##\n",
    "\n",
    "A standard deck of 52 cards consists of four suits of 13 cards each. The suits are called spades, clubs, hearts, and diamonds, though you don't need that for this exercise. A hand of 13 cards is dealt at random without replacement from the deck.\n",
    "\n",
    "**a)** Find the chance that all four suits appear in the hand.\n",
    "\n",
    "**b)** Find the chance that only one suit appears in the hand.\n",
    "\n",
    "**c)** Find the distribution of the number of suits that appear in the hand."
   ]
  },
  {
   "cell_type": "markdown",
   "metadata": {
    "#solution": false,
    "#staff": false,
    "#student": false
   },
   "source": [
    "## Submission Instructions ##\n",
    "\n",
    "Many assignments throughout the course will have a written portion and a code portion. Please follow the directions below to properly submit both portions.\n",
    "\n",
    "### Written Portion ###\n",
    "*  Scan all the pages into a PDF. You can use any scanner or a phone using an application. Please **DO NOT** simply take pictures using your phone. \n",
    "* Please start a new page for each question. If you have already written multiple questions on the same page, you can crop the image or fold your page over (the old-fashioned way). This helps expedite grading.\n",
    "* It is your responsibility to check that all the work on all the scanned pages is legible.\n",
    "\n",
    "### Code Portion ###\n",
    "* Save your notebook using File > Save and Checkpoint.\n",
    "* Generate a PDF file using File > Download as > PDF via LaTeX. This might take a few seconds and will automatically download a PDF version of this notebook.\n",
    "    * If you have issues, please make a follow-up post on the general HW 6 Piazza thread.\n",
    "    \n",
    "### Submitting ###\n",
    "* Combine the PDFs from the written and code portions into one PDF.  [Here](https://smallpdf.com/merge-pdf) is a useful tool for doing so. \n",
    "* Submit the assignment to Homework 6 on Gradescope. \n",
    "* **Make sure to assign each page of your pdf to the correct question.**\n",
    "* **It is your responsibility to verify that all of your work shows up in your final PDF submission.**\n",
    "\n",
    "\n",
    "### **We will not grade assignments which do not have pages selected for each question.** "
   ]
  }
 ],
 "metadata": {
  "checksums": [
   "1ccfeeb045915fb7127619e3ebb3482e",
   "3bf35a63f0497c612c3513a427ce449a",
   "f39287cdf6bdf30aaed52db7115f4d95",
   "4601eebdd90d07f36b5685ff2cadbd08",
   "536cf0733e7ef0a131388b5c59a33dd0",
   "f3b21db6f85a7a0beeb535ce72806dc7",
   "47835043fb85fb64574be97c3534d6ca",
   "49eac30ebd506156c81466f7aab90a73",
   "8213a17795be6e661ddf344d07806a8b",
   "0a2df6d8a62a5535b9ae3a78f9a773fa"
  ],
  "kernelspec": {
   "display_name": "Python 3",
   "language": "python",
   "name": "python3"
  },
  "language_info": {
   "codemirror_mode": {
    "name": "ipython",
    "version": 3
   },
   "file_extension": ".py",
   "mimetype": "text/x-python",
   "name": "python",
   "nbconvert_exporter": "python",
   "pygments_lexer": "ipython3",
   "version": "3.6.8"
  },
  "number_of_pagebreaks": 0
 },
 "nbformat": 4,
 "nbformat_minor": 2
}
