{
 "cells": [
  {
   "cell_type": "markdown",
   "metadata": {},
   "source": [
    "<table align=\"left\" style=\"border-style: hidden\" class=\"table\"> <tr><td class=\"col-md-2\"><img style=\"float\" src=\"http://prob140.org/assets/icon256.png\" alt=\"Prob140 Logo\" style=\"width: 120px;\"/></td><td><div align=\"left\"><h3 style=\"margin-top: 0;\">Probability for Data Science</h3><h4 style=\"margin-top: 20px;\">UC Berkeley, Fall 2019</h4><p>Ani Adhikari and Jim Pitman</p>CC BY-NC 4.0</div></td></tr></table><!-- not in pdf -->"
   ]
  },
  {
   "cell_type": "code",
   "execution_count": 1,
   "metadata": {
    "#solution": false,
    "#staff": false,
    "#student": false
   },
   "outputs": [],
   "source": [
    "# HIDDEN\n",
    "from datascience import *\n",
    "from prob140 import *\n",
    "import numpy as np\n",
    "import matplotlib.pyplot as plt\n",
    "plt.style.use('fivethirtyeight')\n",
    "%matplotlib inline\n",
    "from scipy import stats"
   ]
  },
  {
   "cell_type": "markdown",
   "metadata": {
    "#solution": false,
    "#staff": false,
    "#student": false
   },
   "source": [
    "# Homework 13"
   ]
  },
  {
   "cell_type": "markdown",
   "metadata": {
    "#solution": false,
    "#staff": false,
    "#student": false
   },
   "source": [
    "### 1. Waiting Till $HH$ ###\n",
    "In a lab earlier in the term, you found a formula for the expected waiting time till any finite pattern of heads and tails appears in a sequence of coin tosses. In this exercise you will revisit that calculation in the case of a simple pattern $HH$, and find the variance of the waiting time as well.\n",
    "\n",
    "A $p$-coin is tossed repeatedly. Let $W_{H}$ be the number of tosses till the first head appears, and $W_{HH}$ the number of tosses till two consecutive heads appear.\n",
    "\n",
    "(a) Describe a random variable $X$ that  depends only on the tosses after $W_H$ and satisfies $W_{HH} = W_H + X$.\n",
    "\n",
    "(b) Use Part (a) to find $E(W_{HH})$. What is its value when $p = 1/2$?\n",
    "\n",
    "(c) Use Parts (a) and (b) to find $Var(W_{HH})$. What is the value of $SD(W_{HH})$ when $p = 1/2$?"
   ]
  },
  {
   "cell_type": "markdown",
   "metadata": {
    "#solution": false,
    "#staff": false,
    "#student": false
   },
   "source": [
    "### 2. Random Vector Workout ###\n",
    "\n",
    "A random vector $\\mathbf{Y} = [Y_1 ~~ Y_2 ~~ \\cdots ~~ Y_n]^T$ has mean vector $\\boldsymbol{\\mu}$ and covariance matrix $\\sigma^2 \\mathbf{I}_n$ where $\\sigma > 0$ is a number and $\\mathbf{I}_n$ is the $n \\times n$ identity matrix. \n",
    "\n",
    "(a) Pick one option and explain: $Y_1$ and $Y_2$ are\n",
    "\n",
    "$~~~~~$ (i) independent. $~~~~~~~~$ (ii) uncorrelated but might not be independent. $~~~~~~~~$ (iii) not uncorrelated.\n",
    "\n",
    "(b) Pick one option and explain: $Var(Y_1)$ and $Var(Y_2)$ are\n",
    "\n",
    "$~~~~~$ (i) equal. $~~~~~~~~$ (ii) possibly equal, but might not be. $~~~~~~~~$ (iii) not equal.\n",
    "\n",
    "(c) For $m \\le n$ let $\\mathbf{A}$ be an $m \\times n$ matrix of real numbers, and let $\\mathbf{b}$ be an $m \\times 1$ vector of real numbers. Let $\\mathbf{V} = \\mathbf{AY} + \\mathbf{b}$. Find the mean vector $\\boldsymbol{\\mu}_\\mathbf{V}$ and covariance matrix $\\boldsymbol{\\Sigma}_\\mathbf{V}$ of $\\mathbf{V}$.\n",
    "\n",
    "(d) Let $\\mathbf{c}$ be an $m \\times 1$ vector of real numbers and let $W = \\mathbf{c}^T\\mathbf{V}$ for $\\mathbf{V}$ defined in Part (c). In terms of $\\mathbf{c}$, $\\boldsymbol{\\mu}_\\mathbf{V}$ and $\\boldsymbol{\\Sigma}_\\mathbf{V}$, find $E(W)$ and $Var(W)$."
   ]
  },
  {
   "cell_type": "markdown",
   "metadata": {
    "#solution": false,
    "#staff": false,
    "#student": false
   },
   "source": [
    "### 3. Normals and Coins ###\n",
    "\n",
    "Let $X$ be standard normal. Construct a random variable $Y$ as follows:\n",
    "\n",
    "- Toss a fair coin.\n",
    "- If the coin lands heads, let $Y = X$.\n",
    "- If the coin lands tails, let $Y = -X$.\n",
    "\n",
    "(a) Find the cdf of $Y$.\n",
    "\n",
    "(b) Find $E(XY)$ by conditioning on the result of the toss.\n",
    "\n",
    "(c) Are $X$ and $Y$ uncorrelated? \n",
    "\n",
    "(d) Are $X$ and $Y$ independent?\n",
    "\n",
    "(e) Is the joint distribution of $X$ and $Y$ bivariate normal?"
   ]
  },
  {
   "cell_type": "markdown",
   "metadata": {
    "#solution": false,
    "#staff": false,
    "#student": false
   },
   "source": [
    "### 4. Correlation ###\n",
    "The covariance of random variables $X$ and $Y$ has nasty units: the product of the units of $X$ and the units of $Y$. Dividing the covariance by the two SDs results in an important pure number.\n",
    "\n",
    "The *correlation coefficient* between random variables $X$ and $Y$ is defined as\n",
    "\n",
    "$$\n",
    "r(X, Y) ~ = \\frac{Cov(X, Y)}{SD(X)SD(Y)}\n",
    "$$\n",
    "\n",
    "It is called the correlation, for short. The definition explains why $X$ and $Y$ are called *uncorrelated* if $Cov(X, Y) = 0$.\n",
    "\n",
    "**a)** Let $X^*$ be $X$ in standard units and let $Y^*$ be $Y$ in standard units. Check that\n",
    "\n",
    "$$\n",
    "r(X, Y) = E(X^*Y^*)\n",
    "$$\n",
    "\n",
    "This is the random variable version of the Data 8 definition of the correlation between two data variables: convert each variable to standard units; multiply each pair; take the mean of the products.\n",
    "\n",
    "**b)** Use the fact that $(X^* + Y^*)^2$ and $(X^* - Y^*)^2$ are non-negative random variables to show that $-1 \\le r(X, Y) \\le 1$.\n",
    "\n",
    "[First find the numerical values of $E(X^*)$ and $E({X^*}^2)$. Then find $E(X^* + Y^*)^2$.]\n",
    "\n",
    "**c)** Show that if $Y = aX+b$ where $a \\ne 0$, then $r(X, Y)$ is 1 or $-1$ depending on whether the sign of $a$ is positive or negative.\n",
    "\n",
    "**d)** Consider a sequence of i.i.d. Bernoulli $(p)$ trials. For any positive integer $k$ let $X_k$ be the number of successes in trials 1 through $k$. **Use bilinearity** to find $Cov(X_n, X_{n+m})$ and hence find $r(X_n, X_{n+m})$.\n",
    "\n",
    "**e)** Fix $n$ and find the limit of your answer to **c** as $m \\to \\infty$. Explain why the limit is consistent with intuition."
   ]
  },
  {
   "cell_type": "markdown",
   "metadata": {
    "#solution": false,
    "#staff": false,
    "#student": false
   },
   "source": [
    "## Submission Instructions ##\n",
    "\n",
    "Many assignments throughout the course will have a written portion and a code portion. Please follow the directions below to properly submit both portions.\n",
    "\n",
    "### Written Portion ###\n",
    "*  Scan all the pages into a PDF. You can use any scanner or a phone using an application. Please **DO NOT** simply take pictures using your phone. \n",
    "* Please start a new page for each question. If you have already written multiple questions on the same page, you can crop the image or fold your page over (the old-fashioned way). This helps expedite grading.\n",
    "* It is your responsibility to check that all the work on all the scanned pages is legible.\n",
    "\n",
    "### Code Portion ###\n",
    "* Save your notebook using File > Save and Checkpoint.\n",
    "* Generate a PDF file using File > Download as > PDF via LaTeX. This might take a few seconds and will automatically download a PDF version of this notebook.\n",
    "    * If you have issues, please make a follow-up post on the general HW 13 Piazza thread.\n",
    "    \n",
    "### Submitting ###\n",
    "* Combine the PDFs from the written and code portions into one PDF.  [Here](https://smallpdf.com/merge-pdf) is a useful tool for doing so. \n",
    "* Submit the assignment to Homework 13 on Gradescope. \n",
    "* **Make sure to assign each page of your pdf to the correct question.**\n",
    "* **It is your responsibility to verify that all of your work shows up in your final PDF submission.**\n",
    "\n",
    "\n",
    "### **We will not grade assignments which do not have pages selected for each question.** "
   ]
  }
 ],
 "metadata": {
  "checksums": [
   "1ccfeeb045915fb7127619e3ebb3482e",
   "e4165fd843ccc0629304d5b40941dac6",
   "cba92c7547381925a68ef0571c9bba30",
   "fed7d71ee6642df00b49e5eeb232a40e",
   "f1166067fb0482930be810e2a21886ee",
   "e1b67559c9690ee0cc55f26c1e42547c",
   "907e2260d0abd6df2277583a2ceff4ad",
   "6279ee52f12cd042d6dc9eb80477af3b"
  ],
  "kernelspec": {
   "display_name": "Python 3",
   "language": "python",
   "name": "python3"
  },
  "language_info": {
   "codemirror_mode": {
    "name": "ipython",
    "version": 3
   },
   "file_extension": ".py",
   "mimetype": "text/x-python",
   "name": "python",
   "nbconvert_exporter": "python",
   "pygments_lexer": "ipython3",
   "version": "3.6.8"
  },
  "number_of_pagebreaks": 0
 },
 "nbformat": 4,
 "nbformat_minor": 2
}
